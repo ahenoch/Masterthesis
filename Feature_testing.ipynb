{
 "cells": [
  {
   "cell_type": "code",
   "execution_count": 12,
   "id": "representative-choir",
   "metadata": {},
   "outputs": [],
   "source": [
    "import pandas as pd\n",
    "import seaborn as sns\n",
    "import matplotlib.pyplot as plt"
   ]
  },
  {
   "cell_type": "code",
   "execution_count": 71,
   "id": "institutional-orchestra",
   "metadata": {},
   "outputs": [],
   "source": [
    "def plot_difference(proof, segments, outpath, render):\n",
    "\n",
    "    with sns.axes_style(\"darkgrid\"):\n",
    "        fig, ax = plt.subplots(figsize=(8,6))\n",
    "        ax = sns.heatmap(proof, linewidths=.5)\n",
    "        plt.xlabel(\"Cluster\")\n",
    "        plt.ylabel(\"Cluster\")\n",
    "        plt.tight_layout()\n",
    "        plt.close(fig)\n",
    "        fig.savefig(outpath + 'Cluster_Difference_Segment_' + str(segments) + '.' + render)"
   ]
  },
  {
   "cell_type": "code",
   "execution_count": 72,
   "id": "alternative-synthetic",
   "metadata": {},
   "outputs": [],
   "source": [
    "outfolder = 'Results/'"
   ]
  },
  {
   "cell_type": "code",
   "execution_count": 73,
   "id": "cardiovascular-yukon",
   "metadata": {},
   "outputs": [],
   "source": [
    "proof = pd.read_csv(outfolder + 'Pairwise_Segment_4.csv', sep = ',', na_filter = False, header = 0, index_col = 0)"
   ]
  },
  {
   "cell_type": "code",
   "execution_count": 74,
   "id": "demanding-passing",
   "metadata": {},
   "outputs": [],
   "source": [
    "plot_difference(proof, 4, outfolder, 'pdf')"
   ]
  }
 ],
 "metadata": {
  "kernelspec": {
   "display_name": "Python 3",
   "language": "python",
   "name": "python3"
  },
  "language_info": {
   "codemirror_mode": {
    "name": "ipython",
    "version": 3
   },
   "file_extension": ".py",
   "mimetype": "text/x-python",
   "name": "python",
   "nbconvert_exporter": "python",
   "pygments_lexer": "ipython3",
   "version": "3.8.6"
  }
 },
 "nbformat": 4,
 "nbformat_minor": 5
}
