{
 "cells": [
  {
   "cell_type": "code",
   "execution_count": 40,
   "id": "protected-august",
   "metadata": {},
   "outputs": [],
   "source": [
    "import pandas as pd\n",
    "import numpy as np\n",
    "from sklearn.preprocessing import normalize\n",
    "import math\n",
    "from scipy.spatial import distance"
   ]
  },
  {
   "cell_type": "code",
   "execution_count": 41,
   "id": "quiet-agent",
   "metadata": {},
   "outputs": [],
   "source": [
    "A = np.array([[math.cos(math.radians(70)), math.sin(math.radians(70))]])*2\n",
    "A_ = normalize(A, norm='l2', axis = 1)"
   ]
  },
  {
   "cell_type": "code",
   "execution_count": 42,
   "id": "proved-index",
   "metadata": {},
   "outputs": [],
   "source": [
    "B = np.array([[math.cos(math.radians(45)), math.sin(math.radians(45))]])*2\n",
    "B_ = normalize(B, norm='l2', axis = 1)"
   ]
  },
  {
   "cell_type": "code",
   "execution_count": 43,
   "id": "governmental-webster",
   "metadata": {},
   "outputs": [
    {
     "name": "stdout",
     "output_type": "stream",
     "text": [
      "0.09369221296335006\n",
      "0.43287922787620575\n"
     ]
    }
   ],
   "source": [
    "print(distance.cosine(A, B))\n",
    "print(distance.euclidean(A_, B_))"
   ]
  },
  {
   "cell_type": "code",
   "execution_count": null,
   "id": "answering-appraisal",
   "metadata": {},
   "outputs": [],
   "source": []
  }
 ],
 "metadata": {
  "kernelspec": {
   "display_name": "Python 3",
   "language": "python",
   "name": "python3"
  },
  "language_info": {
   "codemirror_mode": {
    "name": "ipython",
    "version": 3
   },
   "file_extension": ".py",
   "mimetype": "text/x-python",
   "name": "python",
   "nbconvert_exporter": "python",
   "pygments_lexer": "ipython3",
   "version": "3.8.6"
  }
 },
 "nbformat": 4,
 "nbformat_minor": 5
}
