{
 "cells": [
  {
   "cell_type": "code",
   "execution_count": 1,
   "metadata": {
    "ExecutionTime": {
     "end_time": "2021-01-22T09:23:07.013437Z",
     "start_time": "2021-01-22T09:23:06.657092Z"
    },
    "provenance": [
     {
      "end_time": "2021-01-19T16:11:43.345Z",
      "execution_time": "219ms",
      "outputs": [],
      "source": "import pandas as pd",
      "start_time": "2021-01-19T16:11:43.126Z"
     },
     {
      "end_time": "2021-01-21T15:20:27.519Z",
      "execution_time": "218ms",
      "outputs": [],
      "source": "import pandas as pd",
      "start_time": "2021-01-21T15:20:27.301Z"
     },
     {
      "end_time": "2021-01-22T09:23:07.013Z",
      "execution_time": "356ms",
      "outputs": [],
      "source": "import pandas as pd",
      "start_time": "2021-01-22T09:23:06.657Z"
     }
    ]
   },
   "outputs": [],
   "source": [
    "import pandas as pd"
   ]
  },
  {
   "cell_type": "code",
   "execution_count": 2,
   "metadata": {
    "ExecutionTime": {
     "end_time": "2021-01-22T09:23:07.463548Z",
     "start_time": "2021-01-22T09:23:07.460986Z"
    },
    "provenance": [
     {
      "end_time": "2021-01-19T16:11:54.119Z",
      "execution_time": "2ms",
      "outputs": [],
      "source": "infile = \"Input/parameter.csv\"",
      "start_time": "2021-01-19T16:11:54.117Z"
     },
     {
      "end_time": "2021-01-19T16:15:33.922Z",
      "execution_time": "3ms",
      "outputs": [],
      "source": "infile = \"Input/parameter.csv\"",
      "start_time": "2021-01-19T16:15:33.919Z"
     },
     {
      "end_time": "2021-01-19T16:24:44.857Z",
      "execution_time": "2ms",
      "outputs": [],
      "source": "infile = \"Input/parameter.csv\"",
      "start_time": "2021-01-19T16:24:44.855Z"
     },
     {
      "end_time": "2021-01-21T15:20:27.523Z",
      "execution_time": "3ms",
      "outputs": [],
      "source": "infile = \"Input/parameter.csv\"",
      "start_time": "2021-01-21T15:20:27.520Z"
     },
     {
      "end_time": "2021-01-22T09:23:07.463Z",
      "execution_time": "3ms",
      "outputs": [],
      "source": "infile = \"Input/parameter.csv\"",
      "start_time": "2021-01-22T09:23:07.460Z"
     }
    ]
   },
   "outputs": [],
   "source": [
    "infile = \"Input/parameter.csv\""
   ]
  },
  {
   "cell_type": "code",
   "execution_count": 3,
   "metadata": {
    "ExecutionTime": {
     "end_time": "2021-01-22T09:23:08.318730Z",
     "start_time": "2021-01-22T09:23:08.288838Z"
    },
    "provenance": [
     {
      "end_time": "2021-01-19T16:12:18.811Z",
      "execution_time": "20ms",
      "outputs": [],
      "source": "upload = pd.read_csv(infile, sep = ',', na_filter = False, header = None)",
      "start_time": "2021-01-19T16:12:18.791Z"
     },
     {
      "end_time": "2021-01-19T16:15:34.426Z",
      "execution_time": "21ms",
      "outputs": [],
      "source": "data = pd.read_csv(infile, sep = ',', na_filter = False, header = None)",
      "start_time": "2021-01-19T16:15:34.405Z"
     },
     {
      "end_time": "2021-01-19T16:23:31.365Z",
      "execution_time": "9ms",
      "outputs": [
       {
        "ename": "TypeError",
        "evalue": "read_csv() got an unexpected keyword argument 'index'",
        "output_type": "error",
        "traceback": [
         "\u001b[0;31m---------------------------------------------------------------------------\u001b[0m",
         "\u001b[0;31mTypeError\u001b[0m                                 Traceback (most recent call last)",
         "\u001b[0;32m<ipython-input-31-5cbbeff5fd0e>\u001b[0m in \u001b[0;36m<module>\u001b[0;34m()\u001b[0m\n\u001b[0;32m----> 1\u001b[0;31m \u001b[0mdata\u001b[0m \u001b[0;34m=\u001b[0m \u001b[0mpd\u001b[0m\u001b[0;34m.\u001b[0m\u001b[0mread_csv\u001b[0m\u001b[0;34m(\u001b[0m\u001b[0minfile\u001b[0m\u001b[0;34m,\u001b[0m \u001b[0msep\u001b[0m \u001b[0;34m=\u001b[0m \u001b[0;34m','\u001b[0m\u001b[0;34m,\u001b[0m \u001b[0mna_filter\u001b[0m \u001b[0;34m=\u001b[0m \u001b[0;32mFalse\u001b[0m\u001b[0;34m,\u001b[0m \u001b[0mheader\u001b[0m \u001b[0;34m=\u001b[0m \u001b[0;32mNone\u001b[0m\u001b[0;34m,\u001b[0m \u001b[0mindex\u001b[0m \u001b[0;34m=\u001b[0m \u001b[0;36m0\u001b[0m\u001b[0;34m)\u001b[0m\u001b[0;34m\u001b[0m\u001b[0;34m\u001b[0m\u001b[0m\n\u001b[0m",
         "\u001b[0;31mTypeError\u001b[0m: read_csv() got an unexpected keyword argument 'index'"
        ]
       }
      ],
      "source": "data = pd.read_csv(infile, sep = ',', na_filter = False, header = None, index = 0)",
      "start_time": "2021-01-19T16:23:31.356Z"
     },
     {
      "end_time": "2021-01-19T16:23:39.527Z",
      "execution_time": "24ms",
      "outputs": [],
      "source": "data = pd.read_csv(infile, sep = ',', na_filter = False, header = None, index_col = 0)",
      "start_time": "2021-01-19T16:23:39.503Z"
     },
     {
      "end_time": "2021-01-19T16:24:45.201Z",
      "execution_time": "16ms",
      "outputs": [],
      "source": "data = pd.read_csv(infile, sep = ',', na_filter = False, header = None, index_col = 0)",
      "start_time": "2021-01-19T16:24:45.185Z"
     },
     {
      "end_time": "2021-01-21T15:20:44.909Z",
      "execution_time": "26ms",
      "outputs": [],
      "source": "data = pd.read_csv(infile, sep = ',', na_filter = False, header = None, index_col = 0)",
      "start_time": "2021-01-21T15:20:44.883Z"
     },
     {
      "end_time": "2021-01-22T09:23:08.318Z",
      "execution_time": "30ms",
      "outputs": [],
      "source": "data = pd.read_csv(infile, sep = ',', na_filter = False, header = None, index_col = 0)",
      "start_time": "2021-01-22T09:23:08.288Z"
     }
    ]
   },
   "outputs": [],
   "source": [
    "data = pd.read_csv(infile, sep = ',', na_filter = False, header = None, index_col = 0)"
   ]
  },
  {
   "cell_type": "code",
   "execution_count": 5,
   "metadata": {
    "ExecutionTime": {
     "end_time": "2021-01-21T15:20:45.520489Z",
     "start_time": "2021-01-21T15:20:45.517454Z"
    },
    "provenance": [
     {
      "end_time": "2021-01-19T16:14:22.114Z",
      "execution_time": "71ms",
      "outputs": [
       {
        "ename": "ValueError",
        "evalue": "Length mismatch: Expected axis has 4 elements, new values have 10 elements",
        "output_type": "error",
        "traceback": [
         "\u001b[0;31m---------------------------------------------------------------------------\u001b[0m",
         "\u001b[0;31mValueError\u001b[0m                                Traceback (most recent call last)",
         "\u001b[0;32m<ipython-input-5-763c1c240759>\u001b[0m in \u001b[0;36m<module>\u001b[0;34m()\u001b[0m\n\u001b[0;32m----> 1\u001b[0;31m \u001b[0mupload\u001b[0m\u001b[0;34m.\u001b[0m\u001b[0mcolumns\u001b[0m \u001b[0;34m=\u001b[0m \u001b[0;34m[\u001b[0m\u001b[0;34m'settings'\u001b[0m\u001b[0;34m,\u001b[0m \u001b[0;34m'n_unclustered'\u001b[0m\u001b[0;34m,\u001b[0m \u001b[0;34m'n_cluster'\u001b[0m\u001b[0;34m,\u001b[0m \u001b[0;34m'mean_cluster_mean'\u001b[0m\u001b[0;34m,\u001b[0m \u001b[0;34m'genus'\u001b[0m\u001b[0;34m,\u001b[0m \u001b[0;34m'subtype'\u001b[0m\u001b[0;34m,\u001b[0m \u001b[0;34m'date'\u001b[0m\u001b[0;34m,\u001b[0m \u001b[0;34m'host'\u001b[0m\u001b[0;34m,\u001b[0m \u001b[0;34m'curation'\u001b[0m\u001b[0;34m,\u001b[0m \u001b[0;34m'genome'\u001b[0m\u001b[0;34m]\u001b[0m\u001b[0;34m\u001b[0m\u001b[0;34m\u001b[0m\u001b[0m\n\u001b[0m",
         "\u001b[0;32m/home/ahenoch/miniconda3/envs/masterthesis/lib/python3.6/site-packages/pandas/core/generic.py\u001b[0m in \u001b[0;36m__setattr__\u001b[0;34m(self, name, value)\u001b[0m\n\u001b[1;32m   5150\u001b[0m         \u001b[0;32mtry\u001b[0m\u001b[0;34m:\u001b[0m\u001b[0;34m\u001b[0m\u001b[0;34m\u001b[0m\u001b[0m\n\u001b[1;32m   5151\u001b[0m             \u001b[0mobject\u001b[0m\u001b[0;34m.\u001b[0m\u001b[0m__getattribute__\u001b[0m\u001b[0;34m(\u001b[0m\u001b[0mself\u001b[0m\u001b[0;34m,\u001b[0m \u001b[0mname\u001b[0m\u001b[0;34m)\u001b[0m\u001b[0;34m\u001b[0m\u001b[0;34m\u001b[0m\u001b[0m\n\u001b[0;32m-> 5152\u001b[0;31m             \u001b[0;32mreturn\u001b[0m \u001b[0mobject\u001b[0m\u001b[0;34m.\u001b[0m\u001b[0m__setattr__\u001b[0m\u001b[0;34m(\u001b[0m\u001b[0mself\u001b[0m\u001b[0;34m,\u001b[0m \u001b[0mname\u001b[0m\u001b[0;34m,\u001b[0m \u001b[0mvalue\u001b[0m\u001b[0;34m)\u001b[0m\u001b[0;34m\u001b[0m\u001b[0;34m\u001b[0m\u001b[0m\n\u001b[0m\u001b[1;32m   5153\u001b[0m         \u001b[0;32mexcept\u001b[0m \u001b[0mAttributeError\u001b[0m\u001b[0;34m:\u001b[0m\u001b[0;34m\u001b[0m\u001b[0;34m\u001b[0m\u001b[0m\n\u001b[1;32m   5154\u001b[0m             \u001b[0;32mpass\u001b[0m\u001b[0;34m\u001b[0m\u001b[0;34m\u001b[0m\u001b[0m\n",
         "\u001b[0;32mpandas/_libs/properties.pyx\u001b[0m in \u001b[0;36mpandas._libs.properties.AxisProperty.__set__\u001b[0;34m()\u001b[0m\n",
         "\u001b[0;32m/home/ahenoch/miniconda3/envs/masterthesis/lib/python3.6/site-packages/pandas/core/generic.py\u001b[0m in \u001b[0;36m_set_axis\u001b[0;34m(self, axis, labels)\u001b[0m\n\u001b[1;32m    562\u001b[0m     \u001b[0;32mdef\u001b[0m \u001b[0m_set_axis\u001b[0m\u001b[0;34m(\u001b[0m\u001b[0mself\u001b[0m\u001b[0;34m,\u001b[0m \u001b[0maxis\u001b[0m\u001b[0;34m:\u001b[0m \u001b[0mint\u001b[0m\u001b[0;34m,\u001b[0m \u001b[0mlabels\u001b[0m\u001b[0;34m:\u001b[0m \u001b[0mIndex\u001b[0m\u001b[0;34m)\u001b[0m \u001b[0;34m->\u001b[0m \u001b[0;32mNone\u001b[0m\u001b[0;34m:\u001b[0m\u001b[0;34m\u001b[0m\u001b[0;34m\u001b[0m\u001b[0m\n\u001b[1;32m    563\u001b[0m         \u001b[0mlabels\u001b[0m \u001b[0;34m=\u001b[0m \u001b[0mensure_index\u001b[0m\u001b[0;34m(\u001b[0m\u001b[0mlabels\u001b[0m\u001b[0;34m)\u001b[0m\u001b[0;34m\u001b[0m\u001b[0;34m\u001b[0m\u001b[0m\n\u001b[0;32m--> 564\u001b[0;31m         \u001b[0mself\u001b[0m\u001b[0;34m.\u001b[0m\u001b[0m_mgr\u001b[0m\u001b[0;34m.\u001b[0m\u001b[0mset_axis\u001b[0m\u001b[0;34m(\u001b[0m\u001b[0maxis\u001b[0m\u001b[0;34m,\u001b[0m \u001b[0mlabels\u001b[0m\u001b[0;34m)\u001b[0m\u001b[0;34m\u001b[0m\u001b[0;34m\u001b[0m\u001b[0m\n\u001b[0m\u001b[1;32m    565\u001b[0m         \u001b[0mself\u001b[0m\u001b[0;34m.\u001b[0m\u001b[0m_clear_item_cache\u001b[0m\u001b[0;34m(\u001b[0m\u001b[0;34m)\u001b[0m\u001b[0;34m\u001b[0m\u001b[0;34m\u001b[0m\u001b[0m\n\u001b[1;32m    566\u001b[0m \u001b[0;34m\u001b[0m\u001b[0m\n",
         "\u001b[0;32m/home/ahenoch/miniconda3/envs/masterthesis/lib/python3.6/site-packages/pandas/core/internals/managers.py\u001b[0m in \u001b[0;36mset_axis\u001b[0;34m(self, axis, new_labels)\u001b[0m\n\u001b[1;32m    225\u001b[0m         \u001b[0;32mif\u001b[0m \u001b[0mnew_len\u001b[0m \u001b[0;34m!=\u001b[0m \u001b[0mold_len\u001b[0m\u001b[0;34m:\u001b[0m\u001b[0;34m\u001b[0m\u001b[0;34m\u001b[0m\u001b[0m\n\u001b[1;32m    226\u001b[0m             raise ValueError(\n\u001b[0;32m--> 227\u001b[0;31m                 \u001b[0;34mf\"Length mismatch: Expected axis has {old_len} elements, new \"\u001b[0m\u001b[0;34m\u001b[0m\u001b[0;34m\u001b[0m\u001b[0m\n\u001b[0m\u001b[1;32m    228\u001b[0m                 \u001b[0;34mf\"values have {new_len} elements\"\u001b[0m\u001b[0;34m\u001b[0m\u001b[0;34m\u001b[0m\u001b[0m\n\u001b[1;32m    229\u001b[0m             )\n",
         "\u001b[0;31mValueError\u001b[0m: Length mismatch: Expected axis has 4 elements, new values have 10 elements"
        ]
       }
      ],
      "source": "upload.columns = ['settings', 'n_unclustered', 'n_cluster', 'mean_cluster_mean', 'genus', 'subtype', 'date', 'host', 'curation', 'genome']",
      "start_time": "2021-01-19T16:14:22.043Z"
     },
     {
      "end_time": "2021-01-19T16:14:28.935Z",
      "execution_time": "3ms",
      "outputs": [],
      "source": "upload.columns = ['settings', 'n_unclustered', 'n_cluster', 'mean_cluster_mean']",
      "start_time": "2021-01-19T16:14:28.932Z"
     },
     {
      "end_time": "2021-01-19T16:15:34.883Z",
      "execution_time": "3ms",
      "outputs": [],
      "source": "data.columns = ['settings', 'n_unclustered', 'n_cluster', 'mean_cluster_mean']",
      "start_time": "2021-01-19T16:15:34.880Z"
     },
     {
      "end_time": "2021-01-19T16:23:41.763Z",
      "execution_time": "14ms",
      "outputs": [
       {
        "ename": "ValueError",
        "evalue": "Length mismatch: Expected axis has 3 elements, new values have 4 elements",
        "output_type": "error",
        "traceback": [
         "\u001b[0;31m---------------------------------------------------------------------------\u001b[0m",
         "\u001b[0;31mValueError\u001b[0m                                Traceback (most recent call last)",
         "\u001b[0;32m<ipython-input-33-336896a06c2b>\u001b[0m in \u001b[0;36m<module>\u001b[0;34m()\u001b[0m\n\u001b[0;32m----> 1\u001b[0;31m \u001b[0mdata\u001b[0m\u001b[0;34m.\u001b[0m\u001b[0mcolumns\u001b[0m \u001b[0;34m=\u001b[0m \u001b[0;34m[\u001b[0m\u001b[0;34m'settings'\u001b[0m\u001b[0;34m,\u001b[0m \u001b[0;34m'n_unclustered'\u001b[0m\u001b[0;34m,\u001b[0m \u001b[0;34m'n_cluster'\u001b[0m\u001b[0;34m,\u001b[0m \u001b[0;34m'mean_cluster_mean'\u001b[0m\u001b[0;34m]\u001b[0m\u001b[0;34m\u001b[0m\u001b[0;34m\u001b[0m\u001b[0m\n\u001b[0m",
         "\u001b[0;32m/home/ahenoch/miniconda3/envs/masterthesis/lib/python3.6/site-packages/pandas/core/generic.py\u001b[0m in \u001b[0;36m__setattr__\u001b[0;34m(self, name, value)\u001b[0m\n\u001b[1;32m   5150\u001b[0m         \u001b[0;32mtry\u001b[0m\u001b[0;34m:\u001b[0m\u001b[0;34m\u001b[0m\u001b[0;34m\u001b[0m\u001b[0m\n\u001b[1;32m   5151\u001b[0m             \u001b[0mobject\u001b[0m\u001b[0;34m.\u001b[0m\u001b[0m__getattribute__\u001b[0m\u001b[0;34m(\u001b[0m\u001b[0mself\u001b[0m\u001b[0;34m,\u001b[0m \u001b[0mname\u001b[0m\u001b[0;34m)\u001b[0m\u001b[0;34m\u001b[0m\u001b[0;34m\u001b[0m\u001b[0m\n\u001b[0;32m-> 5152\u001b[0;31m             \u001b[0;32mreturn\u001b[0m \u001b[0mobject\u001b[0m\u001b[0;34m.\u001b[0m\u001b[0m__setattr__\u001b[0m\u001b[0;34m(\u001b[0m\u001b[0mself\u001b[0m\u001b[0;34m,\u001b[0m \u001b[0mname\u001b[0m\u001b[0;34m,\u001b[0m \u001b[0mvalue\u001b[0m\u001b[0;34m)\u001b[0m\u001b[0;34m\u001b[0m\u001b[0;34m\u001b[0m\u001b[0m\n\u001b[0m\u001b[1;32m   5153\u001b[0m         \u001b[0;32mexcept\u001b[0m \u001b[0mAttributeError\u001b[0m\u001b[0;34m:\u001b[0m\u001b[0;34m\u001b[0m\u001b[0;34m\u001b[0m\u001b[0m\n\u001b[1;32m   5154\u001b[0m             \u001b[0;32mpass\u001b[0m\u001b[0;34m\u001b[0m\u001b[0;34m\u001b[0m\u001b[0m\n",
         "\u001b[0;32mpandas/_libs/properties.pyx\u001b[0m in \u001b[0;36mpandas._libs.properties.AxisProperty.__set__\u001b[0;34m()\u001b[0m\n",
         "\u001b[0;32m/home/ahenoch/miniconda3/envs/masterthesis/lib/python3.6/site-packages/pandas/core/generic.py\u001b[0m in \u001b[0;36m_set_axis\u001b[0;34m(self, axis, labels)\u001b[0m\n\u001b[1;32m    562\u001b[0m     \u001b[0;32mdef\u001b[0m \u001b[0m_set_axis\u001b[0m\u001b[0;34m(\u001b[0m\u001b[0mself\u001b[0m\u001b[0;34m,\u001b[0m \u001b[0maxis\u001b[0m\u001b[0;34m:\u001b[0m \u001b[0mint\u001b[0m\u001b[0;34m,\u001b[0m \u001b[0mlabels\u001b[0m\u001b[0;34m:\u001b[0m \u001b[0mIndex\u001b[0m\u001b[0;34m)\u001b[0m \u001b[0;34m->\u001b[0m \u001b[0;32mNone\u001b[0m\u001b[0;34m:\u001b[0m\u001b[0;34m\u001b[0m\u001b[0;34m\u001b[0m\u001b[0m\n\u001b[1;32m    563\u001b[0m         \u001b[0mlabels\u001b[0m \u001b[0;34m=\u001b[0m \u001b[0mensure_index\u001b[0m\u001b[0;34m(\u001b[0m\u001b[0mlabels\u001b[0m\u001b[0;34m)\u001b[0m\u001b[0;34m\u001b[0m\u001b[0;34m\u001b[0m\u001b[0m\n\u001b[0;32m--> 564\u001b[0;31m         \u001b[0mself\u001b[0m\u001b[0;34m.\u001b[0m\u001b[0m_mgr\u001b[0m\u001b[0;34m.\u001b[0m\u001b[0mset_axis\u001b[0m\u001b[0;34m(\u001b[0m\u001b[0maxis\u001b[0m\u001b[0;34m,\u001b[0m \u001b[0mlabels\u001b[0m\u001b[0;34m)\u001b[0m\u001b[0;34m\u001b[0m\u001b[0;34m\u001b[0m\u001b[0m\n\u001b[0m\u001b[1;32m    565\u001b[0m         \u001b[0mself\u001b[0m\u001b[0;34m.\u001b[0m\u001b[0m_clear_item_cache\u001b[0m\u001b[0;34m(\u001b[0m\u001b[0;34m)\u001b[0m\u001b[0;34m\u001b[0m\u001b[0;34m\u001b[0m\u001b[0m\n\u001b[1;32m    566\u001b[0m \u001b[0;34m\u001b[0m\u001b[0m\n",
         "\u001b[0;32m/home/ahenoch/miniconda3/envs/masterthesis/lib/python3.6/site-packages/pandas/core/internals/managers.py\u001b[0m in \u001b[0;36mset_axis\u001b[0;34m(self, axis, new_labels)\u001b[0m\n\u001b[1;32m    225\u001b[0m         \u001b[0;32mif\u001b[0m \u001b[0mnew_len\u001b[0m \u001b[0;34m!=\u001b[0m \u001b[0mold_len\u001b[0m\u001b[0;34m:\u001b[0m\u001b[0;34m\u001b[0m\u001b[0;34m\u001b[0m\u001b[0m\n\u001b[1;32m    226\u001b[0m             raise ValueError(\n\u001b[0;32m--> 227\u001b[0;31m                 \u001b[0;34mf\"Length mismatch: Expected axis has {old_len} elements, new \"\u001b[0m\u001b[0;34m\u001b[0m\u001b[0;34m\u001b[0m\u001b[0m\n\u001b[0m\u001b[1;32m    228\u001b[0m                 \u001b[0;34mf\"values have {new_len} elements\"\u001b[0m\u001b[0;34m\u001b[0m\u001b[0;34m\u001b[0m\u001b[0m\n\u001b[1;32m    229\u001b[0m             )\n",
         "\u001b[0;31mValueError\u001b[0m: Length mismatch: Expected axis has 3 elements, new values have 4 elements"
        ]
       }
      ],
      "source": "data.columns = ['settings', 'n_unclustered', 'n_cluster', 'mean_cluster_mean']",
      "start_time": "2021-01-19T16:23:41.749Z"
     },
     {
      "end_time": "2021-01-19T16:23:46.675Z",
      "execution_time": "3ms",
      "outputs": [],
      "source": "data.columns = ['n_unclustered', 'n_cluster', 'mean_cluster_mean']",
      "start_time": "2021-01-19T16:23:46.672Z"
     },
     {
      "end_time": "2021-01-19T16:24:45.817Z",
      "execution_time": "3ms",
      "outputs": [],
      "source": "data.columns = ['n_unclustered', 'n_cluster', 'mean_cluster_mean']",
      "start_time": "2021-01-19T16:24:45.814Z"
     },
     {
      "end_time": "2021-01-21T15:20:40.679Z",
      "execution_time": "53ms",
      "outputs": [
       {
        "ename": "NameError",
        "evalue": "name 'data' is not defined",
        "output_type": "error",
        "traceback": [
         "\u001b[0;31m---------------------------------------------------------------------------\u001b[0m",
         "\u001b[0;31mNameError\u001b[0m                                 Traceback (most recent call last)",
         "\u001b[0;32m<ipython-input-3-129ae5db1be2>\u001b[0m in \u001b[0;36m<module>\u001b[0;34m()\u001b[0m\n\u001b[0;32m----> 1\u001b[0;31m \u001b[0mdata\u001b[0m\u001b[0;34m.\u001b[0m\u001b[0mcolumns\u001b[0m \u001b[0;34m=\u001b[0m \u001b[0;34m[\u001b[0m\u001b[0;34m'n_unclustered'\u001b[0m\u001b[0;34m,\u001b[0m \u001b[0;34m'n_cluster'\u001b[0m\u001b[0;34m,\u001b[0m \u001b[0;34m'mean_cluster_mean'\u001b[0m\u001b[0;34m]\u001b[0m\u001b[0;34m\u001b[0m\u001b[0;34m\u001b[0m\u001b[0m\n\u001b[0m",
         "\u001b[0;31mNameError\u001b[0m: name 'data' is not defined"
        ]
       }
      ],
      "source": "data.columns = ['n_unclustered', 'n_cluster', 'mean_cluster_mean']",
      "start_time": "2021-01-21T15:20:40.626Z"
     },
     {
      "end_time": "2021-01-21T15:20:45.520Z",
      "execution_time": "3ms",
      "outputs": [],
      "source": "data.columns = ['n_unclustered', 'n_cluster', 'mean_cluster_mean']",
      "start_time": "2021-01-21T15:20:45.517Z"
     }
    ]
   },
   "outputs": [],
   "source": [
    "data.columns = ['n_unclustered', 'n_cluster', 'mean_cluster_mean']"
   ]
  },
  {
   "cell_type": "code",
   "execution_count": 6,
   "metadata": {
    "ExecutionTime": {
     "end_time": "2021-01-21T15:20:46.487708Z",
     "start_time": "2021-01-21T15:20:46.461235Z"
    },
    "provenance": [
     {
      "end_time": "2021-01-19T16:15:22.819Z",
      "execution_time": "6ms",
      "outputs": [
       {
        "ename": "NameError",
        "evalue": "name 'data' is not defined",
        "output_type": "error",
        "traceback": [
         "\u001b[0;31m---------------------------------------------------------------------------\u001b[0m",
         "\u001b[0;31mNameError\u001b[0m                                 Traceback (most recent call last)",
         "\u001b[0;32m<ipython-input-8-b8446c1ddb8e>\u001b[0m in \u001b[0;36m<module>\u001b[0;34m()\u001b[0m\n\u001b[0;32m----> 1\u001b[0;31m \u001b[0mdata\u001b[0m\u001b[0;34m[\u001b[0m\u001b[0;34m'rating_unclust'\u001b[0m\u001b[0;34m]\u001b[0m \u001b[0;34m=\u001b[0m \u001b[0mdata\u001b[0m\u001b[0;34m[\u001b[0m\u001b[0;34m'mean_cluster_mean'\u001b[0m\u001b[0;34m]\u001b[0m \u001b[0;34m*\u001b[0m \u001b[0;34m(\u001b[0m\u001b[0;34m(\u001b[0m\u001b[0mdata\u001b[0m\u001b[0;34m[\u001b[0m\u001b[0;34m'n_unclustered'\u001b[0m\u001b[0;34m]\u001b[0m\u001b[0;34m+\u001b[0m\u001b[0;36m1\u001b[0m\u001b[0;34m)\u001b[0m\u001b[0;34m/\u001b[0m\u001b[0;36m10000\u001b[0m\u001b[0;34m)\u001b[0m\u001b[0;34m\u001b[0m\u001b[0;34m\u001b[0m\u001b[0m\n\u001b[0m",
         "\u001b[0;31mNameError\u001b[0m: name 'data' is not defined"
        ]
       }
      ],
      "source": "data['rating_unclust'] = data['mean_cluster_mean'] * ((data['n_unclustered']+1)/10000)",
      "start_time": "2021-01-19T16:15:22.813Z"
     },
     {
      "end_time": "2021-01-19T16:15:39.207Z",
      "execution_time": "30ms",
      "outputs": [
       {
        "ename": "TypeError",
        "evalue": "must be str, not int",
        "output_type": "error",
        "traceback": [
         "\u001b[0;31m---------------------------------------------------------------------------\u001b[0m",
         "\u001b[0;31mTypeError\u001b[0m                                 Traceback (most recent call last)",
         "\u001b[0;32m/home/ahenoch/miniconda3/envs/masterthesis/lib/python3.6/site-packages/pandas/core/ops/array_ops.py\u001b[0m in \u001b[0;36mna_arithmetic_op\u001b[0;34m(left, right, op, is_cmp)\u001b[0m\n\u001b[1;32m    142\u001b[0m     \u001b[0;32mtry\u001b[0m\u001b[0;34m:\u001b[0m\u001b[0;34m\u001b[0m\u001b[0;34m\u001b[0m\u001b[0m\n\u001b[0;32m--> 143\u001b[0;31m         \u001b[0mresult\u001b[0m \u001b[0;34m=\u001b[0m \u001b[0mexpressions\u001b[0m\u001b[0;34m.\u001b[0m\u001b[0mevaluate\u001b[0m\u001b[0;34m(\u001b[0m\u001b[0mop\u001b[0m\u001b[0;34m,\u001b[0m \u001b[0mleft\u001b[0m\u001b[0;34m,\u001b[0m \u001b[0mright\u001b[0m\u001b[0;34m)\u001b[0m\u001b[0;34m\u001b[0m\u001b[0;34m\u001b[0m\u001b[0m\n\u001b[0m\u001b[1;32m    144\u001b[0m     \u001b[0;32mexcept\u001b[0m \u001b[0mTypeError\u001b[0m\u001b[0;34m:\u001b[0m\u001b[0;34m\u001b[0m\u001b[0;34m\u001b[0m\u001b[0m\n",
         "\u001b[0;32m/home/ahenoch/miniconda3/envs/masterthesis/lib/python3.6/site-packages/pandas/core/computation/expressions.py\u001b[0m in \u001b[0;36mevaluate\u001b[0;34m(op, a, b, use_numexpr)\u001b[0m\n\u001b[1;32m    232\u001b[0m         \u001b[0;32mif\u001b[0m \u001b[0muse_numexpr\u001b[0m\u001b[0;34m:\u001b[0m\u001b[0;34m\u001b[0m\u001b[0;34m\u001b[0m\u001b[0m\n\u001b[0;32m--> 233\u001b[0;31m             \u001b[0;32mreturn\u001b[0m \u001b[0m_evaluate\u001b[0m\u001b[0;34m(\u001b[0m\u001b[0mop\u001b[0m\u001b[0;34m,\u001b[0m \u001b[0mop_str\u001b[0m\u001b[0;34m,\u001b[0m \u001b[0ma\u001b[0m\u001b[0;34m,\u001b[0m \u001b[0mb\u001b[0m\u001b[0;34m)\u001b[0m  \u001b[0;31m# type: ignore\u001b[0m\u001b[0;34m\u001b[0m\u001b[0;34m\u001b[0m\u001b[0m\n\u001b[0m\u001b[1;32m    234\u001b[0m     \u001b[0;32mreturn\u001b[0m \u001b[0m_evaluate_standard\u001b[0m\u001b[0;34m(\u001b[0m\u001b[0mop\u001b[0m\u001b[0;34m,\u001b[0m \u001b[0mop_str\u001b[0m\u001b[0;34m,\u001b[0m \u001b[0ma\u001b[0m\u001b[0;34m,\u001b[0m \u001b[0mb\u001b[0m\u001b[0;34m)\u001b[0m\u001b[0;34m\u001b[0m\u001b[0;34m\u001b[0m\u001b[0m\n",
         "\u001b[0;32m/home/ahenoch/miniconda3/envs/masterthesis/lib/python3.6/site-packages/pandas/core/computation/expressions.py\u001b[0m in \u001b[0;36m_evaluate_numexpr\u001b[0;34m(op, op_str, a, b)\u001b[0m\n\u001b[1;32m    118\u001b[0m     \u001b[0;32mif\u001b[0m \u001b[0mresult\u001b[0m \u001b[0;32mis\u001b[0m \u001b[0;32mNone\u001b[0m\u001b[0;34m:\u001b[0m\u001b[0;34m\u001b[0m\u001b[0;34m\u001b[0m\u001b[0m\n\u001b[0;32m--> 119\u001b[0;31m         \u001b[0mresult\u001b[0m \u001b[0;34m=\u001b[0m \u001b[0m_evaluate_standard\u001b[0m\u001b[0;34m(\u001b[0m\u001b[0mop\u001b[0m\u001b[0;34m,\u001b[0m \u001b[0mop_str\u001b[0m\u001b[0;34m,\u001b[0m \u001b[0ma\u001b[0m\u001b[0;34m,\u001b[0m \u001b[0mb\u001b[0m\u001b[0;34m)\u001b[0m\u001b[0;34m\u001b[0m\u001b[0;34m\u001b[0m\u001b[0m\n\u001b[0m\u001b[1;32m    120\u001b[0m \u001b[0;34m\u001b[0m\u001b[0m\n",
         "\u001b[0;32m/home/ahenoch/miniconda3/envs/masterthesis/lib/python3.6/site-packages/pandas/core/computation/expressions.py\u001b[0m in \u001b[0;36m_evaluate_standard\u001b[0;34m(op, op_str, a, b)\u001b[0m\n\u001b[1;32m     67\u001b[0m     \u001b[0;32mwith\u001b[0m \u001b[0mnp\u001b[0m\u001b[0;34m.\u001b[0m\u001b[0merrstate\u001b[0m\u001b[0;34m(\u001b[0m\u001b[0mall\u001b[0m\u001b[0;34m=\u001b[0m\u001b[0;34m\"ignore\"\u001b[0m\u001b[0;34m)\u001b[0m\u001b[0;34m:\u001b[0m\u001b[0;34m\u001b[0m\u001b[0;34m\u001b[0m\u001b[0m\n\u001b[0;32m---> 68\u001b[0;31m         \u001b[0;32mreturn\u001b[0m \u001b[0mop\u001b[0m\u001b[0;34m(\u001b[0m\u001b[0ma\u001b[0m\u001b[0;34m,\u001b[0m \u001b[0mb\u001b[0m\u001b[0;34m)\u001b[0m\u001b[0;34m\u001b[0m\u001b[0;34m\u001b[0m\u001b[0m\n\u001b[0m\u001b[1;32m     69\u001b[0m \u001b[0;34m\u001b[0m\u001b[0m\n",
         "\u001b[0;31mTypeError\u001b[0m: must be str, not int",
         "\nDuring handling of the above exception, another exception occurred:\n",
         "\u001b[0;31mTypeError\u001b[0m                                 Traceback (most recent call last)",
         "\u001b[0;32m<ipython-input-12-b8446c1ddb8e>\u001b[0m in \u001b[0;36m<module>\u001b[0;34m()\u001b[0m\n\u001b[0;32m----> 1\u001b[0;31m \u001b[0mdata\u001b[0m\u001b[0;34m[\u001b[0m\u001b[0;34m'rating_unclust'\u001b[0m\u001b[0;34m]\u001b[0m \u001b[0;34m=\u001b[0m \u001b[0mdata\u001b[0m\u001b[0;34m[\u001b[0m\u001b[0;34m'mean_cluster_mean'\u001b[0m\u001b[0;34m]\u001b[0m \u001b[0;34m*\u001b[0m \u001b[0;34m(\u001b[0m\u001b[0;34m(\u001b[0m\u001b[0mdata\u001b[0m\u001b[0;34m[\u001b[0m\u001b[0;34m'n_unclustered'\u001b[0m\u001b[0;34m]\u001b[0m\u001b[0;34m+\u001b[0m\u001b[0;36m1\u001b[0m\u001b[0;34m)\u001b[0m\u001b[0;34m/\u001b[0m\u001b[0;36m10000\u001b[0m\u001b[0;34m)\u001b[0m\u001b[0;34m\u001b[0m\u001b[0;34m\u001b[0m\u001b[0m\n\u001b[0m",
         "\u001b[0;32m/home/ahenoch/miniconda3/envs/masterthesis/lib/python3.6/site-packages/pandas/core/ops/common.py\u001b[0m in \u001b[0;36mnew_method\u001b[0;34m(self, other)\u001b[0m\n\u001b[1;32m     63\u001b[0m         \u001b[0mother\u001b[0m \u001b[0;34m=\u001b[0m \u001b[0mitem_from_zerodim\u001b[0m\u001b[0;34m(\u001b[0m\u001b[0mother\u001b[0m\u001b[0;34m)\u001b[0m\u001b[0;34m\u001b[0m\u001b[0;34m\u001b[0m\u001b[0m\n\u001b[1;32m     64\u001b[0m \u001b[0;34m\u001b[0m\u001b[0m\n\u001b[0;32m---> 65\u001b[0;31m         \u001b[0;32mreturn\u001b[0m \u001b[0mmethod\u001b[0m\u001b[0;34m(\u001b[0m\u001b[0mself\u001b[0m\u001b[0;34m,\u001b[0m \u001b[0mother\u001b[0m\u001b[0;34m)\u001b[0m\u001b[0;34m\u001b[0m\u001b[0;34m\u001b[0m\u001b[0m\n\u001b[0m\u001b[1;32m     66\u001b[0m \u001b[0;34m\u001b[0m\u001b[0m\n\u001b[1;32m     67\u001b[0m     \u001b[0;32mreturn\u001b[0m \u001b[0mnew_method\u001b[0m\u001b[0;34m\u001b[0m\u001b[0;34m\u001b[0m\u001b[0m\n",
         "\u001b[0;32m/home/ahenoch/miniconda3/envs/masterthesis/lib/python3.6/site-packages/pandas/core/ops/__init__.py\u001b[0m in \u001b[0;36mwrapper\u001b[0;34m(left, right)\u001b[0m\n\u001b[1;32m    341\u001b[0m         \u001b[0mlvalues\u001b[0m \u001b[0;34m=\u001b[0m \u001b[0mextract_array\u001b[0m\u001b[0;34m(\u001b[0m\u001b[0mleft\u001b[0m\u001b[0;34m,\u001b[0m \u001b[0mextract_numpy\u001b[0m\u001b[0;34m=\u001b[0m\u001b[0;32mTrue\u001b[0m\u001b[0;34m)\u001b[0m\u001b[0;34m\u001b[0m\u001b[0;34m\u001b[0m\u001b[0m\n\u001b[1;32m    342\u001b[0m         \u001b[0mrvalues\u001b[0m \u001b[0;34m=\u001b[0m \u001b[0mextract_array\u001b[0m\u001b[0;34m(\u001b[0m\u001b[0mright\u001b[0m\u001b[0;34m,\u001b[0m \u001b[0mextract_numpy\u001b[0m\u001b[0;34m=\u001b[0m\u001b[0;32mTrue\u001b[0m\u001b[0;34m)\u001b[0m\u001b[0;34m\u001b[0m\u001b[0;34m\u001b[0m\u001b[0m\n\u001b[0;32m--> 343\u001b[0;31m         \u001b[0mresult\u001b[0m \u001b[0;34m=\u001b[0m \u001b[0marithmetic_op\u001b[0m\u001b[0;34m(\u001b[0m\u001b[0mlvalues\u001b[0m\u001b[0;34m,\u001b[0m \u001b[0mrvalues\u001b[0m\u001b[0;34m,\u001b[0m \u001b[0mop\u001b[0m\u001b[0;34m)\u001b[0m\u001b[0;34m\u001b[0m\u001b[0;34m\u001b[0m\u001b[0m\n\u001b[0m\u001b[1;32m    344\u001b[0m \u001b[0;34m\u001b[0m\u001b[0m\n\u001b[1;32m    345\u001b[0m         \u001b[0;32mreturn\u001b[0m \u001b[0mleft\u001b[0m\u001b[0;34m.\u001b[0m\u001b[0m_construct_result\u001b[0m\u001b[0;34m(\u001b[0m\u001b[0mresult\u001b[0m\u001b[0;34m,\u001b[0m \u001b[0mname\u001b[0m\u001b[0;34m=\u001b[0m\u001b[0mres_name\u001b[0m\u001b[0;34m)\u001b[0m\u001b[0;34m\u001b[0m\u001b[0;34m\u001b[0m\u001b[0m\n",
         "\u001b[0;32m/home/ahenoch/miniconda3/envs/masterthesis/lib/python3.6/site-packages/pandas/core/ops/array_ops.py\u001b[0m in \u001b[0;36marithmetic_op\u001b[0;34m(left, right, op)\u001b[0m\n\u001b[1;32m    188\u001b[0m     \u001b[0;32melse\u001b[0m\u001b[0;34m:\u001b[0m\u001b[0;34m\u001b[0m\u001b[0;34m\u001b[0m\u001b[0m\n\u001b[1;32m    189\u001b[0m         \u001b[0;32mwith\u001b[0m \u001b[0mnp\u001b[0m\u001b[0;34m.\u001b[0m\u001b[0merrstate\u001b[0m\u001b[0;34m(\u001b[0m\u001b[0mall\u001b[0m\u001b[0;34m=\u001b[0m\u001b[0;34m\"ignore\"\u001b[0m\u001b[0;34m)\u001b[0m\u001b[0;34m:\u001b[0m\u001b[0;34m\u001b[0m\u001b[0;34m\u001b[0m\u001b[0m\n\u001b[0;32m--> 190\u001b[0;31m             \u001b[0mres_values\u001b[0m \u001b[0;34m=\u001b[0m \u001b[0mna_arithmetic_op\u001b[0m\u001b[0;34m(\u001b[0m\u001b[0mlvalues\u001b[0m\u001b[0;34m,\u001b[0m \u001b[0mrvalues\u001b[0m\u001b[0;34m,\u001b[0m \u001b[0mop\u001b[0m\u001b[0;34m)\u001b[0m\u001b[0;34m\u001b[0m\u001b[0;34m\u001b[0m\u001b[0m\n\u001b[0m\u001b[1;32m    191\u001b[0m \u001b[0;34m\u001b[0m\u001b[0m\n\u001b[1;32m    192\u001b[0m     \u001b[0;32mreturn\u001b[0m \u001b[0mres_values\u001b[0m\u001b[0;34m\u001b[0m\u001b[0;34m\u001b[0m\u001b[0m\n",
         "\u001b[0;32m/home/ahenoch/miniconda3/envs/masterthesis/lib/python3.6/site-packages/pandas/core/ops/array_ops.py\u001b[0m in \u001b[0;36mna_arithmetic_op\u001b[0;34m(left, right, op, is_cmp)\u001b[0m\n\u001b[1;32m    148\u001b[0m             \u001b[0;31m#  will handle complex numbers incorrectly, see GH#32047\u001b[0m\u001b[0;34m\u001b[0m\u001b[0;34m\u001b[0m\u001b[0;34m\u001b[0m\u001b[0m\n\u001b[1;32m    149\u001b[0m             \u001b[0;32mraise\u001b[0m\u001b[0;34m\u001b[0m\u001b[0;34m\u001b[0m\u001b[0m\n\u001b[0;32m--> 150\u001b[0;31m         \u001b[0mresult\u001b[0m \u001b[0;34m=\u001b[0m \u001b[0mmasked_arith_op\u001b[0m\u001b[0;34m(\u001b[0m\u001b[0mleft\u001b[0m\u001b[0;34m,\u001b[0m \u001b[0mright\u001b[0m\u001b[0;34m,\u001b[0m \u001b[0mop\u001b[0m\u001b[0;34m)\u001b[0m\u001b[0;34m\u001b[0m\u001b[0;34m\u001b[0m\u001b[0m\n\u001b[0m\u001b[1;32m    151\u001b[0m \u001b[0;34m\u001b[0m\u001b[0m\n\u001b[1;32m    152\u001b[0m     \u001b[0;32mif\u001b[0m \u001b[0mis_cmp\u001b[0m \u001b[0;32mand\u001b[0m \u001b[0;34m(\u001b[0m\u001b[0mis_scalar\u001b[0m\u001b[0;34m(\u001b[0m\u001b[0mresult\u001b[0m\u001b[0;34m)\u001b[0m \u001b[0;32mor\u001b[0m \u001b[0mresult\u001b[0m \u001b[0;32mis\u001b[0m \u001b[0mNotImplemented\u001b[0m\u001b[0;34m)\u001b[0m\u001b[0;34m:\u001b[0m\u001b[0;34m\u001b[0m\u001b[0;34m\u001b[0m\u001b[0m\n",
         "\u001b[0;32m/home/ahenoch/miniconda3/envs/masterthesis/lib/python3.6/site-packages/pandas/core/ops/array_ops.py\u001b[0m in \u001b[0;36mmasked_arith_op\u001b[0;34m(x, y, op)\u001b[0m\n\u001b[1;32m    110\u001b[0m         \u001b[0;32mif\u001b[0m \u001b[0mmask\u001b[0m\u001b[0;34m.\u001b[0m\u001b[0many\u001b[0m\u001b[0;34m(\u001b[0m\u001b[0;34m)\u001b[0m\u001b[0;34m:\u001b[0m\u001b[0;34m\u001b[0m\u001b[0;34m\u001b[0m\u001b[0m\n\u001b[1;32m    111\u001b[0m             \u001b[0;32mwith\u001b[0m \u001b[0mnp\u001b[0m\u001b[0;34m.\u001b[0m\u001b[0merrstate\u001b[0m\u001b[0;34m(\u001b[0m\u001b[0mall\u001b[0m\u001b[0;34m=\u001b[0m\u001b[0;34m\"ignore\"\u001b[0m\u001b[0;34m)\u001b[0m\u001b[0;34m:\u001b[0m\u001b[0;34m\u001b[0m\u001b[0;34m\u001b[0m\u001b[0m\n\u001b[0;32m--> 112\u001b[0;31m                 \u001b[0mresult\u001b[0m\u001b[0;34m[\u001b[0m\u001b[0mmask\u001b[0m\u001b[0;34m]\u001b[0m \u001b[0;34m=\u001b[0m \u001b[0mop\u001b[0m\u001b[0;34m(\u001b[0m\u001b[0mxrav\u001b[0m\u001b[0;34m[\u001b[0m\u001b[0mmask\u001b[0m\u001b[0;34m]\u001b[0m\u001b[0;34m,\u001b[0m \u001b[0my\u001b[0m\u001b[0;34m)\u001b[0m\u001b[0;34m\u001b[0m\u001b[0;34m\u001b[0m\u001b[0m\n\u001b[0m\u001b[1;32m    113\u001b[0m \u001b[0;34m\u001b[0m\u001b[0m\n\u001b[1;32m    114\u001b[0m     \u001b[0mresult\u001b[0m\u001b[0;34m,\u001b[0m \u001b[0m_\u001b[0m \u001b[0;34m=\u001b[0m \u001b[0mmaybe_upcast_putmask\u001b[0m\u001b[0;34m(\u001b[0m\u001b[0mresult\u001b[0m\u001b[0;34m,\u001b[0m \u001b[0;34m~\u001b[0m\u001b[0mmask\u001b[0m\u001b[0;34m,\u001b[0m \u001b[0mnp\u001b[0m\u001b[0;34m.\u001b[0m\u001b[0mnan\u001b[0m\u001b[0;34m)\u001b[0m\u001b[0;34m\u001b[0m\u001b[0;34m\u001b[0m\u001b[0m\n",
         "\u001b[0;31mTypeError\u001b[0m: must be str, not int"
        ]
       }
      ],
      "source": "data['rating_unclust'] = data['mean_cluster_mean'] * ((data['n_unclustered']+1)/10000)",
      "start_time": "2021-01-19T16:15:39.177Z"
     },
     {
      "end_time": "2021-01-19T16:20:23.607Z",
      "execution_time": "15ms",
      "outputs": [
       {
        "ename": "TypeError",
        "evalue": "can't multiply sequence by non-int of type 'str'",
        "output_type": "error",
        "traceback": [
         "\u001b[0;31m---------------------------------------------------------------------------\u001b[0m",
         "\u001b[0;31mTypeError\u001b[0m                                 Traceback (most recent call last)",
         "\u001b[0;32m/home/ahenoch/miniconda3/envs/masterthesis/lib/python3.6/site-packages/pandas/core/ops/array_ops.py\u001b[0m in \u001b[0;36mna_arithmetic_op\u001b[0;34m(left, right, op, is_cmp)\u001b[0m\n\u001b[1;32m    142\u001b[0m     \u001b[0;32mtry\u001b[0m\u001b[0;34m:\u001b[0m\u001b[0;34m\u001b[0m\u001b[0;34m\u001b[0m\u001b[0m\n\u001b[0;32m--> 143\u001b[0;31m         \u001b[0mresult\u001b[0m \u001b[0;34m=\u001b[0m \u001b[0mexpressions\u001b[0m\u001b[0;34m.\u001b[0m\u001b[0mevaluate\u001b[0m\u001b[0;34m(\u001b[0m\u001b[0mop\u001b[0m\u001b[0;34m,\u001b[0m \u001b[0mleft\u001b[0m\u001b[0;34m,\u001b[0m \u001b[0mright\u001b[0m\u001b[0;34m)\u001b[0m\u001b[0;34m\u001b[0m\u001b[0;34m\u001b[0m\u001b[0m\n\u001b[0m\u001b[1;32m    144\u001b[0m     \u001b[0;32mexcept\u001b[0m \u001b[0mTypeError\u001b[0m\u001b[0;34m:\u001b[0m\u001b[0;34m\u001b[0m\u001b[0;34m\u001b[0m\u001b[0m\n",
         "\u001b[0;32m/home/ahenoch/miniconda3/envs/masterthesis/lib/python3.6/site-packages/pandas/core/computation/expressions.py\u001b[0m in \u001b[0;36mevaluate\u001b[0;34m(op, a, b, use_numexpr)\u001b[0m\n\u001b[1;32m    232\u001b[0m         \u001b[0;32mif\u001b[0m \u001b[0muse_numexpr\u001b[0m\u001b[0;34m:\u001b[0m\u001b[0;34m\u001b[0m\u001b[0;34m\u001b[0m\u001b[0m\n\u001b[0;32m--> 233\u001b[0;31m             \u001b[0;32mreturn\u001b[0m \u001b[0m_evaluate\u001b[0m\u001b[0;34m(\u001b[0m\u001b[0mop\u001b[0m\u001b[0;34m,\u001b[0m \u001b[0mop_str\u001b[0m\u001b[0;34m,\u001b[0m \u001b[0ma\u001b[0m\u001b[0;34m,\u001b[0m \u001b[0mb\u001b[0m\u001b[0;34m)\u001b[0m  \u001b[0;31m# type: ignore\u001b[0m\u001b[0;34m\u001b[0m\u001b[0;34m\u001b[0m\u001b[0m\n\u001b[0m\u001b[1;32m    234\u001b[0m     \u001b[0;32mreturn\u001b[0m \u001b[0m_evaluate_standard\u001b[0m\u001b[0;34m(\u001b[0m\u001b[0mop\u001b[0m\u001b[0;34m,\u001b[0m \u001b[0mop_str\u001b[0m\u001b[0;34m,\u001b[0m \u001b[0ma\u001b[0m\u001b[0;34m,\u001b[0m \u001b[0mb\u001b[0m\u001b[0;34m)\u001b[0m\u001b[0;34m\u001b[0m\u001b[0;34m\u001b[0m\u001b[0m\n",
         "\u001b[0;32m/home/ahenoch/miniconda3/envs/masterthesis/lib/python3.6/site-packages/pandas/core/computation/expressions.py\u001b[0m in \u001b[0;36m_evaluate_numexpr\u001b[0;34m(op, op_str, a, b)\u001b[0m\n\u001b[1;32m    118\u001b[0m     \u001b[0;32mif\u001b[0m \u001b[0mresult\u001b[0m \u001b[0;32mis\u001b[0m \u001b[0;32mNone\u001b[0m\u001b[0;34m:\u001b[0m\u001b[0;34m\u001b[0m\u001b[0;34m\u001b[0m\u001b[0m\n\u001b[0;32m--> 119\u001b[0;31m         \u001b[0mresult\u001b[0m \u001b[0;34m=\u001b[0m \u001b[0m_evaluate_standard\u001b[0m\u001b[0;34m(\u001b[0m\u001b[0mop\u001b[0m\u001b[0;34m,\u001b[0m \u001b[0mop_str\u001b[0m\u001b[0;34m,\u001b[0m \u001b[0ma\u001b[0m\u001b[0;34m,\u001b[0m \u001b[0mb\u001b[0m\u001b[0;34m)\u001b[0m\u001b[0;34m\u001b[0m\u001b[0;34m\u001b[0m\u001b[0m\n\u001b[0m\u001b[1;32m    120\u001b[0m \u001b[0;34m\u001b[0m\u001b[0m\n",
         "\u001b[0;32m/home/ahenoch/miniconda3/envs/masterthesis/lib/python3.6/site-packages/pandas/core/computation/expressions.py\u001b[0m in \u001b[0;36m_evaluate_standard\u001b[0;34m(op, op_str, a, b)\u001b[0m\n\u001b[1;32m     67\u001b[0m     \u001b[0;32mwith\u001b[0m \u001b[0mnp\u001b[0m\u001b[0;34m.\u001b[0m\u001b[0merrstate\u001b[0m\u001b[0;34m(\u001b[0m\u001b[0mall\u001b[0m\u001b[0;34m=\u001b[0m\u001b[0;34m\"ignore\"\u001b[0m\u001b[0;34m)\u001b[0m\u001b[0;34m:\u001b[0m\u001b[0;34m\u001b[0m\u001b[0;34m\u001b[0m\u001b[0m\n\u001b[0;32m---> 68\u001b[0;31m         \u001b[0;32mreturn\u001b[0m \u001b[0mop\u001b[0m\u001b[0;34m(\u001b[0m\u001b[0ma\u001b[0m\u001b[0;34m,\u001b[0m \u001b[0mb\u001b[0m\u001b[0;34m)\u001b[0m\u001b[0;34m\u001b[0m\u001b[0;34m\u001b[0m\u001b[0m\n\u001b[0m\u001b[1;32m     69\u001b[0m \u001b[0;34m\u001b[0m\u001b[0m\n",
         "\u001b[0;31mTypeError\u001b[0m: can't multiply sequence by non-int of type 'str'",
         "\nDuring handling of the above exception, another exception occurred:\n",
         "\u001b[0;31mTypeError\u001b[0m                                 Traceback (most recent call last)",
         "\u001b[0;32m<ipython-input-22-b42ee1cbdb64>\u001b[0m in \u001b[0;36m<module>\u001b[0;34m()\u001b[0m\n\u001b[0;32m----> 1\u001b[0;31m \u001b[0mdata\u001b[0m\u001b[0;34m[\u001b[0m\u001b[0;34m'rating_unclust'\u001b[0m\u001b[0;34m]\u001b[0m \u001b[0;34m=\u001b[0m \u001b[0mdata\u001b[0m\u001b[0;34m[\u001b[0m\u001b[0;34m'mean_cluster_mean'\u001b[0m\u001b[0;34m]\u001b[0m \u001b[0;34m*\u001b[0m \u001b[0;34m(\u001b[0m\u001b[0mdata\u001b[0m\u001b[0;34m[\u001b[0m\u001b[0;34m'n_unclustered'\u001b[0m\u001b[0;34m]\u001b[0m\u001b[0;34m)\u001b[0m\u001b[0;34m\u001b[0m\u001b[0;34m\u001b[0m\u001b[0m\n\u001b[0m",
         "\u001b[0;32m/home/ahenoch/miniconda3/envs/masterthesis/lib/python3.6/site-packages/pandas/core/ops/common.py\u001b[0m in \u001b[0;36mnew_method\u001b[0;34m(self, other)\u001b[0m\n\u001b[1;32m     63\u001b[0m         \u001b[0mother\u001b[0m \u001b[0;34m=\u001b[0m \u001b[0mitem_from_zerodim\u001b[0m\u001b[0;34m(\u001b[0m\u001b[0mother\u001b[0m\u001b[0;34m)\u001b[0m\u001b[0;34m\u001b[0m\u001b[0;34m\u001b[0m\u001b[0m\n\u001b[1;32m     64\u001b[0m \u001b[0;34m\u001b[0m\u001b[0m\n\u001b[0;32m---> 65\u001b[0;31m         \u001b[0;32mreturn\u001b[0m \u001b[0mmethod\u001b[0m\u001b[0;34m(\u001b[0m\u001b[0mself\u001b[0m\u001b[0;34m,\u001b[0m \u001b[0mother\u001b[0m\u001b[0;34m)\u001b[0m\u001b[0;34m\u001b[0m\u001b[0;34m\u001b[0m\u001b[0m\n\u001b[0m\u001b[1;32m     66\u001b[0m \u001b[0;34m\u001b[0m\u001b[0m\n\u001b[1;32m     67\u001b[0m     \u001b[0;32mreturn\u001b[0m \u001b[0mnew_method\u001b[0m\u001b[0;34m\u001b[0m\u001b[0;34m\u001b[0m\u001b[0m\n",
         "\u001b[0;32m/home/ahenoch/miniconda3/envs/masterthesis/lib/python3.6/site-packages/pandas/core/ops/__init__.py\u001b[0m in \u001b[0;36mwrapper\u001b[0;34m(left, right)\u001b[0m\n\u001b[1;32m    341\u001b[0m         \u001b[0mlvalues\u001b[0m \u001b[0;34m=\u001b[0m \u001b[0mextract_array\u001b[0m\u001b[0;34m(\u001b[0m\u001b[0mleft\u001b[0m\u001b[0;34m,\u001b[0m \u001b[0mextract_numpy\u001b[0m\u001b[0;34m=\u001b[0m\u001b[0;32mTrue\u001b[0m\u001b[0;34m)\u001b[0m\u001b[0;34m\u001b[0m\u001b[0;34m\u001b[0m\u001b[0m\n\u001b[1;32m    342\u001b[0m         \u001b[0mrvalues\u001b[0m \u001b[0;34m=\u001b[0m \u001b[0mextract_array\u001b[0m\u001b[0;34m(\u001b[0m\u001b[0mright\u001b[0m\u001b[0;34m,\u001b[0m \u001b[0mextract_numpy\u001b[0m\u001b[0;34m=\u001b[0m\u001b[0;32mTrue\u001b[0m\u001b[0;34m)\u001b[0m\u001b[0;34m\u001b[0m\u001b[0;34m\u001b[0m\u001b[0m\n\u001b[0;32m--> 343\u001b[0;31m         \u001b[0mresult\u001b[0m \u001b[0;34m=\u001b[0m \u001b[0marithmetic_op\u001b[0m\u001b[0;34m(\u001b[0m\u001b[0mlvalues\u001b[0m\u001b[0;34m,\u001b[0m \u001b[0mrvalues\u001b[0m\u001b[0;34m,\u001b[0m \u001b[0mop\u001b[0m\u001b[0;34m)\u001b[0m\u001b[0;34m\u001b[0m\u001b[0;34m\u001b[0m\u001b[0m\n\u001b[0m\u001b[1;32m    344\u001b[0m \u001b[0;34m\u001b[0m\u001b[0m\n\u001b[1;32m    345\u001b[0m         \u001b[0;32mreturn\u001b[0m \u001b[0mleft\u001b[0m\u001b[0;34m.\u001b[0m\u001b[0m_construct_result\u001b[0m\u001b[0;34m(\u001b[0m\u001b[0mresult\u001b[0m\u001b[0;34m,\u001b[0m \u001b[0mname\u001b[0m\u001b[0;34m=\u001b[0m\u001b[0mres_name\u001b[0m\u001b[0;34m)\u001b[0m\u001b[0;34m\u001b[0m\u001b[0;34m\u001b[0m\u001b[0m\n",
         "\u001b[0;32m/home/ahenoch/miniconda3/envs/masterthesis/lib/python3.6/site-packages/pandas/core/ops/array_ops.py\u001b[0m in \u001b[0;36marithmetic_op\u001b[0;34m(left, right, op)\u001b[0m\n\u001b[1;32m    188\u001b[0m     \u001b[0;32melse\u001b[0m\u001b[0;34m:\u001b[0m\u001b[0;34m\u001b[0m\u001b[0;34m\u001b[0m\u001b[0m\n\u001b[1;32m    189\u001b[0m         \u001b[0;32mwith\u001b[0m \u001b[0mnp\u001b[0m\u001b[0;34m.\u001b[0m\u001b[0merrstate\u001b[0m\u001b[0;34m(\u001b[0m\u001b[0mall\u001b[0m\u001b[0;34m=\u001b[0m\u001b[0;34m\"ignore\"\u001b[0m\u001b[0;34m)\u001b[0m\u001b[0;34m:\u001b[0m\u001b[0;34m\u001b[0m\u001b[0;34m\u001b[0m\u001b[0m\n\u001b[0;32m--> 190\u001b[0;31m             \u001b[0mres_values\u001b[0m \u001b[0;34m=\u001b[0m \u001b[0mna_arithmetic_op\u001b[0m\u001b[0;34m(\u001b[0m\u001b[0mlvalues\u001b[0m\u001b[0;34m,\u001b[0m \u001b[0mrvalues\u001b[0m\u001b[0;34m,\u001b[0m \u001b[0mop\u001b[0m\u001b[0;34m)\u001b[0m\u001b[0;34m\u001b[0m\u001b[0;34m\u001b[0m\u001b[0m\n\u001b[0m\u001b[1;32m    191\u001b[0m \u001b[0;34m\u001b[0m\u001b[0m\n\u001b[1;32m    192\u001b[0m     \u001b[0;32mreturn\u001b[0m \u001b[0mres_values\u001b[0m\u001b[0;34m\u001b[0m\u001b[0;34m\u001b[0m\u001b[0m\n",
         "\u001b[0;32m/home/ahenoch/miniconda3/envs/masterthesis/lib/python3.6/site-packages/pandas/core/ops/array_ops.py\u001b[0m in \u001b[0;36mna_arithmetic_op\u001b[0;34m(left, right, op, is_cmp)\u001b[0m\n\u001b[1;32m    148\u001b[0m             \u001b[0;31m#  will handle complex numbers incorrectly, see GH#32047\u001b[0m\u001b[0;34m\u001b[0m\u001b[0;34m\u001b[0m\u001b[0;34m\u001b[0m\u001b[0m\n\u001b[1;32m    149\u001b[0m             \u001b[0;32mraise\u001b[0m\u001b[0;34m\u001b[0m\u001b[0;34m\u001b[0m\u001b[0m\n\u001b[0;32m--> 150\u001b[0;31m         \u001b[0mresult\u001b[0m \u001b[0;34m=\u001b[0m \u001b[0mmasked_arith_op\u001b[0m\u001b[0;34m(\u001b[0m\u001b[0mleft\u001b[0m\u001b[0;34m,\u001b[0m \u001b[0mright\u001b[0m\u001b[0;34m,\u001b[0m \u001b[0mop\u001b[0m\u001b[0;34m)\u001b[0m\u001b[0;34m\u001b[0m\u001b[0;34m\u001b[0m\u001b[0m\n\u001b[0m\u001b[1;32m    151\u001b[0m \u001b[0;34m\u001b[0m\u001b[0m\n\u001b[1;32m    152\u001b[0m     \u001b[0;32mif\u001b[0m \u001b[0mis_cmp\u001b[0m \u001b[0;32mand\u001b[0m \u001b[0;34m(\u001b[0m\u001b[0mis_scalar\u001b[0m\u001b[0;34m(\u001b[0m\u001b[0mresult\u001b[0m\u001b[0;34m)\u001b[0m \u001b[0;32mor\u001b[0m \u001b[0mresult\u001b[0m \u001b[0;32mis\u001b[0m \u001b[0mNotImplemented\u001b[0m\u001b[0;34m)\u001b[0m\u001b[0;34m:\u001b[0m\u001b[0;34m\u001b[0m\u001b[0;34m\u001b[0m\u001b[0m\n",
         "\u001b[0;32m/home/ahenoch/miniconda3/envs/masterthesis/lib/python3.6/site-packages/pandas/core/ops/array_ops.py\u001b[0m in \u001b[0;36mmasked_arith_op\u001b[0;34m(x, y, op)\u001b[0m\n\u001b[1;32m     90\u001b[0m         \u001b[0;32mif\u001b[0m \u001b[0mmask\u001b[0m\u001b[0;34m.\u001b[0m\u001b[0many\u001b[0m\u001b[0;34m(\u001b[0m\u001b[0;34m)\u001b[0m\u001b[0;34m:\u001b[0m\u001b[0;34m\u001b[0m\u001b[0;34m\u001b[0m\u001b[0m\n\u001b[1;32m     91\u001b[0m             \u001b[0;32mwith\u001b[0m \u001b[0mnp\u001b[0m\u001b[0;34m.\u001b[0m\u001b[0merrstate\u001b[0m\u001b[0;34m(\u001b[0m\u001b[0mall\u001b[0m\u001b[0;34m=\u001b[0m\u001b[0;34m\"ignore\"\u001b[0m\u001b[0;34m)\u001b[0m\u001b[0;34m:\u001b[0m\u001b[0;34m\u001b[0m\u001b[0;34m\u001b[0m\u001b[0m\n\u001b[0;32m---> 92\u001b[0;31m                 \u001b[0mresult\u001b[0m\u001b[0;34m[\u001b[0m\u001b[0mmask\u001b[0m\u001b[0;34m]\u001b[0m \u001b[0;34m=\u001b[0m \u001b[0mop\u001b[0m\u001b[0;34m(\u001b[0m\u001b[0mxrav\u001b[0m\u001b[0;34m[\u001b[0m\u001b[0mmask\u001b[0m\u001b[0;34m]\u001b[0m\u001b[0;34m,\u001b[0m \u001b[0myrav\u001b[0m\u001b[0;34m[\u001b[0m\u001b[0mmask\u001b[0m\u001b[0;34m]\u001b[0m\u001b[0;34m)\u001b[0m\u001b[0;34m\u001b[0m\u001b[0;34m\u001b[0m\u001b[0m\n\u001b[0m\u001b[1;32m     93\u001b[0m \u001b[0;34m\u001b[0m\u001b[0m\n\u001b[1;32m     94\u001b[0m     \u001b[0;32melse\u001b[0m\u001b[0;34m:\u001b[0m\u001b[0;34m\u001b[0m\u001b[0;34m\u001b[0m\u001b[0m\n",
         "\u001b[0;31mTypeError\u001b[0m: can't multiply sequence by non-int of type 'str'"
        ]
       }
      ],
      "source": "data['rating_unclust'] = data['mean_cluster_mean'] * (data['n_unclustered'])",
      "start_time": "2021-01-19T16:20:23.592Z"
     },
     {
      "end_time": "2021-01-19T16:20:35.077Z",
      "execution_time": "13ms",
      "outputs": [
       {
        "ename": "TypeError",
        "evalue": "can't multiply sequence by non-int of type 'str'",
        "output_type": "error",
        "traceback": [
         "\u001b[0;31m---------------------------------------------------------------------------\u001b[0m",
         "\u001b[0;31mTypeError\u001b[0m                                 Traceback (most recent call last)",
         "\u001b[0;32m/home/ahenoch/miniconda3/envs/masterthesis/lib/python3.6/site-packages/pandas/core/ops/array_ops.py\u001b[0m in \u001b[0;36mna_arithmetic_op\u001b[0;34m(left, right, op, is_cmp)\u001b[0m\n\u001b[1;32m    142\u001b[0m     \u001b[0;32mtry\u001b[0m\u001b[0;34m:\u001b[0m\u001b[0;34m\u001b[0m\u001b[0;34m\u001b[0m\u001b[0m\n\u001b[0;32m--> 143\u001b[0;31m         \u001b[0mresult\u001b[0m \u001b[0;34m=\u001b[0m \u001b[0mexpressions\u001b[0m\u001b[0;34m.\u001b[0m\u001b[0mevaluate\u001b[0m\u001b[0;34m(\u001b[0m\u001b[0mop\u001b[0m\u001b[0;34m,\u001b[0m \u001b[0mleft\u001b[0m\u001b[0;34m,\u001b[0m \u001b[0mright\u001b[0m\u001b[0;34m)\u001b[0m\u001b[0;34m\u001b[0m\u001b[0;34m\u001b[0m\u001b[0m\n\u001b[0m\u001b[1;32m    144\u001b[0m     \u001b[0;32mexcept\u001b[0m \u001b[0mTypeError\u001b[0m\u001b[0;34m:\u001b[0m\u001b[0;34m\u001b[0m\u001b[0;34m\u001b[0m\u001b[0m\n",
         "\u001b[0;32m/home/ahenoch/miniconda3/envs/masterthesis/lib/python3.6/site-packages/pandas/core/computation/expressions.py\u001b[0m in \u001b[0;36mevaluate\u001b[0;34m(op, a, b, use_numexpr)\u001b[0m\n\u001b[1;32m    232\u001b[0m         \u001b[0;32mif\u001b[0m \u001b[0muse_numexpr\u001b[0m\u001b[0;34m:\u001b[0m\u001b[0;34m\u001b[0m\u001b[0;34m\u001b[0m\u001b[0m\n\u001b[0;32m--> 233\u001b[0;31m             \u001b[0;32mreturn\u001b[0m \u001b[0m_evaluate\u001b[0m\u001b[0;34m(\u001b[0m\u001b[0mop\u001b[0m\u001b[0;34m,\u001b[0m \u001b[0mop_str\u001b[0m\u001b[0;34m,\u001b[0m \u001b[0ma\u001b[0m\u001b[0;34m,\u001b[0m \u001b[0mb\u001b[0m\u001b[0;34m)\u001b[0m  \u001b[0;31m# type: ignore\u001b[0m\u001b[0;34m\u001b[0m\u001b[0;34m\u001b[0m\u001b[0m\n\u001b[0m\u001b[1;32m    234\u001b[0m     \u001b[0;32mreturn\u001b[0m \u001b[0m_evaluate_standard\u001b[0m\u001b[0;34m(\u001b[0m\u001b[0mop\u001b[0m\u001b[0;34m,\u001b[0m \u001b[0mop_str\u001b[0m\u001b[0;34m,\u001b[0m \u001b[0ma\u001b[0m\u001b[0;34m,\u001b[0m \u001b[0mb\u001b[0m\u001b[0;34m)\u001b[0m\u001b[0;34m\u001b[0m\u001b[0;34m\u001b[0m\u001b[0m\n",
         "\u001b[0;32m/home/ahenoch/miniconda3/envs/masterthesis/lib/python3.6/site-packages/pandas/core/computation/expressions.py\u001b[0m in \u001b[0;36m_evaluate_numexpr\u001b[0;34m(op, op_str, a, b)\u001b[0m\n\u001b[1;32m    118\u001b[0m     \u001b[0;32mif\u001b[0m \u001b[0mresult\u001b[0m \u001b[0;32mis\u001b[0m \u001b[0;32mNone\u001b[0m\u001b[0;34m:\u001b[0m\u001b[0;34m\u001b[0m\u001b[0;34m\u001b[0m\u001b[0m\n\u001b[0;32m--> 119\u001b[0;31m         \u001b[0mresult\u001b[0m \u001b[0;34m=\u001b[0m \u001b[0m_evaluate_standard\u001b[0m\u001b[0;34m(\u001b[0m\u001b[0mop\u001b[0m\u001b[0;34m,\u001b[0m \u001b[0mop_str\u001b[0m\u001b[0;34m,\u001b[0m \u001b[0ma\u001b[0m\u001b[0;34m,\u001b[0m \u001b[0mb\u001b[0m\u001b[0;34m)\u001b[0m\u001b[0;34m\u001b[0m\u001b[0;34m\u001b[0m\u001b[0m\n\u001b[0m\u001b[1;32m    120\u001b[0m \u001b[0;34m\u001b[0m\u001b[0m\n",
         "\u001b[0;32m/home/ahenoch/miniconda3/envs/masterthesis/lib/python3.6/site-packages/pandas/core/computation/expressions.py\u001b[0m in \u001b[0;36m_evaluate_standard\u001b[0;34m(op, op_str, a, b)\u001b[0m\n\u001b[1;32m     67\u001b[0m     \u001b[0;32mwith\u001b[0m \u001b[0mnp\u001b[0m\u001b[0;34m.\u001b[0m\u001b[0merrstate\u001b[0m\u001b[0;34m(\u001b[0m\u001b[0mall\u001b[0m\u001b[0;34m=\u001b[0m\u001b[0;34m\"ignore\"\u001b[0m\u001b[0;34m)\u001b[0m\u001b[0;34m:\u001b[0m\u001b[0;34m\u001b[0m\u001b[0;34m\u001b[0m\u001b[0m\n\u001b[0;32m---> 68\u001b[0;31m         \u001b[0;32mreturn\u001b[0m \u001b[0mop\u001b[0m\u001b[0;34m(\u001b[0m\u001b[0ma\u001b[0m\u001b[0;34m,\u001b[0m \u001b[0mb\u001b[0m\u001b[0;34m)\u001b[0m\u001b[0;34m\u001b[0m\u001b[0;34m\u001b[0m\u001b[0m\n\u001b[0m\u001b[1;32m     69\u001b[0m \u001b[0;34m\u001b[0m\u001b[0m\n",
         "\u001b[0;31mTypeError\u001b[0m: can't multiply sequence by non-int of type 'str'",
         "\nDuring handling of the above exception, another exception occurred:\n",
         "\u001b[0;31mTypeError\u001b[0m                                 Traceback (most recent call last)",
         "\u001b[0;32m<ipython-input-23-6b20d5863352>\u001b[0m in \u001b[0;36m<module>\u001b[0;34m()\u001b[0m\n\u001b[0;32m----> 1\u001b[0;31m \u001b[0mdata\u001b[0m\u001b[0;34m[\u001b[0m\u001b[0;34m'rating_unclust'\u001b[0m\u001b[0;34m]\u001b[0m \u001b[0;34m=\u001b[0m \u001b[0mdata\u001b[0m\u001b[0;34m[\u001b[0m\u001b[0;34m'mean_cluster_mean'\u001b[0m\u001b[0;34m]\u001b[0m \u001b[0;34m*\u001b[0m \u001b[0mdata\u001b[0m\u001b[0;34m[\u001b[0m\u001b[0;34m'n_unclustered'\u001b[0m\u001b[0;34m]\u001b[0m\u001b[0;34m\u001b[0m\u001b[0;34m\u001b[0m\u001b[0m\n\u001b[0m",
         "\u001b[0;32m/home/ahenoch/miniconda3/envs/masterthesis/lib/python3.6/site-packages/pandas/core/ops/common.py\u001b[0m in \u001b[0;36mnew_method\u001b[0;34m(self, other)\u001b[0m\n\u001b[1;32m     63\u001b[0m         \u001b[0mother\u001b[0m \u001b[0;34m=\u001b[0m \u001b[0mitem_from_zerodim\u001b[0m\u001b[0;34m(\u001b[0m\u001b[0mother\u001b[0m\u001b[0;34m)\u001b[0m\u001b[0;34m\u001b[0m\u001b[0;34m\u001b[0m\u001b[0m\n\u001b[1;32m     64\u001b[0m \u001b[0;34m\u001b[0m\u001b[0m\n\u001b[0;32m---> 65\u001b[0;31m         \u001b[0;32mreturn\u001b[0m \u001b[0mmethod\u001b[0m\u001b[0;34m(\u001b[0m\u001b[0mself\u001b[0m\u001b[0;34m,\u001b[0m \u001b[0mother\u001b[0m\u001b[0;34m)\u001b[0m\u001b[0;34m\u001b[0m\u001b[0;34m\u001b[0m\u001b[0m\n\u001b[0m\u001b[1;32m     66\u001b[0m \u001b[0;34m\u001b[0m\u001b[0m\n\u001b[1;32m     67\u001b[0m     \u001b[0;32mreturn\u001b[0m \u001b[0mnew_method\u001b[0m\u001b[0;34m\u001b[0m\u001b[0;34m\u001b[0m\u001b[0m\n",
         "\u001b[0;32m/home/ahenoch/miniconda3/envs/masterthesis/lib/python3.6/site-packages/pandas/core/ops/__init__.py\u001b[0m in \u001b[0;36mwrapper\u001b[0;34m(left, right)\u001b[0m\n\u001b[1;32m    341\u001b[0m         \u001b[0mlvalues\u001b[0m \u001b[0;34m=\u001b[0m \u001b[0mextract_array\u001b[0m\u001b[0;34m(\u001b[0m\u001b[0mleft\u001b[0m\u001b[0;34m,\u001b[0m \u001b[0mextract_numpy\u001b[0m\u001b[0;34m=\u001b[0m\u001b[0;32mTrue\u001b[0m\u001b[0;34m)\u001b[0m\u001b[0;34m\u001b[0m\u001b[0;34m\u001b[0m\u001b[0m\n\u001b[1;32m    342\u001b[0m         \u001b[0mrvalues\u001b[0m \u001b[0;34m=\u001b[0m \u001b[0mextract_array\u001b[0m\u001b[0;34m(\u001b[0m\u001b[0mright\u001b[0m\u001b[0;34m,\u001b[0m \u001b[0mextract_numpy\u001b[0m\u001b[0;34m=\u001b[0m\u001b[0;32mTrue\u001b[0m\u001b[0;34m)\u001b[0m\u001b[0;34m\u001b[0m\u001b[0;34m\u001b[0m\u001b[0m\n\u001b[0;32m--> 343\u001b[0;31m         \u001b[0mresult\u001b[0m \u001b[0;34m=\u001b[0m \u001b[0marithmetic_op\u001b[0m\u001b[0;34m(\u001b[0m\u001b[0mlvalues\u001b[0m\u001b[0;34m,\u001b[0m \u001b[0mrvalues\u001b[0m\u001b[0;34m,\u001b[0m \u001b[0mop\u001b[0m\u001b[0;34m)\u001b[0m\u001b[0;34m\u001b[0m\u001b[0;34m\u001b[0m\u001b[0m\n\u001b[0m\u001b[1;32m    344\u001b[0m \u001b[0;34m\u001b[0m\u001b[0m\n\u001b[1;32m    345\u001b[0m         \u001b[0;32mreturn\u001b[0m \u001b[0mleft\u001b[0m\u001b[0;34m.\u001b[0m\u001b[0m_construct_result\u001b[0m\u001b[0;34m(\u001b[0m\u001b[0mresult\u001b[0m\u001b[0;34m,\u001b[0m \u001b[0mname\u001b[0m\u001b[0;34m=\u001b[0m\u001b[0mres_name\u001b[0m\u001b[0;34m)\u001b[0m\u001b[0;34m\u001b[0m\u001b[0;34m\u001b[0m\u001b[0m\n",
         "\u001b[0;32m/home/ahenoch/miniconda3/envs/masterthesis/lib/python3.6/site-packages/pandas/core/ops/array_ops.py\u001b[0m in \u001b[0;36marithmetic_op\u001b[0;34m(left, right, op)\u001b[0m\n\u001b[1;32m    188\u001b[0m     \u001b[0;32melse\u001b[0m\u001b[0;34m:\u001b[0m\u001b[0;34m\u001b[0m\u001b[0;34m\u001b[0m\u001b[0m\n\u001b[1;32m    189\u001b[0m         \u001b[0;32mwith\u001b[0m \u001b[0mnp\u001b[0m\u001b[0;34m.\u001b[0m\u001b[0merrstate\u001b[0m\u001b[0;34m(\u001b[0m\u001b[0mall\u001b[0m\u001b[0;34m=\u001b[0m\u001b[0;34m\"ignore\"\u001b[0m\u001b[0;34m)\u001b[0m\u001b[0;34m:\u001b[0m\u001b[0;34m\u001b[0m\u001b[0;34m\u001b[0m\u001b[0m\n\u001b[0;32m--> 190\u001b[0;31m             \u001b[0mres_values\u001b[0m \u001b[0;34m=\u001b[0m \u001b[0mna_arithmetic_op\u001b[0m\u001b[0;34m(\u001b[0m\u001b[0mlvalues\u001b[0m\u001b[0;34m,\u001b[0m \u001b[0mrvalues\u001b[0m\u001b[0;34m,\u001b[0m \u001b[0mop\u001b[0m\u001b[0;34m)\u001b[0m\u001b[0;34m\u001b[0m\u001b[0;34m\u001b[0m\u001b[0m\n\u001b[0m\u001b[1;32m    191\u001b[0m \u001b[0;34m\u001b[0m\u001b[0m\n\u001b[1;32m    192\u001b[0m     \u001b[0;32mreturn\u001b[0m \u001b[0mres_values\u001b[0m\u001b[0;34m\u001b[0m\u001b[0;34m\u001b[0m\u001b[0m\n",
         "\u001b[0;32m/home/ahenoch/miniconda3/envs/masterthesis/lib/python3.6/site-packages/pandas/core/ops/array_ops.py\u001b[0m in \u001b[0;36mna_arithmetic_op\u001b[0;34m(left, right, op, is_cmp)\u001b[0m\n\u001b[1;32m    148\u001b[0m             \u001b[0;31m#  will handle complex numbers incorrectly, see GH#32047\u001b[0m\u001b[0;34m\u001b[0m\u001b[0;34m\u001b[0m\u001b[0;34m\u001b[0m\u001b[0m\n\u001b[1;32m    149\u001b[0m             \u001b[0;32mraise\u001b[0m\u001b[0;34m\u001b[0m\u001b[0;34m\u001b[0m\u001b[0m\n\u001b[0;32m--> 150\u001b[0;31m         \u001b[0mresult\u001b[0m \u001b[0;34m=\u001b[0m \u001b[0mmasked_arith_op\u001b[0m\u001b[0;34m(\u001b[0m\u001b[0mleft\u001b[0m\u001b[0;34m,\u001b[0m \u001b[0mright\u001b[0m\u001b[0;34m,\u001b[0m \u001b[0mop\u001b[0m\u001b[0;34m)\u001b[0m\u001b[0;34m\u001b[0m\u001b[0;34m\u001b[0m\u001b[0m\n\u001b[0m\u001b[1;32m    151\u001b[0m \u001b[0;34m\u001b[0m\u001b[0m\n\u001b[1;32m    152\u001b[0m     \u001b[0;32mif\u001b[0m \u001b[0mis_cmp\u001b[0m \u001b[0;32mand\u001b[0m \u001b[0;34m(\u001b[0m\u001b[0mis_scalar\u001b[0m\u001b[0;34m(\u001b[0m\u001b[0mresult\u001b[0m\u001b[0;34m)\u001b[0m \u001b[0;32mor\u001b[0m \u001b[0mresult\u001b[0m \u001b[0;32mis\u001b[0m \u001b[0mNotImplemented\u001b[0m\u001b[0;34m)\u001b[0m\u001b[0;34m:\u001b[0m\u001b[0;34m\u001b[0m\u001b[0;34m\u001b[0m\u001b[0m\n",
         "\u001b[0;32m/home/ahenoch/miniconda3/envs/masterthesis/lib/python3.6/site-packages/pandas/core/ops/array_ops.py\u001b[0m in \u001b[0;36mmasked_arith_op\u001b[0;34m(x, y, op)\u001b[0m\n\u001b[1;32m     90\u001b[0m         \u001b[0;32mif\u001b[0m \u001b[0mmask\u001b[0m\u001b[0;34m.\u001b[0m\u001b[0many\u001b[0m\u001b[0;34m(\u001b[0m\u001b[0;34m)\u001b[0m\u001b[0;34m:\u001b[0m\u001b[0;34m\u001b[0m\u001b[0;34m\u001b[0m\u001b[0m\n\u001b[1;32m     91\u001b[0m             \u001b[0;32mwith\u001b[0m \u001b[0mnp\u001b[0m\u001b[0;34m.\u001b[0m\u001b[0merrstate\u001b[0m\u001b[0;34m(\u001b[0m\u001b[0mall\u001b[0m\u001b[0;34m=\u001b[0m\u001b[0;34m\"ignore\"\u001b[0m\u001b[0;34m)\u001b[0m\u001b[0;34m:\u001b[0m\u001b[0;34m\u001b[0m\u001b[0;34m\u001b[0m\u001b[0m\n\u001b[0;32m---> 92\u001b[0;31m                 \u001b[0mresult\u001b[0m\u001b[0;34m[\u001b[0m\u001b[0mmask\u001b[0m\u001b[0;34m]\u001b[0m \u001b[0;34m=\u001b[0m \u001b[0mop\u001b[0m\u001b[0;34m(\u001b[0m\u001b[0mxrav\u001b[0m\u001b[0;34m[\u001b[0m\u001b[0mmask\u001b[0m\u001b[0;34m]\u001b[0m\u001b[0;34m,\u001b[0m \u001b[0myrav\u001b[0m\u001b[0;34m[\u001b[0m\u001b[0mmask\u001b[0m\u001b[0;34m]\u001b[0m\u001b[0;34m)\u001b[0m\u001b[0;34m\u001b[0m\u001b[0;34m\u001b[0m\u001b[0m\n\u001b[0m\u001b[1;32m     93\u001b[0m \u001b[0;34m\u001b[0m\u001b[0m\n\u001b[1;32m     94\u001b[0m     \u001b[0;32melse\u001b[0m\u001b[0;34m:\u001b[0m\u001b[0;34m\u001b[0m\u001b[0;34m\u001b[0m\u001b[0m\n",
         "\u001b[0;31mTypeError\u001b[0m: can't multiply sequence by non-int of type 'str'"
        ]
       }
      ],
      "source": "data['rating_unclust'] = data['mean_cluster_mean'] * data['n_unclustered']",
      "start_time": "2021-01-19T16:20:35.064Z"
     },
     {
      "end_time": "2021-01-19T16:21:11.835Z",
      "execution_time": "18ms",
      "outputs": [
       {
        "ename": "TypeError",
        "evalue": "cannot convert the series to <class 'int'>",
        "output_type": "error",
        "traceback": [
         "\u001b[0;31m---------------------------------------------------------------------------\u001b[0m",
         "\u001b[0;31mTypeError\u001b[0m                                 Traceback (most recent call last)",
         "\u001b[0;32m<ipython-input-24-40765b804de3>\u001b[0m in \u001b[0;36m<module>\u001b[0;34m()\u001b[0m\n\u001b[0;32m----> 1\u001b[0;31m \u001b[0mdata\u001b[0m\u001b[0;34m[\u001b[0m\u001b[0;34m'rating_unclust'\u001b[0m\u001b[0;34m]\u001b[0m \u001b[0;34m=\u001b[0m \u001b[0mdata\u001b[0m\u001b[0;34m[\u001b[0m\u001b[0;34m'mean_cluster_mean'\u001b[0m\u001b[0;34m]\u001b[0m \u001b[0;34m*\u001b[0m \u001b[0;34m(\u001b[0m\u001b[0;34m(\u001b[0m\u001b[0mint\u001b[0m\u001b[0;34m(\u001b[0m\u001b[0mdata\u001b[0m\u001b[0;34m[\u001b[0m\u001b[0;34m'n_unclustered'\u001b[0m\u001b[0;34m]\u001b[0m\u001b[0;34m)\u001b[0m\u001b[0;34m+\u001b[0m\u001b[0;36m1\u001b[0m\u001b[0;34m)\u001b[0m\u001b[0;34m/\u001b[0m\u001b[0mn\u001b[0m\u001b[0;34m)\u001b[0m\u001b[0;34m\u001b[0m\u001b[0;34m\u001b[0m\u001b[0m\n\u001b[0m",
         "\u001b[0;32m/home/ahenoch/miniconda3/envs/masterthesis/lib/python3.6/site-packages/pandas/core/series.py\u001b[0m in \u001b[0;36mwrapper\u001b[0;34m(self)\u001b[0m\n\u001b[1;32m    127\u001b[0m         \u001b[0;32mif\u001b[0m \u001b[0mlen\u001b[0m\u001b[0;34m(\u001b[0m\u001b[0mself\u001b[0m\u001b[0;34m)\u001b[0m \u001b[0;34m==\u001b[0m \u001b[0;36m1\u001b[0m\u001b[0;34m:\u001b[0m\u001b[0;34m\u001b[0m\u001b[0;34m\u001b[0m\u001b[0m\n\u001b[1;32m    128\u001b[0m             \u001b[0;32mreturn\u001b[0m \u001b[0mconverter\u001b[0m\u001b[0;34m(\u001b[0m\u001b[0mself\u001b[0m\u001b[0;34m.\u001b[0m\u001b[0miloc\u001b[0m\u001b[0;34m[\u001b[0m\u001b[0;36m0\u001b[0m\u001b[0;34m]\u001b[0m\u001b[0;34m)\u001b[0m\u001b[0;34m\u001b[0m\u001b[0;34m\u001b[0m\u001b[0m\n\u001b[0;32m--> 129\u001b[0;31m         \u001b[0;32mraise\u001b[0m \u001b[0mTypeError\u001b[0m\u001b[0;34m(\u001b[0m\u001b[0;34mf\"cannot convert the series to {converter}\"\u001b[0m\u001b[0;34m)\u001b[0m\u001b[0;34m\u001b[0m\u001b[0;34m\u001b[0m\u001b[0m\n\u001b[0m\u001b[1;32m    130\u001b[0m \u001b[0;34m\u001b[0m\u001b[0m\n\u001b[1;32m    131\u001b[0m     \u001b[0mwrapper\u001b[0m\u001b[0;34m.\u001b[0m\u001b[0m__name__\u001b[0m \u001b[0;34m=\u001b[0m \u001b[0;34mf\"__{converter.__name__}__\"\u001b[0m\u001b[0;34m\u001b[0m\u001b[0;34m\u001b[0m\u001b[0m\n",
         "\u001b[0;31mTypeError\u001b[0m: cannot convert the series to <class 'int'>"
        ]
       }
      ],
      "source": "data['rating_unclust'] = data['mean_cluster_mean'] * ((int(data['n_unclustered'])+1)/n)",
      "start_time": "2021-01-19T16:21:11.817Z"
     },
     {
      "end_time": "2021-01-19T16:24:54.885Z",
      "execution_time": "8ms",
      "outputs": [
       {
        "ename": "NameError",
        "evalue": "name 'n' is not defined",
        "output_type": "error",
        "traceback": [
         "\u001b[0;31m---------------------------------------------------------------------------\u001b[0m",
         "\u001b[0;31mNameError\u001b[0m                                 Traceback (most recent call last)",
         "\u001b[0;32m<ipython-input-42-493f9ea7b76b>\u001b[0m in \u001b[0;36m<module>\u001b[0;34m()\u001b[0m\n\u001b[0;32m----> 1\u001b[0;31m \u001b[0mdata\u001b[0m\u001b[0;34m[\u001b[0m\u001b[0;34m'rating_unclust'\u001b[0m\u001b[0;34m]\u001b[0m \u001b[0;34m=\u001b[0m \u001b[0mdata\u001b[0m\u001b[0;34m[\u001b[0m\u001b[0;34m'mean_cluster_mean'\u001b[0m\u001b[0;34m]\u001b[0m \u001b[0;34m*\u001b[0m \u001b[0;34m(\u001b[0m\u001b[0;34m(\u001b[0m\u001b[0mdata\u001b[0m\u001b[0;34m[\u001b[0m\u001b[0;34m'n_unclustered'\u001b[0m\u001b[0;34m]\u001b[0m\u001b[0;34m)\u001b[0m\u001b[0;34m+\u001b[0m\u001b[0;36m1\u001b[0m\u001b[0;34m/\u001b[0m\u001b[0mn\u001b[0m\u001b[0;34m)\u001b[0m\u001b[0;34m\u001b[0m\u001b[0;34m\u001b[0m\u001b[0m\n\u001b[0m",
         "\u001b[0;31mNameError\u001b[0m: name 'n' is not defined"
        ]
       }
      ],
      "source": "data['rating_unclust'] = data['mean_cluster_mean'] * ((data['n_unclustered'])+1/n)",
      "start_time": "2021-01-19T16:24:54.877Z"
     },
     {
      "end_time": "2021-01-19T16:25:01.568Z",
      "execution_time": "5ms",
      "outputs": [],
      "source": "data['rating_unclust'] = data['mean_cluster_mean'] * ((data['n_unclustered'])+1/10000)",
      "start_time": "2021-01-19T16:25:01.563Z"
     },
     {
      "end_time": "2021-01-21T15:20:46.487Z",
      "execution_time": "26ms",
      "outputs": [],
      "source": "data['rating_unclust'] = data['mean_cluster_mean'] * ((data['n_unclustered'])+1/10000)",
      "start_time": "2021-01-21T15:20:46.461Z"
     }
    ]
   },
   "outputs": [],
   "source": [
    "data['rating_unclust'] = data['mean_cluster_mean'] * ((data['n_unclustered'])+1/10000)"
   ]
  },
  {
   "cell_type": "code",
   "execution_count": 8,
   "metadata": {
    "ExecutionTime": {
     "end_time": "2021-01-21T15:21:08.530997Z",
     "start_time": "2021-01-21T15:21:08.527224Z"
    },
    "provenance": [
     {
      "end_time": "2021-01-19T16:22:04.262Z",
      "execution_time": "15ms",
      "outputs": [
       {
        "data": {
         "text/html": "<div>\n<style scoped>\n    .dataframe tbody tr th:only-of-type {\n        vertical-align: middle;\n    }\n\n    .dataframe tbody tr th {\n        vertical-align: top;\n    }\n\n    .dataframe thead th {\n        text-align: right;\n    }\n</style>\n<table border=\"1\" class=\"dataframe\">\n  <thead>\n    <tr style=\"text-align: right;\">\n      <th></th>\n      <th>settings</th>\n      <th>n_unclustered</th>\n      <th>n_cluster</th>\n      <th>mean_cluster_mean</th>\n    </tr>\n  </thead>\n  <tbody>\n    <tr>\n      <th>0</th>\n      <td>40_0.0_10_0.0_1_5_0.25</td>\n      <td>179</td>\n      <td>467</td>\n      <td>0.0003469087574956364</td>\n    </tr>\n    <tr>\n      <th>1</th>\n      <td>40_0.0_10_0.0_1_5_0.5</td>\n      <td>179</td>\n      <td>467</td>\n      <td>0.0003469087574956364</td>\n    </tr>\n    <tr>\n      <th>2</th>\n      <td>40_0.0_10_0.0_1_5_0.75</td>\n      <td>104</td>\n      <td>404</td>\n      <td>0.00042311933894931145</td>\n    </tr>\n    <tr>\n      <th>3</th>\n      <td>40_0.0_10_0.0_1_10_0.25</td>\n      <td>236</td>\n      <td>280</td>\n      <td>0.0008249092442836816</td>\n    </tr>\n    <tr>\n      <th>4</th>\n      <td>40_0.0_10_0.0_1_10_0.5</td>\n      <td>236</td>\n      <td>280</td>\n      <td>0.0008249092442836816</td>\n    </tr>\n    <tr>\n      <th>...</th>\n      <td>...</td>\n      <td>...</td>\n      <td>...</td>\n      <td>...</td>\n    </tr>\n    <tr>\n      <th>16783</th>\n      <td>70_0.0_-20_0.4_-9_-10_0.8</td>\n      <td>4</td>\n      <td>2152</td>\n      <td>0.00010640343767048126</td>\n    </tr>\n    <tr>\n      <th>16784</th>\n      <td>70_0.0_-20_0.4_-9_-10_0.9</td>\n      <td>4</td>\n      <td>2149</td>\n      <td>0.00010661874599380994</td>\n    </tr>\n    <tr>\n      <th>16785</th>\n      <td>70_0.0_-20_0.4_-4_-20_0.7</td>\n      <td>5</td>\n      <td>2160</td>\n      <td>0.00010561000436287008</td>\n    </tr>\n    <tr>\n      <th>16786</th>\n      <td>70_0.0_-20_0.4_-4_-20_0.8</td>\n      <td>4</td>\n      <td>2152</td>\n      <td>0.00010640343767048126</td>\n    </tr>\n    <tr>\n      <th>16787</th>\n      <td>70_0.0_-20_0.4_-4_-20_</td>\n      <td></td>\n      <td></td>\n      <td></td>\n    </tr>\n  </tbody>\n</table>\n<p>16788 rows × 4 columns</p>\n</div>",
         "text/plain": "                        settings n_unclustered n_cluster  \\\n0         40_0.0_10_0.0_1_5_0.25           179       467   \n1          40_0.0_10_0.0_1_5_0.5           179       467   \n2         40_0.0_10_0.0_1_5_0.75           104       404   \n3        40_0.0_10_0.0_1_10_0.25           236       280   \n4         40_0.0_10_0.0_1_10_0.5           236       280   \n...                          ...           ...       ...   \n16783  70_0.0_-20_0.4_-9_-10_0.8             4      2152   \n16784  70_0.0_-20_0.4_-9_-10_0.9             4      2149   \n16785  70_0.0_-20_0.4_-4_-20_0.7             5      2160   \n16786  70_0.0_-20_0.4_-4_-20_0.8             4      2152   \n16787     70_0.0_-20_0.4_-4_-20_                           \n\n            mean_cluster_mean  \n0       0.0003469087574956364  \n1       0.0003469087574956364  \n2      0.00042311933894931145  \n3       0.0008249092442836816  \n4       0.0008249092442836816  \n...                       ...  \n16783  0.00010640343767048126  \n16784  0.00010661874599380994  \n16785  0.00010561000436287008  \n16786  0.00010640343767048126  \n16787                          \n\n[16788 rows x 4 columns]"
        },
        "execution_count": 26,
        "metadata": {},
        "output_type": "execute_result"
       }
      ],
      "source": "data",
      "start_time": "2021-01-19T16:22:04.247Z"
     },
     {
      "end_time": "2021-01-19T16:22:26.642Z",
      "execution_time": "6ms",
      "outputs": [
       {
        "data": {
         "text/plain": "0         467\n1         467\n2         404\n3         280\n4         280\n         ... \n16783    2152\n16784    2149\n16785    2160\n16786    2152\n16787        \nName: n_cluster, Length: 16788, dtype: object"
        },
        "execution_count": 27,
        "metadata": {},
        "output_type": "execute_result"
       }
      ],
      "source": "data['n_cluster']",
      "start_time": "2021-01-19T16:22:26.636Z"
     },
     {
      "end_time": "2021-01-19T16:22:36.455Z",
      "execution_time": "3ms",
      "outputs": [
       {
        "data": {
         "text/plain": "'467'"
        },
        "execution_count": 28,
        "metadata": {},
        "output_type": "execute_result"
       }
      ],
      "source": "data['n_cluster'][0]",
      "start_time": "2021-01-19T16:22:36.452Z"
     },
     {
      "end_time": "2021-01-19T16:22:52.881Z",
      "execution_time": "3ms",
      "outputs": [
       {
        "data": {
         "text/plain": "'179'"
        },
        "execution_count": 29,
        "metadata": {},
        "output_type": "execute_result"
       }
      ],
      "source": "data['n_unclustered'][0]",
      "start_time": "2021-01-19T16:22:52.878Z"
     },
     {
      "end_time": "2021-01-19T16:22:59.956Z",
      "execution_time": "3ms",
      "outputs": [
       {
        "data": {
         "text/plain": "'0.0003469087574956364'"
        },
        "execution_count": 30,
        "metadata": {},
        "output_type": "execute_result"
       }
      ],
      "source": "data['mean_cluster_mean'][0]",
      "start_time": "2021-01-19T16:22:59.953Z"
     },
     {
      "end_time": "2021-01-19T16:23:47.651Z",
      "execution_time": "4ms",
      "outputs": [
       {
        "data": {
         "text/plain": "'0.0003469087574956364'"
        },
        "execution_count": 35,
        "metadata": {},
        "output_type": "execute_result"
       }
      ],
      "source": "data['mean_cluster_mean'][0]",
      "start_time": "2021-01-19T16:23:47.647Z"
     },
     {
      "end_time": "2021-01-19T16:24:00.230Z",
      "execution_time": "13ms",
      "outputs": [
       {
        "data": {
         "text/html": "<div>\n<style scoped>\n    .dataframe tbody tr th:only-of-type {\n        vertical-align: middle;\n    }\n\n    .dataframe tbody tr th {\n        vertical-align: top;\n    }\n\n    .dataframe thead th {\n        text-align: right;\n    }\n</style>\n<table border=\"1\" class=\"dataframe\">\n  <thead>\n    <tr style=\"text-align: right;\">\n      <th></th>\n      <th>n_unclustered</th>\n      <th>n_cluster</th>\n      <th>mean_cluster_mean</th>\n    </tr>\n    <tr>\n      <th>0</th>\n      <th></th>\n      <th></th>\n      <th></th>\n    </tr>\n  </thead>\n  <tbody>\n    <tr>\n      <th>40_0.0_10_0.0_1_5_0.25</th>\n      <td>179</td>\n      <td>467</td>\n      <td>0.0003469087574956364</td>\n    </tr>\n    <tr>\n      <th>40_0.0_10_0.0_1_5_0.5</th>\n      <td>179</td>\n      <td>467</td>\n      <td>0.0003469087574956364</td>\n    </tr>\n    <tr>\n      <th>40_0.0_10_0.0_1_5_0.75</th>\n      <td>104</td>\n      <td>404</td>\n      <td>0.00042311933894931145</td>\n    </tr>\n    <tr>\n      <th>40_0.0_10_0.0_1_10_0.25</th>\n      <td>236</td>\n      <td>280</td>\n      <td>0.0008249092442836816</td>\n    </tr>\n    <tr>\n      <th>40_0.0_10_0.0_1_10_0.5</th>\n      <td>236</td>\n      <td>280</td>\n      <td>0.0008249092442836816</td>\n    </tr>\n    <tr>\n      <th>...</th>\n      <td>...</td>\n      <td>...</td>\n      <td>...</td>\n    </tr>\n    <tr>\n      <th>70_0.0_-20_0.4_-9_-10_0.8</th>\n      <td>4</td>\n      <td>2152</td>\n      <td>0.00010640343767048126</td>\n    </tr>\n    <tr>\n      <th>70_0.0_-20_0.4_-9_-10_0.9</th>\n      <td>4</td>\n      <td>2149</td>\n      <td>0.00010661874599380994</td>\n    </tr>\n    <tr>\n      <th>70_0.0_-20_0.4_-4_-20_0.7</th>\n      <td>5</td>\n      <td>2160</td>\n      <td>0.00010561000436287008</td>\n    </tr>\n    <tr>\n      <th>70_0.0_-20_0.4_-4_-20_0.8</th>\n      <td>4</td>\n      <td>2152</td>\n      <td>0.00010640343767048126</td>\n    </tr>\n    <tr>\n      <th>70_0.0_-20_0.4_-4_-20_</th>\n      <td></td>\n      <td></td>\n      <td></td>\n    </tr>\n  </tbody>\n</table>\n<p>16788 rows × 3 columns</p>\n</div>",
         "text/plain": "                          n_unclustered n_cluster       mean_cluster_mean\n0                                                                        \n40_0.0_10_0.0_1_5_0.25              179       467   0.0003469087574956364\n40_0.0_10_0.0_1_5_0.5               179       467   0.0003469087574956364\n40_0.0_10_0.0_1_5_0.75              104       404  0.00042311933894931145\n40_0.0_10_0.0_1_10_0.25             236       280   0.0008249092442836816\n40_0.0_10_0.0_1_10_0.5              236       280   0.0008249092442836816\n...                                 ...       ...                     ...\n70_0.0_-20_0.4_-9_-10_0.8             4      2152  0.00010640343767048126\n70_0.0_-20_0.4_-9_-10_0.9             4      2149  0.00010661874599380994\n70_0.0_-20_0.4_-4_-20_0.7             5      2160  0.00010561000436287008\n70_0.0_-20_0.4_-4_-20_0.8             4      2152  0.00010640343767048126\n70_0.0_-20_0.4_-4_-20_                                                   \n\n[16788 rows x 3 columns]"
        },
        "execution_count": 37,
        "metadata": {},
        "output_type": "execute_result"
       }
      ],
      "source": "data",
      "start_time": "2021-01-19T16:24:00.217Z"
     },
     {
      "end_time": "2021-01-19T16:24:46.319Z",
      "execution_time": "10ms",
      "outputs": [
       {
        "data": {
         "text/html": "<div>\n<style scoped>\n    .dataframe tbody tr th:only-of-type {\n        vertical-align: middle;\n    }\n\n    .dataframe tbody tr th {\n        vertical-align: top;\n    }\n\n    .dataframe thead th {\n        text-align: right;\n    }\n</style>\n<table border=\"1\" class=\"dataframe\">\n  <thead>\n    <tr style=\"text-align: right;\">\n      <th></th>\n      <th>n_unclustered</th>\n      <th>n_cluster</th>\n      <th>mean_cluster_mean</th>\n    </tr>\n    <tr>\n      <th>0</th>\n      <th></th>\n      <th></th>\n      <th></th>\n    </tr>\n  </thead>\n  <tbody>\n    <tr>\n      <th>40_0.0_10_0.0_1_5_0.25</th>\n      <td>179</td>\n      <td>467</td>\n      <td>0.000347</td>\n    </tr>\n    <tr>\n      <th>40_0.0_10_0.0_1_5_0.5</th>\n      <td>179</td>\n      <td>467</td>\n      <td>0.000347</td>\n    </tr>\n    <tr>\n      <th>40_0.0_10_0.0_1_5_0.75</th>\n      <td>104</td>\n      <td>404</td>\n      <td>0.000423</td>\n    </tr>\n    <tr>\n      <th>40_0.0_10_0.0_1_10_0.25</th>\n      <td>236</td>\n      <td>280</td>\n      <td>0.000825</td>\n    </tr>\n    <tr>\n      <th>40_0.0_10_0.0_1_10_0.5</th>\n      <td>236</td>\n      <td>280</td>\n      <td>0.000825</td>\n    </tr>\n    <tr>\n      <th>...</th>\n      <td>...</td>\n      <td>...</td>\n      <td>...</td>\n    </tr>\n    <tr>\n      <th>70_0.0_-20_0.4_-9_-10_0.7</th>\n      <td>5</td>\n      <td>2160</td>\n      <td>0.000106</td>\n    </tr>\n    <tr>\n      <th>70_0.0_-20_0.4_-9_-10_0.8</th>\n      <td>4</td>\n      <td>2152</td>\n      <td>0.000106</td>\n    </tr>\n    <tr>\n      <th>70_0.0_-20_0.4_-9_-10_0.9</th>\n      <td>4</td>\n      <td>2149</td>\n      <td>0.000107</td>\n    </tr>\n    <tr>\n      <th>70_0.0_-20_0.4_-4_-20_0.7</th>\n      <td>5</td>\n      <td>2160</td>\n      <td>0.000106</td>\n    </tr>\n    <tr>\n      <th>70_0.0_-20_0.4_-4_-20_0.8</th>\n      <td>4</td>\n      <td>2152</td>\n      <td>0.000106</td>\n    </tr>\n  </tbody>\n</table>\n<p>16787 rows × 3 columns</p>\n</div>",
         "text/plain": "                           n_unclustered  n_cluster  mean_cluster_mean\n0                                                                     \n40_0.0_10_0.0_1_5_0.25               179        467           0.000347\n40_0.0_10_0.0_1_5_0.5                179        467           0.000347\n40_0.0_10_0.0_1_5_0.75               104        404           0.000423\n40_0.0_10_0.0_1_10_0.25              236        280           0.000825\n40_0.0_10_0.0_1_10_0.5               236        280           0.000825\n...                                  ...        ...                ...\n70_0.0_-20_0.4_-9_-10_0.7              5       2160           0.000106\n70_0.0_-20_0.4_-9_-10_0.8              4       2152           0.000106\n70_0.0_-20_0.4_-9_-10_0.9              4       2149           0.000107\n70_0.0_-20_0.4_-4_-20_0.7              5       2160           0.000106\n70_0.0_-20_0.4_-4_-20_0.8              4       2152           0.000106\n\n[16787 rows x 3 columns]"
        },
        "execution_count": 41,
        "metadata": {},
        "output_type": "execute_result"
       }
      ],
      "source": "data",
      "start_time": "2021-01-19T16:24:46.309Z"
     },
     {
      "end_time": "2021-01-19T16:25:06.961Z",
      "execution_time": "15ms",
      "outputs": [
       {
        "data": {
         "text/html": "<div>\n<style scoped>\n    .dataframe tbody tr th:only-of-type {\n        vertical-align: middle;\n    }\n\n    .dataframe tbody tr th {\n        vertical-align: top;\n    }\n\n    .dataframe thead th {\n        text-align: right;\n    }\n</style>\n<table border=\"1\" class=\"dataframe\">\n  <thead>\n    <tr style=\"text-align: right;\">\n      <th></th>\n      <th>n_unclustered</th>\n      <th>n_cluster</th>\n      <th>mean_cluster_mean</th>\n      <th>rating_unclust</th>\n    </tr>\n    <tr>\n      <th>0</th>\n      <th></th>\n      <th></th>\n      <th></th>\n      <th></th>\n    </tr>\n  </thead>\n  <tbody>\n    <tr>\n      <th>40_0.0_10_0.0_1_5_0.25</th>\n      <td>179</td>\n      <td>467</td>\n      <td>0.000347</td>\n      <td>0.062097</td>\n    </tr>\n    <tr>\n      <th>40_0.0_10_0.0_1_5_0.5</th>\n      <td>179</td>\n      <td>467</td>\n      <td>0.000347</td>\n      <td>0.062097</td>\n    </tr>\n    <tr>\n      <th>40_0.0_10_0.0_1_5_0.75</th>\n      <td>104</td>\n      <td>404</td>\n      <td>0.000423</td>\n      <td>0.044004</td>\n    </tr>\n    <tr>\n      <th>40_0.0_10_0.0_1_10_0.25</th>\n      <td>236</td>\n      <td>280</td>\n      <td>0.000825</td>\n      <td>0.194679</td>\n    </tr>\n    <tr>\n      <th>40_0.0_10_0.0_1_10_0.5</th>\n      <td>236</td>\n      <td>280</td>\n      <td>0.000825</td>\n      <td>0.194679</td>\n    </tr>\n    <tr>\n      <th>...</th>\n      <td>...</td>\n      <td>...</td>\n      <td>...</td>\n      <td>...</td>\n    </tr>\n    <tr>\n      <th>70_0.0_-20_0.4_-9_-10_0.7</th>\n      <td>5</td>\n      <td>2160</td>\n      <td>0.000106</td>\n      <td>0.000528</td>\n    </tr>\n    <tr>\n      <th>70_0.0_-20_0.4_-9_-10_0.8</th>\n      <td>4</td>\n      <td>2152</td>\n      <td>0.000106</td>\n      <td>0.000426</td>\n    </tr>\n    <tr>\n      <th>70_0.0_-20_0.4_-9_-10_0.9</th>\n      <td>4</td>\n      <td>2149</td>\n      <td>0.000107</td>\n      <td>0.000426</td>\n    </tr>\n    <tr>\n      <th>70_0.0_-20_0.4_-4_-20_0.7</th>\n      <td>5</td>\n      <td>2160</td>\n      <td>0.000106</td>\n      <td>0.000528</td>\n    </tr>\n    <tr>\n      <th>70_0.0_-20_0.4_-4_-20_0.8</th>\n      <td>4</td>\n      <td>2152</td>\n      <td>0.000106</td>\n      <td>0.000426</td>\n    </tr>\n  </tbody>\n</table>\n<p>16787 rows × 4 columns</p>\n</div>",
         "text/plain": "                           n_unclustered  n_cluster  mean_cluster_mean  \\\n0                                                                        \n40_0.0_10_0.0_1_5_0.25               179        467           0.000347   \n40_0.0_10_0.0_1_5_0.5                179        467           0.000347   \n40_0.0_10_0.0_1_5_0.75               104        404           0.000423   \n40_0.0_10_0.0_1_10_0.25              236        280           0.000825   \n40_0.0_10_0.0_1_10_0.5               236        280           0.000825   \n...                                  ...        ...                ...   \n70_0.0_-20_0.4_-9_-10_0.7              5       2160           0.000106   \n70_0.0_-20_0.4_-9_-10_0.8              4       2152           0.000106   \n70_0.0_-20_0.4_-9_-10_0.9              4       2149           0.000107   \n70_0.0_-20_0.4_-4_-20_0.7              5       2160           0.000106   \n70_0.0_-20_0.4_-4_-20_0.8              4       2152           0.000106   \n\n                           rating_unclust  \n0                                          \n40_0.0_10_0.0_1_5_0.25           0.062097  \n40_0.0_10_0.0_1_5_0.5            0.062097  \n40_0.0_10_0.0_1_5_0.75           0.044004  \n40_0.0_10_0.0_1_10_0.25          0.194679  \n40_0.0_10_0.0_1_10_0.5           0.194679  \n...                                   ...  \n70_0.0_-20_0.4_-9_-10_0.7        0.000528  \n70_0.0_-20_0.4_-9_-10_0.8        0.000426  \n70_0.0_-20_0.4_-9_-10_0.9        0.000426  \n70_0.0_-20_0.4_-4_-20_0.7        0.000528  \n70_0.0_-20_0.4_-4_-20_0.8        0.000426  \n\n[16787 rows x 4 columns]"
        },
        "execution_count": 44,
        "metadata": {},
        "output_type": "execute_result"
       }
      ],
      "source": "data",
      "start_time": "2021-01-19T16:25:06.946Z"
     },
     {
      "end_time": "2021-01-21T15:20:53.026Z",
      "execution_time": "21ms",
      "outputs": [
       {
        "data": {
         "text/plain": "0\n40_0.0_10_0.0_1_5_0.25        467\n40_0.0_10_0.0_1_5_0.5         467\n40_0.0_10_0.0_1_5_0.75        404\n40_0.0_10_0.0_1_10_0.25       280\n40_0.0_10_0.0_1_10_0.5        280\n                             ... \n70_0.0_-20_0.4_-9_-10_0.7    2160\n70_0.0_-20_0.4_-9_-10_0.8    2152\n70_0.0_-20_0.4_-9_-10_0.9    2149\n70_0.0_-20_0.4_-4_-20_0.7    2160\n70_0.0_-20_0.4_-4_-20_0.8    2152\nName: n_cluster, Length: 16787, dtype: int64"
        },
        "execution_count": 7,
        "metadata": {},
        "output_type": "execute_result"
       }
      ],
      "source": "data['n_cluster']",
      "start_time": "2021-01-21T15:20:53.005Z"
     },
     {
      "end_time": "2021-01-21T15:21:08.530Z",
      "execution_time": "3ms",
      "outputs": [],
      "source": "data['n_cluster'] = data['n_cluster'] + 10000",
      "start_time": "2021-01-21T15:21:08.527Z"
     }
    ]
   },
   "outputs": [],
   "source": [
    "data['n_cluster'] = data['n_cluster'] + 10000"
   ]
  },
  {
   "cell_type": "code",
   "execution_count": 4,
   "metadata": {
    "ExecutionTime": {
     "end_time": "2021-01-22T09:23:10.198300Z",
     "start_time": "2021-01-22T09:23:10.168392Z"
    },
    "provenance": [
     {
      "end_time": "2021-01-21T15:21:20.573Z",
      "execution_time": "5ms",
      "outputs": [
       {
        "data": {
         "text/plain": "0\n40_0.0_10_0.0_1_5_0.25       10467\n40_0.0_10_0.0_1_5_0.5        10467\n40_0.0_10_0.0_1_5_0.75       10404\n40_0.0_10_0.0_1_10_0.25      10280\n40_0.0_10_0.0_1_10_0.5       10280\n                             ...  \n70_0.0_-20_0.4_-9_-10_0.7    12160\n70_0.0_-20_0.4_-9_-10_0.8    12152\n70_0.0_-20_0.4_-9_-10_0.9    12149\n70_0.0_-20_0.4_-4_-20_0.7    12160\n70_0.0_-20_0.4_-4_-20_0.8    12152\nName: n_cluster, Length: 16787, dtype: int64"
        },
        "execution_count": 9,
        "metadata": {},
        "output_type": "execute_result"
       }
      ],
      "source": "data['n_cluster']",
      "start_time": "2021-01-21T15:21:20.568Z"
     },
     {
      "end_time": "2021-01-21T15:21:34.748Z",
      "execution_time": "16ms",
      "outputs": [
       {
        "ename": "TypeError",
        "evalue": "unhashable type: 'list'",
        "output_type": "error",
        "traceback": [
         "\u001b[0;31m---------------------------------------------------------------------------\u001b[0m",
         "\u001b[0;31mTypeError\u001b[0m                                 Traceback (most recent call last)",
         "\u001b[0;32m<ipython-input-10-b7e1a5a3ea93>\u001b[0m in \u001b[0;36m<module>\u001b[0;34m()\u001b[0m\n\u001b[0;32m----> 1\u001b[0;31m \u001b[0mdata\u001b[0m\u001b[0;34m.\u001b[0m\u001b[0mloc\u001b[0m\u001b[0;34m(\u001b[0m\u001b[0;34m[\u001b[0m\u001b[0;34m'n_cluster'\u001b[0m\u001b[0;34m]\u001b[0m\u001b[0;34m)\u001b[0m\u001b[0;34m\u001b[0m\u001b[0;34m\u001b[0m\u001b[0m\n\u001b[0m",
         "\u001b[0;32m/home/ahenoch/miniconda3/envs/masterthesis/lib/python3.6/site-packages/pandas/core/indexing.py\u001b[0m in \u001b[0;36m__call__\u001b[0;34m(self, axis)\u001b[0m\n\u001b[1;32m    582\u001b[0m \u001b[0;34m\u001b[0m\u001b[0m\n\u001b[1;32m    583\u001b[0m         \u001b[0;32mif\u001b[0m \u001b[0maxis\u001b[0m \u001b[0;32mis\u001b[0m \u001b[0;32mnot\u001b[0m \u001b[0;32mNone\u001b[0m\u001b[0;34m:\u001b[0m\u001b[0;34m\u001b[0m\u001b[0;34m\u001b[0m\u001b[0m\n\u001b[0;32m--> 584\u001b[0;31m             \u001b[0maxis\u001b[0m \u001b[0;34m=\u001b[0m \u001b[0mself\u001b[0m\u001b[0;34m.\u001b[0m\u001b[0mobj\u001b[0m\u001b[0;34m.\u001b[0m\u001b[0m_get_axis_number\u001b[0m\u001b[0;34m(\u001b[0m\u001b[0maxis\u001b[0m\u001b[0;34m)\u001b[0m\u001b[0;34m\u001b[0m\u001b[0;34m\u001b[0m\u001b[0m\n\u001b[0m\u001b[1;32m    585\u001b[0m         \u001b[0mnew_self\u001b[0m\u001b[0;34m.\u001b[0m\u001b[0maxis\u001b[0m \u001b[0;34m=\u001b[0m \u001b[0maxis\u001b[0m\u001b[0;34m\u001b[0m\u001b[0;34m\u001b[0m\u001b[0m\n\u001b[1;32m    586\u001b[0m         \u001b[0;32mreturn\u001b[0m \u001b[0mnew_self\u001b[0m\u001b[0;34m\u001b[0m\u001b[0;34m\u001b[0m\u001b[0m\n",
         "\u001b[0;32m/home/ahenoch/miniconda3/envs/masterthesis/lib/python3.6/site-packages/pandas/core/generic.py\u001b[0m in \u001b[0;36m_get_axis_number\u001b[0;34m(cls, axis)\u001b[0m\n\u001b[1;32m    366\u001b[0m     \u001b[0;32mdef\u001b[0m \u001b[0m_get_axis_number\u001b[0m\u001b[0;34m(\u001b[0m\u001b[0mcls\u001b[0m\u001b[0;34m,\u001b[0m \u001b[0maxis\u001b[0m\u001b[0;34m:\u001b[0m \u001b[0mAxis\u001b[0m\u001b[0;34m)\u001b[0m \u001b[0;34m->\u001b[0m \u001b[0mint\u001b[0m\u001b[0;34m:\u001b[0m\u001b[0;34m\u001b[0m\u001b[0;34m\u001b[0m\u001b[0m\n\u001b[1;32m    367\u001b[0m         \u001b[0;32mtry\u001b[0m\u001b[0;34m:\u001b[0m\u001b[0;34m\u001b[0m\u001b[0;34m\u001b[0m\u001b[0m\n\u001b[0;32m--> 368\u001b[0;31m             \u001b[0;32mreturn\u001b[0m \u001b[0mcls\u001b[0m\u001b[0;34m.\u001b[0m\u001b[0m_AXIS_TO_AXIS_NUMBER\u001b[0m\u001b[0;34m[\u001b[0m\u001b[0maxis\u001b[0m\u001b[0;34m]\u001b[0m\u001b[0;34m\u001b[0m\u001b[0;34m\u001b[0m\u001b[0m\n\u001b[0m\u001b[1;32m    369\u001b[0m         \u001b[0;32mexcept\u001b[0m \u001b[0mKeyError\u001b[0m\u001b[0;34m:\u001b[0m\u001b[0;34m\u001b[0m\u001b[0;34m\u001b[0m\u001b[0m\n\u001b[1;32m    370\u001b[0m             \u001b[0;32mraise\u001b[0m \u001b[0mValueError\u001b[0m\u001b[0;34m(\u001b[0m\u001b[0;34mf\"No axis named {axis} for object type {cls.__name__}\"\u001b[0m\u001b[0;34m)\u001b[0m\u001b[0;34m\u001b[0m\u001b[0;34m\u001b[0m\u001b[0m\n",
         "\u001b[0;31mTypeError\u001b[0m: unhashable type: 'list'"
        ]
       }
      ],
      "source": "data.loc(['n_cluster'])",
      "start_time": "2021-01-21T15:21:34.732Z"
     },
     {
      "end_time": "2021-01-21T15:21:42.762Z",
      "execution_time": "22ms",
      "outputs": [
       {
        "data": {
         "text/html": "<div>\n<style scoped>\n    .dataframe tbody tr th:only-of-type {\n        vertical-align: middle;\n    }\n\n    .dataframe tbody tr th {\n        vertical-align: top;\n    }\n\n    .dataframe thead th {\n        text-align: right;\n    }\n</style>\n<table border=\"1\" class=\"dataframe\">\n  <thead>\n    <tr style=\"text-align: right;\">\n      <th></th>\n      <th>n_unclustered</th>\n      <th>n_cluster</th>\n      <th>mean_cluster_mean</th>\n      <th>rating_unclust</th>\n    </tr>\n    <tr>\n      <th>0</th>\n      <th></th>\n      <th></th>\n      <th></th>\n      <th></th>\n    </tr>\n  </thead>\n  <tbody>\n    <tr>\n      <th>40_0.0_10_0.0_1_5_0.25</th>\n      <td>179</td>\n      <td>10467</td>\n      <td>0.000347</td>\n      <td>0.062097</td>\n    </tr>\n    <tr>\n      <th>40_0.0_10_0.0_1_5_0.5</th>\n      <td>179</td>\n      <td>10467</td>\n      <td>0.000347</td>\n      <td>0.062097</td>\n    </tr>\n    <tr>\n      <th>40_0.0_10_0.0_1_5_0.75</th>\n      <td>104</td>\n      <td>10404</td>\n      <td>0.000423</td>\n      <td>0.044004</td>\n    </tr>\n    <tr>\n      <th>40_0.0_10_0.0_1_10_0.25</th>\n      <td>236</td>\n      <td>10280</td>\n      <td>0.000825</td>\n      <td>0.194679</td>\n    </tr>\n    <tr>\n      <th>40_0.0_10_0.0_1_10_0.5</th>\n      <td>236</td>\n      <td>10280</td>\n      <td>0.000825</td>\n      <td>0.194679</td>\n    </tr>\n    <tr>\n      <th>...</th>\n      <td>...</td>\n      <td>...</td>\n      <td>...</td>\n      <td>...</td>\n    </tr>\n    <tr>\n      <th>70_0.0_-20_0.4_-9_-10_0.7</th>\n      <td>5</td>\n      <td>12160</td>\n      <td>0.000106</td>\n      <td>0.000528</td>\n    </tr>\n    <tr>\n      <th>70_0.0_-20_0.4_-9_-10_0.8</th>\n      <td>4</td>\n      <td>12152</td>\n      <td>0.000106</td>\n      <td>0.000426</td>\n    </tr>\n    <tr>\n      <th>70_0.0_-20_0.4_-9_-10_0.9</th>\n      <td>4</td>\n      <td>12149</td>\n      <td>0.000107</td>\n      <td>0.000426</td>\n    </tr>\n    <tr>\n      <th>70_0.0_-20_0.4_-4_-20_0.7</th>\n      <td>5</td>\n      <td>12160</td>\n      <td>0.000106</td>\n      <td>0.000528</td>\n    </tr>\n    <tr>\n      <th>70_0.0_-20_0.4_-4_-20_0.8</th>\n      <td>4</td>\n      <td>12152</td>\n      <td>0.000106</td>\n      <td>0.000426</td>\n    </tr>\n  </tbody>\n</table>\n<p>16787 rows × 4 columns</p>\n</div>",
         "text/plain": "                           n_unclustered  n_cluster  mean_cluster_mean  \\\n0                                                                        \n40_0.0_10_0.0_1_5_0.25               179      10467           0.000347   \n40_0.0_10_0.0_1_5_0.5                179      10467           0.000347   \n40_0.0_10_0.0_1_5_0.75               104      10404           0.000423   \n40_0.0_10_0.0_1_10_0.25              236      10280           0.000825   \n40_0.0_10_0.0_1_10_0.5               236      10280           0.000825   \n...                                  ...        ...                ...   \n70_0.0_-20_0.4_-9_-10_0.7              5      12160           0.000106   \n70_0.0_-20_0.4_-9_-10_0.8              4      12152           0.000106   \n70_0.0_-20_0.4_-9_-10_0.9              4      12149           0.000107   \n70_0.0_-20_0.4_-4_-20_0.7              5      12160           0.000106   \n70_0.0_-20_0.4_-4_-20_0.8              4      12152           0.000106   \n\n                           rating_unclust  \n0                                          \n40_0.0_10_0.0_1_5_0.25           0.062097  \n40_0.0_10_0.0_1_5_0.5            0.062097  \n40_0.0_10_0.0_1_5_0.75           0.044004  \n40_0.0_10_0.0_1_10_0.25          0.194679  \n40_0.0_10_0.0_1_10_0.5           0.194679  \n...                                   ...  \n70_0.0_-20_0.4_-9_-10_0.7        0.000528  \n70_0.0_-20_0.4_-9_-10_0.8        0.000426  \n70_0.0_-20_0.4_-9_-10_0.9        0.000426  \n70_0.0_-20_0.4_-4_-20_0.7        0.000528  \n70_0.0_-20_0.4_-4_-20_0.8        0.000426  \n\n[16787 rows x 4 columns]"
        },
        "execution_count": 11,
        "metadata": {},
        "output_type": "execute_result"
       }
      ],
      "source": "data",
      "start_time": "2021-01-21T15:21:42.740Z"
     },
     {
      "end_time": "2021-01-22T09:23:10.198Z",
      "execution_time": "30ms",
      "outputs": [
       {
        "data": {
         "text/html": "<div>\n<style scoped>\n    .dataframe tbody tr th:only-of-type {\n        vertical-align: middle;\n    }\n\n    .dataframe tbody tr th {\n        vertical-align: top;\n    }\n\n    .dataframe thead th {\n        text-align: right;\n    }\n</style>\n<table border=\"1\" class=\"dataframe\">\n  <thead>\n    <tr style=\"text-align: right;\">\n      <th></th>\n      <th>1</th>\n      <th>2</th>\n      <th>3</th>\n    </tr>\n    <tr>\n      <th>0</th>\n      <th></th>\n      <th></th>\n      <th></th>\n    </tr>\n  </thead>\n  <tbody>\n    <tr>\n      <th>40_0.0_10_0.0_1_5_0.25</th>\n      <td>179</td>\n      <td>467</td>\n      <td>0.000347</td>\n    </tr>\n    <tr>\n      <th>40_0.0_10_0.0_1_5_0.5</th>\n      <td>179</td>\n      <td>467</td>\n      <td>0.000347</td>\n    </tr>\n    <tr>\n      <th>40_0.0_10_0.0_1_5_0.75</th>\n      <td>104</td>\n      <td>404</td>\n      <td>0.000423</td>\n    </tr>\n    <tr>\n      <th>40_0.0_10_0.0_1_10_0.25</th>\n      <td>236</td>\n      <td>280</td>\n      <td>0.000825</td>\n    </tr>\n    <tr>\n      <th>40_0.0_10_0.0_1_10_0.5</th>\n      <td>236</td>\n      <td>280</td>\n      <td>0.000825</td>\n    </tr>\n    <tr>\n      <th>...</th>\n      <td>...</td>\n      <td>...</td>\n      <td>...</td>\n    </tr>\n    <tr>\n      <th>70_0.0_-20_0.4_-9_-10_0.7</th>\n      <td>5</td>\n      <td>2160</td>\n      <td>0.000106</td>\n    </tr>\n    <tr>\n      <th>70_0.0_-20_0.4_-9_-10_0.8</th>\n      <td>4</td>\n      <td>2152</td>\n      <td>0.000106</td>\n    </tr>\n    <tr>\n      <th>70_0.0_-20_0.4_-9_-10_0.9</th>\n      <td>4</td>\n      <td>2149</td>\n      <td>0.000107</td>\n    </tr>\n    <tr>\n      <th>70_0.0_-20_0.4_-4_-20_0.7</th>\n      <td>5</td>\n      <td>2160</td>\n      <td>0.000106</td>\n    </tr>\n    <tr>\n      <th>70_0.0_-20_0.4_-4_-20_0.8</th>\n      <td>4</td>\n      <td>2152</td>\n      <td>0.000106</td>\n    </tr>\n  </tbody>\n</table>\n<p>16787 rows × 3 columns</p>\n</div>",
         "text/plain": "                             1     2         3\n0                                             \n40_0.0_10_0.0_1_5_0.25     179   467  0.000347\n40_0.0_10_0.0_1_5_0.5      179   467  0.000347\n40_0.0_10_0.0_1_5_0.75     104   404  0.000423\n40_0.0_10_0.0_1_10_0.25    236   280  0.000825\n40_0.0_10_0.0_1_10_0.5     236   280  0.000825\n...                        ...   ...       ...\n70_0.0_-20_0.4_-9_-10_0.7    5  2160  0.000106\n70_0.0_-20_0.4_-9_-10_0.8    4  2152  0.000106\n70_0.0_-20_0.4_-9_-10_0.9    4  2149  0.000107\n70_0.0_-20_0.4_-4_-20_0.7    5  2160  0.000106\n70_0.0_-20_0.4_-4_-20_0.8    4  2152  0.000106\n\n[16787 rows x 3 columns]"
        },
        "execution_count": 4,
        "metadata": {},
        "output_type": "execute_result"
       }
      ],
      "source": "data",
      "start_time": "2021-01-22T09:23:10.168Z"
     }
    ]
   },
   "outputs": [
    {
     "data": {
      "text/html": [
       "<div>\n",
       "<style scoped>\n",
       "    .dataframe tbody tr th:only-of-type {\n",
       "        vertical-align: middle;\n",
       "    }\n",
       "\n",
       "    .dataframe tbody tr th {\n",
       "        vertical-align: top;\n",
       "    }\n",
       "\n",
       "    .dataframe thead th {\n",
       "        text-align: right;\n",
       "    }\n",
       "</style>\n",
       "<table border=\"1\" class=\"dataframe\">\n",
       "  <thead>\n",
       "    <tr style=\"text-align: right;\">\n",
       "      <th></th>\n",
       "      <th>1</th>\n",
       "      <th>2</th>\n",
       "      <th>3</th>\n",
       "    </tr>\n",
       "    <tr>\n",
       "      <th>0</th>\n",
       "      <th></th>\n",
       "      <th></th>\n",
       "      <th></th>\n",
       "    </tr>\n",
       "  </thead>\n",
       "  <tbody>\n",
       "    <tr>\n",
       "      <th>40_0.0_10_0.0_1_5_0.25</th>\n",
       "      <td>179</td>\n",
       "      <td>467</td>\n",
       "      <td>0.000347</td>\n",
       "    </tr>\n",
       "    <tr>\n",
       "      <th>40_0.0_10_0.0_1_5_0.5</th>\n",
       "      <td>179</td>\n",
       "      <td>467</td>\n",
       "      <td>0.000347</td>\n",
       "    </tr>\n",
       "    <tr>\n",
       "      <th>40_0.0_10_0.0_1_5_0.75</th>\n",
       "      <td>104</td>\n",
       "      <td>404</td>\n",
       "      <td>0.000423</td>\n",
       "    </tr>\n",
       "    <tr>\n",
       "      <th>40_0.0_10_0.0_1_10_0.25</th>\n",
       "      <td>236</td>\n",
       "      <td>280</td>\n",
       "      <td>0.000825</td>\n",
       "    </tr>\n",
       "    <tr>\n",
       "      <th>40_0.0_10_0.0_1_10_0.5</th>\n",
       "      <td>236</td>\n",
       "      <td>280</td>\n",
       "      <td>0.000825</td>\n",
       "    </tr>\n",
       "    <tr>\n",
       "      <th>...</th>\n",
       "      <td>...</td>\n",
       "      <td>...</td>\n",
       "      <td>...</td>\n",
       "    </tr>\n",
       "    <tr>\n",
       "      <th>70_0.0_-20_0.4_-9_-10_0.7</th>\n",
       "      <td>5</td>\n",
       "      <td>2160</td>\n",
       "      <td>0.000106</td>\n",
       "    </tr>\n",
       "    <tr>\n",
       "      <th>70_0.0_-20_0.4_-9_-10_0.8</th>\n",
       "      <td>4</td>\n",
       "      <td>2152</td>\n",
       "      <td>0.000106</td>\n",
       "    </tr>\n",
       "    <tr>\n",
       "      <th>70_0.0_-20_0.4_-9_-10_0.9</th>\n",
       "      <td>4</td>\n",
       "      <td>2149</td>\n",
       "      <td>0.000107</td>\n",
       "    </tr>\n",
       "    <tr>\n",
       "      <th>70_0.0_-20_0.4_-4_-20_0.7</th>\n",
       "      <td>5</td>\n",
       "      <td>2160</td>\n",
       "      <td>0.000106</td>\n",
       "    </tr>\n",
       "    <tr>\n",
       "      <th>70_0.0_-20_0.4_-4_-20_0.8</th>\n",
       "      <td>4</td>\n",
       "      <td>2152</td>\n",
       "      <td>0.000106</td>\n",
       "    </tr>\n",
       "  </tbody>\n",
       "</table>\n",
       "<p>16787 rows × 3 columns</p>\n",
       "</div>"
      ],
      "text/plain": [
       "                             1     2         3\n",
       "0                                             \n",
       "40_0.0_10_0.0_1_5_0.25     179   467  0.000347\n",
       "40_0.0_10_0.0_1_5_0.5      179   467  0.000347\n",
       "40_0.0_10_0.0_1_5_0.75     104   404  0.000423\n",
       "40_0.0_10_0.0_1_10_0.25    236   280  0.000825\n",
       "40_0.0_10_0.0_1_10_0.5     236   280  0.000825\n",
       "...                        ...   ...       ...\n",
       "70_0.0_-20_0.4_-9_-10_0.7    5  2160  0.000106\n",
       "70_0.0_-20_0.4_-9_-10_0.8    4  2152  0.000106\n",
       "70_0.0_-20_0.4_-9_-10_0.9    4  2149  0.000107\n",
       "70_0.0_-20_0.4_-4_-20_0.7    5  2160  0.000106\n",
       "70_0.0_-20_0.4_-4_-20_0.8    4  2152  0.000106\n",
       "\n",
       "[16787 rows x 3 columns]"
      ]
     },
     "execution_count": 4,
     "metadata": {},
     "output_type": "execute_result"
    }
   ],
   "source": [
    "data"
   ]
  },
  {
   "cell_type": "code",
   "execution_count": 48,
   "metadata": {
    "ExecutionTime": {
     "end_time": "2021-01-19T16:27:08.585750Z",
     "start_time": "2021-01-19T16:27:08.572270Z"
    },
    "provenance": [
     {
      "end_time": "Unknown",
      "execution_time": "Unknown",
      "outputs": [],
      "source": "",
      "start_time": "Unknown"
     },
     {
      "end_time": "2021-01-19T16:26:10.827Z",
      "execution_time": "9ms",
      "outputs": [],
      "source": "\ntreshhold = data[data.n_cluster < 500]\nbest = treshhold.sort_values(by=['rating_unclust']).head(1)\n#best = res.sort_values(by=['rating_unclust']).head(1)\npara = best.index.values.tolist()[0].split(\"_\")",
      "start_time": "2021-01-19T16:26:10.818Z"
     },
     {
      "end_time": "2021-01-19T16:27:04.777Z",
      "execution_time": "13ms",
      "outputs": [
       {
        "data": {
         "text/html": "<div>\n<style scoped>\n    .dataframe tbody tr th:only-of-type {\n        vertical-align: middle;\n    }\n\n    .dataframe tbody tr th {\n        vertical-align: top;\n    }\n\n    .dataframe thead th {\n        text-align: right;\n    }\n</style>\n<table border=\"1\" class=\"dataframe\">\n  <thead>\n    <tr style=\"text-align: right;\">\n      <th></th>\n      <th>n_unclustered</th>\n      <th>n_cluster</th>\n      <th>mean_cluster_mean</th>\n      <th>rating_unclust</th>\n    </tr>\n    <tr>\n      <th>0</th>\n      <th></th>\n      <th></th>\n      <th></th>\n      <th></th>\n    </tr>\n  </thead>\n  <tbody>\n    <tr>\n      <th>40_0.0_20_0.1_-4_0_0.8</th>\n      <td>16</td>\n      <td>295</td>\n      <td>0.00048</td>\n      <td>0.007679</td>\n    </tr>\n  </tbody>\n</table>\n</div>",
         "text/plain": "                        n_unclustered  n_cluster  mean_cluster_mean  \\\n0                                                                     \n40_0.0_20_0.1_-4_0_0.8             16        295            0.00048   \n\n                        rating_unclust  \n0                                       \n40_0.0_20_0.1_-4_0_0.8        0.007679  "
        },
        "execution_count": 47,
        "metadata": {},
        "output_type": "execute_result"
       }
      ],
      "source": "\ntreshhold = data[data.n_cluster < 500]\nbest = treshhold.sort_values(by=['rating_unclust']).head(1)\n#best = res.sort_values(by=['rating_unclust']).head(1)\nbest",
      "start_time": "2021-01-19T16:27:04.764Z"
     },
     {
      "end_time": "2021-01-19T16:27:08.585Z",
      "execution_time": "13ms",
      "outputs": [
       {
        "data": {
         "text/html": "<div>\n<style scoped>\n    .dataframe tbody tr th:only-of-type {\n        vertical-align: middle;\n    }\n\n    .dataframe tbody tr th {\n        vertical-align: top;\n    }\n\n    .dataframe thead th {\n        text-align: right;\n    }\n</style>\n<table border=\"1\" class=\"dataframe\">\n  <thead>\n    <tr style=\"text-align: right;\">\n      <th></th>\n      <th>n_unclustered</th>\n      <th>n_cluster</th>\n      <th>mean_cluster_mean</th>\n      <th>rating_unclust</th>\n    </tr>\n    <tr>\n      <th>0</th>\n      <th></th>\n      <th></th>\n      <th></th>\n      <th></th>\n    </tr>\n  </thead>\n  <tbody>\n    <tr>\n      <th>40_0.0_20_0.1_-4_0_0.8</th>\n      <td>16</td>\n      <td>295</td>\n      <td>0.000480</td>\n      <td>0.007679</td>\n    </tr>\n    <tr>\n      <th>40_0.0_20_0.1_1_0_0.8</th>\n      <td>16</td>\n      <td>295</td>\n      <td>0.000480</td>\n      <td>0.007679</td>\n    </tr>\n    <tr>\n      <th>40_0.0_20_0.1_1_0_0.8</th>\n      <td>16</td>\n      <td>295</td>\n      <td>0.000480</td>\n      <td>0.007679</td>\n    </tr>\n    <tr>\n      <th>40_0.0_20_0.1_-4_0_0.8</th>\n      <td>16</td>\n      <td>295</td>\n      <td>0.000480</td>\n      <td>0.007679</td>\n    </tr>\n    <tr>\n      <th>40_0.2_20_0.3_-4_0_0.8</th>\n      <td>17</td>\n      <td>294</td>\n      <td>0.000475</td>\n      <td>0.008077</td>\n    </tr>\n    <tr>\n      <th>40_0.2_20_0.3_-4_0_0.8</th>\n      <td>17</td>\n      <td>294</td>\n      <td>0.000475</td>\n      <td>0.008077</td>\n    </tr>\n    <tr>\n      <th>40_0.2_20_0.3_1_0_0.8</th>\n      <td>17</td>\n      <td>294</td>\n      <td>0.000475</td>\n      <td>0.008077</td>\n    </tr>\n    <tr>\n      <th>40_0.2_20_0.3_1_0_0.8</th>\n      <td>17</td>\n      <td>294</td>\n      <td>0.000475</td>\n      <td>0.008077</td>\n    </tr>\n    <tr>\n      <th>40_0.2_10_0.1_1_5_0.8</th>\n      <td>17</td>\n      <td>356</td>\n      <td>0.000479</td>\n      <td>0.008138</td>\n    </tr>\n    <tr>\n      <th>40_0.2_10_0.1_-4_5_0.8</th>\n      <td>17</td>\n      <td>356</td>\n      <td>0.000479</td>\n      <td>0.008138</td>\n    </tr>\n  </tbody>\n</table>\n</div>",
         "text/plain": "                        n_unclustered  n_cluster  mean_cluster_mean  \\\n0                                                                     \n40_0.0_20_0.1_-4_0_0.8             16        295           0.000480   \n40_0.0_20_0.1_1_0_0.8              16        295           0.000480   \n40_0.0_20_0.1_1_0_0.8              16        295           0.000480   \n40_0.0_20_0.1_-4_0_0.8             16        295           0.000480   \n40_0.2_20_0.3_-4_0_0.8             17        294           0.000475   \n40_0.2_20_0.3_-4_0_0.8             17        294           0.000475   \n40_0.2_20_0.3_1_0_0.8              17        294           0.000475   \n40_0.2_20_0.3_1_0_0.8              17        294           0.000475   \n40_0.2_10_0.1_1_5_0.8              17        356           0.000479   \n40_0.2_10_0.1_-4_5_0.8             17        356           0.000479   \n\n                        rating_unclust  \n0                                       \n40_0.0_20_0.1_-4_0_0.8        0.007679  \n40_0.0_20_0.1_1_0_0.8         0.007679  \n40_0.0_20_0.1_1_0_0.8         0.007679  \n40_0.0_20_0.1_-4_0_0.8        0.007679  \n40_0.2_20_0.3_-4_0_0.8        0.008077  \n40_0.2_20_0.3_-4_0_0.8        0.008077  \n40_0.2_20_0.3_1_0_0.8         0.008077  \n40_0.2_20_0.3_1_0_0.8         0.008077  \n40_0.2_10_0.1_1_5_0.8         0.008138  \n40_0.2_10_0.1_-4_5_0.8        0.008138  "
        },
        "execution_count": 48,
        "metadata": {},
        "output_type": "execute_result"
       }
      ],
      "source": "\ntreshhold = data[data.n_cluster < 500]\nbest = treshhold.sort_values(by=['rating_unclust']).head(10)\n#best = res.sort_values(by=['rating_unclust']).head(1)\nbest",
      "start_time": "2021-01-19T16:27:08.572Z"
     }
    ]
   },
   "outputs": [
    {
     "data": {
      "text/html": [
       "<div>\n",
       "<style scoped>\n",
       "    .dataframe tbody tr th:only-of-type {\n",
       "        vertical-align: middle;\n",
       "    }\n",
       "\n",
       "    .dataframe tbody tr th {\n",
       "        vertical-align: top;\n",
       "    }\n",
       "\n",
       "    .dataframe thead th {\n",
       "        text-align: right;\n",
       "    }\n",
       "</style>\n",
       "<table border=\"1\" class=\"dataframe\">\n",
       "  <thead>\n",
       "    <tr style=\"text-align: right;\">\n",
       "      <th></th>\n",
       "      <th>n_unclustered</th>\n",
       "      <th>n_cluster</th>\n",
       "      <th>mean_cluster_mean</th>\n",
       "      <th>rating_unclust</th>\n",
       "    </tr>\n",
       "    <tr>\n",
       "      <th>0</th>\n",
       "      <th></th>\n",
       "      <th></th>\n",
       "      <th></th>\n",
       "      <th></th>\n",
       "    </tr>\n",
       "  </thead>\n",
       "  <tbody>\n",
       "    <tr>\n",
       "      <th>40_0.0_20_0.1_-4_0_0.8</th>\n",
       "      <td>16</td>\n",
       "      <td>295</td>\n",
       "      <td>0.000480</td>\n",
       "      <td>0.007679</td>\n",
       "    </tr>\n",
       "    <tr>\n",
       "      <th>40_0.0_20_0.1_1_0_0.8</th>\n",
       "      <td>16</td>\n",
       "      <td>295</td>\n",
       "      <td>0.000480</td>\n",
       "      <td>0.007679</td>\n",
       "    </tr>\n",
       "    <tr>\n",
       "      <th>40_0.0_20_0.1_1_0_0.8</th>\n",
       "      <td>16</td>\n",
       "      <td>295</td>\n",
       "      <td>0.000480</td>\n",
       "      <td>0.007679</td>\n",
       "    </tr>\n",
       "    <tr>\n",
       "      <th>40_0.0_20_0.1_-4_0_0.8</th>\n",
       "      <td>16</td>\n",
       "      <td>295</td>\n",
       "      <td>0.000480</td>\n",
       "      <td>0.007679</td>\n",
       "    </tr>\n",
       "    <tr>\n",
       "      <th>40_0.2_20_0.3_-4_0_0.8</th>\n",
       "      <td>17</td>\n",
       "      <td>294</td>\n",
       "      <td>0.000475</td>\n",
       "      <td>0.008077</td>\n",
       "    </tr>\n",
       "    <tr>\n",
       "      <th>40_0.2_20_0.3_-4_0_0.8</th>\n",
       "      <td>17</td>\n",
       "      <td>294</td>\n",
       "      <td>0.000475</td>\n",
       "      <td>0.008077</td>\n",
       "    </tr>\n",
       "    <tr>\n",
       "      <th>40_0.2_20_0.3_1_0_0.8</th>\n",
       "      <td>17</td>\n",
       "      <td>294</td>\n",
       "      <td>0.000475</td>\n",
       "      <td>0.008077</td>\n",
       "    </tr>\n",
       "    <tr>\n",
       "      <th>40_0.2_20_0.3_1_0_0.8</th>\n",
       "      <td>17</td>\n",
       "      <td>294</td>\n",
       "      <td>0.000475</td>\n",
       "      <td>0.008077</td>\n",
       "    </tr>\n",
       "    <tr>\n",
       "      <th>40_0.2_10_0.1_1_5_0.8</th>\n",
       "      <td>17</td>\n",
       "      <td>356</td>\n",
       "      <td>0.000479</td>\n",
       "      <td>0.008138</td>\n",
       "    </tr>\n",
       "    <tr>\n",
       "      <th>40_0.2_10_0.1_-4_5_0.8</th>\n",
       "      <td>17</td>\n",
       "      <td>356</td>\n",
       "      <td>0.000479</td>\n",
       "      <td>0.008138</td>\n",
       "    </tr>\n",
       "  </tbody>\n",
       "</table>\n",
       "</div>"
      ],
      "text/plain": [
       "                        n_unclustered  n_cluster  mean_cluster_mean  \\\n",
       "0                                                                     \n",
       "40_0.0_20_0.1_-4_0_0.8             16        295           0.000480   \n",
       "40_0.0_20_0.1_1_0_0.8              16        295           0.000480   \n",
       "40_0.0_20_0.1_1_0_0.8              16        295           0.000480   \n",
       "40_0.0_20_0.1_-4_0_0.8             16        295           0.000480   \n",
       "40_0.2_20_0.3_-4_0_0.8             17        294           0.000475   \n",
       "40_0.2_20_0.3_-4_0_0.8             17        294           0.000475   \n",
       "40_0.2_20_0.3_1_0_0.8              17        294           0.000475   \n",
       "40_0.2_20_0.3_1_0_0.8              17        294           0.000475   \n",
       "40_0.2_10_0.1_1_5_0.8              17        356           0.000479   \n",
       "40_0.2_10_0.1_-4_5_0.8             17        356           0.000479   \n",
       "\n",
       "                        rating_unclust  \n",
       "0                                       \n",
       "40_0.0_20_0.1_-4_0_0.8        0.007679  \n",
       "40_0.0_20_0.1_1_0_0.8         0.007679  \n",
       "40_0.0_20_0.1_1_0_0.8         0.007679  \n",
       "40_0.0_20_0.1_-4_0_0.8        0.007679  \n",
       "40_0.2_20_0.3_-4_0_0.8        0.008077  \n",
       "40_0.2_20_0.3_-4_0_0.8        0.008077  \n",
       "40_0.2_20_0.3_1_0_0.8         0.008077  \n",
       "40_0.2_20_0.3_1_0_0.8         0.008077  \n",
       "40_0.2_10_0.1_1_5_0.8         0.008138  \n",
       "40_0.2_10_0.1_-4_5_0.8        0.008138  "
      ]
     },
     "execution_count": 48,
     "metadata": {},
     "output_type": "execute_result"
    }
   ],
   "source": [
    "\n",
    "treshhold = data[data.n_cluster < 500]\n",
    "best = treshhold.sort_values(by=['rating_unclust']).head(10)\n",
    "#best = res.sort_values(by=['rating_unclust']).head(1)\n",
    "best"
   ]
  },
  {
   "cell_type": "code",
   "execution_count": 46,
   "metadata": {
    "ExecutionTime": {
     "end_time": "2021-01-19T16:26:13.489252Z",
     "start_time": "2021-01-19T16:26:13.484825Z"
    },
    "provenance": [
     {
      "end_time": "2021-01-19T16:26:13.489Z",
      "execution_time": "5ms",
      "outputs": [
       {
        "data": {
         "text/plain": "['40', '0.0', '20', '0.1', '-4', '0', '0.8']"
        },
        "execution_count": 46,
        "metadata": {},
        "output_type": "execute_result"
       }
      ],
      "source": "para",
      "start_time": "2021-01-19T16:26:13.484Z"
     }
    ]
   },
   "outputs": [
    {
     "data": {
      "text/plain": [
       "['40', '0.0', '20', '0.1', '-4', '0', '0.8']"
      ]
     },
     "execution_count": 46,
     "metadata": {},
     "output_type": "execute_result"
    }
   ],
   "source": [
    "para"
   ]
  },
  {
   "cell_type": "code",
   "execution_count": 71,
   "metadata": {
    "ExecutionTime": {
     "end_time": "2021-01-19T17:01:37.357358Z",
     "start_time": "2021-01-19T17:01:37.347580Z"
    },
    "provenance": [
     {
      "end_time": "2021-01-19T16:37:03.507Z",
      "execution_time": "9ms",
      "outputs": [
       {
        "ename": "NameError",
        "evalue": "name 'setfile' is not defined",
        "output_type": "error",
        "traceback": [
         "\u001b[0;31m---------------------------------------------------------------------------\u001b[0m",
         "\u001b[0;31mNameError\u001b[0m                                 Traceback (most recent call last)",
         "\u001b[0;32m<ipython-input-49-63942a46fe1e>\u001b[0m in \u001b[0;36m<module>\u001b[0;34m()\u001b[0m\n\u001b[0;32m----> 1\u001b[0;31m \u001b[0msettings\u001b[0m \u001b[0;34m=\u001b[0m \u001b[0mpd\u001b[0m\u001b[0;34m.\u001b[0m\u001b[0mread_csv\u001b[0m\u001b[0;34m(\u001b[0m\u001b[0msetfile\u001b[0m\u001b[0;34m,\u001b[0m \u001b[0msep\u001b[0m \u001b[0;34m=\u001b[0m \u001b[0;34m','\u001b[0m\u001b[0;34m,\u001b[0m \u001b[0mna_filter\u001b[0m \u001b[0;34m=\u001b[0m \u001b[0;32mFalse\u001b[0m\u001b[0;34m,\u001b[0m \u001b[0mindex_col\u001b[0m \u001b[0;34m=\u001b[0m \u001b[0;36m0\u001b[0m\u001b[0;34m)\u001b[0m\u001b[0;34m\u001b[0m\u001b[0;34m\u001b[0m\u001b[0m\n\u001b[0m\u001b[1;32m      2\u001b[0m \u001b[0msegments\u001b[0m \u001b[0;34m=\u001b[0m \u001b[0msettings\u001b[0m\u001b[0;34m.\u001b[0m\u001b[0mindex\u001b[0m\u001b[0;34m.\u001b[0m\u001b[0mvalues\u001b[0m\u001b[0;34m.\u001b[0m\u001b[0mtolist\u001b[0m\u001b[0;34m(\u001b[0m\u001b[0;34m)\u001b[0m\u001b[0;34m\u001b[0m\u001b[0;34m\u001b[0m\u001b[0m\n\u001b[1;32m      3\u001b[0m \u001b[0mparameter\u001b[0m \u001b[0;34m=\u001b[0m \u001b[0msettings\u001b[0m\u001b[0;34m.\u001b[0m\u001b[0mloc\u001b[0m\u001b[0;34m[\u001b[0m\u001b[0msegment\u001b[0m\u001b[0;34m]\u001b[0m\u001b[0;34m.\u001b[0m\u001b[0mto_list\u001b[0m\u001b[0;34m(\u001b[0m\u001b[0;34m)\u001b[0m\u001b[0;34m\u001b[0m\u001b[0;34m\u001b[0m\u001b[0m\n",
         "\u001b[0;31mNameError\u001b[0m: name 'setfile' is not defined"
        ]
       }
      ],
      "source": "settings = pd.read_csv(setfile, sep = ',', na_filter = False, index_col = 0)\nsegments = settings.index.values.tolist()\nparameter = settings.loc[segment].to_list()",
      "start_time": "2021-01-19T16:37:03.498Z"
     },
     {
      "end_time": "2021-01-19T16:37:16.103Z",
      "execution_time": "14ms",
      "outputs": [
       {
        "ename": "NameError",
        "evalue": "name 'segment' is not defined",
        "output_type": "error",
        "traceback": [
         "\u001b[0;31m---------------------------------------------------------------------------\u001b[0m",
         "\u001b[0;31mNameError\u001b[0m                                 Traceback (most recent call last)",
         "\u001b[0;32m<ipython-input-50-7ebfb24c036a>\u001b[0m in \u001b[0;36m<module>\u001b[0;34m()\u001b[0m\n\u001b[1;32m      1\u001b[0m \u001b[0msettings\u001b[0m \u001b[0;34m=\u001b[0m \u001b[0mpd\u001b[0m\u001b[0;34m.\u001b[0m\u001b[0mread_csv\u001b[0m\u001b[0;34m(\u001b[0m\u001b[0;34m'Input/settings.csv'\u001b[0m\u001b[0;34m,\u001b[0m \u001b[0msep\u001b[0m \u001b[0;34m=\u001b[0m \u001b[0;34m','\u001b[0m\u001b[0;34m,\u001b[0m \u001b[0mna_filter\u001b[0m \u001b[0;34m=\u001b[0m \u001b[0;32mFalse\u001b[0m\u001b[0;34m,\u001b[0m \u001b[0mindex_col\u001b[0m \u001b[0;34m=\u001b[0m \u001b[0;36m0\u001b[0m\u001b[0;34m)\u001b[0m\u001b[0;34m\u001b[0m\u001b[0;34m\u001b[0m\u001b[0m\n\u001b[1;32m      2\u001b[0m \u001b[0msegments\u001b[0m \u001b[0;34m=\u001b[0m \u001b[0msettings\u001b[0m\u001b[0;34m.\u001b[0m\u001b[0mindex\u001b[0m\u001b[0;34m.\u001b[0m\u001b[0mvalues\u001b[0m\u001b[0;34m.\u001b[0m\u001b[0mtolist\u001b[0m\u001b[0;34m(\u001b[0m\u001b[0;34m)\u001b[0m\u001b[0;34m\u001b[0m\u001b[0;34m\u001b[0m\u001b[0m\n\u001b[0;32m----> 3\u001b[0;31m \u001b[0mparameter\u001b[0m \u001b[0;34m=\u001b[0m \u001b[0msettings\u001b[0m\u001b[0;34m.\u001b[0m\u001b[0mloc\u001b[0m\u001b[0;34m[\u001b[0m\u001b[0msegment\u001b[0m\u001b[0;34m]\u001b[0m\u001b[0;34m.\u001b[0m\u001b[0mto_list\u001b[0m\u001b[0;34m(\u001b[0m\u001b[0;34m)\u001b[0m\u001b[0;34m\u001b[0m\u001b[0;34m\u001b[0m\u001b[0m\n\u001b[0m",
         "\u001b[0;31mNameError\u001b[0m: name 'segment' is not defined"
        ]
       }
      ],
      "source": "settings = pd.read_csv('Input/settings.csv', sep = ',', na_filter = False, index_col = 0)\nsegments = settings.index.values.tolist()\nparameter = settings.loc[segment].to_list()",
      "start_time": "2021-01-19T16:37:16.089Z"
     },
     {
      "end_time": "2021-01-19T16:37:35.229Z",
      "execution_time": "10ms",
      "outputs": [],
      "source": "settings = pd.read_csv('Input/settings.csv', sep = ',', na_filter = False, index_col = 0)\nparameter = settings.loc[4].to_list()",
      "start_time": "2021-01-19T16:37:35.219Z"
     },
     {
      "end_time": "2021-01-19T16:39:05.603Z",
      "execution_time": "11ms",
      "outputs": [
       {
        "data": {
         "text/plain": "[7,\n 40,\n 0.0,\n 20,\n 42,\n 'cosine',\n 5,\n 20,\n 0.1,\n 20,\n 42,\n 'cosine',\n 1,\n 0,\n 0.75,\n 1.0,\n 'cosine']"
        },
        "execution_count": 58,
        "metadata": {},
        "output_type": "execute_result"
       }
      ],
      "source": "settings = pd.read_csv('Input/settings.csv', sep = ',', na_filter = False, index_col = 0)\nparameter = settings.loc[4].to_list()\nparameter",
      "start_time": "2021-01-19T16:39:05.592Z"
     },
     {
      "end_time": "2021-01-19T16:41:13.839Z",
      "execution_time": "14ms",
      "outputs": [
       {
        "ename": "AttributeError",
        "evalue": "'list' object has no attribute 'items'",
        "output_type": "error",
        "traceback": [
         "\u001b[0;31m---------------------------------------------------------------------------\u001b[0m",
         "\u001b[0;31mAttributeError\u001b[0m                            Traceback (most recent call last)",
         "\u001b[0;32m<ipython-input-63-cf071bf3554e>\u001b[0m in \u001b[0;36m<module>\u001b[0;34m()\u001b[0m\n\u001b[1;32m      1\u001b[0m \u001b[0msettings\u001b[0m \u001b[0;34m=\u001b[0m \u001b[0mpd\u001b[0m\u001b[0;34m.\u001b[0m\u001b[0mread_csv\u001b[0m\u001b[0;34m(\u001b[0m\u001b[0;34m'Input/settings.csv'\u001b[0m\u001b[0;34m,\u001b[0m \u001b[0msep\u001b[0m \u001b[0;34m=\u001b[0m \u001b[0;34m','\u001b[0m\u001b[0;34m,\u001b[0m \u001b[0mna_filter\u001b[0m \u001b[0;34m=\u001b[0m \u001b[0;32mFalse\u001b[0m\u001b[0;34m,\u001b[0m \u001b[0mindex_col\u001b[0m \u001b[0;34m=\u001b[0m \u001b[0;36m0\u001b[0m\u001b[0;34m)\u001b[0m\u001b[0;34m\u001b[0m\u001b[0;34m\u001b[0m\u001b[0m\n\u001b[1;32m      2\u001b[0m \u001b[0mparameter\u001b[0m \u001b[0;34m=\u001b[0m \u001b[0msettings\u001b[0m\u001b[0;34m.\u001b[0m\u001b[0mloc\u001b[0m\u001b[0;34m[\u001b[0m\u001b[0;36m4\u001b[0m\u001b[0;34m]\u001b[0m\u001b[0;34m.\u001b[0m\u001b[0mto_list\u001b[0m\u001b[0;34m(\u001b[0m\u001b[0;34m)\u001b[0m\u001b[0;34m\u001b[0m\u001b[0;34m\u001b[0m\u001b[0m\n\u001b[0;32m----> 3\u001b[0;31m \u001b[0;34m[\u001b[0m\u001b[0mprint\u001b[0m\u001b[0;34m(\u001b[0m\u001b[0mk\u001b[0m\u001b[0;34m)\u001b[0m \u001b[0;32mfor\u001b[0m \u001b[0mk\u001b[0m \u001b[0;32min\u001b[0m \u001b[0mparameter\u001b[0m\u001b[0;34m.\u001b[0m\u001b[0mitems\u001b[0m\u001b[0;34m(\u001b[0m\u001b[0;34m)\u001b[0m\u001b[0;34m]\u001b[0m\u001b[0;34m\u001b[0m\u001b[0;34m\u001b[0m\u001b[0m\n\u001b[0m",
         "\u001b[0;31mAttributeError\u001b[0m: 'list' object has no attribute 'items'"
        ]
       }
      ],
      "source": "settings = pd.read_csv('Input/settings.csv', sep = ',', na_filter = False, index_col = 0)\nparameter = settings.loc[4].to_list()\n[print(k) for k in parameter.items()]",
      "start_time": "2021-01-19T16:41:13.825Z"
     },
     {
      "end_time": "2021-01-19T17:01:37.357Z",
      "execution_time": "10ms",
      "outputs": [],
      "source": "settings = pd.read_csv('Input/settings.csv', sep = ',', na_filter = False, index_col = 0)\nparameter = settings.loc[4].to_list()\n",
      "start_time": "2021-01-19T17:01:37.347Z"
     }
    ]
   },
   "outputs": [],
   "source": [
    "settings = pd.read_csv('Input/settings.csv', sep = ',', na_filter = False, index_col = 0)\n",
    "parameter = settings.loc[4].to_list()\n"
   ]
  },
  {
   "cell_type": "code",
   "execution_count": 73,
   "metadata": {
    "ExecutionTime": {
     "end_time": "2021-01-19T17:03:31.648139Z",
     "start_time": "2021-01-19T17:03:31.645129Z"
    },
    "provenance": [
     {
      "end_time": "2021-01-19T16:37:39.825Z",
      "execution_time": "5ms",
      "outputs": [
       {
        "data": {
         "text/plain": "[7,\n 40,\n 0.0,\n 20,\n 42,\n 'cosine',\n 5,\n 20,\n 0.1,\n 20,\n 42,\n 'cosine',\n 1,\n 0,\n 0.75,\n 1.0,\n 'cosine']"
        },
        "execution_count": 52,
        "metadata": {},
        "output_type": "execute_result"
       }
      ],
      "source": "parameter",
      "start_time": "2021-01-19T16:37:39.820Z"
     },
     {
      "end_time": "2021-01-19T16:37:59.871Z",
      "execution_time": "7ms",
      "outputs": [
       {
        "ename": "AttributeError",
        "evalue": "'list' object has no attribute 'input'",
        "output_type": "error",
        "traceback": [
         "\u001b[0;31m---------------------------------------------------------------------------\u001b[0m",
         "\u001b[0;31mAttributeError\u001b[0m                            Traceback (most recent call last)",
         "\u001b[0;32m<ipython-input-53-498be4baffb4>\u001b[0m in \u001b[0;36m<module>\u001b[0;34m()\u001b[0m\n\u001b[0;32m----> 1\u001b[0;31m \u001b[0mparameter\u001b[0m\u001b[0;34m.\u001b[0m\u001b[0minput\u001b[0m\u001b[0;34m(\u001b[0m\u001b[0;34m)\u001b[0m\u001b[0;34m\u001b[0m\u001b[0;34m\u001b[0m\u001b[0m\n\u001b[0m",
         "\u001b[0;31mAttributeError\u001b[0m: 'list' object has no attribute 'input'"
        ]
       }
      ],
      "source": "parameter.input()",
      "start_time": "2021-01-19T16:37:59.864Z"
     },
     {
      "end_time": "2021-01-19T16:38:15.319Z",
      "execution_time": "4ms",
      "outputs": [
       {
        "data": {
         "text/plain": "[7,\n 40,\n 0.0,\n 20,\n 42,\n 'cosine',\n 5,\n 20,\n 0.1,\n 20,\n 42,\n 'cosine',\n 1,\n 0,\n 0.75,\n 1.0,\n 'cosine']"
        },
        "execution_count": 54,
        "metadata": {},
        "output_type": "execute_result"
       }
      ],
      "source": "parameter",
      "start_time": "2021-01-19T16:38:15.315Z"
     },
     {
      "end_time": "2021-01-19T16:38:37.037Z",
      "execution_time": "8ms",
      "outputs": [
       {
        "ename": "ValueError",
        "evalue": "too many values to unpack (expected 11)",
        "output_type": "error",
        "traceback": [
         "\u001b[0;31m---------------------------------------------------------------------------\u001b[0m",
         "\u001b[0;31mValueError\u001b[0m                                Traceback (most recent call last)",
         "\u001b[0;32m<ipython-input-55-abb9c92dc54c>\u001b[0m in \u001b[0;36m<module>\u001b[0;34m()\u001b[0m\n\u001b[0;32m----> 1\u001b[0;31m \u001b[0ma\u001b[0m\u001b[0;34m,\u001b[0m \u001b[0mb\u001b[0m\u001b[0;34m,\u001b[0m \u001b[0mc\u001b[0m\u001b[0;34m,\u001b[0m \u001b[0md\u001b[0m\u001b[0;34m,\u001b[0m \u001b[0me\u001b[0m\u001b[0;34m,\u001b[0m \u001b[0mf\u001b[0m\u001b[0;34m,\u001b[0m \u001b[0mg\u001b[0m\u001b[0;34m,\u001b[0m \u001b[0mh\u001b[0m\u001b[0;34m,\u001b[0m \u001b[0mi\u001b[0m\u001b[0;34m,\u001b[0m \u001b[0mj\u001b[0m\u001b[0;34m,\u001b[0m \u001b[0mk\u001b[0m \u001b[0;34m=\u001b[0m \u001b[0mparameter\u001b[0m\u001b[0;34m\u001b[0m\u001b[0;34m\u001b[0m\u001b[0m\n\u001b[0m",
         "\u001b[0;31mValueError\u001b[0m: too many values to unpack (expected 11)"
        ]
       }
      ],
      "source": "a, b, c, d, e, f, g, h, i, j, k = parameter",
      "start_time": "2021-01-19T16:38:37.029Z"
     },
     {
      "end_time": "2021-01-19T16:38:49.999Z",
      "execution_time": "8ms",
      "outputs": [
       {
        "ename": "ValueError",
        "evalue": "too many values to unpack (expected 13)",
        "output_type": "error",
        "traceback": [
         "\u001b[0;31m---------------------------------------------------------------------------\u001b[0m",
         "\u001b[0;31mValueError\u001b[0m                                Traceback (most recent call last)",
         "\u001b[0;32m<ipython-input-56-8136c9c90403>\u001b[0m in \u001b[0;36m<module>\u001b[0;34m()\u001b[0m\n\u001b[0;32m----> 1\u001b[0;31m \u001b[0ma\u001b[0m\u001b[0;34m,\u001b[0m \u001b[0mb\u001b[0m\u001b[0;34m,\u001b[0m \u001b[0mc\u001b[0m\u001b[0;34m,\u001b[0m \u001b[0md\u001b[0m\u001b[0;34m,\u001b[0m \u001b[0me\u001b[0m\u001b[0;34m,\u001b[0m \u001b[0mf\u001b[0m\u001b[0;34m,\u001b[0m \u001b[0mg\u001b[0m\u001b[0;34m,\u001b[0m \u001b[0mh\u001b[0m\u001b[0;34m,\u001b[0m \u001b[0mi\u001b[0m\u001b[0;34m,\u001b[0m \u001b[0mj\u001b[0m\u001b[0;34m,\u001b[0m \u001b[0mk\u001b[0m\u001b[0;34m,\u001b[0m \u001b[0ml\u001b[0m\u001b[0;34m,\u001b[0m \u001b[0mm\u001b[0m \u001b[0;34m=\u001b[0m \u001b[0mparameter\u001b[0m\u001b[0;34m\u001b[0m\u001b[0;34m\u001b[0m\u001b[0m\n\u001b[0m",
         "\u001b[0;31mValueError\u001b[0m: too many values to unpack (expected 13)"
        ]
       }
      ],
      "source": "a, b, c, d, e, f, g, h, i, j, k, l, m = parameter",
      "start_time": "2021-01-19T16:38:49.991Z"
     },
     {
      "end_time": "2021-01-19T16:38:55.663Z",
      "execution_time": "8ms",
      "outputs": [
       {
        "ename": "ValueError",
        "evalue": "too many values to unpack (expected 15)",
        "output_type": "error",
        "traceback": [
         "\u001b[0;31m---------------------------------------------------------------------------\u001b[0m",
         "\u001b[0;31mValueError\u001b[0m                                Traceback (most recent call last)",
         "\u001b[0;32m<ipython-input-57-0189abdc1e6e>\u001b[0m in \u001b[0;36m<module>\u001b[0;34m()\u001b[0m\n\u001b[0;32m----> 1\u001b[0;31m \u001b[0ma\u001b[0m\u001b[0;34m,\u001b[0m \u001b[0mb\u001b[0m\u001b[0;34m,\u001b[0m \u001b[0mc\u001b[0m\u001b[0;34m,\u001b[0m \u001b[0md\u001b[0m\u001b[0;34m,\u001b[0m \u001b[0me\u001b[0m\u001b[0;34m,\u001b[0m \u001b[0mf\u001b[0m\u001b[0;34m,\u001b[0m \u001b[0mg\u001b[0m\u001b[0;34m,\u001b[0m \u001b[0mh\u001b[0m\u001b[0;34m,\u001b[0m \u001b[0mi\u001b[0m\u001b[0;34m,\u001b[0m \u001b[0mj\u001b[0m\u001b[0;34m,\u001b[0m \u001b[0mk\u001b[0m\u001b[0;34m,\u001b[0m \u001b[0ml\u001b[0m\u001b[0;34m,\u001b[0m \u001b[0mm\u001b[0m\u001b[0;34m,\u001b[0m \u001b[0mn\u001b[0m\u001b[0;34m,\u001b[0m \u001b[0mo\u001b[0m \u001b[0;34m=\u001b[0m \u001b[0mparameter\u001b[0m\u001b[0;34m\u001b[0m\u001b[0;34m\u001b[0m\u001b[0m\n\u001b[0m",
         "\u001b[0;31mValueError\u001b[0m: too many values to unpack (expected 15)"
        ]
       }
      ],
      "source": "a, b, c, d, e, f, g, h, i, j, k, l, m, n, o = parameter",
      "start_time": "2021-01-19T16:38:55.655Z"
     },
     {
      "end_time": "2021-01-19T16:39:16.821Z",
      "execution_time": "3ms",
      "outputs": [],
      "source": "a, b, c, d, e, f, g, h, i, j, k, l, m, n, o, p, q = parameter",
      "start_time": "2021-01-19T16:39:16.818Z"
     },
     {
      "end_time": "2021-01-19T17:01:52.353Z",
      "execution_time": "4ms",
      "outputs": [
       {
        "data": {
         "text/plain": "[7,\n 40,\n 0.0,\n 20,\n 42,\n 'cosine',\n 5,\n 20,\n 0.1,\n 20,\n 42,\n 'cosine',\n 1,\n 2,\n 0.8,\n 1.0,\n 'cosine']"
        },
        "execution_count": 72,
        "metadata": {},
        "output_type": "execute_result"
       }
      ],
      "source": "parameter",
      "start_time": "2021-01-19T17:01:52.349Z"
     },
     {
      "end_time": "2021-01-19T17:03:31.648Z",
      "execution_time": "3ms",
      "outputs": [],
      "source": "paras = [s if type(s) == str else s.item() for s in parameter]",
      "start_time": "2021-01-19T17:03:31.645Z"
     }
    ]
   },
   "outputs": [],
   "source": [
    "parameter = [para if type(para) == str else para.item() for s in parameter]"
   ]
  },
  {
   "cell_type": "code",
   "execution_count": 75,
   "metadata": {
    "ExecutionTime": {
     "end_time": "2021-01-19T17:03:46.140685Z",
     "start_time": "2021-01-19T17:03:46.136659Z"
    },
    "provenance": [
     {
      "end_time": "2021-01-19T17:03:38.568Z",
      "execution_time": "4ms",
      "outputs": [
       {
        "data": {
         "text/plain": "[7,\n 40,\n 0.0,\n 20,\n 42,\n 'cosine',\n 5,\n 20,\n 0.1,\n 20,\n 42,\n 'cosine',\n 1,\n 2,\n 0.8,\n 1.0,\n 'cosine']"
        },
        "execution_count": 74,
        "metadata": {},
        "output_type": "execute_result"
       }
      ],
      "source": "paras",
      "start_time": "2021-01-19T17:03:38.564Z"
     },
     {
      "end_time": "2021-01-19T17:03:46.140Z",
      "execution_time": "4ms",
      "outputs": [
       {
        "data": {
         "text/plain": "42"
        },
        "execution_count": 75,
        "metadata": {},
        "output_type": "execute_result"
       }
      ],
      "source": "paras[4]",
      "start_time": "2021-01-19T17:03:46.136Z"
     }
    ]
   },
   "outputs": [
    {
     "data": {
      "text/plain": [
       "42"
      ]
     },
     "execution_count": 75,
     "metadata": {},
     "output_type": "execute_result"
    }
   ],
   "source": [
    "paras[4]"
   ]
  },
  {
   "cell_type": "code",
   "execution_count": 78,
   "metadata": {
    "ExecutionTime": {
     "end_time": "2021-01-19T17:04:05.854924Z",
     "start_time": "2021-01-19T17:04:05.850556Z"
    },
    "provenance": [
     {
      "end_time": "2021-01-19T16:39:19.781Z",
      "execution_time": "4ms",
      "outputs": [
       {
        "data": {
         "text/plain": "7"
        },
        "execution_count": 60,
        "metadata": {},
        "output_type": "execute_result"
       }
      ],
      "source": "a",
      "start_time": "2021-01-19T16:39:19.777Z"
     },
     {
      "end_time": "2021-01-19T16:39:25.511Z",
      "execution_time": "4ms",
      "outputs": [
       {
        "data": {
         "text/plain": "numpy.int64"
        },
        "execution_count": 61,
        "metadata": {},
        "output_type": "execute_result"
       }
      ],
      "source": "type(a)",
      "start_time": "2021-01-19T16:39:25.507Z"
     },
     {
      "end_time": "2021-01-19T16:39:32.064Z",
      "execution_time": "3ms",
      "outputs": [
       {
        "data": {
         "text/plain": "int"
        },
        "execution_count": 62,
        "metadata": {},
        "output_type": "execute_result"
       }
      ],
      "source": "type(a.item())",
      "start_time": "2021-01-19T16:39:32.061Z"
     },
     {
      "end_time": "2021-01-19T17:03:56.165Z",
      "execution_time": "4ms",
      "outputs": [
       {
        "ename": "SyntaxError",
        "evalue": "invalid syntax (<ipython-input-76-d214aa33e25b>, line 1)",
        "output_type": "error",
        "traceback": [
         "\u001b[0;36m  File \u001b[0;32m\"<ipython-input-76-d214aa33e25b>\"\u001b[0;36m, line \u001b[0;32m1\u001b[0m\n\u001b[0;31m    type(paras{4]})\u001b[0m\n\u001b[0m              ^\u001b[0m\n\u001b[0;31mSyntaxError\u001b[0m\u001b[0;31m:\u001b[0m invalid syntax\n"
        ]
       }
      ],
      "source": "type(paras{4]})",
      "start_time": "2021-01-19T17:03:56.161Z"
     },
     {
      "end_time": "2021-01-19T17:04:01.085Z",
      "execution_time": "4ms",
      "outputs": [
       {
        "data": {
         "text/plain": "int"
        },
        "execution_count": 77,
        "metadata": {},
        "output_type": "execute_result"
       }
      ],
      "source": "type(paras[4])",
      "start_time": "2021-01-19T17:04:01.081Z"
     },
     {
      "end_time": "2021-01-19T17:04:05.854Z",
      "execution_time": "4ms",
      "outputs": [
       {
        "data": {
         "text/plain": "str"
        },
        "execution_count": 78,
        "metadata": {},
        "output_type": "execute_result"
       }
      ],
      "source": "type(paras[5])",
      "start_time": "2021-01-19T17:04:05.850Z"
     }
    ]
   },
   "outputs": [
    {
     "data": {
      "text/plain": [
       "str"
      ]
     },
     "execution_count": 78,
     "metadata": {},
     "output_type": "execute_result"
    }
   ],
   "source": [
    "type(paras[5])"
   ]
  },
  {
   "cell_type": "code",
   "execution_count": 70,
   "metadata": {
    "ExecutionTime": {
     "end_time": "2021-01-19T16:42:50.531445Z",
     "start_time": "2021-01-19T16:42:50.527348Z"
    },
    "provenance": [
     {
      "end_time": "2021-01-19T16:41:55.502Z",
      "execution_time": "8ms",
      "outputs": [
       {
        "ename": "TypeError",
        "evalue": "'numpy.ndarray' object is not callable",
        "output_type": "error",
        "traceback": [
         "\u001b[0;31m---------------------------------------------------------------------------\u001b[0m",
         "\u001b[0;31mTypeError\u001b[0m                                 Traceback (most recent call last)",
         "\u001b[0;32m<ipython-input-64-a33b947b7472>\u001b[0m in \u001b[0;36m<module>\u001b[0;34m()\u001b[0m\n\u001b[0;32m----> 1\u001b[0;31m \u001b[0msettings\u001b[0m\u001b[0;34m.\u001b[0m\u001b[0mloc\u001b[0m\u001b[0;34m[\u001b[0m\u001b[0;36m4\u001b[0m\u001b[0;34m]\u001b[0m\u001b[0;34m.\u001b[0m\u001b[0mvalues\u001b[0m\u001b[0;34m(\u001b[0m\u001b[0;34m)\u001b[0m\u001b[0;34m\u001b[0m\u001b[0;34m\u001b[0m\u001b[0m\n\u001b[0m",
         "\u001b[0;31mTypeError\u001b[0m: 'numpy.ndarray' object is not callable"
        ]
       }
      ],
      "source": "settings.loc[4].values()",
      "start_time": "2021-01-19T16:41:55.494Z"
     },
     {
      "end_time": "2021-01-19T16:42:02.624Z",
      "execution_time": "7ms",
      "outputs": [
       {
        "ename": "TypeError",
        "evalue": "'numpy.ndarray' object is not callable",
        "output_type": "error",
        "traceback": [
         "\u001b[0;31m---------------------------------------------------------------------------\u001b[0m",
         "\u001b[0;31mTypeError\u001b[0m                                 Traceback (most recent call last)",
         "\u001b[0;32m<ipython-input-65-22f5f8441345>\u001b[0m in \u001b[0;36m<module>\u001b[0;34m()\u001b[0m\n\u001b[0;32m----> 1\u001b[0;31m \u001b[0msettings\u001b[0m\u001b[0;34m.\u001b[0m\u001b[0mvalues\u001b[0m\u001b[0;34m(\u001b[0m\u001b[0;34m)\u001b[0m\u001b[0;34m\u001b[0m\u001b[0;34m\u001b[0m\u001b[0m\n\u001b[0m",
         "\u001b[0;31mTypeError\u001b[0m: 'numpy.ndarray' object is not callable"
        ]
       }
      ],
      "source": "settings.values()",
      "start_time": "2021-01-19T16:42:02.617Z"
     },
     {
      "end_time": "2021-01-19T16:42:05.044Z",
      "execution_time": "4ms",
      "outputs": [
       {
        "data": {
         "text/plain": "array([[7, 40, 0.0, 20, 42, 'cosine', 5, 20, 0.1, 20, 42, 'cosine', 1, 0,\n        0.75, 1.0, 'cosine'],\n       [7, 40, 0.0, 20, 42, 'cosine', 5, 20, 0.1, 20, 42, 'cosine', 1, 0,\n        0.75, 1.0, 'cosine'],\n       [7, 40, 0.0, 20, 42, 'cosine', 5, 20, 0.1, 20, 42, 'cosine', 1, 0,\n        0.75, 1.0, 'cosine'],\n       [7, 40, 0.0, 20, 42, 'cosine', 5, 20, 0.1, 20, 42, 'cosine', 1, 0,\n        0.75, 1.0, 'cosine'],\n       [7, 40, 0.0, 20, 42, 'cosine', 5, 20, 0.1, 20, 42, 'cosine', 1, 0,\n        0.75, 1.0, 'cosine'],\n       [7, 40, 0.0, 20, 42, 'cosine', 5, 20, 0.1, 20, 42, 'cosine', 1, 0,\n        0.75, 1.0, 'cosine'],\n       [7, 40, 0.0, 20, 42, 'cosine', 5, 20, 0.1, 20, 42, 'cosine', 1, 0,\n        0.75, 1.0, 'cosine'],\n       [7, 40, 0.0, 20, 42, 'cosine', 5, 20, 0.1, 20, 42, 'cosine', 1, 0,\n        0.75, 1.0, 'cosine']], dtype=object)"
        },
        "execution_count": 66,
        "metadata": {},
        "output_type": "execute_result"
       }
      ],
      "source": "settings.values",
      "start_time": "2021-01-19T16:42:05.040Z"
     },
     {
      "end_time": "2021-01-19T16:42:16.544Z",
      "execution_time": "5ms",
      "outputs": [
       {
        "data": {
         "text/plain": "array([7, 40, 0.0, 20, 42, 'cosine', 5, 20, 0.1, 20, 42, 'cosine', 1, 0,\n       0.75, 1.0, 'cosine'], dtype=object)"
        },
        "execution_count": 67,
        "metadata": {},
        "output_type": "execute_result"
       }
      ],
      "source": "settings.loc[4].values",
      "start_time": "2021-01-19T16:42:16.539Z"
     },
     {
      "end_time": "2021-01-19T16:42:34.354Z",
      "execution_time": "4ms",
      "outputs": [
       {
        "data": {
         "text/plain": "[7,\n 40,\n 0.0,\n 20,\n 42,\n 'cosine',\n 5,\n 20,\n 0.1,\n 20,\n 42,\n 'cosine',\n 1,\n 0,\n 0.75,\n 1.0,\n 'cosine']"
        },
        "execution_count": 68,
        "metadata": {},
        "output_type": "execute_result"
       }
      ],
      "source": "settings.loc[4].values.tolist()",
      "start_time": "2021-01-19T16:42:34.350Z"
     },
     {
      "end_time": "2021-01-19T16:42:40.105Z",
      "execution_time": "4ms",
      "outputs": [
       {
        "data": {
         "text/plain": "7"
        },
        "execution_count": 69,
        "metadata": {},
        "output_type": "execute_result"
       }
      ],
      "source": "settings.loc[4].values.tolist()[0]",
      "start_time": "2021-01-19T16:42:40.101Z"
     },
     {
      "end_time": "2021-01-19T16:42:50.531Z",
      "execution_time": "4ms",
      "outputs": [
       {
        "data": {
         "text/plain": "numpy.int64"
        },
        "execution_count": 70,
        "metadata": {},
        "output_type": "execute_result"
       }
      ],
      "source": "type(settings.loc[4].values.tolist()[0])",
      "start_time": "2021-01-19T16:42:50.527Z"
     }
    ]
   },
   "outputs": [
    {
     "data": {
      "text/plain": [
       "numpy.int64"
      ]
     },
     "execution_count": 70,
     "metadata": {},
     "output_type": "execute_result"
    }
   ],
   "source": [
    "type(settings.loc[4].values.tolist()[0])"
   ]
  },
  {
   "cell_type": "code",
   "execution_count": null,
   "metadata": {
    "provenance": [
     {
      "end_time": "Unknown",
      "execution_time": "Unknown",
      "outputs": [],
      "source": "",
      "start_time": "Unknown"
     }
    ]
   },
   "outputs": [],
   "source": []
  }
 ],
 "metadata": {
  "kernelspec": {
   "display_name": "Python 3",
   "language": "python",
   "name": "python3"
  },
  "language_info": {
   "codemirror_mode": {
    "name": "ipython",
    "version": 3
   },
   "file_extension": ".py",
   "mimetype": "text/x-python",
   "name": "python",
   "nbconvert_exporter": "python",
   "pygments_lexer": "ipython3",
   "version": "3.6.11"
  }
 },
 "nbformat": 4,
 "nbformat_minor": 4
}
