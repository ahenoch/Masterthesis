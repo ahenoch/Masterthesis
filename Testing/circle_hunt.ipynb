{
 "cells": [
  {
   "cell_type": "code",
   "execution_count": 19,
   "metadata": {
    "ExecutionTime": {
     "end_time": "2021-01-19T17:18:37.959244Z",
     "start_time": "2021-01-19T17:18:37.953090Z"
    },
    "provenance": [
     {
      "end_time": "2021-01-19T09:05:41.045Z",
      "execution_time": "12ms",
      "outputs": [],
      "source": "import numpy as np\nfrom Bio import AlignIO\nfrom Bio.Seq import Seq\nfrom Bio.SeqRecord import SeqRecord\nfrom Bio.Align import MultipleSeqAlignment",
      "start_time": "2021-01-19T09:05:41.033Z"
     },
     {
      "end_time": "2021-01-19T09:06:16.010Z",
      "execution_time": "4ms",
      "outputs": [],
      "source": "import numpy as np\nfrom Bio import AlignIO\nfrom Bio.Seq import Seq\nfrom Bio.SeqRecord import SeqRecord\nfrom Bio.Align import MultipleSeqAlignment\nfrom Bio.Align.Applications import MafftCommandline",
      "start_time": "2021-01-19T09:06:16.006Z"
     },
     {
      "end_time": "2021-01-19T09:08:15.949Z",
      "execution_time": "208ms",
      "outputs": [],
      "source": "import numpy as np\nfrom Bio import AlignIO\nfrom Bio.Seq import Seq\nfrom Bio.SeqRecord import SeqRecord\nfrom Bio.Align import MultipleSeqAlignment\nfrom Bio.Align.Applications import MafftCommandline\nimport numpy as np\nimport pandas as pd",
      "start_time": "2021-01-19T09:08:15.741Z"
     },
     {
      "end_time": "2021-01-19T09:19:09.757Z",
      "execution_time": "9ms",
      "outputs": [
       {
        "ename": "ModuleNotFoundError",
        "evalue": "No module named 'StringIO'",
        "output_type": "error",
        "traceback": [
         "\u001b[0;31m---------------------------------------------------------------------------\u001b[0m",
         "\u001b[0;31mModuleNotFoundError\u001b[0m                       Traceback (most recent call last)",
         "\u001b[0;32m<ipython-input-22-7c63628215aa>\u001b[0m in \u001b[0;36m<module>\u001b[0;34m()\u001b[0m\n\u001b[1;32m      2\u001b[0m \u001b[0;32mfrom\u001b[0m \u001b[0mBio\u001b[0m \u001b[0;32mimport\u001b[0m \u001b[0mAlignIO\u001b[0m\u001b[0;34m\u001b[0m\u001b[0;34m\u001b[0m\u001b[0m\n\u001b[1;32m      3\u001b[0m \u001b[0;32mfrom\u001b[0m \u001b[0mBio\u001b[0m\u001b[0;34m.\u001b[0m\u001b[0mSeq\u001b[0m \u001b[0;32mimport\u001b[0m \u001b[0mSeq\u001b[0m\u001b[0;34m\u001b[0m\u001b[0;34m\u001b[0m\u001b[0m\n\u001b[0;32m----> 4\u001b[0;31m \u001b[0;32mfrom\u001b[0m \u001b[0mStringIO\u001b[0m \u001b[0;32mimport\u001b[0m \u001b[0mStringIO\u001b[0m\u001b[0;34m\u001b[0m\u001b[0;34m\u001b[0m\u001b[0m\n\u001b[0m\u001b[1;32m      5\u001b[0m \u001b[0;32mfrom\u001b[0m \u001b[0mBio\u001b[0m\u001b[0;34m.\u001b[0m\u001b[0mSeqRecord\u001b[0m \u001b[0;32mimport\u001b[0m \u001b[0mSeqRecord\u001b[0m\u001b[0;34m\u001b[0m\u001b[0;34m\u001b[0m\u001b[0m\n\u001b[1;32m      6\u001b[0m \u001b[0;32mfrom\u001b[0m \u001b[0mBio\u001b[0m\u001b[0;34m.\u001b[0m\u001b[0mAlign\u001b[0m \u001b[0;32mimport\u001b[0m \u001b[0mMultipleSeqAlignment\u001b[0m\u001b[0;34m\u001b[0m\u001b[0;34m\u001b[0m\u001b[0m\n",
         "\u001b[0;31mModuleNotFoundError\u001b[0m: No module named 'StringIO'"
        ]
       }
      ],
      "source": "import numpy as np\nfrom Bio import AlignIO\nfrom Bio.Seq import Seq\nfrom StringIO import StringIO\nfrom Bio.SeqRecord import SeqRecord\nfrom Bio.Align import MultipleSeqAlignment\nfrom Bio.Align.Applications import MafftCommandline\nimport numpy as np\nimport pandas as pd",
      "start_time": "2021-01-19T09:19:09.748Z"
     },
     {
      "end_time": "2021-01-19T09:21:47.281Z",
      "execution_time": "5ms",
      "outputs": [],
      "source": "import numpy as np\nfrom Bio import AlignIO\nfrom Bio.Seq import Seq\nfrom io import StringIO\nfrom Bio.SeqRecord import SeqRecord\nfrom Bio.Align import MultipleSeqAlignment\nfrom Bio.Align.Applications import MafftCommandline\nimport numpy as np\nimport pandas as pd",
      "start_time": "2021-01-19T09:21:47.276Z"
     },
     {
      "end_time": "2021-01-19T09:23:59.600Z",
      "execution_time": "6ms",
      "outputs": [],
      "source": "import numpy as np\nfrom Bio import AlignIO\nfrom Bio.Seq import Seq\nfrom io import StringIO\nfrom Bio.SeqRecord import SeqRecord\nfrom Bio.Align import MultipleSeqAlignment\nfrom Bio.Align.Applications import MafftCommandline\nimport numpy as np\nimport pandas as pd",
      "start_time": "2021-01-19T09:23:59.594Z"
     },
     {
      "end_time": "2021-01-19T09:26:00.609Z",
      "execution_time": "5ms",
      "outputs": [],
      "source": "import numpy as np\nfrom Bio import AlignIO\nfrom Bio.Seq import Seq\nfrom io import StringIO\nfrom Bio.SeqRecord import SeqRecord\nfrom Bio.Align import MultipleSeqAlignment\nfrom Bio.Align.Applications import MafftCommandline\nimport numpy as np\nimport pandas as pd",
      "start_time": "2021-01-19T09:26:00.604Z"
     },
     {
      "end_time": "2021-01-19T09:29:11.026Z",
      "execution_time": "5ms",
      "outputs": [],
      "source": "import numpy as np\nfrom Bio import AlignIO\nfrom Bio.Seq import Seq\nfrom io import StringIO\nfrom Bio.SeqRecord import SeqRecord\nfrom Bio.Align import MultipleSeqAlignment\nfrom Bio.Align.Applications import MafftCommandline\nimport numpy as np\nimport pandas as pd",
      "start_time": "2021-01-19T09:29:11.021Z"
     },
     {
      "end_time": "2021-01-19T11:42:37.582Z",
      "execution_time": "6ms",
      "outputs": [],
      "source": "import numpy as np\nfrom Bio import AlignIO\nfrom Bio.Seq import Seq\nfrom io import StringIO\nfrom Bio.SeqRecord import SeqRecord\nfrom Bio.Align import MultipleSeqAlignment\nfrom Bio.Align.Applications import MafftCommandline\nimport numpy as np\nimport pandas as pd\nimport collections as co",
      "start_time": "2021-01-19T11:42:37.576Z"
     },
     {
      "end_time": "2021-01-19T12:59:31.693Z",
      "execution_time": "6ms",
      "outputs": [],
      "source": "import numpy as np\nfrom Bio import AlignIO\nfrom Bio.Seq import Seq\nfrom io import StringIO\nfrom Bio.SeqRecord import SeqRecord\nfrom Bio.Align import MultipleSeqAlignment\nfrom Bio.Align.Applications import MafftCommandline\nimport numpy as np\nimport pandas as pd\nimport collections as co",
      "start_time": "2021-01-19T12:59:31.687Z"
     },
     {
      "end_time": "2021-01-19T13:26:37.655Z",
      "execution_time": "572ms",
      "outputs": [],
      "source": "import numpy as np\nfrom Bio import AlignIO\nfrom Bio.Seq import Seq\nfrom io import StringIO\nfrom Bio.SeqRecord import SeqRecord\nfrom Bio.Align import MultipleSeqAlignment\nfrom Bio.Align.Applications import MafftCommandline\nimport numpy as np\nimport pandas as pd\nimport collections as co",
      "start_time": "2021-01-19T13:26:37.083Z"
     },
     {
      "end_time": "2021-01-19T16:06:16.997Z",
      "execution_time": "251ms",
      "outputs": [],
      "source": "import numpy as np\nfrom Bio import AlignIO\nfrom Bio.Seq import Seq\nfrom io import StringIO\nfrom Bio.SeqRecord import SeqRecord\nfrom Bio.Align import MultipleSeqAlignment\nfrom Bio.Align.Applications import MafftCommandline\nimport numpy as np\nimport pandas as pd\nimport collections as co",
      "start_time": "2021-01-19T16:06:16.746Z"
     },
     {
      "end_time": "2021-01-19T17:18:37.959Z",
      "execution_time": "6ms",
      "outputs": [],
      "source": "import numpy as np\nfrom Bio import AlignIO\nfrom Bio.Seq import Seq\nfrom io import StringIO\nfrom Bio.SeqRecord import SeqRecord\nfrom Bio.Align import MultipleSeqAlignment\nfrom Bio.Align.Applications import MafftCommandline\nimport numpy as np\nimport pandas as pd\nimport collections as co",
      "start_time": "2021-01-19T17:18:37.953Z"
     }
    ]
   },
   "outputs": [],
   "source": [
    "import numpy as np\n",
    "from Bio import AlignIO\n",
    "from Bio.Seq import Seq\n",
    "from io import StringIO\n",
    "from Bio.SeqRecord import SeqRecord\n",
    "from Bio.Align import MultipleSeqAlignment\n",
    "from Bio.Align.Applications import MafftCommandline\n",
    "import numpy as np\n",
    "import pandas as pd\n",
    "import collections as co"
   ]
  },
  {
   "cell_type": "code",
   "execution_count": null,
   "metadata": {},
   "outputs": [],
   "source": []
  },
  {
   "cell_type": "code",
   "execution_count": null,
   "metadata": {},
   "outputs": [],
   "source": []
  },
  {
   "cell_type": "code",
   "execution_count": null,
   "metadata": {},
   "outputs": [],
   "source": []
  },
  {
   "cell_type": "code",
   "execution_count": null,
   "metadata": {},
   "outputs": [],
   "source": []
  },
  {
   "cell_type": "code",
   "execution_count": null,
   "metadata": {
    "provenance": [
     {
      "end_time": "Unknown",
      "execution_time": "Unknown",
      "outputs": [],
      "source": "",
      "start_time": "Unknown"
     }
    ]
   },
   "outputs": [],
   "source": []
  },
  {
   "cell_type": "code",
   "execution_count": 20,
   "metadata": {
    "ExecutionTime": {
     "end_time": "2021-01-19T17:18:39.330530Z",
     "start_time": "2021-01-19T17:18:38.431379Z"
    },
    "provenance": [
     {
      "end_time": "2021-01-19T09:08:42.810Z",
      "execution_time": "57ms",
      "outputs": [
       {
        "ename": "NameError",
        "evalue": "name 'setfile' is not defined",
        "output_type": "error",
        "traceback": [
         "\u001b[0;31m---------------------------------------------------------------------------\u001b[0m",
         "\u001b[0;31mNameError\u001b[0m                                 Traceback (most recent call last)",
         "\u001b[0;32m<ipython-input-6-307e7aeb9475>\u001b[0m in \u001b[0;36m<module>\u001b[0;34m()\u001b[0m\n\u001b[1;32m      1\u001b[0m \u001b[0minfile\u001b[0m \u001b[0;34m=\u001b[0m \u001b[0;34m'../../A.csv'\u001b[0m\u001b[0;34m\u001b[0m\u001b[0;34m\u001b[0m\u001b[0m\n\u001b[1;32m      2\u001b[0m \u001b[0;34m\u001b[0m\u001b[0m\n\u001b[0;32m----> 3\u001b[0;31m \u001b[0msettings\u001b[0m \u001b[0;34m=\u001b[0m \u001b[0mpd\u001b[0m\u001b[0;34m.\u001b[0m\u001b[0mread_csv\u001b[0m\u001b[0;34m(\u001b[0m\u001b[0msetfile\u001b[0m\u001b[0;34m,\u001b[0m \u001b[0msep\u001b[0m \u001b[0;34m=\u001b[0m \u001b[0;34m','\u001b[0m\u001b[0;34m,\u001b[0m \u001b[0mna_filter\u001b[0m \u001b[0;34m=\u001b[0m \u001b[0;32mFalse\u001b[0m\u001b[0;34m,\u001b[0m \u001b[0mindex_col\u001b[0m \u001b[0;34m=\u001b[0m \u001b[0;36m0\u001b[0m\u001b[0;34m)\u001b[0m\u001b[0;34m\u001b[0m\u001b[0;34m\u001b[0m\u001b[0m\n\u001b[0m\u001b[1;32m      4\u001b[0m \u001b[0mupload\u001b[0m \u001b[0;34m=\u001b[0m \u001b[0mpd\u001b[0m\u001b[0;34m.\u001b[0m\u001b[0mread_csv\u001b[0m\u001b[0;34m(\u001b[0m\u001b[0minfile\u001b[0m\u001b[0;34m,\u001b[0m \u001b[0msep\u001b[0m \u001b[0;34m=\u001b[0m \u001b[0;34m','\u001b[0m\u001b[0;34m,\u001b[0m \u001b[0mna_filter\u001b[0m \u001b[0;34m=\u001b[0m \u001b[0;32mFalse\u001b[0m\u001b[0;34m,\u001b[0m \u001b[0mheader\u001b[0m \u001b[0;34m=\u001b[0m \u001b[0;32mNone\u001b[0m\u001b[0;34m)\u001b[0m\u001b[0;34m\u001b[0m\u001b[0;34m\u001b[0m\u001b[0m\n\u001b[1;32m      5\u001b[0m \u001b[0mupload\u001b[0m\u001b[0;34m.\u001b[0m\u001b[0mcolumns\u001b[0m \u001b[0;34m=\u001b[0m \u001b[0;34m[\u001b[0m\u001b[0;34m'accession'\u001b[0m\u001b[0;34m,\u001b[0m \u001b[0;34m'strain'\u001b[0m\u001b[0;34m,\u001b[0m \u001b[0;34m'segment'\u001b[0m\u001b[0;34m,\u001b[0m \u001b[0;34m'protein'\u001b[0m\u001b[0;34m,\u001b[0m \u001b[0;34m'genus'\u001b[0m\u001b[0;34m,\u001b[0m \u001b[0;34m'subtype'\u001b[0m\u001b[0;34m,\u001b[0m \u001b[0;34m'date'\u001b[0m\u001b[0;34m,\u001b[0m \u001b[0;34m'host'\u001b[0m\u001b[0;34m,\u001b[0m \u001b[0;34m'curation'\u001b[0m\u001b[0;34m,\u001b[0m \u001b[0;34m'genome'\u001b[0m\u001b[0;34m]\u001b[0m\u001b[0;34m\u001b[0m\u001b[0;34m\u001b[0m\u001b[0m\n",
         "\u001b[0;31mNameError\u001b[0m: name 'setfile' is not defined"
        ]
       }
      ],
      "source": "infile = '../../A.csv'   \n\nsettings = pd.read_csv(setfile, sep = ',', na_filter = False, index_col = 0)\nupload = pd.read_csv(infile, sep = ',', na_filter = False, header = None)\nupload.columns = ['accession', 'strain', 'segment', 'protein', 'genus', 'subtype', 'date', 'host', 'curation', 'genome']",
      "start_time": "2021-01-19T09:08:42.753Z"
     },
     {
      "end_time": "2021-01-19T09:08:53.535Z",
      "execution_time": "4.56s",
      "outputs": [],
      "source": "infile = '../../A.csv'   \nupload = pd.read_csv(infile, sep = ',', na_filter = False, header = None)\nupload.columns = ['accession', 'strain', 'segment', 'protein', 'genus', 'subtype', 'date', 'host', 'curation', 'genome']",
      "start_time": "2021-01-19T09:08:48.979Z"
     },
     {
      "end_time": "2021-01-19T09:24:04.906Z",
      "execution_time": "4.24s",
      "outputs": [],
      "source": "infile = '../../A.csv'   \nupload = pd.read_csv(infile, sep = ',', na_filter = False, header = None)\nupload.columns = ['accession', 'strain', 'segment', 'protein', 'genus', 'subtype', 'date', 'host', 'curation', 'genome']",
      "start_time": "2021-01-19T09:24:00.663Z"
     },
     {
      "end_time": "2021-01-19T09:26:06.054Z",
      "execution_time": "4.38s",
      "outputs": [],
      "source": "infile = '../../A.csv'   \nupload = pd.read_csv(infile, sep = ',', na_filter = False, header = None)\nupload.columns = ['accession', 'strain', 'segment', 'protein', 'genus', 'subtype', 'date', 'host', 'curation', 'genome']",
      "start_time": "2021-01-19T09:26:01.672Z"
     },
     {
      "end_time": "2021-01-19T09:29:24.531Z",
      "execution_time": "4.23s",
      "outputs": [],
      "source": "infile = '../../A.csv'   \nupload = pd.read_csv(infile, sep = ',', na_filter = False, header = None)\nupload.columns = ['accession', 'strain', 'segment', 'protein', 'genus', 'subtype', 'date', 'host', 'curation', 'genome']",
      "start_time": "2021-01-19T09:29:20.298Z"
     },
     {
      "end_time": "2021-01-19T09:56:16.447Z",
      "execution_time": "4.55s",
      "outputs": [],
      "source": "infile = '../../A.csv'   \nupload = pd.read_csv(infile, sep = ',', na_filter = False, header = None)\nupload.columns = ['accession', 'strain', 'segment', 'protein', 'genus', 'subtype', 'date', 'host', 'curation', 'genome']",
      "start_time": "2021-01-19T09:56:11.895Z"
     },
     {
      "end_time": "2021-01-19T09:57:21.125Z",
      "execution_time": "4.33s",
      "outputs": [
       {
        "data": {
         "text/html": "<div>\n<style scoped>\n    .dataframe tbody tr th:only-of-type {\n        vertical-align: middle;\n    }\n\n    .dataframe tbody tr th {\n        vertical-align: top;\n    }\n\n    .dataframe thead th {\n        text-align: right;\n    }\n</style>\n<table border=\"1\" class=\"dataframe\">\n  <thead>\n    <tr style=\"text-align: right;\">\n      <th></th>\n      <th>strain</th>\n      <th>segment</th>\n      <th>protein</th>\n      <th>genus</th>\n      <th>subtype</th>\n      <th>date</th>\n      <th>host</th>\n      <th>curation</th>\n      <th>genome</th>\n    </tr>\n    <tr>\n      <th>accession</th>\n      <th></th>\n      <th></th>\n      <th></th>\n      <th></th>\n      <th></th>\n      <th></th>\n      <th></th>\n      <th></th>\n      <th></th>\n    </tr>\n  </thead>\n  <tbody>\n    <tr>\n      <th>&gt;AJ457946</th>\n      <td>A/Johannesburg/33/1994</td>\n      <td>6</td>\n      <td>NA</td>\n      <td>A</td>\n      <td>H3N2</td>\n      <td>1994</td>\n      <td>Human</td>\n      <td>Pass</td>\n      <td>GCAAAAGCAGGAGTGAAGATGAATCCAAATCAAAAGATAATAACAA...</td>\n    </tr>\n    <tr>\n      <th>&gt;AJ457966</th>\n      <td>A/Moscow/10/1999</td>\n      <td>6</td>\n      <td>NA</td>\n      <td>A</td>\n      <td>H3N2</td>\n      <td>1999</td>\n      <td>Human</td>\n      <td>Pass</td>\n      <td>GCAAAAGCAGGAGTGAAAATGAATCCAAATCAAAAGATAATAACGA...</td>\n    </tr>\n    <tr>\n      <th>&gt;AJ457937</th>\n      <td>A/Panama/2007/1999</td>\n      <td>6</td>\n      <td>NA</td>\n      <td>A</td>\n      <td>H3N2</td>\n      <td>1999</td>\n      <td>Human</td>\n      <td>Pass</td>\n      <td>GCAAAAGCAGGAGTGAAAATGAATCCAAATCAAAAGATAATAACGA...</td>\n    </tr>\n    <tr>\n      <th>&gt;AJ457942</th>\n      <td>A/South_Africa/1147/1996</td>\n      <td>6</td>\n      <td>NA</td>\n      <td>A</td>\n      <td>H3N2</td>\n      <td>1996</td>\n      <td>Human</td>\n      <td>Pass</td>\n      <td>GCAAAAGCAGGAGTGAAGATGAATCCAAATCAAAAGATAATAACTA...</td>\n    </tr>\n    <tr>\n      <th>&gt;J02176</th>\n      <td>A/WSN/1933</td>\n      <td>4</td>\n      <td>HA</td>\n      <td>A</td>\n      <td>H1N1</td>\n      <td>1933</td>\n      <td>Human</td>\n      <td>Pass</td>\n      <td>AGCAAAAGCAGGGGAAAATAAAAACAACCAAAATGAAGGCAAAACT...</td>\n    </tr>\n    <tr>\n      <th>...</th>\n      <td>...</td>\n      <td>...</td>\n      <td>...</td>\n      <td>...</td>\n      <td>...</td>\n      <td>...</td>\n      <td>...</td>\n      <td>...</td>\n      <td>...</td>\n    </tr>\n    <tr>\n      <th>&gt;HM230706</th>\n      <td>A/Zhoushan/52/2009</td>\n      <td>3</td>\n      <td>PA</td>\n      <td>A</td>\n      <td>H1N1</td>\n      <td>12/19/2009</td>\n      <td>Human</td>\n      <td>Pass</td>\n      <td>ATGGAAGACTTTGTGCGACAATGCTTCAATCCAATGATCGTCGAGC...</td>\n    </tr>\n    <tr>\n      <th>&gt;HM230703</th>\n      <td>A/Zhoushan/52/2009</td>\n      <td>6</td>\n      <td>NA</td>\n      <td>A</td>\n      <td>H1N1</td>\n      <td>12/19/2009</td>\n      <td>Human</td>\n      <td>Pass</td>\n      <td>ATGAATCCAAACCAAAAGATAATAACCATTGGTTCGGTCTGTATGA...</td>\n    </tr>\n    <tr>\n      <th>&gt;HM230704</th>\n      <td>A/Zhoushan/52/2009</td>\n      <td>5</td>\n      <td>NP</td>\n      <td>A</td>\n      <td>H1N1</td>\n      <td>12/19/2009</td>\n      <td>Human</td>\n      <td>Flag_NCR</td>\n      <td>TCAGGGTAGATAATCACTCACTGAGTGACATCGAAGCCATGGCGTC...</td>\n    </tr>\n    <tr>\n      <th>&gt;HM230707</th>\n      <td>A/Zhoushan/52/2009</td>\n      <td>2</td>\n      <td>PB1</td>\n      <td>A</td>\n      <td>H1N1</td>\n      <td>12/19/2009</td>\n      <td>Human</td>\n      <td>Flag_NCR</td>\n      <td>TAGCAAAAGCAGGCAAACCATTTGAATGGATGTCAATCCGACTCTA...</td>\n    </tr>\n    <tr>\n      <th>&gt;KX013022</th>\n      <td>A/duck/Eastern_China/JY/2014</td>\n      <td>5</td>\n      <td>NP</td>\n      <td>A</td>\n      <td>H5N8</td>\n      <td>01/04/2014</td>\n      <td>Duck</td>\n      <td>Pass</td>\n      <td>ATGGCGTCTCAAGGCACCAAACGATCTTATGAACAGATGGAAACTG...</td>\n    </tr>\n  </tbody>\n</table>\n<p>449404 rows × 9 columns</p>\n</div>",
         "text/plain": "                                 strain  segment protein genus subtype  \\\naccession                                                                \n>AJ457946        A/Johannesburg/33/1994        6      NA     A    H3N2   \n>AJ457966              A/Moscow/10/1999        6      NA     A    H3N2   \n>AJ457937            A/Panama/2007/1999        6      NA     A    H3N2   \n>AJ457942      A/South_Africa/1147/1996        6      NA     A    H3N2   \n>J02176                      A/WSN/1933        4      HA     A    H1N1   \n...                                 ...      ...     ...   ...     ...   \n>HM230706            A/Zhoushan/52/2009        3      PA     A    H1N1   \n>HM230703            A/Zhoushan/52/2009        6      NA     A    H1N1   \n>HM230704            A/Zhoushan/52/2009        5      NP     A    H1N1   \n>HM230707            A/Zhoushan/52/2009        2     PB1     A    H1N1   \n>KX013022  A/duck/Eastern_China/JY/2014        5      NP     A    H5N8   \n\n                 date   host  curation  \\\naccession                                \n>AJ457946        1994  Human      Pass   \n>AJ457966        1999  Human      Pass   \n>AJ457937        1999  Human      Pass   \n>AJ457942        1996  Human      Pass   \n>J02176          1933  Human      Pass   \n...               ...    ...       ...   \n>HM230706  12/19/2009  Human      Pass   \n>HM230703  12/19/2009  Human      Pass   \n>HM230704  12/19/2009  Human  Flag_NCR   \n>HM230707  12/19/2009  Human  Flag_NCR   \n>KX013022  01/04/2014   Duck      Pass   \n\n                                                      genome  \naccession                                                     \n>AJ457946  GCAAAAGCAGGAGTGAAGATGAATCCAAATCAAAAGATAATAACAA...  \n>AJ457966  GCAAAAGCAGGAGTGAAAATGAATCCAAATCAAAAGATAATAACGA...  \n>AJ457937  GCAAAAGCAGGAGTGAAAATGAATCCAAATCAAAAGATAATAACGA...  \n>AJ457942  GCAAAAGCAGGAGTGAAGATGAATCCAAATCAAAAGATAATAACTA...  \n>J02176    AGCAAAAGCAGGGGAAAATAAAAACAACCAAAATGAAGGCAAAACT...  \n...                                                      ...  \n>HM230706  ATGGAAGACTTTGTGCGACAATGCTTCAATCCAATGATCGTCGAGC...  \n>HM230703  ATGAATCCAAACCAAAAGATAATAACCATTGGTTCGGTCTGTATGA...  \n>HM230704  TCAGGGTAGATAATCACTCACTGAGTGACATCGAAGCCATGGCGTC...  \n>HM230707  TAGCAAAAGCAGGCAAACCATTTGAATGGATGTCAATCCGACTCTA...  \n>KX013022  ATGGCGTCTCAAGGCACCAAACGATCTTATGAACAGATGGAAACTG...  \n\n[449404 rows x 9 columns]"
        },
        "execution_count": 72,
        "metadata": {},
        "output_type": "execute_result"
       }
      ],
      "source": "infile = '../../A.csv'   \nupload = pd.read_csv(infile, sep = ',', na_filter = False, header = None)\nupload.columns = ['accession', 'strain', 'segment', 'protein', 'genus', 'subtype', 'date', 'host', 'curation', 'genome']\nupload.set_index('accession')",
      "start_time": "2021-01-19T09:57:16.799Z"
     },
     {
      "end_time": "2021-01-19T09:57:57.226Z",
      "execution_time": "4.39s",
      "outputs": [],
      "source": "infile = '../../A.csv'   \nupload = pd.read_csv(infile, sep = ',', na_filter = False, header = None)\nupload.columns = ['accession', 'strain', 'segment', 'protein', 'genus', 'subtype', 'date', 'host', 'curation', 'genome']\nupload.set_index('accession', inplace = True)",
      "start_time": "2021-01-19T09:57:52.837Z"
     },
     {
      "end_time": "2021-01-19T12:59:36.995Z",
      "execution_time": "4.24s",
      "outputs": [
       {
        "ename": "UndefinedVariableError",
        "evalue": "name 'curation' is not defined",
        "output_type": "error",
        "traceback": [
         "\u001b[0;31m---------------------------------------------------------------------------\u001b[0m",
         "\u001b[0;31mKeyError\u001b[0m                                  Traceback (most recent call last)",
         "\u001b[0;32m/home/ahenoch/miniconda3/envs/masterthesis/lib/python3.6/site-packages/pandas/core/computation/scope.py\u001b[0m in \u001b[0;36mresolve\u001b[0;34m(self, key, is_local)\u001b[0m\n\u001b[1;32m    187\u001b[0m             \u001b[0;32mif\u001b[0m \u001b[0mself\u001b[0m\u001b[0;34m.\u001b[0m\u001b[0mhas_resolvers\u001b[0m\u001b[0;34m:\u001b[0m\u001b[0;34m\u001b[0m\u001b[0;34m\u001b[0m\u001b[0m\n\u001b[0;32m--> 188\u001b[0;31m                 \u001b[0;32mreturn\u001b[0m \u001b[0mself\u001b[0m\u001b[0;34m.\u001b[0m\u001b[0mresolvers\u001b[0m\u001b[0;34m[\u001b[0m\u001b[0mkey\u001b[0m\u001b[0;34m]\u001b[0m\u001b[0;34m\u001b[0m\u001b[0;34m\u001b[0m\u001b[0m\n\u001b[0m\u001b[1;32m    189\u001b[0m \u001b[0;34m\u001b[0m\u001b[0m\n",
         "\u001b[0;32m/home/ahenoch/miniconda3/envs/masterthesis/lib/python3.6/collections/__init__.py\u001b[0m in \u001b[0;36m__getitem__\u001b[0;34m(self, key)\u001b[0m\n\u001b[1;32m    882\u001b[0m                 \u001b[0;32mpass\u001b[0m\u001b[0;34m\u001b[0m\u001b[0;34m\u001b[0m\u001b[0m\n\u001b[0;32m--> 883\u001b[0;31m         \u001b[0;32mreturn\u001b[0m \u001b[0mself\u001b[0m\u001b[0;34m.\u001b[0m\u001b[0m__missing__\u001b[0m\u001b[0;34m(\u001b[0m\u001b[0mkey\u001b[0m\u001b[0;34m)\u001b[0m            \u001b[0;31m# support subclasses that define __missing__\u001b[0m\u001b[0;34m\u001b[0m\u001b[0;34m\u001b[0m\u001b[0m\n\u001b[0m\u001b[1;32m    884\u001b[0m \u001b[0;34m\u001b[0m\u001b[0m\n",
         "\u001b[0;32m/home/ahenoch/miniconda3/envs/masterthesis/lib/python3.6/collections/__init__.py\u001b[0m in \u001b[0;36m__missing__\u001b[0;34m(self, key)\u001b[0m\n\u001b[1;32m    874\u001b[0m     \u001b[0;32mdef\u001b[0m \u001b[0m__missing__\u001b[0m\u001b[0;34m(\u001b[0m\u001b[0mself\u001b[0m\u001b[0;34m,\u001b[0m \u001b[0mkey\u001b[0m\u001b[0;34m)\u001b[0m\u001b[0;34m:\u001b[0m\u001b[0;34m\u001b[0m\u001b[0;34m\u001b[0m\u001b[0m\n\u001b[0;32m--> 875\u001b[0;31m         \u001b[0;32mraise\u001b[0m \u001b[0mKeyError\u001b[0m\u001b[0;34m(\u001b[0m\u001b[0mkey\u001b[0m\u001b[0;34m)\u001b[0m\u001b[0;34m\u001b[0m\u001b[0;34m\u001b[0m\u001b[0m\n\u001b[0m\u001b[1;32m    876\u001b[0m \u001b[0;34m\u001b[0m\u001b[0m\n",
         "\u001b[0;31mKeyError\u001b[0m: 'curation'",
         "\nDuring handling of the above exception, another exception occurred:\n",
         "\u001b[0;31mKeyError\u001b[0m                                  Traceback (most recent call last)",
         "\u001b[0;32m/home/ahenoch/miniconda3/envs/masterthesis/lib/python3.6/site-packages/pandas/core/computation/scope.py\u001b[0m in \u001b[0;36mresolve\u001b[0;34m(self, key, is_local)\u001b[0m\n\u001b[1;32m    198\u001b[0m                 \u001b[0;31m# e.g., df[df > 0]\u001b[0m\u001b[0;34m\u001b[0m\u001b[0;34m\u001b[0m\u001b[0;34m\u001b[0m\u001b[0m\n\u001b[0;32m--> 199\u001b[0;31m                 \u001b[0;32mreturn\u001b[0m \u001b[0mself\u001b[0m\u001b[0;34m.\u001b[0m\u001b[0mtemps\u001b[0m\u001b[0;34m[\u001b[0m\u001b[0mkey\u001b[0m\u001b[0;34m]\u001b[0m\u001b[0;34m\u001b[0m\u001b[0;34m\u001b[0m\u001b[0m\n\u001b[0m\u001b[1;32m    200\u001b[0m             \u001b[0;32mexcept\u001b[0m \u001b[0mKeyError\u001b[0m \u001b[0;32mas\u001b[0m \u001b[0merr\u001b[0m\u001b[0;34m:\u001b[0m\u001b[0;34m\u001b[0m\u001b[0;34m\u001b[0m\u001b[0m\n",
         "\u001b[0;31mKeyError\u001b[0m: 'curation'",
         "\nThe above exception was the direct cause of the following exception:\n",
         "\u001b[0;31mUndefinedVariableError\u001b[0m                    Traceback (most recent call last)",
         "\u001b[0;32m<ipython-input-215-f58c4a4ba678>\u001b[0m in \u001b[0;36m<module>\u001b[0;34m()\u001b[0m\n\u001b[1;32m      1\u001b[0m \u001b[0minfile\u001b[0m \u001b[0;34m=\u001b[0m \u001b[0;34m'../../A.csv'\u001b[0m\u001b[0;34m\u001b[0m\u001b[0;34m\u001b[0m\u001b[0m\n\u001b[1;32m      2\u001b[0m \u001b[0mupload\u001b[0m \u001b[0;34m=\u001b[0m \u001b[0mpd\u001b[0m\u001b[0;34m.\u001b[0m\u001b[0mread_csv\u001b[0m\u001b[0;34m(\u001b[0m\u001b[0minfile\u001b[0m\u001b[0;34m,\u001b[0m \u001b[0msep\u001b[0m \u001b[0;34m=\u001b[0m \u001b[0;34m','\u001b[0m\u001b[0;34m,\u001b[0m \u001b[0mna_filter\u001b[0m \u001b[0;34m=\u001b[0m \u001b[0;32mFalse\u001b[0m\u001b[0;34m,\u001b[0m \u001b[0mheader\u001b[0m \u001b[0;34m=\u001b[0m \u001b[0;32mNone\u001b[0m\u001b[0;34m)\u001b[0m\u001b[0;34m\u001b[0m\u001b[0;34m\u001b[0m\u001b[0m\n\u001b[0;32m----> 3\u001b[0;31m \u001b[0mupload\u001b[0m\u001b[0;34m.\u001b[0m\u001b[0mquery\u001b[0m\u001b[0;34m(\u001b[0m\u001b[0;34m'curation == \"Pass\"'\u001b[0m\u001b[0;34m,\u001b[0m \u001b[0minplace\u001b[0m \u001b[0;34m=\u001b[0m \u001b[0;32mTrue\u001b[0m\u001b[0;34m)\u001b[0m\u001b[0;34m\u001b[0m\u001b[0;34m\u001b[0m\u001b[0m\n\u001b[0m\u001b[1;32m      4\u001b[0m \u001b[0mupload\u001b[0m\u001b[0;34m.\u001b[0m\u001b[0mcolumns\u001b[0m \u001b[0;34m=\u001b[0m \u001b[0;34m[\u001b[0m\u001b[0;34m'accession'\u001b[0m\u001b[0;34m,\u001b[0m \u001b[0;34m'strain'\u001b[0m\u001b[0;34m,\u001b[0m \u001b[0;34m'segment'\u001b[0m\u001b[0;34m,\u001b[0m \u001b[0;34m'protein'\u001b[0m\u001b[0;34m,\u001b[0m \u001b[0;34m'genus'\u001b[0m\u001b[0;34m,\u001b[0m \u001b[0;34m'subtype'\u001b[0m\u001b[0;34m,\u001b[0m \u001b[0;34m'date'\u001b[0m\u001b[0;34m,\u001b[0m \u001b[0;34m'host'\u001b[0m\u001b[0;34m,\u001b[0m \u001b[0;34m'curation'\u001b[0m\u001b[0;34m,\u001b[0m \u001b[0;34m'genome'\u001b[0m\u001b[0;34m]\u001b[0m\u001b[0;34m\u001b[0m\u001b[0;34m\u001b[0m\u001b[0m\n\u001b[1;32m      5\u001b[0m \u001b[0mupload\u001b[0m\u001b[0;34m.\u001b[0m\u001b[0mset_index\u001b[0m\u001b[0;34m(\u001b[0m\u001b[0;34m'accession'\u001b[0m\u001b[0;34m,\u001b[0m \u001b[0minplace\u001b[0m \u001b[0;34m=\u001b[0m \u001b[0;32mTrue\u001b[0m\u001b[0;34m)\u001b[0m\u001b[0;34m\u001b[0m\u001b[0;34m\u001b[0m\u001b[0m\n",
         "\u001b[0;32m/home/ahenoch/miniconda3/envs/masterthesis/lib/python3.6/site-packages/pandas/core/frame.py\u001b[0m in \u001b[0;36mquery\u001b[0;34m(self, expr, inplace, **kwargs)\u001b[0m\n\u001b[1;32m   3343\u001b[0m         \u001b[0mkwargs\u001b[0m\u001b[0;34m[\u001b[0m\u001b[0;34m\"level\"\u001b[0m\u001b[0;34m]\u001b[0m \u001b[0;34m=\u001b[0m \u001b[0mkwargs\u001b[0m\u001b[0;34m.\u001b[0m\u001b[0mpop\u001b[0m\u001b[0;34m(\u001b[0m\u001b[0;34m\"level\"\u001b[0m\u001b[0;34m,\u001b[0m \u001b[0;36m0\u001b[0m\u001b[0;34m)\u001b[0m \u001b[0;34m+\u001b[0m \u001b[0;36m1\u001b[0m\u001b[0;34m\u001b[0m\u001b[0;34m\u001b[0m\u001b[0m\n\u001b[1;32m   3344\u001b[0m         \u001b[0mkwargs\u001b[0m\u001b[0;34m[\u001b[0m\u001b[0;34m\"target\"\u001b[0m\u001b[0;34m]\u001b[0m \u001b[0;34m=\u001b[0m \u001b[0;32mNone\u001b[0m\u001b[0;34m\u001b[0m\u001b[0;34m\u001b[0m\u001b[0m\n\u001b[0;32m-> 3345\u001b[0;31m         \u001b[0mres\u001b[0m \u001b[0;34m=\u001b[0m \u001b[0mself\u001b[0m\u001b[0;34m.\u001b[0m\u001b[0meval\u001b[0m\u001b[0;34m(\u001b[0m\u001b[0mexpr\u001b[0m\u001b[0;34m,\u001b[0m \u001b[0;34m**\u001b[0m\u001b[0mkwargs\u001b[0m\u001b[0;34m)\u001b[0m\u001b[0;34m\u001b[0m\u001b[0;34m\u001b[0m\u001b[0m\n\u001b[0m\u001b[1;32m   3346\u001b[0m \u001b[0;34m\u001b[0m\u001b[0m\n\u001b[1;32m   3347\u001b[0m         \u001b[0;32mtry\u001b[0m\u001b[0;34m:\u001b[0m\u001b[0;34m\u001b[0m\u001b[0;34m\u001b[0m\u001b[0m\n",
         "\u001b[0;32m/home/ahenoch/miniconda3/envs/masterthesis/lib/python3.6/site-packages/pandas/core/frame.py\u001b[0m in \u001b[0;36meval\u001b[0;34m(self, expr, inplace, **kwargs)\u001b[0m\n\u001b[1;32m   3473\u001b[0m         \u001b[0mkwargs\u001b[0m\u001b[0;34m[\u001b[0m\u001b[0;34m\"resolvers\"\u001b[0m\u001b[0;34m]\u001b[0m \u001b[0;34m=\u001b[0m \u001b[0mkwargs\u001b[0m\u001b[0;34m.\u001b[0m\u001b[0mget\u001b[0m\u001b[0;34m(\u001b[0m\u001b[0;34m\"resolvers\"\u001b[0m\u001b[0;34m,\u001b[0m \u001b[0;34m(\u001b[0m\u001b[0;34m)\u001b[0m\u001b[0;34m)\u001b[0m \u001b[0;34m+\u001b[0m \u001b[0mtuple\u001b[0m\u001b[0;34m(\u001b[0m\u001b[0mresolvers\u001b[0m\u001b[0;34m)\u001b[0m\u001b[0;34m\u001b[0m\u001b[0;34m\u001b[0m\u001b[0m\n\u001b[1;32m   3474\u001b[0m \u001b[0;34m\u001b[0m\u001b[0m\n\u001b[0;32m-> 3475\u001b[0;31m         \u001b[0;32mreturn\u001b[0m \u001b[0m_eval\u001b[0m\u001b[0;34m(\u001b[0m\u001b[0mexpr\u001b[0m\u001b[0;34m,\u001b[0m \u001b[0minplace\u001b[0m\u001b[0;34m=\u001b[0m\u001b[0minplace\u001b[0m\u001b[0;34m,\u001b[0m \u001b[0;34m**\u001b[0m\u001b[0mkwargs\u001b[0m\u001b[0;34m)\u001b[0m\u001b[0;34m\u001b[0m\u001b[0;34m\u001b[0m\u001b[0m\n\u001b[0m\u001b[1;32m   3476\u001b[0m \u001b[0;34m\u001b[0m\u001b[0m\n\u001b[1;32m   3477\u001b[0m     \u001b[0;32mdef\u001b[0m \u001b[0mselect_dtypes\u001b[0m\u001b[0;34m(\u001b[0m\u001b[0mself\u001b[0m\u001b[0;34m,\u001b[0m \u001b[0minclude\u001b[0m\u001b[0;34m=\u001b[0m\u001b[0;32mNone\u001b[0m\u001b[0;34m,\u001b[0m \u001b[0mexclude\u001b[0m\u001b[0;34m=\u001b[0m\u001b[0;32mNone\u001b[0m\u001b[0;34m)\u001b[0m \u001b[0;34m->\u001b[0m \u001b[0;34m\"DataFrame\"\u001b[0m\u001b[0;34m:\u001b[0m\u001b[0;34m\u001b[0m\u001b[0;34m\u001b[0m\u001b[0m\n",
         "\u001b[0;32m/home/ahenoch/miniconda3/envs/masterthesis/lib/python3.6/site-packages/pandas/core/computation/eval.py\u001b[0m in \u001b[0;36meval\u001b[0;34m(expr, parser, engine, truediv, local_dict, global_dict, resolvers, level, target, inplace)\u001b[0m\n\u001b[1;32m    339\u001b[0m         )\n\u001b[1;32m    340\u001b[0m \u001b[0;34m\u001b[0m\u001b[0m\n\u001b[0;32m--> 341\u001b[0;31m         \u001b[0mparsed_expr\u001b[0m \u001b[0;34m=\u001b[0m \u001b[0mExpr\u001b[0m\u001b[0;34m(\u001b[0m\u001b[0mexpr\u001b[0m\u001b[0;34m,\u001b[0m \u001b[0mengine\u001b[0m\u001b[0;34m=\u001b[0m\u001b[0mengine\u001b[0m\u001b[0;34m,\u001b[0m \u001b[0mparser\u001b[0m\u001b[0;34m=\u001b[0m\u001b[0mparser\u001b[0m\u001b[0;34m,\u001b[0m \u001b[0menv\u001b[0m\u001b[0;34m=\u001b[0m\u001b[0menv\u001b[0m\u001b[0;34m)\u001b[0m\u001b[0;34m\u001b[0m\u001b[0;34m\u001b[0m\u001b[0m\n\u001b[0m\u001b[1;32m    342\u001b[0m \u001b[0;34m\u001b[0m\u001b[0m\n\u001b[1;32m    343\u001b[0m         \u001b[0;31m# construct the engine and evaluate the parsed expression\u001b[0m\u001b[0;34m\u001b[0m\u001b[0;34m\u001b[0m\u001b[0;34m\u001b[0m\u001b[0m\n",
         "\u001b[0;32m/home/ahenoch/miniconda3/envs/masterthesis/lib/python3.6/site-packages/pandas/core/computation/expr.py\u001b[0m in \u001b[0;36m__init__\u001b[0;34m(self, expr, engine, parser, env, level)\u001b[0m\n\u001b[1;32m    785\u001b[0m         \u001b[0mself\u001b[0m\u001b[0;34m.\u001b[0m\u001b[0mparser\u001b[0m \u001b[0;34m=\u001b[0m \u001b[0mparser\u001b[0m\u001b[0;34m\u001b[0m\u001b[0;34m\u001b[0m\u001b[0m\n\u001b[1;32m    786\u001b[0m         \u001b[0mself\u001b[0m\u001b[0;34m.\u001b[0m\u001b[0m_visitor\u001b[0m \u001b[0;34m=\u001b[0m \u001b[0m_parsers\u001b[0m\u001b[0;34m[\u001b[0m\u001b[0mparser\u001b[0m\u001b[0;34m]\u001b[0m\u001b[0;34m(\u001b[0m\u001b[0mself\u001b[0m\u001b[0;34m.\u001b[0m\u001b[0menv\u001b[0m\u001b[0;34m,\u001b[0m \u001b[0mself\u001b[0m\u001b[0;34m.\u001b[0m\u001b[0mengine\u001b[0m\u001b[0;34m,\u001b[0m \u001b[0mself\u001b[0m\u001b[0;34m.\u001b[0m\u001b[0mparser\u001b[0m\u001b[0;34m)\u001b[0m\u001b[0;34m\u001b[0m\u001b[0;34m\u001b[0m\u001b[0m\n\u001b[0;32m--> 787\u001b[0;31m         \u001b[0mself\u001b[0m\u001b[0;34m.\u001b[0m\u001b[0mterms\u001b[0m \u001b[0;34m=\u001b[0m \u001b[0mself\u001b[0m\u001b[0;34m.\u001b[0m\u001b[0mparse\u001b[0m\u001b[0;34m(\u001b[0m\u001b[0;34m)\u001b[0m\u001b[0;34m\u001b[0m\u001b[0;34m\u001b[0m\u001b[0m\n\u001b[0m\u001b[1;32m    788\u001b[0m \u001b[0;34m\u001b[0m\u001b[0m\n\u001b[1;32m    789\u001b[0m     \u001b[0;34m@\u001b[0m\u001b[0mproperty\u001b[0m\u001b[0;34m\u001b[0m\u001b[0;34m\u001b[0m\u001b[0m\n",
         "\u001b[0;32m/home/ahenoch/miniconda3/envs/masterthesis/lib/python3.6/site-packages/pandas/core/computation/expr.py\u001b[0m in \u001b[0;36mparse\u001b[0;34m(self)\u001b[0m\n\u001b[1;32m    804\u001b[0m         \u001b[0mParse\u001b[0m \u001b[0man\u001b[0m \u001b[0mexpression\u001b[0m\u001b[0;34m.\u001b[0m\u001b[0;34m\u001b[0m\u001b[0;34m\u001b[0m\u001b[0m\n\u001b[1;32m    805\u001b[0m         \"\"\"\n\u001b[0;32m--> 806\u001b[0;31m         \u001b[0;32mreturn\u001b[0m \u001b[0mself\u001b[0m\u001b[0;34m.\u001b[0m\u001b[0m_visitor\u001b[0m\u001b[0;34m.\u001b[0m\u001b[0mvisit\u001b[0m\u001b[0;34m(\u001b[0m\u001b[0mself\u001b[0m\u001b[0;34m.\u001b[0m\u001b[0mexpr\u001b[0m\u001b[0;34m)\u001b[0m\u001b[0;34m\u001b[0m\u001b[0;34m\u001b[0m\u001b[0m\n\u001b[0m\u001b[1;32m    807\u001b[0m \u001b[0;34m\u001b[0m\u001b[0m\n\u001b[1;32m    808\u001b[0m     \u001b[0;34m@\u001b[0m\u001b[0mproperty\u001b[0m\u001b[0;34m\u001b[0m\u001b[0;34m\u001b[0m\u001b[0m\n",
         "\u001b[0;32m/home/ahenoch/miniconda3/envs/masterthesis/lib/python3.6/site-packages/pandas/core/computation/expr.py\u001b[0m in \u001b[0;36mvisit\u001b[0;34m(self, node, **kwargs)\u001b[0m\n\u001b[1;32m    396\u001b[0m         \u001b[0mmethod\u001b[0m \u001b[0;34m=\u001b[0m \u001b[0;34m\"visit_\"\u001b[0m \u001b[0;34m+\u001b[0m \u001b[0mtype\u001b[0m\u001b[0;34m(\u001b[0m\u001b[0mnode\u001b[0m\u001b[0;34m)\u001b[0m\u001b[0;34m.\u001b[0m\u001b[0m__name__\u001b[0m\u001b[0;34m\u001b[0m\u001b[0;34m\u001b[0m\u001b[0m\n\u001b[1;32m    397\u001b[0m         \u001b[0mvisitor\u001b[0m \u001b[0;34m=\u001b[0m \u001b[0mgetattr\u001b[0m\u001b[0;34m(\u001b[0m\u001b[0mself\u001b[0m\u001b[0;34m,\u001b[0m \u001b[0mmethod\u001b[0m\u001b[0;34m)\u001b[0m\u001b[0;34m\u001b[0m\u001b[0;34m\u001b[0m\u001b[0m\n\u001b[0;32m--> 398\u001b[0;31m         \u001b[0;32mreturn\u001b[0m \u001b[0mvisitor\u001b[0m\u001b[0;34m(\u001b[0m\u001b[0mnode\u001b[0m\u001b[0;34m,\u001b[0m \u001b[0;34m**\u001b[0m\u001b[0mkwargs\u001b[0m\u001b[0;34m)\u001b[0m\u001b[0;34m\u001b[0m\u001b[0;34m\u001b[0m\u001b[0m\n\u001b[0m\u001b[1;32m    399\u001b[0m \u001b[0;34m\u001b[0m\u001b[0m\n\u001b[1;32m    400\u001b[0m     \u001b[0;32mdef\u001b[0m \u001b[0mvisit_Module\u001b[0m\u001b[0;34m(\u001b[0m\u001b[0mself\u001b[0m\u001b[0;34m,\u001b[0m \u001b[0mnode\u001b[0m\u001b[0;34m,\u001b[0m \u001b[0;34m**\u001b[0m\u001b[0mkwargs\u001b[0m\u001b[0;34m)\u001b[0m\u001b[0;34m:\u001b[0m\u001b[0;34m\u001b[0m\u001b[0;34m\u001b[0m\u001b[0m\n",
         "\u001b[0;32m/home/ahenoch/miniconda3/envs/masterthesis/lib/python3.6/site-packages/pandas/core/computation/expr.py\u001b[0m in \u001b[0;36mvisit_Module\u001b[0;34m(self, node, **kwargs)\u001b[0m\n\u001b[1;32m    402\u001b[0m             \u001b[0;32mraise\u001b[0m \u001b[0mSyntaxError\u001b[0m\u001b[0;34m(\u001b[0m\u001b[0;34m\"only a single expression is allowed\"\u001b[0m\u001b[0;34m)\u001b[0m\u001b[0;34m\u001b[0m\u001b[0;34m\u001b[0m\u001b[0m\n\u001b[1;32m    403\u001b[0m         \u001b[0mexpr\u001b[0m \u001b[0;34m=\u001b[0m \u001b[0mnode\u001b[0m\u001b[0;34m.\u001b[0m\u001b[0mbody\u001b[0m\u001b[0;34m[\u001b[0m\u001b[0;36m0\u001b[0m\u001b[0;34m]\u001b[0m\u001b[0;34m\u001b[0m\u001b[0;34m\u001b[0m\u001b[0m\n\u001b[0;32m--> 404\u001b[0;31m         \u001b[0;32mreturn\u001b[0m \u001b[0mself\u001b[0m\u001b[0;34m.\u001b[0m\u001b[0mvisit\u001b[0m\u001b[0;34m(\u001b[0m\u001b[0mexpr\u001b[0m\u001b[0;34m,\u001b[0m \u001b[0;34m**\u001b[0m\u001b[0mkwargs\u001b[0m\u001b[0;34m)\u001b[0m\u001b[0;34m\u001b[0m\u001b[0;34m\u001b[0m\u001b[0m\n\u001b[0m\u001b[1;32m    405\u001b[0m \u001b[0;34m\u001b[0m\u001b[0m\n\u001b[1;32m    406\u001b[0m     \u001b[0;32mdef\u001b[0m \u001b[0mvisit_Expr\u001b[0m\u001b[0;34m(\u001b[0m\u001b[0mself\u001b[0m\u001b[0;34m,\u001b[0m \u001b[0mnode\u001b[0m\u001b[0;34m,\u001b[0m \u001b[0;34m**\u001b[0m\u001b[0mkwargs\u001b[0m\u001b[0;34m)\u001b[0m\u001b[0;34m:\u001b[0m\u001b[0;34m\u001b[0m\u001b[0;34m\u001b[0m\u001b[0m\n",
         "\u001b[0;32m/home/ahenoch/miniconda3/envs/masterthesis/lib/python3.6/site-packages/pandas/core/computation/expr.py\u001b[0m in \u001b[0;36mvisit\u001b[0;34m(self, node, **kwargs)\u001b[0m\n\u001b[1;32m    396\u001b[0m         \u001b[0mmethod\u001b[0m \u001b[0;34m=\u001b[0m \u001b[0;34m\"visit_\"\u001b[0m \u001b[0;34m+\u001b[0m \u001b[0mtype\u001b[0m\u001b[0;34m(\u001b[0m\u001b[0mnode\u001b[0m\u001b[0;34m)\u001b[0m\u001b[0;34m.\u001b[0m\u001b[0m__name__\u001b[0m\u001b[0;34m\u001b[0m\u001b[0;34m\u001b[0m\u001b[0m\n\u001b[1;32m    397\u001b[0m         \u001b[0mvisitor\u001b[0m \u001b[0;34m=\u001b[0m \u001b[0mgetattr\u001b[0m\u001b[0;34m(\u001b[0m\u001b[0mself\u001b[0m\u001b[0;34m,\u001b[0m \u001b[0mmethod\u001b[0m\u001b[0;34m)\u001b[0m\u001b[0;34m\u001b[0m\u001b[0;34m\u001b[0m\u001b[0m\n\u001b[0;32m--> 398\u001b[0;31m         \u001b[0;32mreturn\u001b[0m \u001b[0mvisitor\u001b[0m\u001b[0;34m(\u001b[0m\u001b[0mnode\u001b[0m\u001b[0;34m,\u001b[0m \u001b[0;34m**\u001b[0m\u001b[0mkwargs\u001b[0m\u001b[0;34m)\u001b[0m\u001b[0;34m\u001b[0m\u001b[0;34m\u001b[0m\u001b[0m\n\u001b[0m\u001b[1;32m    399\u001b[0m \u001b[0;34m\u001b[0m\u001b[0m\n\u001b[1;32m    400\u001b[0m     \u001b[0;32mdef\u001b[0m \u001b[0mvisit_Module\u001b[0m\u001b[0;34m(\u001b[0m\u001b[0mself\u001b[0m\u001b[0;34m,\u001b[0m \u001b[0mnode\u001b[0m\u001b[0;34m,\u001b[0m \u001b[0;34m**\u001b[0m\u001b[0mkwargs\u001b[0m\u001b[0;34m)\u001b[0m\u001b[0;34m:\u001b[0m\u001b[0;34m\u001b[0m\u001b[0;34m\u001b[0m\u001b[0m\n",
         "\u001b[0;32m/home/ahenoch/miniconda3/envs/masterthesis/lib/python3.6/site-packages/pandas/core/computation/expr.py\u001b[0m in \u001b[0;36mvisit_Expr\u001b[0;34m(self, node, **kwargs)\u001b[0m\n\u001b[1;32m    405\u001b[0m \u001b[0;34m\u001b[0m\u001b[0m\n\u001b[1;32m    406\u001b[0m     \u001b[0;32mdef\u001b[0m \u001b[0mvisit_Expr\u001b[0m\u001b[0;34m(\u001b[0m\u001b[0mself\u001b[0m\u001b[0;34m,\u001b[0m \u001b[0mnode\u001b[0m\u001b[0;34m,\u001b[0m \u001b[0;34m**\u001b[0m\u001b[0mkwargs\u001b[0m\u001b[0;34m)\u001b[0m\u001b[0;34m:\u001b[0m\u001b[0;34m\u001b[0m\u001b[0;34m\u001b[0m\u001b[0m\n\u001b[0;32m--> 407\u001b[0;31m         \u001b[0;32mreturn\u001b[0m \u001b[0mself\u001b[0m\u001b[0;34m.\u001b[0m\u001b[0mvisit\u001b[0m\u001b[0;34m(\u001b[0m\u001b[0mnode\u001b[0m\u001b[0;34m.\u001b[0m\u001b[0mvalue\u001b[0m\u001b[0;34m,\u001b[0m \u001b[0;34m**\u001b[0m\u001b[0mkwargs\u001b[0m\u001b[0;34m)\u001b[0m\u001b[0;34m\u001b[0m\u001b[0;34m\u001b[0m\u001b[0m\n\u001b[0m\u001b[1;32m    408\u001b[0m \u001b[0;34m\u001b[0m\u001b[0m\n\u001b[1;32m    409\u001b[0m     \u001b[0;32mdef\u001b[0m \u001b[0m_rewrite_membership_op\u001b[0m\u001b[0;34m(\u001b[0m\u001b[0mself\u001b[0m\u001b[0;34m,\u001b[0m \u001b[0mnode\u001b[0m\u001b[0;34m,\u001b[0m \u001b[0mleft\u001b[0m\u001b[0;34m,\u001b[0m \u001b[0mright\u001b[0m\u001b[0;34m)\u001b[0m\u001b[0;34m:\u001b[0m\u001b[0;34m\u001b[0m\u001b[0;34m\u001b[0m\u001b[0m\n",
         "\u001b[0;32m/home/ahenoch/miniconda3/envs/masterthesis/lib/python3.6/site-packages/pandas/core/computation/expr.py\u001b[0m in \u001b[0;36mvisit\u001b[0;34m(self, node, **kwargs)\u001b[0m\n\u001b[1;32m    396\u001b[0m         \u001b[0mmethod\u001b[0m \u001b[0;34m=\u001b[0m \u001b[0;34m\"visit_\"\u001b[0m \u001b[0;34m+\u001b[0m \u001b[0mtype\u001b[0m\u001b[0;34m(\u001b[0m\u001b[0mnode\u001b[0m\u001b[0;34m)\u001b[0m\u001b[0;34m.\u001b[0m\u001b[0m__name__\u001b[0m\u001b[0;34m\u001b[0m\u001b[0;34m\u001b[0m\u001b[0m\n\u001b[1;32m    397\u001b[0m         \u001b[0mvisitor\u001b[0m \u001b[0;34m=\u001b[0m \u001b[0mgetattr\u001b[0m\u001b[0;34m(\u001b[0m\u001b[0mself\u001b[0m\u001b[0;34m,\u001b[0m \u001b[0mmethod\u001b[0m\u001b[0;34m)\u001b[0m\u001b[0;34m\u001b[0m\u001b[0;34m\u001b[0m\u001b[0m\n\u001b[0;32m--> 398\u001b[0;31m         \u001b[0;32mreturn\u001b[0m \u001b[0mvisitor\u001b[0m\u001b[0;34m(\u001b[0m\u001b[0mnode\u001b[0m\u001b[0;34m,\u001b[0m \u001b[0;34m**\u001b[0m\u001b[0mkwargs\u001b[0m\u001b[0;34m)\u001b[0m\u001b[0;34m\u001b[0m\u001b[0;34m\u001b[0m\u001b[0m\n\u001b[0m\u001b[1;32m    399\u001b[0m \u001b[0;34m\u001b[0m\u001b[0m\n\u001b[1;32m    400\u001b[0m     \u001b[0;32mdef\u001b[0m \u001b[0mvisit_Module\u001b[0m\u001b[0;34m(\u001b[0m\u001b[0mself\u001b[0m\u001b[0;34m,\u001b[0m \u001b[0mnode\u001b[0m\u001b[0;34m,\u001b[0m \u001b[0;34m**\u001b[0m\u001b[0mkwargs\u001b[0m\u001b[0;34m)\u001b[0m\u001b[0;34m:\u001b[0m\u001b[0;34m\u001b[0m\u001b[0;34m\u001b[0m\u001b[0m\n",
         "\u001b[0;32m/home/ahenoch/miniconda3/envs/masterthesis/lib/python3.6/site-packages/pandas/core/computation/expr.py\u001b[0m in \u001b[0;36mvisit_Compare\u001b[0;34m(self, node, **kwargs)\u001b[0m\n\u001b[1;32m    697\u001b[0m             \u001b[0mop\u001b[0m \u001b[0;34m=\u001b[0m \u001b[0mself\u001b[0m\u001b[0;34m.\u001b[0m\u001b[0mtranslate_In\u001b[0m\u001b[0;34m(\u001b[0m\u001b[0mops\u001b[0m\u001b[0;34m[\u001b[0m\u001b[0;36m0\u001b[0m\u001b[0;34m]\u001b[0m\u001b[0;34m)\u001b[0m\u001b[0;34m\u001b[0m\u001b[0;34m\u001b[0m\u001b[0m\n\u001b[1;32m    698\u001b[0m             \u001b[0mbinop\u001b[0m \u001b[0;34m=\u001b[0m \u001b[0mast\u001b[0m\u001b[0;34m.\u001b[0m\u001b[0mBinOp\u001b[0m\u001b[0;34m(\u001b[0m\u001b[0mop\u001b[0m\u001b[0;34m=\u001b[0m\u001b[0mop\u001b[0m\u001b[0;34m,\u001b[0m \u001b[0mleft\u001b[0m\u001b[0;34m=\u001b[0m\u001b[0mnode\u001b[0m\u001b[0;34m.\u001b[0m\u001b[0mleft\u001b[0m\u001b[0;34m,\u001b[0m \u001b[0mright\u001b[0m\u001b[0;34m=\u001b[0m\u001b[0mcomps\u001b[0m\u001b[0;34m[\u001b[0m\u001b[0;36m0\u001b[0m\u001b[0;34m]\u001b[0m\u001b[0;34m)\u001b[0m\u001b[0;34m\u001b[0m\u001b[0;34m\u001b[0m\u001b[0m\n\u001b[0;32m--> 699\u001b[0;31m             \u001b[0;32mreturn\u001b[0m \u001b[0mself\u001b[0m\u001b[0;34m.\u001b[0m\u001b[0mvisit\u001b[0m\u001b[0;34m(\u001b[0m\u001b[0mbinop\u001b[0m\u001b[0;34m)\u001b[0m\u001b[0;34m\u001b[0m\u001b[0;34m\u001b[0m\u001b[0m\n\u001b[0m\u001b[1;32m    700\u001b[0m \u001b[0;34m\u001b[0m\u001b[0m\n\u001b[1;32m    701\u001b[0m         \u001b[0;31m# recursive case: we have a chained comparison, a CMP b CMP c, etc.\u001b[0m\u001b[0;34m\u001b[0m\u001b[0;34m\u001b[0m\u001b[0;34m\u001b[0m\u001b[0m\n",
         "\u001b[0;32m/home/ahenoch/miniconda3/envs/masterthesis/lib/python3.6/site-packages/pandas/core/computation/expr.py\u001b[0m in \u001b[0;36mvisit\u001b[0;34m(self, node, **kwargs)\u001b[0m\n\u001b[1;32m    396\u001b[0m         \u001b[0mmethod\u001b[0m \u001b[0;34m=\u001b[0m \u001b[0;34m\"visit_\"\u001b[0m \u001b[0;34m+\u001b[0m \u001b[0mtype\u001b[0m\u001b[0;34m(\u001b[0m\u001b[0mnode\u001b[0m\u001b[0;34m)\u001b[0m\u001b[0;34m.\u001b[0m\u001b[0m__name__\u001b[0m\u001b[0;34m\u001b[0m\u001b[0;34m\u001b[0m\u001b[0m\n\u001b[1;32m    397\u001b[0m         \u001b[0mvisitor\u001b[0m \u001b[0;34m=\u001b[0m \u001b[0mgetattr\u001b[0m\u001b[0;34m(\u001b[0m\u001b[0mself\u001b[0m\u001b[0;34m,\u001b[0m \u001b[0mmethod\u001b[0m\u001b[0;34m)\u001b[0m\u001b[0;34m\u001b[0m\u001b[0;34m\u001b[0m\u001b[0m\n\u001b[0;32m--> 398\u001b[0;31m         \u001b[0;32mreturn\u001b[0m \u001b[0mvisitor\u001b[0m\u001b[0;34m(\u001b[0m\u001b[0mnode\u001b[0m\u001b[0;34m,\u001b[0m \u001b[0;34m**\u001b[0m\u001b[0mkwargs\u001b[0m\u001b[0;34m)\u001b[0m\u001b[0;34m\u001b[0m\u001b[0;34m\u001b[0m\u001b[0m\n\u001b[0m\u001b[1;32m    399\u001b[0m \u001b[0;34m\u001b[0m\u001b[0m\n\u001b[1;32m    400\u001b[0m     \u001b[0;32mdef\u001b[0m \u001b[0mvisit_Module\u001b[0m\u001b[0;34m(\u001b[0m\u001b[0mself\u001b[0m\u001b[0;34m,\u001b[0m \u001b[0mnode\u001b[0m\u001b[0;34m,\u001b[0m \u001b[0;34m**\u001b[0m\u001b[0mkwargs\u001b[0m\u001b[0;34m)\u001b[0m\u001b[0;34m:\u001b[0m\u001b[0;34m\u001b[0m\u001b[0;34m\u001b[0m\u001b[0m\n",
         "\u001b[0;32m/home/ahenoch/miniconda3/envs/masterthesis/lib/python3.6/site-packages/pandas/core/computation/expr.py\u001b[0m in \u001b[0;36mvisit_BinOp\u001b[0;34m(self, node, **kwargs)\u001b[0m\n\u001b[1;32m    518\u001b[0m \u001b[0;34m\u001b[0m\u001b[0m\n\u001b[1;32m    519\u001b[0m     \u001b[0;32mdef\u001b[0m \u001b[0mvisit_BinOp\u001b[0m\u001b[0;34m(\u001b[0m\u001b[0mself\u001b[0m\u001b[0;34m,\u001b[0m \u001b[0mnode\u001b[0m\u001b[0;34m,\u001b[0m \u001b[0;34m**\u001b[0m\u001b[0mkwargs\u001b[0m\u001b[0;34m)\u001b[0m\u001b[0;34m:\u001b[0m\u001b[0;34m\u001b[0m\u001b[0;34m\u001b[0m\u001b[0m\n\u001b[0;32m--> 520\u001b[0;31m         \u001b[0mop\u001b[0m\u001b[0;34m,\u001b[0m \u001b[0mop_class\u001b[0m\u001b[0;34m,\u001b[0m \u001b[0mleft\u001b[0m\u001b[0;34m,\u001b[0m \u001b[0mright\u001b[0m \u001b[0;34m=\u001b[0m \u001b[0mself\u001b[0m\u001b[0;34m.\u001b[0m\u001b[0m_maybe_transform_eq_ne\u001b[0m\u001b[0;34m(\u001b[0m\u001b[0mnode\u001b[0m\u001b[0;34m)\u001b[0m\u001b[0;34m\u001b[0m\u001b[0;34m\u001b[0m\u001b[0m\n\u001b[0m\u001b[1;32m    521\u001b[0m         \u001b[0mleft\u001b[0m\u001b[0;34m,\u001b[0m \u001b[0mright\u001b[0m \u001b[0;34m=\u001b[0m \u001b[0mself\u001b[0m\u001b[0;34m.\u001b[0m\u001b[0m_maybe_downcast_constants\u001b[0m\u001b[0;34m(\u001b[0m\u001b[0mleft\u001b[0m\u001b[0;34m,\u001b[0m \u001b[0mright\u001b[0m\u001b[0;34m)\u001b[0m\u001b[0;34m\u001b[0m\u001b[0;34m\u001b[0m\u001b[0m\n\u001b[1;32m    522\u001b[0m         \u001b[0;32mreturn\u001b[0m \u001b[0mself\u001b[0m\u001b[0;34m.\u001b[0m\u001b[0m_maybe_evaluate_binop\u001b[0m\u001b[0;34m(\u001b[0m\u001b[0mop\u001b[0m\u001b[0;34m,\u001b[0m \u001b[0mop_class\u001b[0m\u001b[0;34m,\u001b[0m \u001b[0mleft\u001b[0m\u001b[0;34m,\u001b[0m \u001b[0mright\u001b[0m\u001b[0;34m)\u001b[0m\u001b[0;34m\u001b[0m\u001b[0;34m\u001b[0m\u001b[0m\n",
         "\u001b[0;32m/home/ahenoch/miniconda3/envs/masterthesis/lib/python3.6/site-packages/pandas/core/computation/expr.py\u001b[0m in \u001b[0;36m_maybe_transform_eq_ne\u001b[0;34m(self, node, left, right)\u001b[0m\n\u001b[1;32m    437\u001b[0m     \u001b[0;32mdef\u001b[0m \u001b[0m_maybe_transform_eq_ne\u001b[0m\u001b[0;34m(\u001b[0m\u001b[0mself\u001b[0m\u001b[0;34m,\u001b[0m \u001b[0mnode\u001b[0m\u001b[0;34m,\u001b[0m \u001b[0mleft\u001b[0m\u001b[0;34m=\u001b[0m\u001b[0;32mNone\u001b[0m\u001b[0;34m,\u001b[0m \u001b[0mright\u001b[0m\u001b[0;34m=\u001b[0m\u001b[0;32mNone\u001b[0m\u001b[0;34m)\u001b[0m\u001b[0;34m:\u001b[0m\u001b[0;34m\u001b[0m\u001b[0;34m\u001b[0m\u001b[0m\n\u001b[1;32m    438\u001b[0m         \u001b[0;32mif\u001b[0m \u001b[0mleft\u001b[0m \u001b[0;32mis\u001b[0m \u001b[0;32mNone\u001b[0m\u001b[0;34m:\u001b[0m\u001b[0;34m\u001b[0m\u001b[0;34m\u001b[0m\u001b[0m\n\u001b[0;32m--> 439\u001b[0;31m             \u001b[0mleft\u001b[0m \u001b[0;34m=\u001b[0m \u001b[0mself\u001b[0m\u001b[0;34m.\u001b[0m\u001b[0mvisit\u001b[0m\u001b[0;34m(\u001b[0m\u001b[0mnode\u001b[0m\u001b[0;34m.\u001b[0m\u001b[0mleft\u001b[0m\u001b[0;34m,\u001b[0m \u001b[0mside\u001b[0m\u001b[0;34m=\u001b[0m\u001b[0;34m\"left\"\u001b[0m\u001b[0;34m)\u001b[0m\u001b[0;34m\u001b[0m\u001b[0;34m\u001b[0m\u001b[0m\n\u001b[0m\u001b[1;32m    440\u001b[0m         \u001b[0;32mif\u001b[0m \u001b[0mright\u001b[0m \u001b[0;32mis\u001b[0m \u001b[0;32mNone\u001b[0m\u001b[0;34m:\u001b[0m\u001b[0;34m\u001b[0m\u001b[0;34m\u001b[0m\u001b[0m\n\u001b[1;32m    441\u001b[0m             \u001b[0mright\u001b[0m \u001b[0;34m=\u001b[0m \u001b[0mself\u001b[0m\u001b[0;34m.\u001b[0m\u001b[0mvisit\u001b[0m\u001b[0;34m(\u001b[0m\u001b[0mnode\u001b[0m\u001b[0;34m.\u001b[0m\u001b[0mright\u001b[0m\u001b[0;34m,\u001b[0m \u001b[0mside\u001b[0m\u001b[0;34m=\u001b[0m\u001b[0;34m\"right\"\u001b[0m\u001b[0;34m)\u001b[0m\u001b[0;34m\u001b[0m\u001b[0;34m\u001b[0m\u001b[0m\n",
         "\u001b[0;32m/home/ahenoch/miniconda3/envs/masterthesis/lib/python3.6/site-packages/pandas/core/computation/expr.py\u001b[0m in \u001b[0;36mvisit\u001b[0;34m(self, node, **kwargs)\u001b[0m\n\u001b[1;32m    396\u001b[0m         \u001b[0mmethod\u001b[0m \u001b[0;34m=\u001b[0m \u001b[0;34m\"visit_\"\u001b[0m \u001b[0;34m+\u001b[0m \u001b[0mtype\u001b[0m\u001b[0;34m(\u001b[0m\u001b[0mnode\u001b[0m\u001b[0;34m)\u001b[0m\u001b[0;34m.\u001b[0m\u001b[0m__name__\u001b[0m\u001b[0;34m\u001b[0m\u001b[0;34m\u001b[0m\u001b[0m\n\u001b[1;32m    397\u001b[0m         \u001b[0mvisitor\u001b[0m \u001b[0;34m=\u001b[0m \u001b[0mgetattr\u001b[0m\u001b[0;34m(\u001b[0m\u001b[0mself\u001b[0m\u001b[0;34m,\u001b[0m \u001b[0mmethod\u001b[0m\u001b[0;34m)\u001b[0m\u001b[0;34m\u001b[0m\u001b[0;34m\u001b[0m\u001b[0m\n\u001b[0;32m--> 398\u001b[0;31m         \u001b[0;32mreturn\u001b[0m \u001b[0mvisitor\u001b[0m\u001b[0;34m(\u001b[0m\u001b[0mnode\u001b[0m\u001b[0;34m,\u001b[0m \u001b[0;34m**\u001b[0m\u001b[0mkwargs\u001b[0m\u001b[0;34m)\u001b[0m\u001b[0;34m\u001b[0m\u001b[0;34m\u001b[0m\u001b[0m\n\u001b[0m\u001b[1;32m    399\u001b[0m \u001b[0;34m\u001b[0m\u001b[0m\n\u001b[1;32m    400\u001b[0m     \u001b[0;32mdef\u001b[0m \u001b[0mvisit_Module\u001b[0m\u001b[0;34m(\u001b[0m\u001b[0mself\u001b[0m\u001b[0;34m,\u001b[0m \u001b[0mnode\u001b[0m\u001b[0;34m,\u001b[0m \u001b[0;34m**\u001b[0m\u001b[0mkwargs\u001b[0m\u001b[0;34m)\u001b[0m\u001b[0;34m:\u001b[0m\u001b[0;34m\u001b[0m\u001b[0;34m\u001b[0m\u001b[0m\n",
         "\u001b[0;32m/home/ahenoch/miniconda3/envs/masterthesis/lib/python3.6/site-packages/pandas/core/computation/expr.py\u001b[0m in \u001b[0;36mvisit_Name\u001b[0;34m(self, node, **kwargs)\u001b[0m\n\u001b[1;32m    531\u001b[0m \u001b[0;34m\u001b[0m\u001b[0m\n\u001b[1;32m    532\u001b[0m     \u001b[0;32mdef\u001b[0m \u001b[0mvisit_Name\u001b[0m\u001b[0;34m(\u001b[0m\u001b[0mself\u001b[0m\u001b[0;34m,\u001b[0m \u001b[0mnode\u001b[0m\u001b[0;34m,\u001b[0m \u001b[0;34m**\u001b[0m\u001b[0mkwargs\u001b[0m\u001b[0;34m)\u001b[0m\u001b[0;34m:\u001b[0m\u001b[0;34m\u001b[0m\u001b[0;34m\u001b[0m\u001b[0m\n\u001b[0;32m--> 533\u001b[0;31m         \u001b[0;32mreturn\u001b[0m \u001b[0mself\u001b[0m\u001b[0;34m.\u001b[0m\u001b[0mterm_type\u001b[0m\u001b[0;34m(\u001b[0m\u001b[0mnode\u001b[0m\u001b[0;34m.\u001b[0m\u001b[0mid\u001b[0m\u001b[0;34m,\u001b[0m \u001b[0mself\u001b[0m\u001b[0;34m.\u001b[0m\u001b[0menv\u001b[0m\u001b[0;34m,\u001b[0m \u001b[0;34m**\u001b[0m\u001b[0mkwargs\u001b[0m\u001b[0;34m)\u001b[0m\u001b[0;34m\u001b[0m\u001b[0;34m\u001b[0m\u001b[0m\n\u001b[0m\u001b[1;32m    534\u001b[0m \u001b[0;34m\u001b[0m\u001b[0m\n\u001b[1;32m    535\u001b[0m     \u001b[0;32mdef\u001b[0m \u001b[0mvisit_NameConstant\u001b[0m\u001b[0;34m(\u001b[0m\u001b[0mself\u001b[0m\u001b[0;34m,\u001b[0m \u001b[0mnode\u001b[0m\u001b[0;34m,\u001b[0m \u001b[0;34m**\u001b[0m\u001b[0mkwargs\u001b[0m\u001b[0;34m)\u001b[0m\u001b[0;34m:\u001b[0m\u001b[0;34m\u001b[0m\u001b[0;34m\u001b[0m\u001b[0m\n",
         "\u001b[0;32m/home/ahenoch/miniconda3/envs/masterthesis/lib/python3.6/site-packages/pandas/core/computation/ops.py\u001b[0m in \u001b[0;36m__init__\u001b[0;34m(self, name, env, side, encoding)\u001b[0m\n\u001b[1;32m     82\u001b[0m         \u001b[0mtname\u001b[0m \u001b[0;34m=\u001b[0m \u001b[0mstr\u001b[0m\u001b[0;34m(\u001b[0m\u001b[0mname\u001b[0m\u001b[0;34m)\u001b[0m\u001b[0;34m\u001b[0m\u001b[0;34m\u001b[0m\u001b[0m\n\u001b[1;32m     83\u001b[0m         \u001b[0mself\u001b[0m\u001b[0;34m.\u001b[0m\u001b[0mis_local\u001b[0m \u001b[0;34m=\u001b[0m \u001b[0mtname\u001b[0m\u001b[0;34m.\u001b[0m\u001b[0mstartswith\u001b[0m\u001b[0;34m(\u001b[0m\u001b[0m_LOCAL_TAG\u001b[0m\u001b[0;34m)\u001b[0m \u001b[0;32mor\u001b[0m \u001b[0mtname\u001b[0m \u001b[0;32min\u001b[0m \u001b[0m_DEFAULT_GLOBALS\u001b[0m\u001b[0;34m\u001b[0m\u001b[0;34m\u001b[0m\u001b[0m\n\u001b[0;32m---> 84\u001b[0;31m         \u001b[0mself\u001b[0m\u001b[0;34m.\u001b[0m\u001b[0m_value\u001b[0m \u001b[0;34m=\u001b[0m \u001b[0mself\u001b[0m\u001b[0;34m.\u001b[0m\u001b[0m_resolve_name\u001b[0m\u001b[0;34m(\u001b[0m\u001b[0;34m)\u001b[0m\u001b[0;34m\u001b[0m\u001b[0;34m\u001b[0m\u001b[0m\n\u001b[0m\u001b[1;32m     85\u001b[0m         \u001b[0mself\u001b[0m\u001b[0;34m.\u001b[0m\u001b[0mencoding\u001b[0m \u001b[0;34m=\u001b[0m \u001b[0mencoding\u001b[0m\u001b[0;34m\u001b[0m\u001b[0;34m\u001b[0m\u001b[0m\n\u001b[1;32m     86\u001b[0m \u001b[0;34m\u001b[0m\u001b[0m\n",
         "\u001b[0;32m/home/ahenoch/miniconda3/envs/masterthesis/lib/python3.6/site-packages/pandas/core/computation/ops.py\u001b[0m in \u001b[0;36m_resolve_name\u001b[0;34m(self)\u001b[0m\n\u001b[1;32m     99\u001b[0m \u001b[0;34m\u001b[0m\u001b[0m\n\u001b[1;32m    100\u001b[0m     \u001b[0;32mdef\u001b[0m \u001b[0m_resolve_name\u001b[0m\u001b[0;34m(\u001b[0m\u001b[0mself\u001b[0m\u001b[0;34m)\u001b[0m\u001b[0;34m:\u001b[0m\u001b[0;34m\u001b[0m\u001b[0;34m\u001b[0m\u001b[0m\n\u001b[0;32m--> 101\u001b[0;31m         \u001b[0mres\u001b[0m \u001b[0;34m=\u001b[0m \u001b[0mself\u001b[0m\u001b[0;34m.\u001b[0m\u001b[0menv\u001b[0m\u001b[0;34m.\u001b[0m\u001b[0mresolve\u001b[0m\u001b[0;34m(\u001b[0m\u001b[0mself\u001b[0m\u001b[0;34m.\u001b[0m\u001b[0mlocal_name\u001b[0m\u001b[0;34m,\u001b[0m \u001b[0mis_local\u001b[0m\u001b[0;34m=\u001b[0m\u001b[0mself\u001b[0m\u001b[0;34m.\u001b[0m\u001b[0mis_local\u001b[0m\u001b[0;34m)\u001b[0m\u001b[0;34m\u001b[0m\u001b[0;34m\u001b[0m\u001b[0m\n\u001b[0m\u001b[1;32m    102\u001b[0m         \u001b[0mself\u001b[0m\u001b[0;34m.\u001b[0m\u001b[0mupdate\u001b[0m\u001b[0;34m(\u001b[0m\u001b[0mres\u001b[0m\u001b[0;34m)\u001b[0m\u001b[0;34m\u001b[0m\u001b[0;34m\u001b[0m\u001b[0m\n\u001b[1;32m    103\u001b[0m \u001b[0;34m\u001b[0m\u001b[0m\n",
         "\u001b[0;32m/home/ahenoch/miniconda3/envs/masterthesis/lib/python3.6/site-packages/pandas/core/computation/scope.py\u001b[0m in \u001b[0;36mresolve\u001b[0;34m(self, key, is_local)\u001b[0m\n\u001b[1;32m    202\u001b[0m                 \u001b[0;32mfrom\u001b[0m \u001b[0mpandas\u001b[0m\u001b[0;34m.\u001b[0m\u001b[0mcore\u001b[0m\u001b[0;34m.\u001b[0m\u001b[0mcomputation\u001b[0m\u001b[0;34m.\u001b[0m\u001b[0mops\u001b[0m \u001b[0;32mimport\u001b[0m \u001b[0mUndefinedVariableError\u001b[0m\u001b[0;34m\u001b[0m\u001b[0;34m\u001b[0m\u001b[0m\n\u001b[1;32m    203\u001b[0m \u001b[0;34m\u001b[0m\u001b[0m\n\u001b[0;32m--> 204\u001b[0;31m                 \u001b[0;32mraise\u001b[0m \u001b[0mUndefinedVariableError\u001b[0m\u001b[0;34m(\u001b[0m\u001b[0mkey\u001b[0m\u001b[0;34m,\u001b[0m \u001b[0mis_local\u001b[0m\u001b[0;34m)\u001b[0m \u001b[0;32mfrom\u001b[0m \u001b[0merr\u001b[0m\u001b[0;34m\u001b[0m\u001b[0;34m\u001b[0m\u001b[0m\n\u001b[0m\u001b[1;32m    205\u001b[0m \u001b[0;34m\u001b[0m\u001b[0m\n\u001b[1;32m    206\u001b[0m     \u001b[0;32mdef\u001b[0m \u001b[0mswapkey\u001b[0m\u001b[0;34m(\u001b[0m\u001b[0mself\u001b[0m\u001b[0;34m,\u001b[0m \u001b[0mold_key\u001b[0m\u001b[0;34m:\u001b[0m \u001b[0mstr\u001b[0m\u001b[0;34m,\u001b[0m \u001b[0mnew_key\u001b[0m\u001b[0;34m:\u001b[0m \u001b[0mstr\u001b[0m\u001b[0;34m,\u001b[0m \u001b[0mnew_value\u001b[0m\u001b[0;34m=\u001b[0m\u001b[0;32mNone\u001b[0m\u001b[0;34m)\u001b[0m\u001b[0;34m:\u001b[0m\u001b[0;34m\u001b[0m\u001b[0;34m\u001b[0m\u001b[0m\n",
         "\u001b[0;31mUndefinedVariableError\u001b[0m: name 'curation' is not defined"
        ]
       }
      ],
      "source": "infile = '../../A.csv'   \nupload = pd.read_csv(infile, sep = ',', na_filter = False, header = None)\nupload.query('curation == \"Pass\"', inplace = True)\nupload.columns = ['accession', 'strain', 'segment', 'protein', 'genus', 'subtype', 'date', 'host', 'curation', 'genome']\nupload.set_index('accession', inplace = True)",
      "start_time": "2021-01-19T12:59:32.760Z"
     },
     {
      "end_time": "2021-01-19T12:59:54.196Z",
      "execution_time": "4.41s",
      "outputs": [],
      "source": "infile = '../../A.csv'   \nupload = pd.read_csv(infile, sep = ',', na_filter = False, header = None)\nupload.columns = ['accession', 'strain', 'segment', 'protein', 'genus', 'subtype', 'date', 'host', 'curation', 'genome']\nupload.query('curation == \"Pass\"', inplace = True)\nupload.set_index('accession', inplace = True)",
      "start_time": "2021-01-19T12:59:49.788Z"
     },
     {
      "end_time": "2021-01-19T13:00:54.867Z",
      "execution_time": "4.42s",
      "outputs": [],
      "source": "infile = '../../A.csv'   \nupload = pd.read_csv(infile, sep = ',', na_filter = False, header = None)\nupload.columns = ['accession', 'strain', 'segment', 'protein', 'genus', 'subtype', 'date', 'host', 'curation', 'genome']\nupload.query('curation == \"Pass\"', inplace = True)\nupload.set_index('accession', inplace = True)",
      "start_time": "2021-01-19T13:00:50.449Z"
     },
     {
      "end_time": "2021-01-19T13:26:48.014Z",
      "execution_time": "7.66s",
      "outputs": [],
      "source": "infile = '../../A.csv'   \nupload = pd.read_csv(infile, sep = ',', na_filter = False, header = None)\nupload.columns = ['accession', 'strain', 'segment', 'protein', 'genus', 'subtype', 'date', 'host', 'curation', 'genome']\nupload.query('curation == \"Pass\"', inplace = True)\nupload.set_index('accession', inplace = True)",
      "start_time": "2021-01-19T13:26:40.354Z"
     },
     {
      "end_time": "2021-01-19T16:06:19.010Z",
      "execution_time": "906ms",
      "outputs": [],
      "source": "infile = '../../B.csv'   \nupload = pd.read_csv(infile, sep = ',', na_filter = False, header = None)\nupload.columns = ['accession', 'strain', 'segment', 'protein', 'genus', 'subtype', 'date', 'host', 'curation', 'genome']\nupload.query('curation == \"Pass\"', inplace = True)\nupload.set_index('accession', inplace = True)",
      "start_time": "2021-01-19T16:06:18.104Z"
     },
     {
      "end_time": "2021-01-19T16:55:15.861Z",
      "execution_time": "898ms",
      "outputs": [],
      "source": "infile = '../../B.csv'   \nupload = pd.read_csv(infile, sep = ',', na_filter = False, header = None)\nupload.columns = ['accession', 'strain', 'segment', 'protein', 'genus', 'subtype', 'date', 'host', 'curation', 'genome']\nupload.query('curation == \"Pass\"', inplace = True)\nupload.set_index('accession', inplace = True)",
      "start_time": "2021-01-19T16:55:14.963Z"
     },
     {
      "end_time": "2021-01-19T17:18:39.330Z",
      "execution_time": "899ms",
      "outputs": [],
      "source": "infile = '../../B.csv'   \nupload = pd.read_csv(infile, sep = ',', na_filter = False, header = None)\nupload.columns = ['accession', 'strain', 'segment', 'protein', 'genus', 'subtype', 'date', 'host', 'curation', 'genome']\nupload.query('curation == \"Pass\"', inplace = True)\nupload.set_index('accession', inplace = True)",
      "start_time": "2021-01-19T17:18:38.431Z"
     }
    ]
   },
   "outputs": [],
   "source": [
    "infile = '../../B.csv'   \n",
    "upload = pd.read_csv(infile, sep = ',', na_filter = False, header = None)\n",
    "upload.columns = ['accession', 'strain', 'segment', 'protein', 'genus', 'subtype', 'date', 'host', 'curation', 'genome']\n",
    "upload.query('curation == \"Pass\"', inplace = True)\n",
    "upload.set_index('accession', inplace = True)"
   ]
  },
  {
   "cell_type": "code",
   "execution_count": 22,
   "metadata": {
    "ExecutionTime": {
     "end_time": "2021-01-19T17:21:10.452997Z",
     "start_time": "2021-01-19T17:19:56.829044Z"
    },
    "provenance": [
     {
      "end_time": "2021-01-19T09:48:19.286Z",
      "execution_time": "228ms",
      "outputs": [],
      "source": "cluster = pd.read_csv('Output/cluster.csv', sep = ',', na_filter = False)",
      "start_time": "2021-01-19T09:48:19.058Z"
     },
     {
      "end_time": "2021-01-19T09:48:44.251Z",
      "execution_time": "7ms",
      "outputs": [
       {
        "ename": "TypeError",
        "evalue": "read_csv() got an unexpected keyword argument 'index'",
        "output_type": "error",
        "traceback": [
         "\u001b[0;31m---------------------------------------------------------------------------\u001b[0m",
         "\u001b[0;31mTypeError\u001b[0m                                 Traceback (most recent call last)",
         "\u001b[0;32m<ipython-input-57-722f2c5e0699>\u001b[0m in \u001b[0;36m<module>\u001b[0;34m()\u001b[0m\n\u001b[0;32m----> 1\u001b[0;31m \u001b[0mcluster\u001b[0m \u001b[0;34m=\u001b[0m \u001b[0mpd\u001b[0m\u001b[0;34m.\u001b[0m\u001b[0mread_csv\u001b[0m\u001b[0;34m(\u001b[0m\u001b[0;34m'Output/cluster.csv'\u001b[0m\u001b[0;34m,\u001b[0m \u001b[0msep\u001b[0m \u001b[0;34m=\u001b[0m \u001b[0;34m','\u001b[0m\u001b[0;34m,\u001b[0m \u001b[0mna_filter\u001b[0m \u001b[0;34m=\u001b[0m \u001b[0;32mFalse\u001b[0m\u001b[0;34m,\u001b[0m \u001b[0mindex\u001b[0m \u001b[0;34m=\u001b[0m \u001b[0;36m0\u001b[0m\u001b[0;34m)\u001b[0m\u001b[0;34m\u001b[0m\u001b[0;34m\u001b[0m\u001b[0m\n\u001b[0m",
         "\u001b[0;31mTypeError\u001b[0m: read_csv() got an unexpected keyword argument 'index'"
        ]
       }
      ],
      "source": "cluster = pd.read_csv('Output/cluster.csv', sep = ',', na_filter = False, index = 0)",
      "start_time": "2021-01-19T09:48:44.244Z"
     },
     {
      "end_time": "2021-01-19T09:49:53.498Z",
      "execution_time": "245ms",
      "outputs": [],
      "source": "cluster = pd.read_csv('Output/cluster.csv', sep = ',', na_filter = False, index_col = 0, header = 0)",
      "start_time": "2021-01-19T09:49:53.253Z"
     },
     {
      "end_time": "2021-01-19T09:56:01.382Z",
      "execution_time": "229ms",
      "outputs": [],
      "source": "cluster = pd.read_csv('Output/cluster.csv', sep = ',', na_filter = False, index_col = 0, header = 0)",
      "start_time": "2021-01-19T09:56:01.153Z"
     },
     {
      "end_time": "2021-01-19T09:56:18.607Z",
      "execution_time": "226ms",
      "outputs": [],
      "source": "cluster = pd.read_csv('Output/cluster.csv', sep = ',', na_filter = False, index_col = 0, header = 0)",
      "start_time": "2021-01-19T09:56:18.381Z"
     },
     {
      "end_time": "2021-01-19T12:55:51.067Z",
      "execution_time": "316ms",
      "outputs": [],
      "source": "cluster = pd.read_csv('Output/cluster.csv', sep = ',', na_filter = False, index_col = 0, header = 0).query('cluster == 2865')",
      "start_time": "2021-01-19T12:55:50.751Z"
     },
     {
      "end_time": "2021-01-19T13:00:01.565Z",
      "execution_time": "454ms",
      "outputs": [
       {
        "name": "stderr",
        "output_type": "stream",
        "text": "/home/ahenoch/miniconda3/envs/masterthesis/lib/python3.6/site-packages/IPython/core/interactiveshell.py:2714: DtypeWarning: Columns (3) have mixed types.Specify dtype option on import or set low_memory=False.\n  interactivity=interactivity, compiler=compiler, result=result)\n"
       }
      ],
      "source": "cluster = pd.read_csv('Output/cluster.csv', sep = ',', na_filter = False, index_col = 0, header = 0).query('cluster == 2865')\nmatch = cluster.index.values.tolist()\nsub = upload.filter(items = access, axis=0)",
      "start_time": "2021-01-19T13:00:01.111Z"
     },
     {
      "end_time": "2021-01-19T13:00:33.080Z",
      "execution_time": "321ms",
      "outputs": [
       {
        "name": "stderr",
        "output_type": "stream",
        "text": "/home/ahenoch/miniconda3/envs/masterthesis/lib/python3.6/site-packages/IPython/core/interactiveshell.py:2714: DtypeWarning: Columns (3) have mixed types.Specify dtype option on import or set low_memory=False.\n  interactivity=interactivity, compiler=compiler, result=result)\n"
       }
      ],
      "source": "cluster = pd.read_csv('Output/cluster.csv', sep = ',', na_filter = False, index_col = 0, header = 0)\nquery = cluster.query('cluster == 2865')\nmatch = query.index.values.tolist()\nsub = upload.filter(items = access, axis=0)",
      "start_time": "2021-01-19T13:00:32.759Z"
     },
     {
      "end_time": "2021-01-19T13:26:32.438Z",
      "execution_time": "65ms",
      "outputs": [
       {
        "ename": "NameError",
        "evalue": "name 'pd' is not defined",
        "output_type": "error",
        "traceback": [
         "\u001b[0;31m---------------------------------------------------------------------------\u001b[0m",
         "\u001b[0;31mNameError\u001b[0m                                 Traceback (most recent call last)",
         "\u001b[0;32m<ipython-input-1-bddd8266259d>\u001b[0m in \u001b[0;36m<module>\u001b[0;34m()\u001b[0m\n\u001b[0;32m----> 1\u001b[0;31m \u001b[0mcluster\u001b[0m \u001b[0;34m=\u001b[0m \u001b[0mpd\u001b[0m\u001b[0;34m.\u001b[0m\u001b[0mread_csv\u001b[0m\u001b[0;34m(\u001b[0m\u001b[0;34m'Output/cluster2.csv'\u001b[0m\u001b[0;34m,\u001b[0m \u001b[0msep\u001b[0m \u001b[0;34m=\u001b[0m \u001b[0;34m','\u001b[0m\u001b[0;34m,\u001b[0m \u001b[0mna_filter\u001b[0m \u001b[0;34m=\u001b[0m \u001b[0;32mFalse\u001b[0m\u001b[0;34m,\u001b[0m \u001b[0mindex_col\u001b[0m \u001b[0;34m=\u001b[0m \u001b[0;36m0\u001b[0m\u001b[0;34m,\u001b[0m \u001b[0mheader\u001b[0m \u001b[0;34m=\u001b[0m \u001b[0;36m0\u001b[0m\u001b[0;34m)\u001b[0m\u001b[0;34m\u001b[0m\u001b[0;34m\u001b[0m\u001b[0m\n\u001b[0m\u001b[1;32m      2\u001b[0m \u001b[0mquery\u001b[0m \u001b[0;34m=\u001b[0m \u001b[0mcluster\u001b[0m\u001b[0;34m.\u001b[0m\u001b[0mquery\u001b[0m\u001b[0;34m(\u001b[0m\u001b[0;34m'cluster == 2865'\u001b[0m\u001b[0;34m)\u001b[0m\u001b[0;34m\u001b[0m\u001b[0;34m\u001b[0m\u001b[0m\n\u001b[1;32m      3\u001b[0m \u001b[0mmatch\u001b[0m \u001b[0;34m=\u001b[0m \u001b[0mquery\u001b[0m\u001b[0;34m.\u001b[0m\u001b[0mindex\u001b[0m\u001b[0;34m.\u001b[0m\u001b[0mvalues\u001b[0m\u001b[0;34m.\u001b[0m\u001b[0mtolist\u001b[0m\u001b[0;34m(\u001b[0m\u001b[0;34m)\u001b[0m\u001b[0;34m\u001b[0m\u001b[0;34m\u001b[0m\u001b[0m\n\u001b[1;32m      4\u001b[0m \u001b[0msub\u001b[0m \u001b[0;34m=\u001b[0m \u001b[0mupload\u001b[0m\u001b[0;34m.\u001b[0m\u001b[0mfilter\u001b[0m\u001b[0;34m(\u001b[0m\u001b[0mitems\u001b[0m \u001b[0;34m=\u001b[0m \u001b[0maccess\u001b[0m\u001b[0;34m,\u001b[0m \u001b[0maxis\u001b[0m\u001b[0;34m=\u001b[0m\u001b[0;36m0\u001b[0m\u001b[0;34m)\u001b[0m\u001b[0;34m\u001b[0m\u001b[0;34m\u001b[0m\u001b[0m\n",
         "\u001b[0;31mNameError\u001b[0m: name 'pd' is not defined"
        ]
       }
      ],
      "source": "cluster = pd.read_csv('Output/cluster2.csv', sep = ',', na_filter = False, index_col = 0, header = 0)\nquery = cluster.query('cluster == 2865')\nmatch = query.index.values.tolist()\nsub = upload.filter(items = access, axis=0)",
      "start_time": "2021-01-19T13:26:32.373Z"
     },
     {
      "end_time": "2021-01-19T13:26:49.755Z",
      "execution_time": "747ms",
      "outputs": [
       {
        "name": "stderr",
        "output_type": "stream",
        "text": "/home/ahenoch/miniconda3/envs/masterthesis/lib/python3.6/site-packages/IPython/core/interactiveshell.py:2714: DtypeWarning: Columns (3) have mixed types.Specify dtype option on import or set low_memory=False.\n  interactivity=interactivity, compiler=compiler, result=result)\n"
       },
       {
        "ename": "NameError",
        "evalue": "name 'access' is not defined",
        "output_type": "error",
        "traceback": [
         "\u001b[0;31m---------------------------------------------------------------------------\u001b[0m",
         "\u001b[0;31mNameError\u001b[0m                                 Traceback (most recent call last)",
         "\u001b[0;32m<ipython-input-4-bddd8266259d>\u001b[0m in \u001b[0;36m<module>\u001b[0;34m()\u001b[0m\n\u001b[1;32m      2\u001b[0m \u001b[0mquery\u001b[0m \u001b[0;34m=\u001b[0m \u001b[0mcluster\u001b[0m\u001b[0;34m.\u001b[0m\u001b[0mquery\u001b[0m\u001b[0;34m(\u001b[0m\u001b[0;34m'cluster == 2865'\u001b[0m\u001b[0;34m)\u001b[0m\u001b[0;34m\u001b[0m\u001b[0;34m\u001b[0m\u001b[0m\n\u001b[1;32m      3\u001b[0m \u001b[0mmatch\u001b[0m \u001b[0;34m=\u001b[0m \u001b[0mquery\u001b[0m\u001b[0;34m.\u001b[0m\u001b[0mindex\u001b[0m\u001b[0;34m.\u001b[0m\u001b[0mvalues\u001b[0m\u001b[0;34m.\u001b[0m\u001b[0mtolist\u001b[0m\u001b[0;34m(\u001b[0m\u001b[0;34m)\u001b[0m\u001b[0;34m\u001b[0m\u001b[0;34m\u001b[0m\u001b[0m\n\u001b[0;32m----> 4\u001b[0;31m \u001b[0msub\u001b[0m \u001b[0;34m=\u001b[0m \u001b[0mupload\u001b[0m\u001b[0;34m.\u001b[0m\u001b[0mfilter\u001b[0m\u001b[0;34m(\u001b[0m\u001b[0mitems\u001b[0m \u001b[0;34m=\u001b[0m \u001b[0maccess\u001b[0m\u001b[0;34m,\u001b[0m \u001b[0maxis\u001b[0m\u001b[0;34m=\u001b[0m\u001b[0;36m0\u001b[0m\u001b[0;34m)\u001b[0m\u001b[0;34m\u001b[0m\u001b[0;34m\u001b[0m\u001b[0m\n\u001b[0m",
         "\u001b[0;31mNameError\u001b[0m: name 'access' is not defined"
        ]
       }
      ],
      "source": "cluster = pd.read_csv('Output/cluster2.csv', sep = ',', na_filter = False, index_col = 0, header = 0)\nquery = cluster.query('cluster == 2865')\nmatch = query.index.values.tolist()\nsub = upload.filter(items = access, axis=0)",
      "start_time": "2021-01-19T13:26:49.008Z"
     },
     {
      "end_time": "2021-01-19T13:27:06.466Z",
      "execution_time": "525ms",
      "outputs": [
       {
        "name": "stderr",
        "output_type": "stream",
        "text": "/home/ahenoch/miniconda3/envs/masterthesis/lib/python3.6/site-packages/IPython/core/interactiveshell.py:2714: DtypeWarning: Columns (3) have mixed types.Specify dtype option on import or set low_memory=False.\n  interactivity=interactivity, compiler=compiler, result=result)\n"
       }
      ],
      "source": "cluster = pd.read_csv('Output/cluster2.csv', sep = ',', na_filter = False, index_col = 0, header = 0)\nquery = cluster.query('cluster == 2865')\nmatch = query.index.values.tolist()\nsub = upload.filter(items = match, axis=0)",
      "start_time": "2021-01-19T13:27:05.941Z"
     },
     {
      "end_time": "2021-01-19T13:37:44.496Z",
      "execution_time": "58ms",
      "outputs": [],
      "source": "cluster = pd.read_csv('Output/cluster.csv', sep = ',', na_filter = False, index_col = 0, header = 0)\nquery = cluster.query('cluster == 65')\nmatch = query.index.values.tolist()\nsub = upload.filter(items = match, axis=0)",
      "start_time": "2021-01-19T13:37:44.438Z"
     },
     {
      "end_time": "2021-01-19T13:44:18.003Z",
      "execution_time": "50ms",
      "outputs": [],
      "source": "cluster = pd.read_csv('Output/cluster.csv', sep = ',', na_filter = False, index_col = 0, header = 0)\nquery = cluster.query('cluster == 0')\nmatch = query.index.values.tolist()\nsub = upload.filter(items = match, axis=0)",
      "start_time": "2021-01-19T13:44:17.953Z"
     },
     {
      "end_time": "2021-01-19T13:45:18.316Z",
      "execution_time": "52ms",
      "outputs": [],
      "source": "cluster = pd.read_csv('Output/cluster.csv', sep = ',', na_filter = False, index_col = 0, header = 0)\nquery = cluster.query('cluster == 100')\nmatch = query.index.values.tolist()\nsub = upload.filter(items = match, axis=0)",
      "start_time": "2021-01-19T13:45:18.264Z"
     },
     {
      "end_time": "2021-01-19T13:45:28.691Z",
      "execution_time": "49ms",
      "outputs": [],
      "source": "cluster = pd.read_csv('Output/cluster.csv', sep = ',', na_filter = False, index_col = 0, header = 0)\nquery = cluster.query('cluster == 600')\nmatch = query.index.values.tolist()\nsub = upload.filter(items = match, axis=0)",
      "start_time": "2021-01-19T13:45:28.642Z"
     },
     {
      "end_time": "2021-01-19T13:45:44.742Z",
      "execution_time": "50ms",
      "outputs": [],
      "source": "cluster = pd.read_csv('Output/cluster.csv', sep = ',', na_filter = False, index_col = 0, header = 0)\nquery = cluster.query('cluster == 60')\nmatch = query.index.values.tolist()\nsub = upload.filter(items = match, axis=0)",
      "start_time": "2021-01-19T13:45:44.692Z"
     },
     {
      "end_time": "2021-01-19T13:50:51.327Z",
      "execution_time": "58ms",
      "outputs": [
       {
        "ename": "NameError",
        "evalue": "name 'clusters' is not defined",
        "output_type": "error",
        "traceback": [
         "\u001b[0;31m---------------------------------------------------------------------------\u001b[0m",
         "\u001b[0;31mNameError\u001b[0m                                 Traceback (most recent call last)",
         "\u001b[0;32m<ipython-input-49-e008ee349a32>\u001b[0m in \u001b[0;36m<module>\u001b[0;34m()\u001b[0m\n\u001b[1;32m      1\u001b[0m \u001b[0mcluster\u001b[0m \u001b[0;34m=\u001b[0m \u001b[0mpd\u001b[0m\u001b[0;34m.\u001b[0m\u001b[0mread_csv\u001b[0m\u001b[0;34m(\u001b[0m\u001b[0;34m'Output/cluster.csv'\u001b[0m\u001b[0;34m,\u001b[0m \u001b[0msep\u001b[0m \u001b[0;34m=\u001b[0m \u001b[0;34m','\u001b[0m\u001b[0;34m,\u001b[0m \u001b[0mna_filter\u001b[0m \u001b[0;34m=\u001b[0m \u001b[0;32mFalse\u001b[0m\u001b[0;34m,\u001b[0m \u001b[0mindex_col\u001b[0m \u001b[0;34m=\u001b[0m \u001b[0;36m0\u001b[0m\u001b[0;34m,\u001b[0m \u001b[0mheader\u001b[0m \u001b[0;34m=\u001b[0m \u001b[0;36m0\u001b[0m\u001b[0;34m)\u001b[0m\u001b[0;34m\u001b[0m\u001b[0;34m\u001b[0m\u001b[0m\n\u001b[0;32m----> 2\u001b[0;31m \u001b[0mnum\u001b[0m \u001b[0;34m=\u001b[0m \u001b[0mclusters\u001b[0m\u001b[0;34m[\u001b[0m\u001b[0;34m'cluster'\u001b[0m\u001b[0;34m]\u001b[0m\u001b[0;34m.\u001b[0m\u001b[0mmax\u001b[0m\u001b[0;34m(\u001b[0m\u001b[0;34m)\u001b[0m\u001b[0;34m\u001b[0m\u001b[0;34m\u001b[0m\u001b[0m\n\u001b[0m\u001b[1;32m      3\u001b[0m \u001b[0mclusters\u001b[0m \u001b[0;34m=\u001b[0m \u001b[0mco\u001b[0m\u001b[0;34m.\u001b[0m\u001b[0mdefaultdict\u001b[0m\u001b[0;34m(\u001b[0m\u001b[0mlist\u001b[0m\u001b[0;34m)\u001b[0m\u001b[0;34m\u001b[0m\u001b[0;34m\u001b[0m\u001b[0m\n\u001b[1;32m      4\u001b[0m \u001b[0;32mfor\u001b[0m \u001b[0mi\u001b[0m \u001b[0;32min\u001b[0m \u001b[0mnum\u001b[0m\u001b[0;34m:\u001b[0m\u001b[0;34m\u001b[0m\u001b[0;34m\u001b[0m\u001b[0m\n\u001b[1;32m      5\u001b[0m \u001b[0;34m\u001b[0m\u001b[0m\n",
         "\u001b[0;31mNameError\u001b[0m: name 'clusters' is not defined"
        ]
       }
      ],
      "source": "cluster = pd.read_csv('Output/cluster.csv', sep = ',', na_filter = False, index_col = 0, header = 0)\nnum = clusters['cluster'].max()\nclusters = co.defaultdict(list)\nfor i in num:\n\n    query = cluster.query('cluster == @i')\n    match = query.index.values.tolist()\n    sub = upload.filter(items = match, axis=0)\n\n    fasta = sub[['genome']].copy()\n    fasta.to_csv('genome.fasta', header=None, index=True, sep='\\n', mode='w')\n\n    mafft_cline = MafftCommandline(input='genome.fasta')\n    stdout, stderr = mafft_cline()\n    #align = AlignIO.read(StringIO(stdout), \"fasta\")\n    #count = AlignIO.write(align, \"result.faa\", \"fasta\")\n\n    x = co.defaultdict(str)\n    for i in stdout.split('\\n'):\n        if i == '':\n            pass\n        elif i[0] == '>':\n            accession = i\n        else:\n            x[accession] += i\n\n    y = pd.DataFrame.from_dict(x, orient='index', columns=['alignment'])\n    y.index.rename('accession', inplace=True)\n\n    clusters[i] = y",
      "start_time": "2021-01-19T13:50:51.269Z"
     },
     {
      "end_time": "2021-01-19T13:50:57.142Z",
      "execution_time": "57ms",
      "outputs": [
       {
        "ename": "TypeError",
        "evalue": "'numpy.int64' object is not iterable",
        "output_type": "error",
        "traceback": [
         "\u001b[0;31m---------------------------------------------------------------------------\u001b[0m",
         "\u001b[0;31mTypeError\u001b[0m                                 Traceback (most recent call last)",
         "\u001b[0;32m<ipython-input-50-dd95d9d3d016>\u001b[0m in \u001b[0;36m<module>\u001b[0;34m()\u001b[0m\n\u001b[1;32m      2\u001b[0m \u001b[0mnum\u001b[0m \u001b[0;34m=\u001b[0m \u001b[0mcluster\u001b[0m\u001b[0;34m[\u001b[0m\u001b[0;34m'cluster'\u001b[0m\u001b[0;34m]\u001b[0m\u001b[0;34m.\u001b[0m\u001b[0mmax\u001b[0m\u001b[0;34m(\u001b[0m\u001b[0;34m)\u001b[0m\u001b[0;34m\u001b[0m\u001b[0;34m\u001b[0m\u001b[0m\n\u001b[1;32m      3\u001b[0m \u001b[0mclusters\u001b[0m \u001b[0;34m=\u001b[0m \u001b[0mco\u001b[0m\u001b[0;34m.\u001b[0m\u001b[0mdefaultdict\u001b[0m\u001b[0;34m(\u001b[0m\u001b[0mlist\u001b[0m\u001b[0;34m)\u001b[0m\u001b[0;34m\u001b[0m\u001b[0;34m\u001b[0m\u001b[0m\n\u001b[0;32m----> 4\u001b[0;31m \u001b[0;32mfor\u001b[0m \u001b[0mi\u001b[0m \u001b[0;32min\u001b[0m \u001b[0mnum\u001b[0m\u001b[0;34m:\u001b[0m\u001b[0;34m\u001b[0m\u001b[0;34m\u001b[0m\u001b[0m\n\u001b[0m\u001b[1;32m      5\u001b[0m \u001b[0;34m\u001b[0m\u001b[0m\n\u001b[1;32m      6\u001b[0m     \u001b[0mquery\u001b[0m \u001b[0;34m=\u001b[0m \u001b[0mcluster\u001b[0m\u001b[0;34m.\u001b[0m\u001b[0mquery\u001b[0m\u001b[0;34m(\u001b[0m\u001b[0;34m'cluster == @i'\u001b[0m\u001b[0;34m)\u001b[0m\u001b[0;34m\u001b[0m\u001b[0;34m\u001b[0m\u001b[0m\n",
         "\u001b[0;31mTypeError\u001b[0m: 'numpy.int64' object is not iterable"
        ]
       }
      ],
      "source": "cluster = pd.read_csv('Output/cluster.csv', sep = ',', na_filter = False, index_col = 0, header = 0)\nnum = cluster['cluster'].max()\nclusters = co.defaultdict(list)\nfor i in num:\n\n    query = cluster.query('cluster == @i')\n    match = query.index.values.tolist()\n    sub = upload.filter(items = match, axis=0)\n\n    fasta = sub[['genome']].copy()\n    fasta.to_csv('genome.fasta', header=None, index=True, sep='\\n', mode='w')\n\n    mafft_cline = MafftCommandline(input='genome.fasta')\n    stdout, stderr = mafft_cline()\n    #align = AlignIO.read(StringIO(stdout), \"fasta\")\n    #count = AlignIO.write(align, \"result.faa\", \"fasta\")\n\n    x = co.defaultdict(str)\n    for i in stdout.split('\\n'):\n        if i == '':\n            pass\n        elif i[0] == '>':\n            accession = i\n        else:\n            x[accession] += i\n\n    y = pd.DataFrame.from_dict(x, orient='index', columns=['alignment'])\n    y.index.rename('accession', inplace=True)\n\n    clusters[i] = y",
      "start_time": "2021-01-19T13:50:57.085Z"
     },
     {
      "end_time": "2021-01-19T14:01:08.615Z",
      "execution_time": "9m 50s",
      "outputs": [
       {
        "ename": "KeyboardInterrupt",
        "evalue": "",
        "output_type": "error",
        "traceback": [
         "\u001b[0;31m---------------------------------------------------------------------------\u001b[0m",
         "\u001b[0;31mKeyboardInterrupt\u001b[0m                         Traceback (most recent call last)",
         "\u001b[0;32m<ipython-input-51-952c29a0d805>\u001b[0m in \u001b[0;36m<module>\u001b[0;34m()\u001b[0m\n\u001b[1;32m     12\u001b[0m \u001b[0;34m\u001b[0m\u001b[0m\n\u001b[1;32m     13\u001b[0m     \u001b[0mmafft_cline\u001b[0m \u001b[0;34m=\u001b[0m \u001b[0mMafftCommandline\u001b[0m\u001b[0;34m(\u001b[0m\u001b[0minput\u001b[0m\u001b[0;34m=\u001b[0m\u001b[0;34m'genome.fasta'\u001b[0m\u001b[0;34m)\u001b[0m\u001b[0;34m\u001b[0m\u001b[0;34m\u001b[0m\u001b[0m\n\u001b[0;32m---> 14\u001b[0;31m     \u001b[0mstdout\u001b[0m\u001b[0;34m,\u001b[0m \u001b[0mstderr\u001b[0m \u001b[0;34m=\u001b[0m \u001b[0mmafft_cline\u001b[0m\u001b[0;34m(\u001b[0m\u001b[0;34m)\u001b[0m\u001b[0;34m\u001b[0m\u001b[0;34m\u001b[0m\u001b[0m\n\u001b[0m\u001b[1;32m     15\u001b[0m     \u001b[0;31m#align = AlignIO.read(StringIO(stdout), \"fasta\")\u001b[0m\u001b[0;34m\u001b[0m\u001b[0;34m\u001b[0m\u001b[0;34m\u001b[0m\u001b[0m\n\u001b[1;32m     16\u001b[0m     \u001b[0;31m#count = AlignIO.write(align, \"result.faa\", \"fasta\")\u001b[0m\u001b[0;34m\u001b[0m\u001b[0;34m\u001b[0m\u001b[0;34m\u001b[0m\u001b[0m\n",
         "\u001b[0;32m/home/ahenoch/miniconda3/envs/masterthesis/lib/python3.6/site-packages/Bio/Application/__init__.py\u001b[0m in \u001b[0;36m__call__\u001b[0;34m(self, stdin, stdout, stderr, cwd, env)\u001b[0m\n\u001b[1;32m    549\u001b[0m         )\n\u001b[1;32m    550\u001b[0m         \u001b[0;31m# Use .communicate as can get deadlocks with .wait(), see Bug 2804\u001b[0m\u001b[0;34m\u001b[0m\u001b[0;34m\u001b[0m\u001b[0;34m\u001b[0m\u001b[0m\n\u001b[0;32m--> 551\u001b[0;31m         \u001b[0mstdout_str\u001b[0m\u001b[0;34m,\u001b[0m \u001b[0mstderr_str\u001b[0m \u001b[0;34m=\u001b[0m \u001b[0mchild_process\u001b[0m\u001b[0;34m.\u001b[0m\u001b[0mcommunicate\u001b[0m\u001b[0;34m(\u001b[0m\u001b[0mstdin\u001b[0m\u001b[0;34m)\u001b[0m\u001b[0;34m\u001b[0m\u001b[0;34m\u001b[0m\u001b[0m\n\u001b[0m\u001b[1;32m    552\u001b[0m         \u001b[0;32mif\u001b[0m \u001b[0;32mnot\u001b[0m \u001b[0mstdout\u001b[0m\u001b[0;34m:\u001b[0m\u001b[0;34m\u001b[0m\u001b[0;34m\u001b[0m\u001b[0m\n\u001b[1;32m    553\u001b[0m             \u001b[0;32massert\u001b[0m \u001b[0;32mnot\u001b[0m \u001b[0mstdout_str\u001b[0m\u001b[0;34m,\u001b[0m \u001b[0mstdout_str\u001b[0m\u001b[0;34m\u001b[0m\u001b[0;34m\u001b[0m\u001b[0m\n",
         "\u001b[0;32m/home/ahenoch/miniconda3/envs/masterthesis/lib/python3.6/subprocess.py\u001b[0m in \u001b[0;36mcommunicate\u001b[0;34m(self, input, timeout)\u001b[0m\n\u001b[1;32m    861\u001b[0m \u001b[0;34m\u001b[0m\u001b[0m\n\u001b[1;32m    862\u001b[0m             \u001b[0;32mtry\u001b[0m\u001b[0;34m:\u001b[0m\u001b[0;34m\u001b[0m\u001b[0;34m\u001b[0m\u001b[0m\n\u001b[0;32m--> 863\u001b[0;31m                 \u001b[0mstdout\u001b[0m\u001b[0;34m,\u001b[0m \u001b[0mstderr\u001b[0m \u001b[0;34m=\u001b[0m \u001b[0mself\u001b[0m\u001b[0;34m.\u001b[0m\u001b[0m_communicate\u001b[0m\u001b[0;34m(\u001b[0m\u001b[0minput\u001b[0m\u001b[0;34m,\u001b[0m \u001b[0mendtime\u001b[0m\u001b[0;34m,\u001b[0m \u001b[0mtimeout\u001b[0m\u001b[0;34m)\u001b[0m\u001b[0;34m\u001b[0m\u001b[0;34m\u001b[0m\u001b[0m\n\u001b[0m\u001b[1;32m    864\u001b[0m             \u001b[0;32mfinally\u001b[0m\u001b[0;34m:\u001b[0m\u001b[0;34m\u001b[0m\u001b[0;34m\u001b[0m\u001b[0m\n\u001b[1;32m    865\u001b[0m                 \u001b[0mself\u001b[0m\u001b[0;34m.\u001b[0m\u001b[0m_communication_started\u001b[0m \u001b[0;34m=\u001b[0m \u001b[0;32mTrue\u001b[0m\u001b[0;34m\u001b[0m\u001b[0;34m\u001b[0m\u001b[0m\n",
         "\u001b[0;32m/home/ahenoch/miniconda3/envs/masterthesis/lib/python3.6/subprocess.py\u001b[0m in \u001b[0;36m_communicate\u001b[0;34m(self, input, endtime, orig_timeout)\u001b[0m\n\u001b[1;32m   1532\u001b[0m                         \u001b[0;32mraise\u001b[0m \u001b[0mTimeoutExpired\u001b[0m\u001b[0;34m(\u001b[0m\u001b[0mself\u001b[0m\u001b[0;34m.\u001b[0m\u001b[0margs\u001b[0m\u001b[0;34m,\u001b[0m \u001b[0morig_timeout\u001b[0m\u001b[0;34m)\u001b[0m\u001b[0;34m\u001b[0m\u001b[0;34m\u001b[0m\u001b[0m\n\u001b[1;32m   1533\u001b[0m \u001b[0;34m\u001b[0m\u001b[0m\n\u001b[0;32m-> 1534\u001b[0;31m                     \u001b[0mready\u001b[0m \u001b[0;34m=\u001b[0m \u001b[0mselector\u001b[0m\u001b[0;34m.\u001b[0m\u001b[0mselect\u001b[0m\u001b[0;34m(\u001b[0m\u001b[0mtimeout\u001b[0m\u001b[0;34m)\u001b[0m\u001b[0;34m\u001b[0m\u001b[0;34m\u001b[0m\u001b[0m\n\u001b[0m\u001b[1;32m   1535\u001b[0m                     \u001b[0mself\u001b[0m\u001b[0;34m.\u001b[0m\u001b[0m_check_timeout\u001b[0m\u001b[0;34m(\u001b[0m\u001b[0mendtime\u001b[0m\u001b[0;34m,\u001b[0m \u001b[0morig_timeout\u001b[0m\u001b[0;34m)\u001b[0m\u001b[0;34m\u001b[0m\u001b[0;34m\u001b[0m\u001b[0m\n\u001b[1;32m   1536\u001b[0m \u001b[0;34m\u001b[0m\u001b[0m\n",
         "\u001b[0;32m/home/ahenoch/miniconda3/envs/masterthesis/lib/python3.6/selectors.py\u001b[0m in \u001b[0;36mselect\u001b[0;34m(self, timeout)\u001b[0m\n\u001b[1;32m    374\u001b[0m             \u001b[0mready\u001b[0m \u001b[0;34m=\u001b[0m \u001b[0;34m[\u001b[0m\u001b[0;34m]\u001b[0m\u001b[0;34m\u001b[0m\u001b[0;34m\u001b[0m\u001b[0m\n\u001b[1;32m    375\u001b[0m             \u001b[0;32mtry\u001b[0m\u001b[0;34m:\u001b[0m\u001b[0;34m\u001b[0m\u001b[0;34m\u001b[0m\u001b[0m\n\u001b[0;32m--> 376\u001b[0;31m                 \u001b[0mfd_event_list\u001b[0m \u001b[0;34m=\u001b[0m \u001b[0mself\u001b[0m\u001b[0;34m.\u001b[0m\u001b[0m_poll\u001b[0m\u001b[0;34m.\u001b[0m\u001b[0mpoll\u001b[0m\u001b[0;34m(\u001b[0m\u001b[0mtimeout\u001b[0m\u001b[0;34m)\u001b[0m\u001b[0;34m\u001b[0m\u001b[0;34m\u001b[0m\u001b[0m\n\u001b[0m\u001b[1;32m    377\u001b[0m             \u001b[0;32mexcept\u001b[0m \u001b[0mInterruptedError\u001b[0m\u001b[0;34m:\u001b[0m\u001b[0;34m\u001b[0m\u001b[0;34m\u001b[0m\u001b[0m\n\u001b[1;32m    378\u001b[0m                 \u001b[0;32mreturn\u001b[0m \u001b[0mready\u001b[0m\u001b[0;34m\u001b[0m\u001b[0;34m\u001b[0m\u001b[0m\n",
         "\u001b[0;31mKeyboardInterrupt\u001b[0m: "
        ]
       }
      ],
      "source": "cluster = pd.read_csv('Output/cluster.csv', sep = ',', na_filter = False, index_col = 0, header = 0)\nnum = cluster['cluster'].max()\nclusters = co.defaultdict(list)\nfor i in range(num):\n\n    query = cluster.query('cluster == @i')\n    match = query.index.values.tolist()\n    sub = upload.filter(items = match, axis=0)\n\n    fasta = sub[['genome']].copy()\n    fasta.to_csv('genome.fasta', header=None, index=True, sep='\\n', mode='w')\n\n    mafft_cline = MafftCommandline(input='genome.fasta', thread=8)\n    stdout, stderr = mafft_cline()\n    #align = AlignIO.read(StringIO(stdout), \"fasta\")\n    #count = AlignIO.write(align, \"result.faa\", \"fasta\")\n\n    x = co.defaultdict(str)\n    for i in stdout.split('\\n'):\n        if i == '':\n            pass\n        elif i[0] == '>':\n            accession = i\n        else:\n            x[accession] += i\n\n    y = pd.DataFrame.from_dict(x, orient='index', columns=['alignment'])\n    y.index.rename('accession', inplace=True)\n\n    clusters[i] = y",
      "start_time": "2021-01-19T13:51:18.760Z"
     },
     {
      "end_time": "2021-01-19T14:02:51.774Z",
      "execution_time": "57ms",
      "outputs": [
       {
        "ename": "TypeError",
        "evalue": "'int' object is not iterable",
        "output_type": "error",
        "traceback": [
         "\u001b[0;31m---------------------------------------------------------------------------\u001b[0m",
         "\u001b[0;31mTypeError\u001b[0m                                 Traceback (most recent call last)",
         "\u001b[0;32m<ipython-input-54-94009aed34ef>\u001b[0m in \u001b[0;36m<module>\u001b[0;34m()\u001b[0m\n\u001b[1;32m      2\u001b[0m \u001b[0mnum\u001b[0m \u001b[0;34m=\u001b[0m \u001b[0mcluster\u001b[0m\u001b[0;34m[\u001b[0m\u001b[0;34m'cluster'\u001b[0m\u001b[0;34m]\u001b[0m\u001b[0;34m.\u001b[0m\u001b[0mmax\u001b[0m\u001b[0;34m(\u001b[0m\u001b[0;34m)\u001b[0m\u001b[0;34m\u001b[0m\u001b[0;34m\u001b[0m\u001b[0m\n\u001b[1;32m      3\u001b[0m \u001b[0mclusters\u001b[0m \u001b[0;34m=\u001b[0m \u001b[0mco\u001b[0m\u001b[0;34m.\u001b[0m\u001b[0mdefaultdict\u001b[0m\u001b[0;34m(\u001b[0m\u001b[0mlist\u001b[0m\u001b[0;34m)\u001b[0m\u001b[0;34m\u001b[0m\u001b[0;34m\u001b[0m\u001b[0m\n\u001b[0;32m----> 4\u001b[0;31m \u001b[0;32mfor\u001b[0m \u001b[0mi\u001b[0m \u001b[0;32min\u001b[0m \u001b[0;36m10\u001b[0m\u001b[0;34m:\u001b[0m\u001b[0;31m#range(num):\u001b[0m\u001b[0;34m\u001b[0m\u001b[0;34m\u001b[0m\u001b[0m\n\u001b[0m\u001b[1;32m      5\u001b[0m \u001b[0;34m\u001b[0m\u001b[0m\n\u001b[1;32m      6\u001b[0m     \u001b[0mquery\u001b[0m \u001b[0;34m=\u001b[0m \u001b[0mcluster\u001b[0m\u001b[0;34m.\u001b[0m\u001b[0mquery\u001b[0m\u001b[0;34m(\u001b[0m\u001b[0;34m'cluster == @i'\u001b[0m\u001b[0;34m)\u001b[0m\u001b[0;34m\u001b[0m\u001b[0;34m\u001b[0m\u001b[0m\n",
         "\u001b[0;31mTypeError\u001b[0m: 'int' object is not iterable"
        ]
       }
      ],
      "source": "cluster = pd.read_csv('Output/cluster.csv', sep = ',', na_filter = False, index_col = 0, header = 0)\nnum = cluster['cluster'].max()\nclusters = co.defaultdict(list)\nfor i in 10:#range(num):\n\n    query = cluster.query('cluster == @i')\n    match = query.index.values.tolist()\n    sub = upload.filter(items = match, axis=0)\n\n    fasta = sub[['genome']].copy()\n    fasta.to_csv('genome.fasta', header=None, index=True, sep='\\n', mode='w')\n\n    mafft_cline = MafftCommandline(input='genome.fasta', thread=8)\n    stdout, stderr = mafft_cline()\n    #align = AlignIO.read(StringIO(stdout), \"fasta\")\n    #count = AlignIO.write(align, \"result.faa\", \"fasta\")\n\n    x = co.defaultdict(str)\n    for i in stdout.split('\\n'):\n        if i == '':\n            pass\n        elif i[0] == '>':\n            accession = i\n        else:\n            x[accession] += i\n\n    y = pd.DataFrame.from_dict(x, orient='index', columns=['alignment'])\n    y.index.rename('accession', inplace=True)\n\n    print(y)\n    clusters[i] = y",
      "start_time": "2021-01-19T14:02:51.717Z"
     },
     {
      "end_time": "2021-01-19T14:03:11.894Z",
      "execution_time": "10.7s",
      "outputs": [
       {
        "name": "stdout",
        "output_type": "stream",
        "text": "                                                   alignment\naccession                                                   \n>MK364444  tcaaatatattcaatatggagagaataaaagagctgagagacctaa...\n>MK265655  tcaaatatattcaatatggagagaataaaagagctgagagacctaa...\n>MK855778  tcaaatatattcaatatggagagaataaaagagctgagagacctaa...\n>MK265637  tcaaatatattcaatatggagagaataaaagagctgagagacctaa...\n>MK364640  tcaaatatattcaatatggagagaataaaagagctgagagacctaa...\n>MK557056  tcaaatatattcaatatggagagaataaaagagctgagagacctaa...\n>MK631071  tcaaatatattcaatatggagagaataaaagagctgagagacctaa...\n>MK557104  tcaaatatattcaatatggagagaataaaagagctgagagacctaa...\n>MK364024  tcaaatatattcaatatggagagaataaaagagctgagagacctaa...\n>MN003999  tcaaatatattcaatatggagagaataaaagagctgagagacctaa...\n>MK398930  tcaaatatattcaatatggagagaataaaagagctgagagacctaa...\n>MK999711  tcaaatatattcaatatggagagaataaaagagctgagagacctaa...\n>MK716007  tcaaatatattcaatatggagagaataaaagagctgagagacctaa...\n>MK999724  tcaaatatattcaatatggagagaataaaagagctgagagacctaa...\n>MK999732  tcaaatatattcaatatggagagaataaaagagctgagagacctaa...\n>MN004119  tcaaatatattcaatatggagagaataaaagagctgagagacctaa...\n>MK398978  tcaaatatattcaatatggagagaataaaagagctgagagacctaa...\n>MK475204  tcaaatatattcaatatggagagaataaaagagctgagagacctaa...\n>MK623722  tcaaatatattcaatatggagagaataaaagagctgagagacctaa...\n>MK676657  tcaaatatattcaatatggagagaataaaagagctgagagacctaa...\n>MK623770  tcaaatatattcaatatggagagaataaaagagctgagagacctaa...\n>MK631487  tcaaatatattcaatatggagagaataaaagagctgagagacctaa...\n>MK623786  tcaaatatattcaatatggagagaataaaagagctgagagacctaa...\n>MN230052  tcaaatatattcaatatggagagaataaaagagctgagagacctaa...\n>MK631663  tcaaatatattcaatatggagagaataaaagagctgagagacctaa...\n>MK773450  tcaaatatattcaatatggagagaataaaagagctgagagacctaa...\n                                                   alignment\naccession                                                   \n>MK772906  tcaaatatattcaatatggagagaataaaagagctgagagacctaa...\n>MK999439  tcaaatatattcaatatggagagaataaaagagctgagagacctaa...\n>MK855626  tcaaatatattcaatatggagagaataaaagagctgagagacctaa...\n>MN083383  tcaaatatattcaatatggagagaataaaagagctgagagacctaa...\n>MK715806  tcaaatatattcaatatggagagaataaaagagctgagagacctaa...\n...                                                      ...\n>MN083951  tcaaatatattcaatatggagagaataaaagagctgagagacctaa...\n>MN083959  tcaaatatattcaatatggagagaataaaagagctgagagacctaa...\n>MN161117  tcaaatatattcaatatggagagaataaaagagctgagagacctaa...\n>MN083991  tcaaatatattcaatatggagagaataaaagagctgagagacctaa...\n>MN004727  tcaaatatattcaatatggagagaataaaagagctgagagacctaa...\n\n[121 rows x 1 columns]\n                                                   alignment\naccession                                                   \n>CY241200  ---------------aatatattcaatatggagagaataaaagaac...\n>CY241468  ---------------aatatattcaatatggagagaataaaagaac...\n>CY240894  ---------------aatatattcaatatggagagaataaaagaac...\n>CY241004  ---------------aatatattcaatatggagagaataaaagaac...\n>CY241045  ---------------aatatattcaatatggagagaataaaagaac...\n...                                                      ...\n>CY241338  ---------------aatatattcaatatggagagaataaaagaac...\n>CY241347  ---------------aatatattcaatatggagagaataaaagaac...\n>CY241477  ---------------aatatattcaatatggagagaataaaagaac...\n>CY241511  ---------------aatatattcaatatggagagaataaaagaac...\n>CY241568  ---------------aatatattcaatatggagagaataaaagaac...\n\n[140 rows x 1 columns]\n                                                   alignment\naccession                                                   \n>MT034541  tcaaatatattcaatatggagagaataaaagagctgagagatctaa...\n>MT057903  tcaaatatattcaatatggagagaataaaagagctgagagatctaa...\n>MT057910  tcaaatatattcaatatggagagaataaaagagctgagagatctaa...\n>MT034614  tcaaatatattcaatatggagagaataaaagagctgagagatctaa...\n>MN948072  tcaaatatattcaatatggagagaataaaagagctgagagatctaa...\n...                                                      ...\n>MN977006  tcaaatatattcaatatggagagaataaaagagctgagagatctaa...\n>MT035699  tcaaatatattcaatatggagagaataaaagagctgagagatctaa...\n>MT035700  tcaaatatattcaatatggagagaataaaagagctgagagatctaa...\n>MT035716  tcaaatatattcaatatggagagaataaaagagctgagagatctaa...\n>MT035708  tcaaatatattcaatatggagagaataaaagagctgagagatctaa...\n\n[62 rows x 1 columns]\n                                                   alignment\naccession                                                   \n>MK856598  tcaattatattcagcatggaaagaataaaagaacttcggaatctaa...\n>MN084202  tcaattatattcagcatggaaagaataaaagaacttcggaatctaa...\n>MN372777  tcaattatattcagcatggaaagaataaaagaacttcggaatctaa...\n>MN084533  tcaattatattcagcatggaaagaataaaagaacttcggaatctaa...\n>MN423884  tcaattatattcagcatggaaagaataaaagaacttcggaatctaa...\n>MN222255  tcaattatattcagcatggaaagaataaaagaacttcggaatctaa...\n>MN222364  tcaattatattcagcatggaaagaataaaagaacttcggaatctaa...\n>MN247127  tcaattatattcagcatggaaagaataaaagaacttcggaatctaa...\n>MK856417  tcaattatattcagcatggaaagaataaaagaacttcggaatctaa...\n>MN247810  tcaattatattcagcatggaaagaataaaagaacttcggaatctaa...\n>MN319320  tcaattatattcagcatggaaagaataaaagaacttcggaatctaa...\n>MN373060  tcaattatattcagcatggaaagaataaaagaacttcggaatctaa...\n>MN319360  tcaattatattcagcatggaaagaataaaagaacttcggaatctaa...\n>MN373116  tcaattatattcagcatggaaagaataaaagaacttcggaatctaa...\n>MN223084  tcaattatattcagcatggaaagaataaaagaacttcggaatctaa...\n>MN002530  tcaattatattcagcatggaaagaataaaagaacttcggaatctaa...\n                                                   alignment\naccession                                                   \n>CY208925  tcaattatattcagcatggaaagaataaaagaactacggaatctaa...\n>KY003425  tcaattatattcagcatggaaagaataaaagaactacggaatctaa...\n>KY003393  tcaattatattcagcatggaaagaataaaagaactacggaatctaa...\n>CY208917  tcaattatattcagcatggaaagaataaaagaactacggaatctaa...\n>KY116595  tcaattatattcagcatggaaagaataaaagaactacggaatctaa...\n...                                                      ...\n>CY213199  tcaattatattcagcatggaaagaataaaagaactacggaatctaa...\n>KY116443  tcaattatattcagcatggaaagaataaaagaactacggaatctaa...\n>KY289295  tcaattatattcagcatggaaagaataaaagaactacggaatctaa...\n>CY226995  tcaattatattcagcatggaaagaataaaagaactacggaatctaa...\n>CY214791  tcaattatattcagcatggaaagaataaaagaactacggaatctaa...\n\n[61 rows x 1 columns]\n                                                   alignment\naccession                                                   \n>MN222044  tcaattatattcagcatggaaagaataaaagaacttcggaatctaa...\n>MN222047  tcaattatattcagcatggaaagaataaaagaacttcggaatctaa...\n>MK744997  tcaattatattcagcatggaaagaataaaagaacttcggaatctaa...\n>MN001492  tcaattatattcagcatggaaagaataaaagaacttcggaatctaa...\n>MN222268  tcaattatattcagcatggaaagaataaaagaacttcggaatctaa...\n>MN247151  tcaattatattcagcatggaaagaataaaagaacttcggaatctaa...\n>MN001687  tcaattatattcagcatggaaagaataaaagaacttcggaatctaa...\n>MN084653  tcaattatattcagcatggaaagaataaaagaacttcggaatctaa...\n>MN372802  tcaattatattcagcatggaaagaataaaagaacttcggaatctaa...\n>MN001999  tcaattatattcagcatggaaagaataaaagaacttcggaatctaa...\n>MK772478  tcaattatattcagcatggaaagaataaaagaacttcggaatctaa...\n                                                   alignment\naccession                                                   \n>CY257161  ---attatattcagcatggaaagaataaaagaactacggaatctaa...\n>CY257057  ---attatattcagcatggaaagaataaaagaactacggaatctaa...\n>CY257433  ---attatattcagcatggaaagaataaaagaactacggaatctaa...\n>CY257409  ---attatattcagcatggaaagaataaaagaactacggaatctaa...\n>CY257009  tcaattatattcagcatggaaagaataaaagaactacggaatctaa...\n>CY257297  ---attatattcagcatggaaagaataaaagaactacggaatctaa...\n>CY257089  ---attatattcagcatggaaagaataaaagaactacggaatctaa...\n>CY257113  ---attatattcagcatggaaagaataaaagaactacggaatctaa...\n>CY257329  ---attatattcagcatggaaagaataaaagaactacggaatctaa...\n>CY257097  ---attatattcagcatggaaagaataaaagaactacggaatctaa...\n>CY240738  ---attatattcagcatggaaagaataaaagaactacggaatctaa...\n                                                   alignment\naccession                                                   \n>MK676864  tcaattatattcagcatggaaagaataaaagaacttcggaatctaa...\n>MN000695  tcaattatattcagcatggaaagaataaaagaacttcggaatctaa...\n>MN000711  tcaattatattcagcatggaaagaataaaagaacttcggaatctaa...\n>MK744213  tcaattatattcagcatggaaagaataaaagaacttcggaatctaa...\n>MK856590  tcaattatattcagcatggaaagaataaaagaacttcggaatctaa...\n...                                                      ...\n>MN223036  tcaattatattcagcatggaaagaataaaagaacttcggaatctaa...\n>MT031684  tcaattatattcagcatggaaagaataaaagaacttcggaatctaa...\n>MT031680  tcaattatattcagcatggaaagaataaaagaacttcggaatctaa...\n>MT031696  tcaattatattcagcatggaaagaataaaagaacttcggaatctaa...\n>MT031705  tcaattatattcagcatggaaagaataaaagaacttcggaatctaa...\n\n[76 rows x 1 columns]\n"
       },
       {
        "name": "stdout",
        "output_type": "stream",
        "text": "                                                   alignment\naccession                                                   \n>MK677112  tcaattatattcagcatggaaagaataaaagaacttcggaatctaa...\n>MN001703  tcaattatattcagcatggaaagaataaaagaacttcggaatctaa...\n>MN002311  tcaattatattcagcatggaaagaataaaagaacttcggaatctaa...\n>MK745645  tcaattatattcagcatggaaagaataaaagaacttcggaatctaa...\n>MN002319  tcaattatattcagcatggaaagaataaaagaacttcggaatctaa...\n>MK745653  tcaattatattcagcatggaaagaataaaagaacttcggaatctaa...\n>MN247866  tcaattatattcagcatggaaagaataaaagaacttcggaatctaa...\n>MK857446  tcaattatattcagcatggaaagaataaaagaacttcggaatctaa...\n"
       }
      ],
      "source": "cluster = pd.read_csv('Output/cluster.csv', sep = ',', na_filter = False, index_col = 0, header = 0)\nnum = cluster['cluster'].max()\nclusters = co.defaultdict(list)\nfor i in range(10):#range(num):\n\n    query = cluster.query('cluster == @i')\n    match = query.index.values.tolist()\n    sub = upload.filter(items = match, axis=0)\n\n    fasta = sub[['genome']].copy()\n    fasta.to_csv('genome.fasta', header=None, index=True, sep='\\n', mode='w')\n\n    mafft_cline = MafftCommandline(input='genome.fasta', thread=8)\n    stdout, stderr = mafft_cline()\n    #align = AlignIO.read(StringIO(stdout), \"fasta\")\n    #count = AlignIO.write(align, \"result.faa\", \"fasta\")\n\n    x = co.defaultdict(str)\n    for i in stdout.split('\\n'):\n        if i == '':\n            pass\n        elif i[0] == '>':\n            accession = i\n        else:\n            x[accession] += i\n\n    y = pd.DataFrame.from_dict(x, orient='index', columns=['alignment'])\n    y.index.rename('accession', inplace=True)\n\n    print(y)\n    clusters[i] = y",
      "start_time": "2021-01-19T14:03:01.205Z"
     },
     {
      "end_time": "2021-01-19T14:04:28.392Z",
      "execution_time": "10.6s",
      "outputs": [
       {
        "name": "stdout",
        "output_type": "stream",
        "text": "                                                   alignment\naccession                                                   \n>MK364444  tcaaatatattcaatatggagagaataaaagagctgagagacctaa...\n>MK265655  tcaaatatattcaatatggagagaataaaagagctgagagacctaa...\n>MK855778  tcaaatatattcaatatggagagaataaaagagctgagagacctaa...\n>MK265637  tcaaatatattcaatatggagagaataaaagagctgagagacctaa...\n>MK364640  tcaaatatattcaatatggagagaataaaagagctgagagacctaa...\n>MK557056  tcaaatatattcaatatggagagaataaaagagctgagagacctaa...\n>MK631071  tcaaatatattcaatatggagagaataaaagagctgagagacctaa...\n>MK557104  tcaaatatattcaatatggagagaataaaagagctgagagacctaa...\n>MK364024  tcaaatatattcaatatggagagaataaaagagctgagagacctaa...\n>MN003999  tcaaatatattcaatatggagagaataaaagagctgagagacctaa...\n>MK398930  tcaaatatattcaatatggagagaataaaagagctgagagacctaa...\n>MK999711  tcaaatatattcaatatggagagaataaaagagctgagagacctaa...\n>MK716007  tcaaatatattcaatatggagagaataaaagagctgagagacctaa...\n>MK999724  tcaaatatattcaatatggagagaataaaagagctgagagacctaa...\n>MK999732  tcaaatatattcaatatggagagaataaaagagctgagagacctaa...\n>MN004119  tcaaatatattcaatatggagagaataaaagagctgagagacctaa...\n>MK398978  tcaaatatattcaatatggagagaataaaagagctgagagacctaa...\n>MK475204  tcaaatatattcaatatggagagaataaaagagctgagagacctaa...\n>MK623722  tcaaatatattcaatatggagagaataaaagagctgagagacctaa...\n>MK676657  tcaaatatattcaatatggagagaataaaagagctgagagacctaa...\n>MK623770  tcaaatatattcaatatggagagaataaaagagctgagagacctaa...\n>MK631487  tcaaatatattcaatatggagagaataaaagagctgagagacctaa...\n>MK623786  tcaaatatattcaatatggagagaataaaagagctgagagacctaa...\n>MN230052  tcaaatatattcaatatggagagaataaaagagctgagagacctaa...\n>MK631663  tcaaatatattcaatatggagagaataaaagagctgagagacctaa...\n>MK773450  tcaaatatattcaatatggagagaataaaagagctgagagacctaa...\n                                                   alignment\naccession                                                   \n>MK772906  tcaaatatattcaatatggagagaataaaagagctgagagacctaa...\n>MK999439  tcaaatatattcaatatggagagaataaaagagctgagagacctaa...\n>MK855626  tcaaatatattcaatatggagagaataaaagagctgagagacctaa...\n>MN083383  tcaaatatattcaatatggagagaataaaagagctgagagacctaa...\n>MK715806  tcaaatatattcaatatggagagaataaaagagctgagagacctaa...\n...                                                      ...\n>MN083951  tcaaatatattcaatatggagagaataaaagagctgagagacctaa...\n>MN083959  tcaaatatattcaatatggagagaataaaagagctgagagacctaa...\n>MN161117  tcaaatatattcaatatggagagaataaaagagctgagagacctaa...\n>MN083991  tcaaatatattcaatatggagagaataaaagagctgagagacctaa...\n>MN004727  tcaaatatattcaatatggagagaataaaagagctgagagacctaa...\n\n[121 rows x 1 columns]\n                                                   alignment\naccession                                                   \n>CY241200  ---------------aatatattcaatatggagagaataaaagaac...\n>CY241468  ---------------aatatattcaatatggagagaataaaagaac...\n>CY240894  ---------------aatatattcaatatggagagaataaaagaac...\n>CY241004  ---------------aatatattcaatatggagagaataaaagaac...\n>CY241045  ---------------aatatattcaatatggagagaataaaagaac...\n...                                                      ...\n>CY241338  ---------------aatatattcaatatggagagaataaaagaac...\n>CY241347  ---------------aatatattcaatatggagagaataaaagaac...\n>CY241477  ---------------aatatattcaatatggagagaataaaagaac...\n>CY241511  ---------------aatatattcaatatggagagaataaaagaac...\n>CY241568  ---------------aatatattcaatatggagagaataaaagaac...\n\n[140 rows x 1 columns]\n                                                   alignment\naccession                                                   \n>MT034541  tcaaatatattcaatatggagagaataaaagagctgagagatctaa...\n>MT057903  tcaaatatattcaatatggagagaataaaagagctgagagatctaa...\n>MT057910  tcaaatatattcaatatggagagaataaaagagctgagagatctaa...\n>MT034614  tcaaatatattcaatatggagagaataaaagagctgagagatctaa...\n>MN948072  tcaaatatattcaatatggagagaataaaagagctgagagatctaa...\n...                                                      ...\n>MN977006  tcaaatatattcaatatggagagaataaaagagctgagagatctaa...\n>MT035699  tcaaatatattcaatatggagagaataaaagagctgagagatctaa...\n>MT035700  tcaaatatattcaatatggagagaataaaagagctgagagatctaa...\n>MT035716  tcaaatatattcaatatggagagaataaaagagctgagagatctaa...\n>MT035708  tcaaatatattcaatatggagagaataaaagagctgagagatctaa...\n\n[62 rows x 1 columns]\n                                                   alignment\naccession                                                   \n>MK856598  tcaattatattcagcatggaaagaataaaagaacttcggaatctaa...\n>MN084202  tcaattatattcagcatggaaagaataaaagaacttcggaatctaa...\n>MN372777  tcaattatattcagcatggaaagaataaaagaacttcggaatctaa...\n>MN084533  tcaattatattcagcatggaaagaataaaagaacttcggaatctaa...\n>MN423884  tcaattatattcagcatggaaagaataaaagaacttcggaatctaa...\n>MN222255  tcaattatattcagcatggaaagaataaaagaacttcggaatctaa...\n>MN222364  tcaattatattcagcatggaaagaataaaagaacttcggaatctaa...\n>MN247127  tcaattatattcagcatggaaagaataaaagaacttcggaatctaa...\n>MK856417  tcaattatattcagcatggaaagaataaaagaacttcggaatctaa...\n>MN247810  tcaattatattcagcatggaaagaataaaagaacttcggaatctaa...\n>MN319320  tcaattatattcagcatggaaagaataaaagaacttcggaatctaa...\n>MN373060  tcaattatattcagcatggaaagaataaaagaacttcggaatctaa...\n>MN319360  tcaattatattcagcatggaaagaataaaagaacttcggaatctaa...\n>MN373116  tcaattatattcagcatggaaagaataaaagaacttcggaatctaa...\n>MN223084  tcaattatattcagcatggaaagaataaaagaacttcggaatctaa...\n>MN002530  tcaattatattcagcatggaaagaataaaagaacttcggaatctaa...\n                                                   alignment\naccession                                                   \n>CY208925  tcaattatattcagcatggaaagaataaaagaactacggaatctaa...\n>KY003425  tcaattatattcagcatggaaagaataaaagaactacggaatctaa...\n>KY003393  tcaattatattcagcatggaaagaataaaagaactacggaatctaa...\n>CY208917  tcaattatattcagcatggaaagaataaaagaactacggaatctaa...\n>KY116595  tcaattatattcagcatggaaagaataaaagaactacggaatctaa...\n...                                                      ...\n>CY213199  tcaattatattcagcatggaaagaataaaagaactacggaatctaa...\n>KY116443  tcaattatattcagcatggaaagaataaaagaactacggaatctaa...\n>KY289295  tcaattatattcagcatggaaagaataaaagaactacggaatctaa...\n>CY226995  tcaattatattcagcatggaaagaataaaagaactacggaatctaa...\n>CY214791  tcaattatattcagcatggaaagaataaaagaactacggaatctaa...\n\n[61 rows x 1 columns]\n                                                   alignment\naccession                                                   \n>MN222044  tcaattatattcagcatggaaagaataaaagaacttcggaatctaa...\n>MN222047  tcaattatattcagcatggaaagaataaaagaacttcggaatctaa...\n>MK744997  tcaattatattcagcatggaaagaataaaagaacttcggaatctaa...\n>MN001492  tcaattatattcagcatggaaagaataaaagaacttcggaatctaa...\n>MN222268  tcaattatattcagcatggaaagaataaaagaacttcggaatctaa...\n>MN247151  tcaattatattcagcatggaaagaataaaagaacttcggaatctaa...\n>MN001687  tcaattatattcagcatggaaagaataaaagaacttcggaatctaa...\n>MN084653  tcaattatattcagcatggaaagaataaaagaacttcggaatctaa...\n>MN372802  tcaattatattcagcatggaaagaataaaagaacttcggaatctaa...\n>MN001999  tcaattatattcagcatggaaagaataaaagaacttcggaatctaa...\n>MK772478  tcaattatattcagcatggaaagaataaaagaacttcggaatctaa...\n                                                   alignment\naccession                                                   \n>CY257161  ---attatattcagcatggaaagaataaaagaactacggaatctaa...\n>CY257057  ---attatattcagcatggaaagaataaaagaactacggaatctaa...\n>CY257433  ---attatattcagcatggaaagaataaaagaactacggaatctaa...\n>CY257409  ---attatattcagcatggaaagaataaaagaactacggaatctaa...\n>CY257009  tcaattatattcagcatggaaagaataaaagaactacggaatctaa...\n>CY257297  ---attatattcagcatggaaagaataaaagaactacggaatctaa...\n>CY257089  ---attatattcagcatggaaagaataaaagaactacggaatctaa...\n>CY257113  ---attatattcagcatggaaagaataaaagaactacggaatctaa...\n>CY257329  ---attatattcagcatggaaagaataaaagaactacggaatctaa...\n>CY257097  ---attatattcagcatggaaagaataaaagaactacggaatctaa...\n>CY240738  ---attatattcagcatggaaagaataaaagaactacggaatctaa...\n                                                   alignment\naccession                                                   \n>MK676864  tcaattatattcagcatggaaagaataaaagaacttcggaatctaa...\n>MN000695  tcaattatattcagcatggaaagaataaaagaacttcggaatctaa...\n>MN000711  tcaattatattcagcatggaaagaataaaagaacttcggaatctaa...\n>MK744213  tcaattatattcagcatggaaagaataaaagaacttcggaatctaa...\n>MK856590  tcaattatattcagcatggaaagaataaaagaacttcggaatctaa...\n...                                                      ...\n>MN223036  tcaattatattcagcatggaaagaataaaagaacttcggaatctaa...\n>MT031684  tcaattatattcagcatggaaagaataaaagaacttcggaatctaa...\n>MT031680  tcaattatattcagcatggaaagaataaaagaacttcggaatctaa...\n>MT031696  tcaattatattcagcatggaaagaataaaagaacttcggaatctaa...\n>MT031705  tcaattatattcagcatggaaagaataaaagaacttcggaatctaa...\n\n[76 rows x 1 columns]\n"
       },
       {
        "name": "stdout",
        "output_type": "stream",
        "text": "                                                   alignment\naccession                                                   \n>MK677112  tcaattatattcagcatggaaagaataaaagaacttcggaatctaa...\n>MN001703  tcaattatattcagcatggaaagaataaaagaacttcggaatctaa...\n>MN002311  tcaattatattcagcatggaaagaataaaagaacttcggaatctaa...\n>MK745645  tcaattatattcagcatggaaagaataaaagaacttcggaatctaa...\n>MN002319  tcaattatattcagcatggaaagaataaaagaacttcggaatctaa...\n>MK745653  tcaattatattcagcatggaaagaataaaagaacttcggaatctaa...\n>MN247866  tcaattatattcagcatggaaagaataaaagaacttcggaatctaa...\n>MK857446  tcaattatattcagcatggaaagaataaaagaacttcggaatctaa...\n"
       }
      ],
      "source": "cluster = pd.read_csv('Output/cluster.csv', sep = ',', na_filter = False, index_col = 0, header = 0)\nnum = cluster['cluster'].max()\nz = co.defaultdict(list)\nfor i in range(10):#range(num):\n\n    query = cluster.query('cluster == @i')\n    match = query.index.values.tolist()\n    sub = upload.filter(items = match, axis=0)\n\n    fasta = sub[['genome']].copy()\n    fasta.to_csv('genome.fasta', header=None, index=True, sep='\\n', mode='w')\n\n    mafft_cline = MafftCommandline(input='genome.fasta', thread=8)\n    stdout, stderr = mafft_cline()\n    #align = AlignIO.read(StringIO(stdout), \"fasta\")\n    #count = AlignIO.write(align, \"result.faa\", \"fasta\")\n\n    x = co.defaultdict(str)\n    for i in stdout.split('\\n'):\n        if i == '':\n            pass\n        elif i[0] == '>':\n            accession = i\n        else:\n            x[accession] += i\n\n    y = pd.DataFrame.from_dict(x, orient='index', columns=['alignment'])\n    y.index.rename('accession', inplace=True)\n\n    print(y)\n    z[i] = y",
      "start_time": "2021-01-19T14:04:17.774Z"
     },
     {
      "end_time": "2021-01-19T14:04:49.782Z",
      "execution_time": "6.73s",
      "outputs": [
       {
        "name": "stdout",
        "output_type": "stream",
        "text": "defaultdict(<class 'list'>, {'':                                                    alignment\naccession                                                   \n>MT034541  tcaaatatattcaatatggagagaataaaagagctgagagatctaa...\n>MT057903  tcaaatatattcaatatggagagaataaaagagctgagagatctaa...\n>MT057910  tcaaatatattcaatatggagagaataaaagagctgagagatctaa...\n>MT034614  tcaaatatattcaatatggagagaataaaagagctgagagatctaa...\n>MN948072  tcaaatatattcaatatggagagaataaaagagctgagagatctaa...\n...                                                      ...\n>MN977006  tcaaatatattcaatatggagagaataaaagagctgagagatctaa...\n>MT035699  tcaaatatattcaatatggagagaataaaagagctgagagatctaa...\n>MT035700  tcaaatatattcaatatggagagaataaaagagctgagagatctaa...\n>MT035716  tcaaatatattcaatatggagagaataaaagagctgagagatctaa...\n>MT035708  tcaaatatattcaatatggagagaataaaagagctgagagatctaa...\n\n[62 rows x 1 columns]})\n"
       }
      ],
      "source": "cluster = pd.read_csv('Output/cluster.csv', sep = ',', na_filter = False, index_col = 0, header = 0)\nnum = cluster['cluster'].max()\nz = co.defaultdict(list)\nfor i in range(4):#range(num):\n\n    query = cluster.query('cluster == @i')\n    match = query.index.values.tolist()\n    sub = upload.filter(items = match, axis=0)\n\n    fasta = sub[['genome']].copy()\n    fasta.to_csv('genome.fasta', header=None, index=True, sep='\\n', mode='w')\n\n    mafft_cline = MafftCommandline(input='genome.fasta', thread=8)\n    stdout, stderr = mafft_cline()\n    #align = AlignIO.read(StringIO(stdout), \"fasta\")\n    #count = AlignIO.write(align, \"result.faa\", \"fasta\")\n\n    x = co.defaultdict(str)\n    for i in stdout.split('\\n'):\n        if i == '':\n            pass\n        elif i[0] == '>':\n            accession = i\n        else:\n            x[accession] += i\n\n    y = pd.DataFrame.from_dict(x, orient='index', columns=['alignment'])\n    y.index.rename('accession', inplace=True)\n\n    z[i] = y\n    \nprint(z)",
      "start_time": "2021-01-19T14:04:43.054Z"
     },
     {
      "end_time": "2021-01-19T14:05:27.629Z",
      "execution_time": "6.79s",
      "outputs": [],
      "source": "cluster = pd.read_csv('Output/cluster.csv', sep = ',', na_filter = False, index_col = 0, header = 0)\nnum = cluster['cluster'].max()\nz = co.defaultdict()\nfor i in range(4):#range(num):\n\n    query = cluster.query('cluster == @i')\n    match = query.index.values.tolist()\n    sub = upload.filter(items = match, axis=0)\n\n    fasta = sub[['genome']].copy()\n    fasta.to_csv('genome.fasta', header=None, index=True, sep='\\n', mode='w')\n\n    mafft_cline = MafftCommandline(input='genome.fasta', thread=8)\n    stdout, stderr = mafft_cline()\n    #align = AlignIO.read(StringIO(stdout), \"fasta\")\n    #count = AlignIO.write(align, \"result.faa\", \"fasta\")\n\n    x = co.defaultdict(str)\n    for i in stdout.split('\\n'):\n        if i == '':\n            pass\n        elif i[0] == '>':\n            accession = i\n        else:\n            x[accession] += i\n\n    y = pd.DataFrame.from_dict(x, orient='index', columns=['alignment'])\n    y.index.rename('accession', inplace=True)\n\n    z[i] = y",
      "start_time": "2021-01-19T14:05:20.844Z"
     },
     {
      "end_time": "2021-01-19T14:05:44.270Z",
      "execution_time": "6.76s",
      "outputs": [],
      "source": "cluster = pd.read_csv('Output/cluster.csv', sep = ',', na_filter = False, index_col = 0, header = 0)\nnum = cluster['cluster'].max()\nz = co.defaultdict(int)\nfor i in range(4):#range(num):\n\n    query = cluster.query('cluster == @i')\n    match = query.index.values.tolist()\n    sub = upload.filter(items = match, axis=0)\n\n    fasta = sub[['genome']].copy()\n    fasta.to_csv('genome.fasta', header=None, index=True, sep='\\n', mode='w')\n\n    mafft_cline = MafftCommandline(input='genome.fasta', thread=8)\n    stdout, stderr = mafft_cline()\n    #align = AlignIO.read(StringIO(stdout), \"fasta\")\n    #count = AlignIO.write(align, \"result.faa\", \"fasta\")\n\n    x = co.defaultdict(str)\n    for i in stdout.split('\\n'):\n        if i == '':\n            pass\n        elif i[0] == '>':\n            accession = i\n        else:\n            x[accession] += i\n\n    y = pd.DataFrame.from_dict(x, orient='index', columns=['alignment'])\n    y.index.rename('accession', inplace=True)\n\n    z[i] = y",
      "start_time": "2021-01-19T14:05:37.509Z"
     },
     {
      "end_time": "2021-01-19T14:09:29.352Z",
      "execution_time": "6.82s",
      "outputs": [],
      "source": "cluster = pd.read_csv('Output/cluster.csv', sep = ',', na_filter = False, index_col = 0, header = 0)\nnum = cluster['cluster'].max()\nz = co.defaultdict(list)\nx = co.defaultdict(str)\nfor i in range(4):#range(num):\n\n    query = cluster.query('cluster == @i')\n    match = query.index.values.tolist()\n    sub = upload.filter(items = match, axis=0)\n\n    fasta = sub[['genome']].copy()\n    fasta.to_csv('genome.fasta', header=None, index=True, sep='\\n', mode='w')\n\n    mafft_cline = MafftCommandline(input='genome.fasta', thread=8)\n    stdout, stderr = mafft_cline()\n    #align = AlignIO.read(StringIO(stdout), \"fasta\")\n    #count = AlignIO.write(align, \"result.faa\", \"fasta\")\n\n    \n    for i in stdout.split('\\n'):\n        if i == '':\n            pass\n        elif i[0] == '>':\n            accession = i\n        else:\n            x[accession] += i\n\n    y = pd.DataFrame.from_dict(x, orient='index', columns=['alignment'])\n    y.index.rename('accession', inplace=True)\n\n    x.clear()\n    \n    z[i] = y",
      "start_time": "2021-01-19T14:09:22.535Z"
     },
     {
      "end_time": "2021-01-19T14:13:20.257Z",
      "execution_time": "6.73s",
      "outputs": [],
      "source": "cluster = pd.read_csv('Output/cluster.csv', sep = ',', na_filter = False, index_col = 0, header = 0)\nnum = cluster['cluster'].max()\nz = co.defaultdict(list)\nx = co.defaultdict(str)\nfor i in range(4):#range(num):\n\n    query = cluster.query('cluster == @i')\n    match = query.index.values.tolist()\n    sub = upload.filter(items = match, axis=0)\n\n    fasta = sub[['genome']].copy()\n    fasta.to_csv('genome.fasta', header=None, index=True, sep='\\n', mode='w')\n\n    mafft_cline = MafftCommandline(input='genome.fasta', thread=8)\n    stdout, stderr = mafft_cline()\n    #align = AlignIO.read(StringIO(stdout), \"fasta\")\n    #count = AlignIO.write(align, \"result.faa\", \"fasta\")\n\n    \n    for i in stdout.split('\\n'):\n        if i == '':\n            pass\n        elif i[0] == '>':\n            accession = i\n        else:\n            x[accession] += i\n\n    y = pd.DataFrame.from_dict(x, orient='index', columns=['alignment'])\n    y.index.rename('accession', inplace=True)\n\n    x.clear()\n    \n    z[1] = y",
      "start_time": "2021-01-19T14:13:13.526Z"
     },
     {
      "end_time": "2021-01-19T14:13:41.355Z",
      "execution_time": "593ms",
      "outputs": [],
      "source": "cluster = pd.read_csv('Output/cluster.csv', sep = ',', na_filter = False, index_col = 0, header = 0)\nnum = cluster['cluster'].max()\nz = co.defaultdict(list)\nx = co.defaultdict(str)\nfor j in range(4):#range(num):\n\n    query = cluster.query('cluster == @i')\n    match = query.index.values.tolist()\n    sub = upload.filter(items = match, axis=0)\n\n    fasta = sub[['genome']].copy()\n    fasta.to_csv('genome.fasta', header=None, index=True, sep='\\n', mode='w')\n\n    mafft_cline = MafftCommandline(input='genome.fasta', thread=8)\n    stdout, stderr = mafft_cline()\n    #align = AlignIO.read(StringIO(stdout), \"fasta\")\n    #count = AlignIO.write(align, \"result.faa\", \"fasta\")\n\n    \n    for i in stdout.split('\\n'):\n        if i == '':\n            pass\n        elif i[0] == '>':\n            accession = i\n        else:\n            x[accession] += i\n\n    y = pd.DataFrame.from_dict(x, orient='index', columns=['alignment'])\n    y.index.rename('accession', inplace=True)\n\n    x.clear()\n    \n    z[j] = y",
      "start_time": "2021-01-19T14:13:40.762Z"
     },
     {
      "end_time": "2021-01-19T14:14:05.760Z",
      "execution_time": "6.85s",
      "outputs": [],
      "source": "cluster = pd.read_csv('Output/cluster.csv', sep = ',', na_filter = False, index_col = 0, header = 0)\nnum = cluster['cluster'].max()\nz = co.defaultdict(list)\nx = co.defaultdict(str)\nfor j in range(4):#range(num):\n\n    query = cluster.query('cluster == @j')\n    match = query.index.values.tolist()\n    sub = upload.filter(items = match, axis=0)\n\n    fasta = sub[['genome']].copy()\n    fasta.to_csv('genome.fasta', header=None, index=True, sep='\\n', mode='w')\n\n    mafft_cline = MafftCommandline(input='genome.fasta', thread=8)\n    stdout, stderr = mafft_cline()\n    #align = AlignIO.read(StringIO(stdout), \"fasta\")\n    #count = AlignIO.write(align, \"result.faa\", \"fasta\")\n\n    \n    for i in stdout.split('\\n'):\n        if i == '':\n            pass\n        elif i[0] == '>':\n            accession = i\n        else:\n            x[accession] += i\n\n    y = pd.DataFrame.from_dict(x, orient='index', columns=['alignment'])\n    y.index.rename('accession', inplace=True)\n\n    x.clear()\n    \n    z[j] = y",
      "start_time": "2021-01-19T14:13:58.908Z"
     },
     {
      "end_time": "2021-01-19T14:30:54.351Z",
      "execution_time": "14m 12s",
      "outputs": [],
      "source": "cluster = pd.read_csv('Output/cluster.csv', sep = ',', na_filter = False, index_col = 0, header = 0)\nnum = cluster['cluster'].max()\nz = co.defaultdict(list)\nx = co.defaultdict(str)\nfor j in range(num):\n\n    query = cluster.query('cluster == @j')\n    match = query.index.values.tolist()\n    sub = upload.filter(items = match, axis=0)\n\n    fasta = sub[['genome']].copy()\n    fasta.to_csv('genome.fasta', header=None, index=True, sep='\\n', mode='w')\n\n    mafft_cline = MafftCommandline(input='genome.fasta', thread=8)\n    stdout, stderr = mafft_cline()\n    #align = AlignIO.read(StringIO(stdout), \"fasta\")\n    #count = AlignIO.write(align, \"result.faa\", \"fasta\")\n\n    \n    for i in stdout.split('\\n'):\n        if i == '':\n            pass\n        elif i[0] == '>':\n            accession = i\n        else:\n            x[accession] += i\n\n    y = pd.DataFrame.from_dict(x, orient='index', columns=['alignment'])\n    y.index.rename('accession', inplace=True)\n\n    x.clear()\n    \n    z[j] = y\n    \nresult = pd.concat(z)\nresult.index.set_names([\"cluster\", \"accession\"], inplace=True)\nresult.reset_index(level = \"cluster\", inplace=True)  \nresult.sort_values(by=['cluster', 'accession', 'alignment'], inplace = True)",
      "start_time": "2021-01-19T14:16:41.979Z"
     },
     {
      "end_time": "2021-01-19T16:27:04.823Z",
      "execution_time": "20m 40s",
      "outputs": [],
      "source": "cluster = pd.read_csv('Output/cluster.csv', sep = ',', na_filter = False, index_col = 0, header = 0)\nnum = cluster['cluster'].max()\nz = co.defaultdict(list)\nx = co.defaultdict(str)\nfor j in range(num):\n\n    query = cluster.query('cluster == @j')\n    match = query.index.values.tolist()\n    sub = upload.filter(items = match, axis=0)\n\n    fasta = sub[['genome']].copy()\n    fasta.to_csv('genome.fasta', header=None, index=True, sep='\\n', mode='w')\n\n    mafft_cline = MafftCommandline(input='genome.fasta', thread=8)\n    stdout, stderr = mafft_cline()\n    #align = AlignIO.read(StringIO(stdout), \"fasta\")\n    #count = AlignIO.write(align, \"result.faa\", \"fasta\")\n\n    \n    for i in stdout.split('\\n'):\n        if i == '':\n            pass\n        elif i[0] == '>':\n            accession = i\n        else:\n            x[accession] += i\n\n    y = pd.DataFrame.from_dict(x, orient='index', columns=['alignment'])\n    y.index.rename('accession', inplace=True)\n\n    x.clear()\n    \n    z[j] = y\n    \nresult = pd.concat(z)\nresult.index.set_names([\"cluster\", \"accession\"], inplace=True)\nresult.reset_index(level = \"cluster\", inplace=True)  \nresult.sort_values(by=['cluster', 'accession', 'alignment'], inplace = True)",
      "start_time": "2021-01-19T16:06:24.946Z"
     },
     {
      "end_time": "2021-01-19T16:57:40.942Z",
      "execution_time": "2m 25s",
      "outputs": [],
      "source": "cluster = pd.read_csv('Output/cluster.csv', sep = ',', na_filter = False, index_col = 0, header = 0)\nnum = cluster['cluster'].max()\nz = co.defaultdict(list)\nx = co.defaultdict(str)\nfor j in range(num):\n\n    query = cluster.query('cluster == @j')\n    match = query.index.values.tolist()\n    sub = upload.filter(items = match, axis=0)\n\n    fasta = sub[['genome']].copy()\n    fasta.to_csv('genome.fasta', header=None, index=True, sep='\\n', mode='w')\n\n    mafft_cline = MafftCommandline(input='genome.fasta', thread=8)\n    stdout, stderr = mafft_cline()\n    #align = AlignIO.read(StringIO(stdout), \"fasta\")\n    #count = AlignIO.write(align, \"result.faa\", \"fasta\")\n\n    \n    for i in stdout.split('\\n'):\n        if i == '':\n            pass\n        elif i[0] == '>':\n            accession = i\n        else:\n            x[accession] += i\n\n    y = pd.DataFrame.from_dict(x, orient='index', columns=['alignment'])\n    y.index.rename('accession', inplace=True)\n\n    x.clear()\n    \n    z[j] = y\n    \nresult = pd.concat(z)\nresult.index.set_names([\"cluster\", \"accession\"], inplace=True)\nresult.reset_index(level = \"cluster\", inplace=True)  \nresult.sort_values(by=['cluster', 'accession', 'alignment'], inplace = True)",
      "start_time": "2021-01-19T16:55:15.862Z"
     },
     {
      "end_time": "2021-01-19T17:18:39.571Z",
      "execution_time": "240ms",
      "outputs": [
       {
        "ename": "IndexError",
        "evalue": "list assignment index out of range",
        "output_type": "error",
        "traceback": [
         "\u001b[0;31m---------------------------------------------------------------------------\u001b[0m",
         "\u001b[0;31mIndexError\u001b[0m                                Traceback (most recent call last)",
         "\u001b[0;32m<ipython-input-21-cdfc1ea398c3>\u001b[0m in \u001b[0;36m<module>\u001b[0;34m()\u001b[0m\n\u001b[1;32m     31\u001b[0m     \u001b[0mx\u001b[0m\u001b[0;34m.\u001b[0m\u001b[0mclear\u001b[0m\u001b[0;34m(\u001b[0m\u001b[0;34m)\u001b[0m\u001b[0;34m\u001b[0m\u001b[0;34m\u001b[0m\u001b[0m\n\u001b[1;32m     32\u001b[0m \u001b[0;34m\u001b[0m\u001b[0m\n\u001b[0;32m---> 33\u001b[0;31m     \u001b[0mz\u001b[0m\u001b[0;34m[\u001b[0m\u001b[0;36m0\u001b[0m\u001b[0;34m]\u001b[0m\u001b[0;34m[\u001b[0m\u001b[0mj\u001b[0m\u001b[0;34m]\u001b[0m \u001b[0;34m=\u001b[0m \u001b[0my\u001b[0m\u001b[0;34m\u001b[0m\u001b[0;34m\u001b[0m\u001b[0m\n\u001b[0m\u001b[1;32m     34\u001b[0m \u001b[0;34m\u001b[0m\u001b[0m\n\u001b[1;32m     35\u001b[0m \u001b[0;31m#result = pd.concat(z)\u001b[0m\u001b[0;34m\u001b[0m\u001b[0;34m\u001b[0m\u001b[0;34m\u001b[0m\u001b[0m\n",
         "\u001b[0;31mIndexError\u001b[0m: list assignment index out of range"
        ]
       }
      ],
      "source": "cluster = pd.read_csv('Output/cluster.csv', sep = ',', na_filter = False, index_col = 0, header = 0)\nnum = cluster['cluster'].max()\nz = co.defaultdict(list)\nx = co.defaultdict(str)\nfor j in range(num):\n\n    query = cluster.query('cluster == @j')\n    match = query.index.values.tolist()\n    sub = upload.filter(items = match, axis=0)\n\n    fasta = sub[['genome']].copy()\n    fasta.to_csv('genome.fasta', header=None, index=True, sep='\\n', mode='w')\n\n    mafft_cline = MafftCommandline(input='genome.fasta', thread=8)\n    stdout, stderr = mafft_cline()\n    #align = AlignIO.read(StringIO(stdout), \"fasta\")\n    #count = AlignIO.write(align, \"result.faa\", \"fasta\")\n\n    \n    for i in stdout.split('\\n'):\n        if i == '':\n            pass\n        elif i[0] == '>':\n            accession = i\n        else:\n            x[accession] += i\n\n    y = pd.DataFrame.from_dict(x, orient='index', columns=['alignment'])\n    y.index.rename('accession', inplace=True)\n\n    x.clear()\n    \n    z[0][j] = y\n    \n#result = pd.concat(z)\n#result.index.set_names([\"cluster\", \"accession\"], inplace=True)\n#result.reset_index(level = \"cluster\", inplace=True)  \n#result.sort_values(by=['cluster', 'accession', 'alignment'], inplace = True)",
      "start_time": "2021-01-19T17:18:39.331Z"
     },
     {
      "end_time": "2021-01-19T17:21:10.452Z",
      "execution_time": "1m 13.6s",
      "outputs": [
       {
        "ename": "KeyboardInterrupt",
        "evalue": "",
        "output_type": "error",
        "traceback": [
         "\u001b[0;31m---------------------------------------------------------------------------\u001b[0m",
         "\u001b[0;31mKeyboardInterrupt\u001b[0m                         Traceback (most recent call last)",
         "\u001b[0;32m<ipython-input-22-f1f6c3f92929>\u001b[0m in \u001b[0;36m<module>\u001b[0;34m()\u001b[0m\n\u001b[1;32m     14\u001b[0m \u001b[0;34m\u001b[0m\u001b[0m\n\u001b[1;32m     15\u001b[0m     \u001b[0mmafft_cline\u001b[0m \u001b[0;34m=\u001b[0m \u001b[0mMafftCommandline\u001b[0m\u001b[0;34m(\u001b[0m\u001b[0minput\u001b[0m\u001b[0;34m=\u001b[0m\u001b[0;34m'genome.fasta'\u001b[0m\u001b[0;34m,\u001b[0m \u001b[0mthread\u001b[0m\u001b[0;34m=\u001b[0m\u001b[0;36m8\u001b[0m\u001b[0;34m)\u001b[0m\u001b[0;34m\u001b[0m\u001b[0;34m\u001b[0m\u001b[0m\n\u001b[0;32m---> 16\u001b[0;31m     \u001b[0mstdout\u001b[0m\u001b[0;34m,\u001b[0m \u001b[0mstderr\u001b[0m \u001b[0;34m=\u001b[0m \u001b[0mmafft_cline\u001b[0m\u001b[0;34m(\u001b[0m\u001b[0;34m)\u001b[0m\u001b[0;34m\u001b[0m\u001b[0;34m\u001b[0m\u001b[0m\n\u001b[0m\u001b[1;32m     17\u001b[0m     \u001b[0;31m#align = AlignIO.read(StringIO(stdout), \"fasta\")\u001b[0m\u001b[0;34m\u001b[0m\u001b[0;34m\u001b[0m\u001b[0;34m\u001b[0m\u001b[0m\n\u001b[1;32m     18\u001b[0m     \u001b[0;31m#count = AlignIO.write(align, \"result.faa\", \"fasta\")\u001b[0m\u001b[0;34m\u001b[0m\u001b[0;34m\u001b[0m\u001b[0;34m\u001b[0m\u001b[0m\n",
         "\u001b[0;32m/home/ahenoch/miniconda3/envs/masterthesis/lib/python3.6/site-packages/Bio/Application/__init__.py\u001b[0m in \u001b[0;36m__call__\u001b[0;34m(self, stdin, stdout, stderr, cwd, env)\u001b[0m\n\u001b[1;32m    549\u001b[0m         )\n\u001b[1;32m    550\u001b[0m         \u001b[0;31m# Use .communicate as can get deadlocks with .wait(), see Bug 2804\u001b[0m\u001b[0;34m\u001b[0m\u001b[0;34m\u001b[0m\u001b[0;34m\u001b[0m\u001b[0m\n\u001b[0;32m--> 551\u001b[0;31m         \u001b[0mstdout_str\u001b[0m\u001b[0;34m,\u001b[0m \u001b[0mstderr_str\u001b[0m \u001b[0;34m=\u001b[0m \u001b[0mchild_process\u001b[0m\u001b[0;34m.\u001b[0m\u001b[0mcommunicate\u001b[0m\u001b[0;34m(\u001b[0m\u001b[0mstdin\u001b[0m\u001b[0;34m)\u001b[0m\u001b[0;34m\u001b[0m\u001b[0;34m\u001b[0m\u001b[0m\n\u001b[0m\u001b[1;32m    552\u001b[0m         \u001b[0;32mif\u001b[0m \u001b[0;32mnot\u001b[0m \u001b[0mstdout\u001b[0m\u001b[0;34m:\u001b[0m\u001b[0;34m\u001b[0m\u001b[0;34m\u001b[0m\u001b[0m\n\u001b[1;32m    553\u001b[0m             \u001b[0;32massert\u001b[0m \u001b[0;32mnot\u001b[0m \u001b[0mstdout_str\u001b[0m\u001b[0;34m,\u001b[0m \u001b[0mstdout_str\u001b[0m\u001b[0;34m\u001b[0m\u001b[0;34m\u001b[0m\u001b[0m\n",
         "\u001b[0;32m/home/ahenoch/miniconda3/envs/masterthesis/lib/python3.6/subprocess.py\u001b[0m in \u001b[0;36mcommunicate\u001b[0;34m(self, input, timeout)\u001b[0m\n\u001b[1;32m    861\u001b[0m \u001b[0;34m\u001b[0m\u001b[0m\n\u001b[1;32m    862\u001b[0m             \u001b[0;32mtry\u001b[0m\u001b[0;34m:\u001b[0m\u001b[0;34m\u001b[0m\u001b[0;34m\u001b[0m\u001b[0m\n\u001b[0;32m--> 863\u001b[0;31m                 \u001b[0mstdout\u001b[0m\u001b[0;34m,\u001b[0m \u001b[0mstderr\u001b[0m \u001b[0;34m=\u001b[0m \u001b[0mself\u001b[0m\u001b[0;34m.\u001b[0m\u001b[0m_communicate\u001b[0m\u001b[0;34m(\u001b[0m\u001b[0minput\u001b[0m\u001b[0;34m,\u001b[0m \u001b[0mendtime\u001b[0m\u001b[0;34m,\u001b[0m \u001b[0mtimeout\u001b[0m\u001b[0;34m)\u001b[0m\u001b[0;34m\u001b[0m\u001b[0;34m\u001b[0m\u001b[0m\n\u001b[0m\u001b[1;32m    864\u001b[0m             \u001b[0;32mfinally\u001b[0m\u001b[0;34m:\u001b[0m\u001b[0;34m\u001b[0m\u001b[0;34m\u001b[0m\u001b[0m\n\u001b[1;32m    865\u001b[0m                 \u001b[0mself\u001b[0m\u001b[0;34m.\u001b[0m\u001b[0m_communication_started\u001b[0m \u001b[0;34m=\u001b[0m \u001b[0;32mTrue\u001b[0m\u001b[0;34m\u001b[0m\u001b[0;34m\u001b[0m\u001b[0m\n",
         "\u001b[0;32m/home/ahenoch/miniconda3/envs/masterthesis/lib/python3.6/subprocess.py\u001b[0m in \u001b[0;36m_communicate\u001b[0;34m(self, input, endtime, orig_timeout)\u001b[0m\n\u001b[1;32m   1532\u001b[0m                         \u001b[0;32mraise\u001b[0m \u001b[0mTimeoutExpired\u001b[0m\u001b[0;34m(\u001b[0m\u001b[0mself\u001b[0m\u001b[0;34m.\u001b[0m\u001b[0margs\u001b[0m\u001b[0;34m,\u001b[0m \u001b[0morig_timeout\u001b[0m\u001b[0;34m)\u001b[0m\u001b[0;34m\u001b[0m\u001b[0;34m\u001b[0m\u001b[0m\n\u001b[1;32m   1533\u001b[0m \u001b[0;34m\u001b[0m\u001b[0m\n\u001b[0;32m-> 1534\u001b[0;31m                     \u001b[0mready\u001b[0m \u001b[0;34m=\u001b[0m \u001b[0mselector\u001b[0m\u001b[0;34m.\u001b[0m\u001b[0mselect\u001b[0m\u001b[0;34m(\u001b[0m\u001b[0mtimeout\u001b[0m\u001b[0;34m)\u001b[0m\u001b[0;34m\u001b[0m\u001b[0;34m\u001b[0m\u001b[0m\n\u001b[0m\u001b[1;32m   1535\u001b[0m                     \u001b[0mself\u001b[0m\u001b[0;34m.\u001b[0m\u001b[0m_check_timeout\u001b[0m\u001b[0;34m(\u001b[0m\u001b[0mendtime\u001b[0m\u001b[0;34m,\u001b[0m \u001b[0morig_timeout\u001b[0m\u001b[0;34m)\u001b[0m\u001b[0;34m\u001b[0m\u001b[0;34m\u001b[0m\u001b[0m\n\u001b[1;32m   1536\u001b[0m \u001b[0;34m\u001b[0m\u001b[0m\n",
         "\u001b[0;32m/home/ahenoch/miniconda3/envs/masterthesis/lib/python3.6/selectors.py\u001b[0m in \u001b[0;36mselect\u001b[0;34m(self, timeout)\u001b[0m\n\u001b[1;32m    374\u001b[0m             \u001b[0mready\u001b[0m \u001b[0;34m=\u001b[0m \u001b[0;34m[\u001b[0m\u001b[0;34m]\u001b[0m\u001b[0;34m\u001b[0m\u001b[0;34m\u001b[0m\u001b[0m\n\u001b[1;32m    375\u001b[0m             \u001b[0;32mtry\u001b[0m\u001b[0;34m:\u001b[0m\u001b[0;34m\u001b[0m\u001b[0;34m\u001b[0m\u001b[0m\n\u001b[0;32m--> 376\u001b[0;31m                 \u001b[0mfd_event_list\u001b[0m \u001b[0;34m=\u001b[0m \u001b[0mself\u001b[0m\u001b[0;34m.\u001b[0m\u001b[0m_poll\u001b[0m\u001b[0;34m.\u001b[0m\u001b[0mpoll\u001b[0m\u001b[0;34m(\u001b[0m\u001b[0mtimeout\u001b[0m\u001b[0;34m)\u001b[0m\u001b[0;34m\u001b[0m\u001b[0;34m\u001b[0m\u001b[0m\n\u001b[0m\u001b[1;32m    377\u001b[0m             \u001b[0;32mexcept\u001b[0m \u001b[0mInterruptedError\u001b[0m\u001b[0;34m:\u001b[0m\u001b[0;34m\u001b[0m\u001b[0;34m\u001b[0m\u001b[0m\n\u001b[1;32m    378\u001b[0m                 \u001b[0;32mreturn\u001b[0m \u001b[0mready\u001b[0m\u001b[0;34m\u001b[0m\u001b[0;34m\u001b[0m\u001b[0m\n",
         "\u001b[0;31mKeyboardInterrupt\u001b[0m: "
        ]
       }
      ],
      "source": "cluster = pd.read_csv('Output/cluster.csv', sep = ',', na_filter = False, index_col = 0, header = 0)\nnum = cluster['cluster'].max()\nz = co.defaultdict(list)\nx = co.defaultdict(str)\nz[0] = co.defaultdict(list)\nfor j in range(num):\n\n    query = cluster.query('cluster == @j')\n    match = query.index.values.tolist()\n    sub = upload.filter(items = match, axis=0)\n\n    fasta = sub[['genome']].copy()\n    fasta.to_csv('genome.fasta', header=None, index=True, sep='\\n', mode='w')\n\n    mafft_cline = MafftCommandline(input='genome.fasta', thread=8)\n    stdout, stderr = mafft_cline()\n    #align = AlignIO.read(StringIO(stdout), \"fasta\")\n    #count = AlignIO.write(align, \"result.faa\", \"fasta\")\n\n    \n    for i in stdout.split('\\n'):\n        if i == '':\n            pass\n        elif i[0] == '>':\n            accession = i\n        else:\n            x[accession] += i\n\n    y = pd.DataFrame.from_dict(x, orient='index', columns=['alignment'])\n    y.index.rename('accession', inplace=True)\n\n    x.clear()\n    \n    z[0][j] = y\n    \n#result = pd.concat(z)\n#result.index.set_names([\"cluster\", \"accession\"], inplace=True)\n#result.reset_index(level = \"cluster\", inplace=True)  \n#result.sort_values(by=['cluster', 'accession', 'alignment'], inplace = True)",
      "start_time": "2021-01-19T17:19:56.829Z"
     }
    ]
   },
   "outputs": [
    {
     "ename": "KeyboardInterrupt",
     "evalue": "",
     "output_type": "error",
     "traceback": [
      "\u001b[0;31m---------------------------------------------------------------------------\u001b[0m",
      "\u001b[0;31mKeyboardInterrupt\u001b[0m                         Traceback (most recent call last)",
      "\u001b[0;32m<ipython-input-22-f1f6c3f92929>\u001b[0m in \u001b[0;36m<module>\u001b[0;34m()\u001b[0m\n\u001b[1;32m     14\u001b[0m \u001b[0;34m\u001b[0m\u001b[0m\n\u001b[1;32m     15\u001b[0m     \u001b[0mmafft_cline\u001b[0m \u001b[0;34m=\u001b[0m \u001b[0mMafftCommandline\u001b[0m\u001b[0;34m(\u001b[0m\u001b[0minput\u001b[0m\u001b[0;34m=\u001b[0m\u001b[0;34m'genome.fasta'\u001b[0m\u001b[0;34m,\u001b[0m \u001b[0mthread\u001b[0m\u001b[0;34m=\u001b[0m\u001b[0;36m8\u001b[0m\u001b[0;34m)\u001b[0m\u001b[0;34m\u001b[0m\u001b[0;34m\u001b[0m\u001b[0m\n\u001b[0;32m---> 16\u001b[0;31m     \u001b[0mstdout\u001b[0m\u001b[0;34m,\u001b[0m \u001b[0mstderr\u001b[0m \u001b[0;34m=\u001b[0m \u001b[0mmafft_cline\u001b[0m\u001b[0;34m(\u001b[0m\u001b[0;34m)\u001b[0m\u001b[0;34m\u001b[0m\u001b[0;34m\u001b[0m\u001b[0m\n\u001b[0m\u001b[1;32m     17\u001b[0m     \u001b[0;31m#align = AlignIO.read(StringIO(stdout), \"fasta\")\u001b[0m\u001b[0;34m\u001b[0m\u001b[0;34m\u001b[0m\u001b[0;34m\u001b[0m\u001b[0m\n\u001b[1;32m     18\u001b[0m     \u001b[0;31m#count = AlignIO.write(align, \"result.faa\", \"fasta\")\u001b[0m\u001b[0;34m\u001b[0m\u001b[0;34m\u001b[0m\u001b[0;34m\u001b[0m\u001b[0m\n",
      "\u001b[0;32m/home/ahenoch/miniconda3/envs/masterthesis/lib/python3.6/site-packages/Bio/Application/__init__.py\u001b[0m in \u001b[0;36m__call__\u001b[0;34m(self, stdin, stdout, stderr, cwd, env)\u001b[0m\n\u001b[1;32m    549\u001b[0m         )\n\u001b[1;32m    550\u001b[0m         \u001b[0;31m# Use .communicate as can get deadlocks with .wait(), see Bug 2804\u001b[0m\u001b[0;34m\u001b[0m\u001b[0;34m\u001b[0m\u001b[0;34m\u001b[0m\u001b[0m\n\u001b[0;32m--> 551\u001b[0;31m         \u001b[0mstdout_str\u001b[0m\u001b[0;34m,\u001b[0m \u001b[0mstderr_str\u001b[0m \u001b[0;34m=\u001b[0m \u001b[0mchild_process\u001b[0m\u001b[0;34m.\u001b[0m\u001b[0mcommunicate\u001b[0m\u001b[0;34m(\u001b[0m\u001b[0mstdin\u001b[0m\u001b[0;34m)\u001b[0m\u001b[0;34m\u001b[0m\u001b[0;34m\u001b[0m\u001b[0m\n\u001b[0m\u001b[1;32m    552\u001b[0m         \u001b[0;32mif\u001b[0m \u001b[0;32mnot\u001b[0m \u001b[0mstdout\u001b[0m\u001b[0;34m:\u001b[0m\u001b[0;34m\u001b[0m\u001b[0;34m\u001b[0m\u001b[0m\n\u001b[1;32m    553\u001b[0m             \u001b[0;32massert\u001b[0m \u001b[0;32mnot\u001b[0m \u001b[0mstdout_str\u001b[0m\u001b[0;34m,\u001b[0m \u001b[0mstdout_str\u001b[0m\u001b[0;34m\u001b[0m\u001b[0;34m\u001b[0m\u001b[0m\n",
      "\u001b[0;32m/home/ahenoch/miniconda3/envs/masterthesis/lib/python3.6/subprocess.py\u001b[0m in \u001b[0;36mcommunicate\u001b[0;34m(self, input, timeout)\u001b[0m\n\u001b[1;32m    861\u001b[0m \u001b[0;34m\u001b[0m\u001b[0m\n\u001b[1;32m    862\u001b[0m             \u001b[0;32mtry\u001b[0m\u001b[0;34m:\u001b[0m\u001b[0;34m\u001b[0m\u001b[0;34m\u001b[0m\u001b[0m\n\u001b[0;32m--> 863\u001b[0;31m                 \u001b[0mstdout\u001b[0m\u001b[0;34m,\u001b[0m \u001b[0mstderr\u001b[0m \u001b[0;34m=\u001b[0m \u001b[0mself\u001b[0m\u001b[0;34m.\u001b[0m\u001b[0m_communicate\u001b[0m\u001b[0;34m(\u001b[0m\u001b[0minput\u001b[0m\u001b[0;34m,\u001b[0m \u001b[0mendtime\u001b[0m\u001b[0;34m,\u001b[0m \u001b[0mtimeout\u001b[0m\u001b[0;34m)\u001b[0m\u001b[0;34m\u001b[0m\u001b[0;34m\u001b[0m\u001b[0m\n\u001b[0m\u001b[1;32m    864\u001b[0m             \u001b[0;32mfinally\u001b[0m\u001b[0;34m:\u001b[0m\u001b[0;34m\u001b[0m\u001b[0;34m\u001b[0m\u001b[0m\n\u001b[1;32m    865\u001b[0m                 \u001b[0mself\u001b[0m\u001b[0;34m.\u001b[0m\u001b[0m_communication_started\u001b[0m \u001b[0;34m=\u001b[0m \u001b[0;32mTrue\u001b[0m\u001b[0;34m\u001b[0m\u001b[0;34m\u001b[0m\u001b[0m\n",
      "\u001b[0;32m/home/ahenoch/miniconda3/envs/masterthesis/lib/python3.6/subprocess.py\u001b[0m in \u001b[0;36m_communicate\u001b[0;34m(self, input, endtime, orig_timeout)\u001b[0m\n\u001b[1;32m   1532\u001b[0m                         \u001b[0;32mraise\u001b[0m \u001b[0mTimeoutExpired\u001b[0m\u001b[0;34m(\u001b[0m\u001b[0mself\u001b[0m\u001b[0;34m.\u001b[0m\u001b[0margs\u001b[0m\u001b[0;34m,\u001b[0m \u001b[0morig_timeout\u001b[0m\u001b[0;34m)\u001b[0m\u001b[0;34m\u001b[0m\u001b[0;34m\u001b[0m\u001b[0m\n\u001b[1;32m   1533\u001b[0m \u001b[0;34m\u001b[0m\u001b[0m\n\u001b[0;32m-> 1534\u001b[0;31m                     \u001b[0mready\u001b[0m \u001b[0;34m=\u001b[0m \u001b[0mselector\u001b[0m\u001b[0;34m.\u001b[0m\u001b[0mselect\u001b[0m\u001b[0;34m(\u001b[0m\u001b[0mtimeout\u001b[0m\u001b[0;34m)\u001b[0m\u001b[0;34m\u001b[0m\u001b[0;34m\u001b[0m\u001b[0m\n\u001b[0m\u001b[1;32m   1535\u001b[0m                     \u001b[0mself\u001b[0m\u001b[0;34m.\u001b[0m\u001b[0m_check_timeout\u001b[0m\u001b[0;34m(\u001b[0m\u001b[0mendtime\u001b[0m\u001b[0;34m,\u001b[0m \u001b[0morig_timeout\u001b[0m\u001b[0;34m)\u001b[0m\u001b[0;34m\u001b[0m\u001b[0;34m\u001b[0m\u001b[0m\n\u001b[1;32m   1536\u001b[0m \u001b[0;34m\u001b[0m\u001b[0m\n",
      "\u001b[0;32m/home/ahenoch/miniconda3/envs/masterthesis/lib/python3.6/selectors.py\u001b[0m in \u001b[0;36mselect\u001b[0;34m(self, timeout)\u001b[0m\n\u001b[1;32m    374\u001b[0m             \u001b[0mready\u001b[0m \u001b[0;34m=\u001b[0m \u001b[0;34m[\u001b[0m\u001b[0;34m]\u001b[0m\u001b[0;34m\u001b[0m\u001b[0;34m\u001b[0m\u001b[0m\n\u001b[1;32m    375\u001b[0m             \u001b[0;32mtry\u001b[0m\u001b[0;34m:\u001b[0m\u001b[0;34m\u001b[0m\u001b[0;34m\u001b[0m\u001b[0m\n\u001b[0;32m--> 376\u001b[0;31m                 \u001b[0mfd_event_list\u001b[0m \u001b[0;34m=\u001b[0m \u001b[0mself\u001b[0m\u001b[0;34m.\u001b[0m\u001b[0m_poll\u001b[0m\u001b[0;34m.\u001b[0m\u001b[0mpoll\u001b[0m\u001b[0;34m(\u001b[0m\u001b[0mtimeout\u001b[0m\u001b[0;34m)\u001b[0m\u001b[0;34m\u001b[0m\u001b[0;34m\u001b[0m\u001b[0m\n\u001b[0m\u001b[1;32m    377\u001b[0m             \u001b[0;32mexcept\u001b[0m \u001b[0mInterruptedError\u001b[0m\u001b[0;34m:\u001b[0m\u001b[0;34m\u001b[0m\u001b[0;34m\u001b[0m\u001b[0m\n\u001b[1;32m    378\u001b[0m                 \u001b[0;32mreturn\u001b[0m \u001b[0mready\u001b[0m\u001b[0;34m\u001b[0m\u001b[0;34m\u001b[0m\u001b[0m\n",
      "\u001b[0;31mKeyboardInterrupt\u001b[0m: "
     ]
    }
   ],
   "source": [
    "cluster = pd.read_csv('Output/cluster.csv', sep = ',', na_filter = False, index_col = 0, header = 0)\n",
    "num = cluster['cluster'].max()\n",
    "z = co.defaultdict(list)\n",
    "x = co.defaultdict(str)\n",
    "z[0] = co.defaultdict(list)\n",
    "for j in range(num):\n",
    "\n",
    "    query = cluster.query('cluster == @j')\n",
    "    match = query.index.values.tolist()\n",
    "    sub = upload.filter(items = match, axis=0)\n",
    "\n",
    "    fasta = sub[['genome']].copy()\n",
    "    fasta.to_csv('genome.fasta', header=None, index=True, sep='\\n', mode='w')\n",
    "\n",
    "    mafft_cline = MafftCommandline(input='genome.fasta', thread=8)\n",
    "    stdout, stderr = mafft_cline()\n",
    "    #align = AlignIO.read(StringIO(stdout), \"fasta\")\n",
    "    #count = AlignIO.write(align, \"result.faa\", \"fasta\")\n",
    "\n",
    "    \n",
    "    for i in stdout.split('\\n'):\n",
    "        if i == '':\n",
    "            pass\n",
    "        elif i[0] == '>':\n",
    "            accession = i\n",
    "        else:\n",
    "            x[accession] += i\n",
    "\n",
    "    y = pd.DataFrame.from_dict(x, orient='index', columns=['alignment'])\n",
    "    y.index.rename('accession', inplace=True)\n",
    "\n",
    "    x.clear()\n",
    "    \n",
    "    z[0][j] = y\n",
    "    \n",
    "#result = pd.concat(z)\n",
    "#result.index.set_names([\"cluster\", \"accession\"], inplace=True)\n",
    "#result.reset_index(level = \"cluster\", inplace=True)  \n",
    "#result.sort_values(by=['cluster', 'accession', 'alignment'], inplace = True)"
   ]
  }
 ],
 "metadata": {
  "kernelspec": {
   "display_name": "Python 3",
   "language": "python",
   "name": "python3"
  },
  "language_info": {
   "codemirror_mode": {
    "name": "ipython",
    "version": 3
   },
   "file_extension": ".py",
   "mimetype": "text/x-python",
   "name": "python",
   "nbconvert_exporter": "python",
   "pygments_lexer": "ipython3",
   "version": "3.6.11"
  }
 },
 "nbformat": 4,
 "nbformat_minor": 4
}
