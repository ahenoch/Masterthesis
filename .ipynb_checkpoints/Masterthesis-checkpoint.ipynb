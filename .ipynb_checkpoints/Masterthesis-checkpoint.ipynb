{
 "cells": [
  {
   "cell_type": "markdown",
   "id": "competitive-ireland",
   "metadata": {},
   "source": [
    "# Masterthesis\n",
    "\n",
    "---"
   ]
  },
  {
   "cell_type": "markdown",
   "id": "electronic-signal",
   "metadata": {},
   "source": [
    "## Description\n",
    "\n",
    "Alexander Henoch\n",
    "\n",
    "conda install jedi=0.17.2 jupyterlab jupyter-resource-usage nodejs umap-learn=0.4.6 hdbscan=0.8.26 pandas progressbar2 plotnine joblib=0.17.0\n",
    "\n",
    "jupyter labextension install @jupyterlab/fasta-extension\n",
    "\n",
    "conda install biopython mafft\n",
    "\n",
    "| Name | Version | Build | Channel |\n",
    "| -------------------- | ------- | ------------------ | ----------- |\n",
    "| hdbscan | 0.8.26 | py38h0b5ebd8_3 | conda-forge |\n",
    "| jedi | 0.17.2 | py38h578d9bd_1 | conda-forge |\n",
    "| jupyter-resource-usage | 0.5.1 | pyhd8ed1ab_0 | conda-forge |\n",
    "| jupyterlab | 3.0.5 | pyhd8ed1ab_0 | conda-forge |\n",
    "| nodejs | 15.3.0 | h25f6087_0 | conda-forge |\n",
    "| pandas | 1.2.1 | py38h51da96c_0 | conda-forge |\n",
    "| plotnine | 0.7.1 | py_0 | conda-forge |\n",
    "| progressbar2 | 3.53.1 | pyh9f0ad1d_0 | conda-forge |\n",
    "| umap-learn | 0.4.6 | py38h32f6830_0 | conda-forge |\n",
    "\n",
    "\n",
    "---"
   ]
  },
  {
   "cell_type": "markdown",
   "id": "automatic-processor",
   "metadata": {},
   "source": [
    "## To-Do\n",
    "\n",
    "1. [X] Frequency extraction \n",
    "2. [ ] Clustering UMAP/HDB\n",
    "    1. [X] Parameter exploration\n",
    "    2. [ ] Cluster number reduction\n",
    "    3. [ ] Centroid extraction\n",
    "    4. [ ] New Subtype Classification\n",
    "3. [X] Subtype interaction matrix\n",
    "    1. [X] Iteraction counting\n",
    "4. [ ] Alignment\n",
    "    1. [X] Mafft inclusion\n",
    "5. [ ] Circle hunt\n",
    "6. [ ] Mutations\n",
    "7. [ ] Write Thesis\n",
    "\n",
    "---"
   ]
  },
  {
   "cell_type": "markdown",
   "id": "graphic-story",
   "metadata": {},
   "source": [
    "## Introduction\n",
    "\n",
    "1. Virus/Pandemia\n",
    "2. Influenza/Danger\n",
    "3. Segments/Subtypes\n",
    "4. Sequencing/NTs/AAs/Mutations\n",
    "5. Clustering/-methods/Hierarchical/HDB\n",
    "6. K-mer Frequencies/Dimensions/UMAP\n",
    "7. Linkage Trees/define k/Parameter\n",
    "8. ...\n",
    "9. biol. Subtypes/new Subtypes?\n",
    "10. Alignments/Structures\n",
    "11. Thesis\n",
    "\n",
    "---"
   ]
  },
  {
   "cell_type": "markdown",
   "id": "alternate-spoke",
   "metadata": {},
   "source": [
    "## Methods\n",
    "\n",
    "1. \n",
    "2. UMAP/HDB/hybrid clustering\n",
    "3. Metrices/Scorings/DBCV/Epsilon/treecutting\n",
    "4. \n",
    "\n",
    "---"
   ]
  },
  {
   "cell_type": "markdown",
   "id": "opened-george",
   "metadata": {},
   "source": [
    "## Results and Discussion\n",
    "\n",
    "1. \n",
    "2. DBCV/Epsilon (Plot)\n",
    "3. cluster density (Plot)\n",
    "4. cluster + linkage tree(?)\n",
    "5. subtypes?\n",
    "6. \n",
    "\n",
    "---"
   ]
  },
  {
   "cell_type": "markdown",
   "id": "alleged-delight",
   "metadata": {},
   "source": [
    "### Package import\n",
    "\n",
    "- numpy, pandas: Dataframes\n",
    "- sys, re, csv, time: Python core functions\n",
    "- collections, itertools: Extended core functions\n",
    "- umap, hdbscan: Clustering\n",
    "- plotnine, matplotlib inline: Plotting \n",
    "\n",
    "---"
   ]
  },
  {
   "cell_type": "code",
   "execution_count": 3,
   "id": "cathedral-apple",
   "metadata": {},
   "outputs": [],
   "source": [
    "import numpy as np\n",
    "import pandas as pd\n",
    "import sys\n",
    "import re\n",
    "import csv\n",
    "import collections as co\n",
    "import itertools as it\n",
    "import umap\n",
    "import hdbscan\n",
    "import time \n",
    "import progressbar\n",
    "\n",
    "#from IPython.display import display\n",
    "#from Bio.Align.Applications import MafftCommandline\n",
    "from plotnine import *\n",
    "%matplotlib inline"
   ]
  },
  {
   "cell_type": "markdown",
   "id": "academic-arizona",
   "metadata": {},
   "source": [
    "### Clustering"
   ]
  },
  {
   "cell_type": "markdown",
   "id": "adolescent-banks",
   "metadata": {},
   "source": [
    "#### K-mer Frequency calculation\n",
    "\n",
    "- my frequency class\n",
    "    - max possible RAM save\n",
    "    - creation of matrix beforehand (adjustment)\n",
    "        - runtime + / RAM -\n",
    "    - no concatenation /copy of data -> more RAM)\n",
    "        - filling existing matrix\n",
    "        - has to be in the exact right size!\n",
    "    - Ns frequency\n",
    "        - ...\n",
    "    - AAs with Ns\n",
    "        - ...\n",
    "    \n",
    "---"
   ]
  },
  {
   "cell_type": "code",
   "execution_count": 4,
   "id": "pacific-appliance",
   "metadata": {},
   "outputs": [],
   "source": [
    "class frequency(object):\n",
    "    \n",
    "    def __init__(self, k = 7, convert = 0):\n",
    "    \n",
    "        self.k = k\n",
    "        self.convert = convert\n",
    "        self.exist = co.defaultdict(int) \n",
    "        self.keys = list(self.exist.keys())\n",
    "        self.col = len(self.keys)\n",
    "        self.row = 0\n",
    "        self.matrix = np.empty((self.row, self.col, ),dtype = \"float32\")\n",
    "        self.amino = co.defaultdict(str, {\n",
    "            'AAA':'K', 'AAC':'N', 'AAG':'K', 'AAT':'N',\n",
    "            'ACA':'T', 'ACC':'T', 'ACG':'T', 'ACT':'T',\n",
    "            'AGA':'R', 'AGC':'S', 'AGG':'R', 'AGT':'S',\n",
    "            'ATA':'I', 'ATC':'I', 'ATG':'M', 'ATT':'I',\n",
    "            'CAA':'Q', 'CAC':'H', 'CAG':'Q', 'CAT':'H',\n",
    "            'CCA':'P', 'CCC':'P', 'CCG':'P', 'CCT':'P',\n",
    "            'CGA':'R', 'CGC':'R', 'CGG':'R', 'CGT':'R',\n",
    "            'CTA':'L', 'CTC':'L', 'CTG':'L', 'CTT':'L',\n",
    "            'GAA':'E', 'GAC':'D', 'GAG':'E', 'GAT':'D',\n",
    "            'GCA':'A', 'GCC':'A', 'GCG':'A', 'GCT':'A',\n",
    "            'GGA':'G', 'GGC':'G', 'GGG':'G', 'GGT':'G',\n",
    "            'GTA':'V', 'GTC':'V', 'GTG':'V', 'GTT':'V',    \n",
    "            'TAA':'Y', 'TAC':'*', 'TAG':'*', 'TAT':'Y',\n",
    "            'TCA':'S', 'TCC':'S', 'TCG':'S', 'TCT':'S',\n",
    "            'TGA':'*', 'TGC':'C', 'TGG':'W', 'TGT':'C',\n",
    "            'TTA':'L', 'TTC':'F', 'TTG':'L', 'TTT':'F'\n",
    "        })\n",
    "                \n",
    "    def translate(self, read):\n",
    "    \n",
    "        chain = ''\n",
    "\n",
    "        for i in range(len(read) - 2):\n",
    "            trip = read[i:i+3]\n",
    "            chain += self.amino[trip]\n",
    "\n",
    "        return(chain)\n",
    "    \n",
    "    \n",
    "    def adjust_to_data(self, infile):\n",
    "    \n",
    "        self.row = infile.shape[0]\n",
    "            \n",
    "        for line, read in infile.itertuples(index=True, name=None):\n",
    "\n",
    "            if self.convert == 1:\n",
    "                seq = self.translate(read)\n",
    "                del read\n",
    "\n",
    "                num = len(seq) - self.k + 1\n",
    "\n",
    "                for i in range(num):\n",
    "                    kmer = seq[i:i+self.k]\n",
    "                    self.exist[kmer] = 0\n",
    "\n",
    "            else:\n",
    "                seq = read\n",
    "                del read\n",
    "\n",
    "                num = len(seq) - self.k + 1\n",
    "\n",
    "                if re.match('^[ACGT]*$', seq): \n",
    "                    for i in range(num):\n",
    "                        kmer = seq[i:i+self.k]\n",
    "                        self.exist[kmer] = 0\n",
    "                else:\n",
    "                    for i in range(num):\n",
    "                        kmer = seq[i:i+self.k]\n",
    "                        if re.match('^[ACGT]*$', kmer): \n",
    "                            self.exist[kmer] = 0\n",
    "            \n",
    "        self.keys = list(self.exist.keys())\n",
    "        self.col = len(self.keys)\n",
    "        self.matrix = np.empty((self.row, self.col, ), dtype=\"float32\")\n",
    "        \n",
    "        del seq\n",
    "    \n",
    "    \n",
    "    def calculate_frequence(self, infile):\n",
    "        \n",
    "        for line, read in infile.itertuples(index=True, name=None): \n",
    "                 \n",
    "            if self.convert == 1:\n",
    "                seq = self.translate(read)\n",
    "                del read\n",
    "\n",
    "                counts = self.exist.copy()\n",
    "                num = len(seq) - self.k + 1\n",
    "\n",
    "                for i in range(num):\n",
    "                    kmer = seq[i:i+self.k]\n",
    "                    counts[kmer] += 1\n",
    "\n",
    "            else:\n",
    "                seq = read\n",
    "                del read\n",
    "\n",
    "                counts = self.exist.copy()\n",
    "                num = len(seq) - self.k + 1\n",
    "\n",
    "                if re.match('^[ACGT]*$', seq): \n",
    "                    for i in range(num):\n",
    "                        kmer = seq[i:i+self.k]\n",
    "                        counts[kmer] += 1\n",
    "                else:\n",
    "                    for i in range(num):\n",
    "                        kmer = seq[i:i+self.k]\n",
    "                        if re.match('^[ACGT]*$', kmer): \n",
    "                            counts[kmer] += 1\n",
    "\n",
    "            vector = np.array(list(counts.values()), dtype = \"float32\")/num\n",
    "\n",
    "            self.matrix[line] = vector\n",
    "            \n",
    "            counts.clear()\n",
    "            del vector\n",
    "            del seq\n",
    "            del counts\n",
    "    \n",
    "    \n",
    "    def get_keys(self):\n",
    "        \n",
    "        return(self.keys)\n",
    "    \n",
    "    \n",
    "    def get_matrix(self):\n",
    "        \n",
    "        return(self.matrix)"
   ]
  },
  {
   "cell_type": "markdown",
   "id": "ruled-wilderness",
   "metadata": {},
   "source": [
    "#### Frequency Vector Dimension reduction\n",
    "\n",
    "- n neighbors:\n",
    "    - difficult\n",
    "    - below 50 = ~400 **very good** clusters\n",
    "    - around 100 = ~250 **good** clusters\n",
    "    - above 200 = ~150 **mediocre** clusters\n",
    "- min. dist:\n",
    "    - less as possible for better seperation in dimension reduction\n",
    "    - 0.1 creates more noise than 0.0\n",
    "- n components:\n",
    "    - the higher the resulting dimension the more time is needed for HDB clustering\n",
    "- random state:\n",
    "    - 42 answer on everything in the universe\n",
    "    - completely **useless** parameter\n",
    "- metric:\n",
    "    - seems to have very little effect on the **euclidean** clustering of HDB\n",
    "- frequency:\n",
    "    - removed frequency of AA chain\n",
    "    - *way better results*\n",
    "    \n",
    "---"
   ]
  },
  {
   "cell_type": "code",
   "execution_count": 5,
   "id": "neither-frequency",
   "metadata": {},
   "outputs": [],
   "source": [
    "def get_vectors(sequence, accession):\n",
    "\n",
    "    freq = frequency(k = 7, convert = 0)\n",
    "    freq.adjust_to_data(sequence)\n",
    "    freq.calculate_frequence(sequence)\n",
    "\n",
    "    matrix = freq.get_matrix()\n",
    "    keys = freq.get_keys()\n",
    "\n",
    "    #Dimension Reduction with UMAP\n",
    "\n",
    "    reduced = umap.UMAP(\n",
    "        n_neighbors = 100,\n",
    "        min_dist = 0.0,\n",
    "        n_components = 20,\n",
    "        random_state = 42,\n",
    "        #metric = 'cosine',\n",
    "    ).fit_transform(matrix)\n",
    "\n",
    "    dataframe = pd.concat([accession, pd.DataFrame(reduced)], axis=1, copy = False, ignore_index = False).set_index('accession')\n",
    "    \n",
    "    return(dataframe)"
   ]
  },
  {
   "cell_type": "markdown",
   "id": "continued-fellowship",
   "metadata": {},
   "source": [
    "#### DBCV and Epsilon Cutoff Discovery\n",
    "\n",
    "- **HDB scan don't necessarily create round clusters**\n",
    "    - calculations based on round clusters are useless\n",
    "    - centroid calculation difficult\n",
    "    - inner cluster distances wrong\n",
    "    - silhouette score wrong\n",
    "        - look [here](https://pberba.github.io/stats/2020/01/17/hdbscan/)\n",
    "- DBCV and Epsilon\n",
    "    - Epsilon:\n",
    "        - Hybrid clustering with DBSCAN* and HDBSCAN*\n",
    "        - look [here](https://hdbscan.readthedocs.io/en/latest/how_to_use_epsilon.html)\n",
    "    - DBCV:\n",
    "        - Density Based Cluster Validity (DBCV) score\n",
    "        - [paper](https://www.dbs.ifi.lmu.de/~zimek/publications/SDM2014/DBCV.pdf)\n",
    "        - needs minimum spanning tree (parameter = True)\n",
    "    - loop to increse Epsilon by comparison with the DBCV score\n",
    "    - *seems to be promising*\n",
    "- centroids:\n",
    "    - *maybe by extraction exemplars and connect them single linkage wise*\n",
    "    - *~13000 exemplars and 13000 clusters -> 250 clusters*\n",
    "    - *how to shrink number of exemplars*\n",
    "- removed reinitialisation of lists to save all values\n",
    "- unclustered and cluster number removed and integrated in final clustering\n",
    "\n",
    "---"
   ]
  },
  {
   "cell_type": "code",
   "execution_count": 6,
   "id": "according-heaven",
   "metadata": {},
   "outputs": [],
   "source": [
    "def get_epsilon(dataframe):\n",
    "    \n",
    "    epsilon = 0.0\n",
    "    dbcv_list = []\n",
    "    #n_cluster_list = []\n",
    "    #unclustered_list = []\n",
    "    epsilon_list = []\n",
    "\n",
    "    clusterer_init = hdbscan.HDBSCAN(\n",
    "        min_samples = 1,\n",
    "        min_cluster_size = 2,\n",
    "        cluster_selection_epsilon = 0.0,\n",
    "        gen_min_span_tree=True,\n",
    "    ).fit(dataframe)\n",
    "\n",
    "    epsilon_max = clusterer_init.single_linkage_tree_.to_pandas()['distance'].max().item()\n",
    "\n",
    "    while epsilon <= epsilon_max:\n",
    "\n",
    "        clusterer = hdbscan.HDBSCAN(\n",
    "            min_samples = 1,\n",
    "            min_cluster_size = 2,\n",
    "            cluster_selection_epsilon = epsilon,\n",
    "            gen_min_span_tree=True,\n",
    "        ).fit(dataframe)\n",
    "\n",
    "        dbcv_list.append(clusterer.relative_validity_.item())\n",
    "        label = list(clusterer.labels_)\n",
    "        #n_cluster_list.append(len(set(label))-1)\n",
    "        #unclustered_list.append(label.count(-1))\n",
    "        epsilon_list.append(epsilon)\n",
    "\n",
    "        epsilon = round(epsilon + 1.0, 2)\n",
    "\n",
    "    epsilon_best = epsilon_list[dbcv_list.index(max(dbcv_list))]\n",
    "\n",
    "    #print(f\"First rough iteration:\")\n",
    "    #print(f\"Best DBCV value: {max(dbcv_list)}\")\n",
    "    #print(f\"Cluster number: {n_cluster_list[dbcv_list.index(max(dbcv_list))]}\")\n",
    "    #print(f\"Unclustered/Noise: {unclustered_list[dbcv_list.index(max(dbcv_list))]}\")\n",
    "\n",
    "    epsilon = round(epsilon_best - 1.0, 2)\n",
    "\n",
    "    if (epsilon < 0.0):\n",
    "        epsilon = 0.0\n",
    "\n",
    "    epsilon_max = round(epsilon_best + 1.0, 2)\n",
    "    #dbcv_list = []\n",
    "    #n_cluster_list = []\n",
    "    #unclustered_list = []\n",
    "    #epsilon_list = []\n",
    "\n",
    "    #DBCV Exploration (fine)\n",
    "\n",
    "    while epsilon <= epsilon_max:\n",
    "\n",
    "        clusterer = hdbscan.HDBSCAN(\n",
    "            min_samples = 1,\n",
    "            min_cluster_size = 2,\n",
    "            cluster_selection_epsilon = epsilon,\n",
    "            gen_min_span_tree=True,\n",
    "        ).fit(dataframe)\n",
    "\n",
    "        dbcv_list.append(clusterer.relative_validity_.item())\n",
    "        label = list(clusterer.labels_)\n",
    "        #n_cluster_list.append(len(set(label))-1)\n",
    "        #unclustered_list.append(label.count(-1))\n",
    "        epsilon_list.append(epsilon)\n",
    "\n",
    "        epsilon = round(epsilon + 0.1, 2)\n",
    "\n",
    "    dbcv_best = max(dbcv_list)\n",
    "    epsilon_best = epsilon_list[dbcv_list.index(dbcv_best)]\n",
    "    parameter = pd.DataFrame(zip(epsilon_list, dbcv_list), columns = ['epsilon', 'DBCV']).set_index('epsilon')\n",
    "    \n",
    "    #print(f\"Second fine iteration:\")\n",
    "    #print(f\"Best DBCV value: {max(dbcv_list)}\")\n",
    "    #print(f\"Cluster number: {n_cluster_list[dbcv_list.index(max(dbcv_list))]}\")\n",
    "    #print(f\"Unclustered/Noise: {unclustered_list[dbcv_list.index(max(dbcv_list))]}\")\n",
    "    \n",
    "    return(parameter, epsilon_best, dbcv_best)"
   ]
  },
  {
   "cell_type": "markdown",
   "id": "front-cardiff",
   "metadata": {},
   "source": [
    "#### Clustering using optimized Epsilon\n",
    "\n",
    "- Final clustering\n",
    "    - *is the clustering the best possible?*\n",
    "    - min. samples: the higher the more conservative = more noise = more unclustered\n",
    "    - min. clustersize: value small? some very special influenza strains should be in small clusters\n",
    "        - *maybe increase*\n",
    "    - selection method?\n",
    "        - HDB hybrid pager is a comparison and eom seems to be more matching\n",
    "\n",
    "---"
   ]
  },
  {
   "cell_type": "code",
   "execution_count": 7,
   "id": "bigger-armor",
   "metadata": {},
   "outputs": [],
   "source": [
    "def get_cluster(epsilon_best, dataframe, extra, accession):\n",
    "\n",
    "    clusterer_best = hdbscan.HDBSCAN(\n",
    "        min_samples = 1,\n",
    "        min_cluster_size = 2,\n",
    "        cluster_selection_epsilon = epsilon_best,\n",
    "        gen_min_span_tree=True,\n",
    "        cluster_selection_method = 'eom',\n",
    "    ).fit(dataframe)\n",
    "\n",
    "    label = clusterer_best.labels_\n",
    "    label_list = label.tolist()\n",
    "    \n",
    "    n_cluster = len(set(label_list))-1\n",
    "    unclustered = label_list.count(-1)\n",
    "    \n",
    "    cluster = pd.concat([pd.DataFrame(label, columns = ['cluster']), extra, accession], axis=1, copy = False).set_index('accession')\n",
    "    \n",
    "    N_unmatch = cluster.groupby('cluster').filter(lambda x: x['N'].nunique() > 1).cluster.nunique()\n",
    "    H_unmatch = cluster.groupby('cluster').filter(lambda x: x['H'].nunique() > 1).cluster.nunique() \n",
    "    \n",
    "    return(cluster, n_cluster, unclustered, H_unmatch, N_unmatch)"
   ]
  },
  {
   "cell_type": "markdown",
   "id": "tropical-nature",
   "metadata": {},
   "source": [
    "#### Plotting DBCV as a Function of Epsilon\n",
    "\n",
    "- grafical representation of DBCV as a function of Epsilon\n",
    "\n",
    "---"
   ]
  },
  {
   "cell_type": "code",
   "execution_count": 8,
   "id": "agreed-guitar",
   "metadata": {},
   "outputs": [],
   "source": [
    "def plot_dbcv(parameter):\n",
    "\n",
    "    plot = (ggplot(parameter, aes(x=\"epsilon\", y='DBCV', colour = \"factor(segment)\")) \n",
    "     + labs(\n",
    "        x=\"Epsilon\",\n",
    "        y=\"DBCV\",\n",
    "        colour=\"Segment\",\n",
    "        title=\"DBCV by changing Epsilon\",\n",
    "     )\n",
    "     + geom_line()\n",
    "     #+ geom_vline(aes(xintercept = epsilon_best))\n",
    "     + scale_x_continuous()\n",
    "     + scale_y_continuous()\n",
    "     + facet_wrap('~segment', ncol = 4)\n",
    "     + theme_538()\n",
    "    )\n",
    "    \n",
    "    return(plot)"
   ]
  },
  {
   "cell_type": "markdown",
   "id": "intensive-colorado",
   "metadata": {},
   "source": [
    "#### Plotting Cluster Size Distribution\n",
    "\n",
    "- legend position better on right side\n",
    "    - bottom legend overlays axis\n",
    "\n",
    "---"
   ]
  },
  {
   "cell_type": "code",
   "execution_count": 9,
   "id": "musical-syndication",
   "metadata": {},
   "outputs": [],
   "source": [
    "def plot_density(cluster):\n",
    "\n",
    "    density = pd.DataFrame(cluster.value_counts(subset=['segment', 'cluster']), columns = ['size'])\n",
    "    density.reset_index(level = [\"segment\", \"cluster\"], inplace=True)\n",
    "\n",
    "    plot = (ggplot(density, aes(x=\"size\", colour = \"factor(segment)\", fill = \"factor(segment)\")) \n",
    "     + labs(\n",
    "        x=\"Cluster Size\",\n",
    "        y=\"Density\",\n",
    "        fill=\"Segment\",\n",
    "        colour=\"Segment\",\n",
    "        title=\"Cluster Size Distribution\",\n",
    "     )\n",
    "     + geom_density(alpha = 0.25)\n",
    "     + scale_x_log10()\n",
    "     + scale_y_continuous()\n",
    "     + facet_wrap('~segment', ncol = 4)\n",
    "     + theme_538()\n",
    "    )\n",
    "    \n",
    "    return(plot)"
   ]
  },
  {
   "cell_type": "markdown",
   "id": "heavy-database",
   "metadata": {},
   "source": [
    "#### Main Pipeline"
   ]
  },
  {
   "cell_type": "code",
   "execution_count": 10,
   "id": "occupied-bibliography",
   "metadata": {},
   "outputs": [],
   "source": [
    "def subsplit(subtype):\n",
    "    if re.match('^[H][0-9]+N[0-9]+$', subtype): \n",
    "        H = re.search('[H][0-9]+', subtype).group(0)\n",
    "        N = re.search('[N][0-9]+', subtype).group(0)\n",
    "    else:\n",
    "        H = np.nan\n",
    "        N = np.nan\n",
    "    return(H, N)"
   ]
  },
  {
   "cell_type": "code",
   "execution_count": 10,
   "id": "civil-filling",
   "metadata": {},
   "outputs": [
    {
     "name": "stderr",
     "output_type": "stream",
     "text": [
      " [elapsed time: 2:16:43] |##################################| (Time:  2:16:43) \n"
     ]
    }
   ],
   "source": [
    "parameter_dict = co.defaultdict(list)\n",
    "cluster_dict = co.defaultdict(list)\n",
    "information_dict = co.defaultdict(list)\n",
    "\n",
    "upload = pd.read_csv('../Data/A.csv', sep = ',', na_filter = False, header = None)\n",
    "upload.columns = ['accession', 'strain', 'segment', 'protein', 'genus', 'subtype', 'date', 'host', 'curation', 'genome']\n",
    "upload.query('curation == \"Pass\"', inplace = True)\n",
    "upload[['H', 'N']] = upload.subtype.apply(lambda x: subsplit(x)).tolist()\n",
    "\n",
    "segments = [1, 2, 3, 4, 5, 6, 7, 8]\n",
    "widgets = [' [', progressbar.Timer(format = 'elapsed time: %(elapsed)s'), '] ', progressbar.Bar('#'),' (', progressbar.ETA(), ') ', ] \n",
    "bar = progressbar.ProgressBar(max_value = len(segments), widgets = widgets).start() \n",
    "\n",
    "for segment in segments:\n",
    "    \n",
    "    subset = upload.query('segment == @segment').reset_index()\n",
    "    sequence = subset[['genome']].copy()\n",
    "    accession = subset[['accession']].copy()\n",
    "    extra = subset[['H', 'N', 'strain']].copy()\n",
    "\n",
    "    dataframe = get_vectors(sequence, accession)\n",
    "    parameter_dict[segment], epsilon_best, dbcv_best = get_epsilon(dataframe)\n",
    "    cluster_dict[segment], n_cluster, unclustered, H_unmatch, N_unmatch = get_cluster(epsilon_best, dataframe, extra, accession)\n",
    "    information_dict[segment] = [n_cluster, unclustered, H_unmatch, N_unmatch, epsilon_best, dbcv_best]\n",
    "    \n",
    "    bar.update(segment)\n",
    "\n",
    "bar.finish()    \n",
    "\n",
    "cluster = pd.concat(cluster_dict)\n",
    "cluster.index.set_names([\"segment\", \"accession\"], inplace=True)\n",
    "cluster.reset_index(level = \"segment\", inplace=True)\n",
    "\n",
    "parameter = pd.concat(parameter_dict)\n",
    "parameter.index.set_names([\"segment\", \"epsilon\"], inplace=True)\n",
    "parameter.reset_index(level = [\"segment\", \"epsilon\"], inplace=True)\n",
    "\n",
    "information = pd.DataFrame.from_dict(information_dict, orient='index', columns=['n_cluster', 'unclustered', 'H_unmatch', 'N_unmatch', 'epsilon_best', 'dbcv_best'])\n",
    "information.index.set_names([\"segment\"], inplace=True)"
   ]
  },
  {
   "cell_type": "markdown",
   "id": "threaded-assignment",
   "metadata": {},
   "source": [
    "#### Printing Results"
   ]
  },
  {
   "cell_type": "code",
   "execution_count": 12,
   "id": "welsh-positive",
   "metadata": {},
   "outputs": [
    {
     "name": "stdout",
     "output_type": "stream",
     "text": [
      "         n_cluster  unclustered  H_unmatch  N_unmatch  epsilon_best  dbcv_best\n",
      "segment                                                                       \n",
      "1              247            0         98        100           2.5   0.800712\n",
      "2              237            0         84         87           2.0   0.808490\n",
      "3              277            0         84         85           3.0   0.860224\n",
      "4              253            0          2         79           1.8   0.869431\n",
      "5              302            0         89         90           2.1   0.878870\n",
      "6              257            0         65          3           2.2   0.837159\n",
      "7              319            0         93        100           3.0   0.836325\n",
      "8              316            0         99        106           1.6   0.867848\n"
     ]
    },
    {
     "data": {
      "image/png": "[encoded data removed]",
      "text/plain": [
       "<Figure size 640x480 with 8 Axes>"
      ]
     },
     "metadata": {},
     "output_type": "display_data"
    },
    {
     "name": "stdout",
     "output_type": "stream",
     "text": [
      "<ggplot: (8741623591036)>\n"
     ]
    },
    {
     "data": {
      "image/png": "[encoded data removed]",
      "text/plain": [
       "<Figure size 640x480 with 8 Axes>"
      ]
     },
     "metadata": {},
     "output_type": "display_data"
    },
    {
     "name": "stdout",
     "output_type": "stream",
     "text": [
      "<ggplot: (8741623337861)>\n",
      "           segment  cluster   H   N                 strain\n",
      "accession                                                 \n",
      ">CY021716        1      133  H1  N1       A/AA/Huston/1945\n",
      ">CY020292        1      133  H1  N1       A/AA/Marton/1943\n",
      ">CY083917        1       21  H1  N1  A/Aalborg/INS132/2009\n",
      ">CY063613        1       21  H1  N1  A/Aalborg/INS133/2009\n",
      ">CY073732        1       21  H1  N1  A/Aalborg/INS283/2009\n",
      "...            ...      ...  ..  ..                    ...\n",
      ">KM374046        8       12  H7  N9   A/Zhejiang/LS01/2014\n",
      ">CY095725        8      127  H1  N1     A/Zhejiang/X1/2009\n",
      ">CY095752        8      127  H1  N1     A/Zhejiang/X2/2009\n",
      ">KF007064        8      100  H7  N9     A/Zhenjiang/1/2013\n",
      ">HM230697        8      186  H1  N1      A/Zhoushan/1/2009\n",
      "\n",
      "[443159 rows x 5 columns]\n"
     ]
    }
   ],
   "source": [
    "print(information)\n",
    "print(plot_dbcv(parameter))\n",
    "print(plot_density(cluster))\n",
    "print(cluster)"
   ]
  },
  {
   "cell_type": "markdown",
   "id": "independent-ferry",
   "metadata": {},
   "source": [
    "#### Save and Resume"
   ]
  },
  {
   "cell_type": "code",
   "execution_count": 54,
   "id": "ruled-accreditation",
   "metadata": {},
   "outputs": [],
   "source": [
    "############### SAVE ###############\n",
    "\n",
    "cluster.to_csv('cluster.csv', index=True, header=True, sep=',', mode='w')\n",
    "parameter.to_csv('parameter.csv', index=True, header=True, sep=',', mode='w')\n",
    "information.to_csv('information.csv', index=True, header=True, sep=',', mode='w')\n",
    "\n",
    "#cluster.to_latex('cluster.tex')\n",
    "#parameter.to_latex('parameter.tex')\n",
    "#information.to_latex('information.tex')"
   ]
  },
  {
   "cell_type": "code",
   "execution_count": 11,
   "id": "brown-linux",
   "metadata": {},
   "outputs": [],
   "source": [
    "############# RESUME ##############\n",
    "\n",
    "cluster = pd.read_csv('cluster.csv', sep = ',', na_filter = False, header = 0, index_col = 0)\n",
    "parameter = pd.read_csv('parameter.csv', sep = ',', na_filter = False, header = 0, index_col = 0)\n",
    "information = pd.read_csv('information.csv', sep = ',', na_filter = False, header = 0, index_col = 0)"
   ]
  },
  {
   "cell_type": "markdown",
   "id": "accompanied-payment",
   "metadata": {},
   "source": [
    "### Interactions"
   ]
  },
  {
   "cell_type": "markdown",
   "id": "fewer-cleaner",
   "metadata": {},
   "source": [
    "#### Plotting Cluster Interactions"
   ]
  },
  {
   "cell_type": "code",
   "execution_count": 47,
   "id": "international-glass",
   "metadata": {},
   "outputs": [],
   "source": [
    "def plot_interactions(interaction, x, y):\n",
    "\n",
    "    subset = interaction.query('segment_x == @x & segment_y == @y')\n",
    "    \n",
    "    plot = (ggplot(subset, aes(x=\"cluster_x\", y=\"cluster_y\"))\n",
    "     + labs(\n",
    "        x=\"Cluster Segment \" + str(x),\n",
    "        y=\"Cluster Segment \" + str(y),\n",
    "        #fill=\"Interactions\",\n",
    "        title=\"Segment Cluster Interactions\",\n",
    "     )\n",
    "     #+ geom_bin2d(binwidth = 2.5)\n",
    "     + geom_tile(aes(fill =\"intersection\", height = 3, width = 3))\n",
    "     + scale_fill_gradient(low=\"lightgray\", high=\"red\")\n",
    "     + theme_538()\n",
    "    )\n",
    "    \n",
    "    return(plot)"
   ]
  },
  {
   "cell_type": "markdown",
   "id": "dying-columbus",
   "metadata": {},
   "source": [
    "#### Main Pipeline\n",
    "\n",
    "- Visualize Nucleotide Sequences\n",
    "    - taken from [here](https://github.com/jupyterlab/jupyter-renderers/tree/master/packages/fasta-extension)\n",
    "    - official jupyter extension example code\n",
    "- Merge not working like expacted:\n",
    "\n",
    "    | Accession | Segment | Cluster | HN | NN | Strain |\n",
    "    | --------- | ------- | ------- | -- | -- | ----------------- |\n",
    "    | >MK676822 | 7 | 4 | H3 | N2 | A/Alabama/08/2019 |\n",
    "    | >MN000556 | 7 | 4 | H3 | N2 | A/Alabama/08/2019 |\n",
    "    | >MN000558 | 8 | 10 | H3 | N2 | A/Alabama/08/2019 |\n",
    "    | >MK676823 | 8 | 10 | H3 | N2 | A/Alabama/08/2019 |\n",
    "\n",
    "    - overlap = 4 (2x2)\n",
    "        - like every possible combination\n",
    "        - with 3 and 3 ist 9 not 6\n",
    "        - which behaivior better?\n",
    "    - Change:\n",
    "        - Intersection and Combination\n",
    "        - one column with intersection:\n",
    "            - 3 and 3 = 3\n",
    "        - one column with combination:\n",
    "            - 3 and 3 = 9\n",
    "    - Based on difficult merge and count combinations in pandas"
   ]
  },
  {
   "cell_type": "code",
   "execution_count": 44,
   "id": "injured-identity",
   "metadata": {},
   "outputs": [],
   "source": [
    "def fasta(data):\n",
    "    \n",
    "    bundle = {}\n",
    "    bundle['application/vnd.fasta.fasta'] = data\n",
    "    bundle['text/plain'] = data\n",
    "    display(bundle, raw=True)"
   ]
  },
  {
   "cell_type": "code",
   "execution_count": 45,
   "id": "accepting-victim",
   "metadata": {},
   "outputs": [],
   "source": [
    "def alignment(dataframe):    \n",
    "\n",
    "    fasta.to_csv('tmp.fasta', header=None, index=True, sep='\\n', mode='w')\n",
    "\n",
    "    mafft_cline = MafftCommandline(input='tmp.fasta', thread=threads)\n",
    "    stdout, stderr = mafft_cline()\n",
    "\n",
    "    os.remove('tmp.fasta') \n",
    "    \n",
    "    return(stdout)"
   ]
  },
  {
   "cell_type": "code",
   "execution_count": 16,
   "id": "typical-blond",
   "metadata": {},
   "outputs": [],
   "source": [
    "occurence = cluster.groupby(['segment', 'cluster', 'strain']).size().to_frame(name='size').reset_index()\n",
    "\n",
    "merge = occurence.merge(occurence, on=['strain']).query('segment_x != segment_y')\n",
    "merge['intersection'] = merge.loc[:, ['size_x', 'size_y']].min(axis=1)\n",
    "merge['combinations'] = merge.loc[:, ['size_x', 'size_y']].prod(axis=1)\n",
    "#merge.query('segment_x == 1 & segment_y == 3', inplace=True)\n",
    "interaction = merge.groupby(['segment_x', 'segment_y', 'cluster_x', 'cluster_y']).sum()[['combinations', 'intersection']].reset_index()"
   ]
  },
  {
   "cell_type": "markdown",
   "id": "elect-albania",
   "metadata": {},
   "source": [
    "#### Printing Results"
   ]
  },
  {
   "cell_type": "code",
   "execution_count": 52,
   "id": "broad-message",
   "metadata": {},
   "outputs": [
    {
     "data": {
      "image/png": "[encoded data removed]",
      "text/plain": [
       "<Figure size 640x480 with 1 Axes>"
      ]
     },
     "metadata": {},
     "output_type": "display_data"
    },
    {
     "data": {
      "text/plain": [
       "<ggplot: (8741622287267)>"
      ]
     },
     "execution_count": 52,
     "metadata": {},
     "output_type": "execute_result"
    }
   ],
   "source": [
    "plot_interactions(interaction, 1, 4)"
   ]
  }
 ],
 "metadata": {
  "kernelspec": {
   "display_name": "Python 3",
   "language": "python",
   "name": "python3"
  },
  "language_info": {
   "codemirror_mode": {
    "name": "ipython",
    "version": 3
   },
   "file_extension": ".py",
   "mimetype": "text/x-python",
   "name": "python",
   "nbconvert_exporter": "python",
   "pygments_lexer": "ipython3",
   "version": "3.8.6"
  },
  "toc-autonumbering": true,
  "toc-showcode": true,
  "toc-showmarkdowntxt": true
 },
 "nbformat": 4,
 "nbformat_minor": 5
}
