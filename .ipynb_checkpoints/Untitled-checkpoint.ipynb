{
 "cells": [
  {
   "cell_type": "code",
   "execution_count": 2,
   "id": "equivalent-level",
   "metadata": {},
   "outputs": [],
   "source": [
    "from sklearn.datasets import make_blobs\n",
    "from sklearn.metrics import pairwise_distances\n",
    "from sklearn.preprocessing import normalize\n",
    "import pandas as pd\n",
    "import hdbscan\n",
    "import scipy.spatial.distance as ssd"
   ]
  },
  {
   "cell_type": "code",
   "execution_count": 3,
   "id": "mounted-warehouse",
   "metadata": {},
   "outputs": [
    {
     "data": {
      "text/html": [
       "<div>\n",
       "<style scoped>\n",
       "    .dataframe tbody tr th:only-of-type {\n",
       "        vertical-align: middle;\n",
       "    }\n",
       "\n",
       "    .dataframe tbody tr th {\n",
       "        vertical-align: top;\n",
       "    }\n",
       "\n",
       "    .dataframe thead th {\n",
       "        text-align: right;\n",
       "    }\n",
       "</style>\n",
       "<table border=\"1\" class=\"dataframe\">\n",
       "  <thead>\n",
       "    <tr style=\"text-align: right;\">\n",
       "      <th></th>\n",
       "      <th>0</th>\n",
       "      <th>1</th>\n",
       "      <th>2</th>\n",
       "      <th>3</th>\n",
       "      <th>4</th>\n",
       "      <th>5</th>\n",
       "      <th>6</th>\n",
       "      <th>7</th>\n",
       "      <th>8</th>\n",
       "      <th>9</th>\n",
       "    </tr>\n",
       "  </thead>\n",
       "  <tbody>\n",
       "    <tr>\n",
       "      <th>0</th>\n",
       "      <td>0.815533</td>\n",
       "      <td>-3.445262</td>\n",
       "      <td>-9.903991</td>\n",
       "      <td>8.550658</td>\n",
       "      <td>4.581911</td>\n",
       "      <td>-4.926949</td>\n",
       "      <td>5.495921</td>\n",
       "      <td>-3.754046</td>\n",
       "      <td>-0.912484</td>\n",
       "      <td>-6.052651</td>\n",
       "    </tr>\n",
       "    <tr>\n",
       "      <th>1</th>\n",
       "      <td>-2.084970</td>\n",
       "      <td>-10.557716</td>\n",
       "      <td>4.438593</td>\n",
       "      <td>3.728923</td>\n",
       "      <td>-7.195823</td>\n",
       "      <td>-9.979610</td>\n",
       "      <td>6.593118</td>\n",
       "      <td>3.738587</td>\n",
       "      <td>4.950753</td>\n",
       "      <td>8.473204</td>\n",
       "    </tr>\n",
       "    <tr>\n",
       "      <th>2</th>\n",
       "      <td>9.767261</td>\n",
       "      <td>5.152853</td>\n",
       "      <td>0.049597</td>\n",
       "      <td>-9.898476</td>\n",
       "      <td>8.616464</td>\n",
       "      <td>6.315694</td>\n",
       "      <td>-5.012978</td>\n",
       "      <td>-5.728600</td>\n",
       "      <td>4.235547</td>\n",
       "      <td>-2.760977</td>\n",
       "    </tr>\n",
       "    <tr>\n",
       "      <th>3</th>\n",
       "      <td>10.165479</td>\n",
       "      <td>2.051540</td>\n",
       "      <td>-0.348414</td>\n",
       "      <td>-8.688405</td>\n",
       "      <td>8.821765</td>\n",
       "      <td>7.550918</td>\n",
       "      <td>-6.850382</td>\n",
       "      <td>-5.082585</td>\n",
       "      <td>3.509158</td>\n",
       "      <td>-3.849454</td>\n",
       "    </tr>\n",
       "    <tr>\n",
       "      <th>4</th>\n",
       "      <td>3.148829</td>\n",
       "      <td>-3.592815</td>\n",
       "      <td>-8.578706</td>\n",
       "      <td>7.519609</td>\n",
       "      <td>3.195054</td>\n",
       "      <td>-1.491871</td>\n",
       "      <td>6.788117</td>\n",
       "      <td>-3.158770</td>\n",
       "      <td>2.362923</td>\n",
       "      <td>-6.903795</td>\n",
       "    </tr>\n",
       "    <tr>\n",
       "      <th>...</th>\n",
       "      <td>...</td>\n",
       "      <td>...</td>\n",
       "      <td>...</td>\n",
       "      <td>...</td>\n",
       "      <td>...</td>\n",
       "      <td>...</td>\n",
       "      <td>...</td>\n",
       "      <td>...</td>\n",
       "      <td>...</td>\n",
       "      <td>...</td>\n",
       "    </tr>\n",
       "    <tr>\n",
       "      <th>49995</th>\n",
       "      <td>9.115717</td>\n",
       "      <td>3.241141</td>\n",
       "      <td>1.551361</td>\n",
       "      <td>-10.034993</td>\n",
       "      <td>9.795705</td>\n",
       "      <td>4.525062</td>\n",
       "      <td>-6.404944</td>\n",
       "      <td>-5.602356</td>\n",
       "      <td>4.071998</td>\n",
       "      <td>-5.078193</td>\n",
       "    </tr>\n",
       "    <tr>\n",
       "      <th>49996</th>\n",
       "      <td>4.202525</td>\n",
       "      <td>-4.205138</td>\n",
       "      <td>-8.209612</td>\n",
       "      <td>7.015561</td>\n",
       "      <td>2.833447</td>\n",
       "      <td>-2.774266</td>\n",
       "      <td>6.295237</td>\n",
       "      <td>-3.303022</td>\n",
       "      <td>3.716960</td>\n",
       "      <td>-8.175703</td>\n",
       "    </tr>\n",
       "    <tr>\n",
       "      <th>49997</th>\n",
       "      <td>-0.260369</td>\n",
       "      <td>-4.812140</td>\n",
       "      <td>-8.495189</td>\n",
       "      <td>6.861205</td>\n",
       "      <td>3.439989</td>\n",
       "      <td>-2.570113</td>\n",
       "      <td>6.728965</td>\n",
       "      <td>-4.041911</td>\n",
       "      <td>0.465970</td>\n",
       "      <td>-6.777903</td>\n",
       "    </tr>\n",
       "    <tr>\n",
       "      <th>49998</th>\n",
       "      <td>2.497473</td>\n",
       "      <td>-3.342847</td>\n",
       "      <td>-9.053389</td>\n",
       "      <td>6.683568</td>\n",
       "      <td>1.624245</td>\n",
       "      <td>-2.493925</td>\n",
       "      <td>6.789497</td>\n",
       "      <td>-1.537537</td>\n",
       "      <td>0.722304</td>\n",
       "      <td>-7.941228</td>\n",
       "    </tr>\n",
       "    <tr>\n",
       "      <th>49999</th>\n",
       "      <td>9.589188</td>\n",
       "      <td>4.813083</td>\n",
       "      <td>-1.532080</td>\n",
       "      <td>-8.908067</td>\n",
       "      <td>8.380976</td>\n",
       "      <td>6.584830</td>\n",
       "      <td>-6.080917</td>\n",
       "      <td>-4.903909</td>\n",
       "      <td>3.548798</td>\n",
       "      <td>-4.071030</td>\n",
       "    </tr>\n",
       "  </tbody>\n",
       "</table>\n",
       "<p>50000 rows × 10 columns</p>\n",
       "</div>"
      ],
      "text/plain": [
       "               0          1         2          3         4         5  \\\n",
       "0       0.815533  -3.445262 -9.903991   8.550658  4.581911 -4.926949   \n",
       "1      -2.084970 -10.557716  4.438593   3.728923 -7.195823 -9.979610   \n",
       "2       9.767261   5.152853  0.049597  -9.898476  8.616464  6.315694   \n",
       "3      10.165479   2.051540 -0.348414  -8.688405  8.821765  7.550918   \n",
       "4       3.148829  -3.592815 -8.578706   7.519609  3.195054 -1.491871   \n",
       "...          ...        ...       ...        ...       ...       ...   \n",
       "49995   9.115717   3.241141  1.551361 -10.034993  9.795705  4.525062   \n",
       "49996   4.202525  -4.205138 -8.209612   7.015561  2.833447 -2.774266   \n",
       "49997  -0.260369  -4.812140 -8.495189   6.861205  3.439989 -2.570113   \n",
       "49998   2.497473  -3.342847 -9.053389   6.683568  1.624245 -2.493925   \n",
       "49999   9.589188   4.813083 -1.532080  -8.908067  8.380976  6.584830   \n",
       "\n",
       "              6         7         8         9  \n",
       "0      5.495921 -3.754046 -0.912484 -6.052651  \n",
       "1      6.593118  3.738587  4.950753  8.473204  \n",
       "2     -5.012978 -5.728600  4.235547 -2.760977  \n",
       "3     -6.850382 -5.082585  3.509158 -3.849454  \n",
       "4      6.788117 -3.158770  2.362923 -6.903795  \n",
       "...         ...       ...       ...       ...  \n",
       "49995 -6.404944 -5.602356  4.071998 -5.078193  \n",
       "49996  6.295237 -3.303022  3.716960 -8.175703  \n",
       "49997  6.728965 -4.041911  0.465970 -6.777903  \n",
       "49998  6.789497 -1.537537  0.722304 -7.941228  \n",
       "49999 -6.080917 -4.903909  3.548798 -4.071030  \n",
       "\n",
       "[50000 rows x 10 columns]"
      ]
     },
     "execution_count": 3,
     "metadata": {},
     "output_type": "execute_result"
    }
   ],
   "source": [
    "blobs, labels = make_blobs(n_samples=50000, n_features=10)\n",
    "pd.DataFrame(blobs)"
   ]
  },
  {
   "cell_type": "code",
   "execution_count": 65,
   "id": "antique-fraud",
   "metadata": {},
   "outputs": [
    {
     "data": {
      "text/plain": [
       "array([0, 1, 0, ..., 0, 2, 1])"
      ]
     },
     "execution_count": 65,
     "metadata": {},
     "output_type": "execute_result"
    }
   ],
   "source": [
    "clusterer = hdbscan.HDBSCAN(metric=\"cosine\",\n",
    "                            algorithm=\"generic\")\n",
    "clusterer.fit(blobs)\n",
    "clusterer.labels_"
   ]
  },
  {
   "cell_type": "code",
   "execution_count": 66,
   "id": "positive-ultimate",
   "metadata": {},
   "outputs": [
    {
     "data": {
      "text/plain": [
       "array([0, 2, 0, ..., 0, 1, 2])"
      ]
     },
     "execution_count": 66,
     "metadata": {},
     "output_type": "execute_result"
    }
   ],
   "source": [
    "clusterer = hdbscan.HDBSCAN(metric='euclidean')\n",
    "clusterer.fit(blobs)\n",
    "clusterer.labels_"
   ]
  },
  {
   "cell_type": "code",
   "execution_count": 4,
   "id": "former-nicholas",
   "metadata": {},
   "outputs": [],
   "source": [
    "x = normalize(blobs, norm='l2')"
   ]
  },
  {
   "cell_type": "code",
   "execution_count": 5,
   "id": "absent-invention",
   "metadata": {},
   "outputs": [
    {
     "data": {
      "text/plain": [
       "array([[ 0.04626164, -0.19543462, -0.56181009, ..., -0.21295063,\n",
       "        -0.0517612 , -0.3433404 ],\n",
       "       [-0.09779409, -0.49520248,  0.20818918, ...,  0.17535586,\n",
       "         0.23221172,  0.39742987],\n",
       "       [ 0.47797559,  0.25216263,  0.00242713, ..., -0.28033764,\n",
       "         0.20727283, -0.13511257],\n",
       "       ...,\n",
       "       [-0.01588441, -0.29357549, -0.51826823, ..., -0.2465859 ,\n",
       "         0.02842754, -0.41350133],\n",
       "       [ 0.15343304, -0.20536886, -0.55619788, ..., -0.0944591 ,\n",
       "         0.044375  , -0.48787187],\n",
       "       [ 0.47909239,  0.24046991, -0.07654534, ..., -0.24500777,\n",
       "         0.17730408, -0.20339568]])"
      ]
     },
     "execution_count": 5,
     "metadata": {},
     "output_type": "execute_result"
    }
   ],
   "source": [
    "x"
   ]
  },
  {
   "cell_type": "code",
   "execution_count": 73,
   "id": "warming-hungarian",
   "metadata": {},
   "outputs": [
    {
     "data": {
      "text/plain": [
       "array([0, 2, 0, ..., 0, 1, 2])"
      ]
     },
     "execution_count": 73,
     "metadata": {},
     "output_type": "execute_result"
    }
   ],
   "source": [
    "clusterer = hdbscan.HDBSCAN()\n",
    "clusterer.fit(x)\n",
    "clusterer.labels_"
   ]
  },
  {
   "cell_type": "code",
   "execution_count": 68,
   "id": "suburban-inquiry",
   "metadata": {},
   "outputs": [
    {
     "data": {
      "text/plain": [
       "array([[-0.18106621,  0.34541184,  0.00683163, ..., -0.33411594,\n",
       "         0.07643738,  0.37811128],\n",
       "       [ 0.30294373, -0.04457367, -0.41502063, ..., -0.56453224,\n",
       "        -0.16889226,  0.3012067 ],\n",
       "       [-0.11168899,  0.26926467,  0.01612304, ..., -0.33093296,\n",
       "         0.09304463,  0.32625949],\n",
       "       ...,\n",
       "       [-0.16975607,  0.20813531, -0.01615037, ..., -0.44171561,\n",
       "        -0.01909631,  0.46603254],\n",
       "       [ 0.15709474, -0.28562728, -0.29611754, ...,  0.27094865,\n",
       "        -0.45711975,  0.3624215 ],\n",
       "       [ 0.25496338, -0.06792454, -0.45968437, ..., -0.52346924,\n",
       "        -0.09029136,  0.37658722]])"
      ]
     },
     "execution_count": 68,
     "metadata": {},
     "output_type": "execute_result"
    }
   ],
   "source": [
    "Data_normalized"
   ]
  },
  {
   "cell_type": "code",
   "execution_count": 74,
   "id": "economic-concord",
   "metadata": {},
   "outputs": [],
   "source": [
    "x = [True, True, False]"
   ]
  },
  {
   "cell_type": "code",
   "execution_count": 75,
   "id": "ordinary-meeting",
   "metadata": {},
   "outputs": [
    {
     "data": {
      "text/plain": [
       "True"
      ]
     },
     "execution_count": 75,
     "metadata": {},
     "output_type": "execute_result"
    }
   ],
   "source": [
    "x[0]"
   ]
  },
  {
   "cell_type": "code",
   "execution_count": 4,
   "id": "forty-michael",
   "metadata": {},
   "outputs": [],
   "source": [
    "x = [4, 5, 6, 7]"
   ]
  },
  {
   "cell_type": "code",
   "execution_count": 5,
   "id": "stuck-design",
   "metadata": {},
   "outputs": [
    {
     "name": "stdout",
     "output_type": "stream",
     "text": [
      "1\n",
      "2\n",
      "3\n",
      "4\n"
     ]
    }
   ],
   "source": [
    "for i, j in enumerate(x, 1):\n",
    "    print(i)"
   ]
  },
  {
   "cell_type": "code",
   "execution_count": null,
   "id": "similar-captain",
   "metadata": {},
   "outputs": [],
   "source": []
  }
 ],
 "metadata": {
  "kernelspec": {
   "display_name": "Python 3",
   "language": "python",
   "name": "python3"
  },
  "language_info": {
   "codemirror_mode": {
    "name": "ipython",
    "version": 3
   },
   "file_extension": ".py",
   "mimetype": "text/x-python",
   "name": "python",
   "nbconvert_exporter": "python",
   "pygments_lexer": "ipython3",
   "version": "3.8.6"
  }
 },
 "nbformat": 4,
 "nbformat_minor": 5
}
