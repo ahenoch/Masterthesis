{
 "cells": [
  {
   "cell_type": "code",
   "execution_count": 44,
   "id": "partial-seminar",
   "metadata": {},
   "outputs": [
    {
     "data": {
      "image/png": "[encoded data removed]",
      "text/plain": [
       "<Figure size 432x288 with 1 Axes>"
      ]
     },
     "metadata": {
      "needs_background": "light"
     },
     "output_type": "display_data"
    }
   ],
   "source": [
    "# Init\n",
    "import pandas as pd\n",
    "import numpy as np\n",
    "import matplotlib.pyplot as plt\n",
    "import seaborn as sns; sns.set()\n",
    "\n",
    "# Load data\n",
    "from sklearn.datasets import load_diabetes\n",
    "\n",
    "# Clustering\n",
    "from scipy.cluster.hierarchy import dendrogram, fcluster, leaves_list\n",
    "from scipy.spatial import distance\n",
    "from fastcluster import linkage # You can use SciPy one too\n",
    "\n",
    "%matplotlib inline\n",
    "\n",
    "# Dataset\n",
    "A_data = load_diabetes().data\n",
    "DF_diabetes = pd.DataFrame(A_data, columns = [\"attr_%d\" % j for j in range(A_data.shape[1])])\n",
    "\n",
    "# Absolute value of correlation matrix, then subtract from 1 for disimilarity\n",
    "DF_dism = 1 - np.abs(DF_diabetes.corr())\n",
    "\n",
    "# Compute average linkage\n",
    "A_dist = distance.squareform(DF_dism.values)\n",
    "Z = linkage(A_dist,method=\"average\")\n",
    "\n",
    "dflt_col = \"#808080\"   # Unclustered gray\n",
    "D_leaf_colors = {\"attr_1\": dflt_col,\n",
    "\n",
    "                 \"attr_4\": \"#B061FF\", # Cluster 1 indigo\n",
    "                 \"attr_5\": \"#B061FF\",\n",
    "                 \"attr_2\": \"#B061FF\",\n",
    "                 \"attr_8\": \"#B061FF\",\n",
    "                 \"attr_6\": \"#B061FF\",\n",
    "                 \"attr_7\": \"#B061FF\",\n",
    "\n",
    "                 \"attr_0\": \"#B061FF\", # Cluster 2 cyan\n",
    "                 \"attr_3\": \"#B061FF\",\n",
    "                 \"attr_9\": \"#B061FF\",\n",
    " \n",
    "}\n",
    "\n",
    "# notes:\n",
    "# * rows in Z correspond to \"inverted U\" links that connect clusters\n",
    "# * rows are ordered by increasing distance\n",
    "# * if the colors of the connected clusters match, use that color for link\n",
    "\n",
    "link_cols = {}\n",
    "for i, i12 in enumerate(Z[:,:2].astype(int)):\n",
    "    c1, c2 = (link_cols[x] if x > len(Z) else D_leaf_colors[\"attr_%d\"%x] for x in i12)\n",
    "    link_cols[i+1+len(Z)] = c1 if c1 == c2 else dflt_col\n",
    "\n",
    "# Dendrogram\n",
    "D = dendrogram(Z=Z, labels=DF_dism.index, color_threshold=None, leaf_font_size=12, leaf_rotation=45, link_color_func=lambda x: link_cols[x], truncate_mode='lastp', p=10)"
   ]
  },
  {
   "cell_type": "code",
   "execution_count": 39,
   "id": "designing-internet",
   "metadata": {},
   "outputs": [
    {
     "data": {
      "text/plain": [
       "{10: '#B061FF',\n",
       " 11: '#B061FF',\n",
       " 12: '#B061FF',\n",
       " 13: '#B061FF',\n",
       " 14: '#B061FF',\n",
       " 15: '#B061FF',\n",
       " 16: '#B061FF',\n",
       " 17: '#B061FF',\n",
       " 18: '#808080'}"
      ]
     },
     "execution_count": 39,
     "metadata": {},
     "output_type": "execute_result"
    }
   ],
   "source": [
    "link_cols"
   ]
  },
  {
   "cell_type": "code",
   "execution_count": 38,
   "id": "representative-chile",
   "metadata": {},
   "outputs": [
    {
     "data": {
      "text/plain": [
       "array([[ 4.        ,  5.        ,  0.10333704,  2.        ],\n",
       "       [ 6.        ,  7.        ,  0.26150727,  2.        ],\n",
       "       [ 8.        , 11.        ,  0.4917828 ,  3.        ],\n",
       "       [ 2.        , 12.        ,  0.59107459,  4.        ],\n",
       "       [ 3.        ,  9.        ,  0.60957062,  2.        ],\n",
       "       [10.        , 13.        ,  0.65064998,  6.        ],\n",
       "       [ 0.        , 14.        ,  0.68142114,  3.        ],\n",
       "       [15.        , 16.        ,  0.72066112,  9.        ],\n",
       "       [ 1.        , 17.        ,  0.80554653, 10.        ]])"
      ]
     },
     "execution_count": 38,
     "metadata": {},
     "output_type": "execute_result"
    }
   ],
   "source": [
    "Z"
   ]
  },
  {
   "cell_type": "code",
   "execution_count": 42,
   "id": "partial-television",
   "metadata": {},
   "outputs": [],
   "source": [
    "import random\n",
    "r = random.random() \n",
    "b = random.random() \n",
    "g = random.random() \n",
    "  \n",
    "color = (r, g, b) "
   ]
  },
  {
   "cell_type": "code",
   "execution_count": 43,
   "id": "organizational-tackle",
   "metadata": {},
   "outputs": [
    {
     "data": {
      "text/plain": [
       "(0.7912601926568751, 0.08680607132631213, 0.2106446889860426)"
      ]
     },
     "execution_count": 43,
     "metadata": {},
     "output_type": "execute_result"
    }
   ],
   "source": [
    "color"
   ]
  },
  {
   "cell_type": "code",
   "execution_count": null,
   "id": "optional-lodge",
   "metadata": {},
   "outputs": [],
   "source": []
  }
 ],
 "metadata": {
  "kernelspec": {
   "display_name": "Python 3",
   "language": "python",
   "name": "python3"
  },
  "language_info": {
   "codemirror_mode": {
    "name": "ipython",
    "version": 3
   },
   "file_extension": ".py",
   "mimetype": "text/x-python",
   "name": "python",
   "nbconvert_exporter": "python",
   "pygments_lexer": "ipython3",
   "version": "3.8.6"
  }
 },
 "nbformat": 4,
 "nbformat_minor": 5
}
