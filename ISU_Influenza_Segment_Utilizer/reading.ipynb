{
 "cells": [
  {
   "cell_type": "code",
   "execution_count": 1,
   "metadata": {},
   "outputs": [],
   "source": [
    "import functools as ft\n",
    "import numpy as np\n",
    "import pandas as pd\n",
    "import multiprocessing as mp\n",
    "import re\n",
    "import sys\n",
    "import csv\n",
    "import collections as co\n",
    "import itertools\n",
    "import difflib"
   ]
  },
  {
   "cell_type": "code",
   "execution_count": 86,
   "metadata": {},
   "outputs": [],
   "source": [
    "class extractor(object):\n",
    "\n",
    "    def __init__(self):\n",
    "        \n",
    "        self.cities = co.defaultdict(list)\n",
    "        self.subcountries = co.defaultdict(list)\n",
    "        self.countries = co.defaultdict(list)\n",
    "        \n",
    "        self.cities_names = []\n",
    "        self.subcountries_names = []\n",
    "        self.countries_names = []\n",
    "        \n",
    "        self.matrix = np.empty((0, 0, ), dtype=object)\n",
    "        \n",
    "        \n",
    "    def init_matrix(self, infile):\n",
    "        \n",
    "        lines = sum(1 for l in open(infile))\n",
    "        \n",
    "        self.matrix = np.empty((lines, 10, ), dtype=object)\n",
    "    \n",
    "    def fill_dicts(self, worldfile):\n",
    "        \n",
    "        data = pd.read_csv(worldfile, chunksize = 10000, sep = ',', na_filter = False)\n",
    "        \n",
    "        for split in data:\n",
    "\n",
    "            for city, country, subcountry, geonameid in split.itertuples(index=False, name=None):\n",
    "\n",
    "                self.cities[city].append([city, subcountry, country])\n",
    "                self.subcountries[subcountry]. append(['null', subcountry, country])\n",
    "                self.countries[country].append(['null', 'null', country])\n",
    "\n",
    "        self.cities_names = list(self.cities.keys())\n",
    "        self.subcountries_names = list(self.subcountries.keys())\n",
    "        self.countries_names = list(self.countries.keys())\n",
    "\n",
    "        \n",
    "    def destination(self, entry):\n",
    "\n",
    "        match_subcountry = difflib.get_close_matches(entry, self.subcountries_names, 1, 0.9)\n",
    "        if not match_subcountry:\n",
    "            match_city = difflib.get_close_matches(entry, self.cities_names, 1, 0.9)\n",
    "            if not match_city:\n",
    "                match_country = difflib.get_close_matches(entry, self.countries_names, 1, 0.9)\n",
    "                if not match_country:\n",
    "                    result = ['null', 'null', 'null']\n",
    "                else:\n",
    "                    match = match_country[0]\n",
    "                    result = self.countries[match]\n",
    "            else:\n",
    "                match = match_city[0]\n",
    "                result = self.cities[match]\n",
    "        else:\n",
    "            match = match_subcountry[0]\n",
    "            result = self.subcountries[match]\n",
    "\n",
    "        if any(isinstance(i, list) for i in result):\n",
    "            output = result[0]\n",
    "        else:\n",
    "            output = result\n",
    "\n",
    "        return(output)\n",
    "\n",
    "    \n",
    "    def input_sequences(self, infile):\n",
    "        \n",
    "        data = pd.read_csv(infile, chunksize = 10000, sep = ';', na_filter = False, header = None)\n",
    "        \n",
    "        #dt = np.dtype([('R','u1'), ('G','u1'), ('B','u1'), ('A','u1')])\n",
    "        \n",
    "        i = 0\n",
    "        for chunk in data:\n",
    "        \n",
    "            for info, read in chunk.itertuples(index=False, name=None):\n",
    "\n",
    "                head = info.split('|')\n",
    "\n",
    "                accession = head[0][1:]\n",
    "                strain = head[1]\n",
    "                segment = head[2]\n",
    "                organism = head[4]\n",
    "                subtype = head[5]\n",
    "                if subtype == 'NA' or subtype == 'nan':\n",
    "                    subtype = 'null'\n",
    "                host = head[7]\n",
    "\n",
    "                entry = read\n",
    "\n",
    "                info = strain.split('/')\n",
    "\n",
    "                spec = info[0]\n",
    "                del info[0]\n",
    "                year = info[-1]\n",
    "                del info[-1]\n",
    "\n",
    "                if year.isdecimal():\n",
    "                    if len(year) == 2:\n",
    "                        year = '19'+year \n",
    "                else:\n",
    "                    year = 'null'\n",
    "\n",
    "                if not info:\n",
    "                    pos = ['null', 'null', 'null']\n",
    "                else:\n",
    "                    for i in info:\n",
    "                        pos = self.destination(i)\n",
    "                        if not all([item == 'null' for item in pos]):\n",
    "                            break\n",
    "\n",
    "                vector = np.array([accession, strain, segment, spec, pos[0], pos[1], pos[2], year, host])\n",
    "\n",
    "                print(vector)\n",
    "                \n",
    "                self.matrix[i] = vector\n",
    "                \n",
    "                i += 1"
   ]
  },
  {
   "cell_type": "code",
   "execution_count": 87,
   "metadata": {},
   "outputs": [],
   "source": [
    "x = extractor()"
   ]
  },
  {
   "cell_type": "code",
   "execution_count": 88,
   "metadata": {},
   "outputs": [],
   "source": [
    "x.fill_dicts('Countrys.csv')"
   ]
  },
  {
   "cell_type": "code",
   "execution_count": 89,
   "metadata": {},
   "outputs": [],
   "source": [
    "x.init_matrix('B_HA.csv')"
   ]
  },
  {
   "cell_type": "code",
   "execution_count": 90,
   "metadata": {
    "scrolled": true
   },
   "outputs": [
    {
     "name": "stdout",
     "output_type": "stream",
     "text": [
      "['LC033391' 'B/Isahaya/13I004/2014' '1' 'B' 'Isahaya' 'Nagasaki' 'Japan'\n",
      " '2014' 'Human']\n"
     ]
    },
    {
     "ename": "IndexError",
     "evalue": "only integers, slices (`:`), ellipsis (`...`), numpy.newaxis (`None`) and integer or boolean arrays are valid indices",
     "output_type": "error",
     "traceback": [
      "\u001b[0;31m---------------------------------------------------------------------------\u001b[0m",
      "\u001b[0;31mIndexError\u001b[0m                                Traceback (most recent call last)",
      "\u001b[0;32m<ipython-input-90-44ad9a18d062>\u001b[0m in \u001b[0;36m<module>\u001b[0;34m()\u001b[0m\n\u001b[0;32m----> 1\u001b[0;31m \u001b[0mx\u001b[0m\u001b[0;34m.\u001b[0m\u001b[0minput_sequences\u001b[0m\u001b[0;34m(\u001b[0m\u001b[0;34m'B_HA.csv'\u001b[0m\u001b[0;34m)\u001b[0m\u001b[0;34m\u001b[0m\u001b[0;34m\u001b[0m\u001b[0m\n\u001b[0m",
      "\u001b[0;32m<ipython-input-86-d9bb8ada9c1d>\u001b[0m in \u001b[0;36minput_sequences\u001b[0;34m(self, infile)\u001b[0m\n\u001b[1;32m    113\u001b[0m                 \u001b[0mprint\u001b[0m\u001b[0;34m(\u001b[0m\u001b[0mvector\u001b[0m\u001b[0;34m)\u001b[0m\u001b[0;34m\u001b[0m\u001b[0;34m\u001b[0m\u001b[0m\n\u001b[1;32m    114\u001b[0m \u001b[0;34m\u001b[0m\u001b[0m\n\u001b[0;32m--> 115\u001b[0;31m                 \u001b[0mself\u001b[0m\u001b[0;34m.\u001b[0m\u001b[0mmatrix\u001b[0m\u001b[0;34m[\u001b[0m\u001b[0mi\u001b[0m\u001b[0;34m]\u001b[0m \u001b[0;34m=\u001b[0m \u001b[0mvector\u001b[0m\u001b[0;34m\u001b[0m\u001b[0;34m\u001b[0m\u001b[0m\n\u001b[0m\u001b[1;32m    116\u001b[0m \u001b[0;34m\u001b[0m\u001b[0m\n\u001b[1;32m    117\u001b[0m                 \u001b[0mi\u001b[0m \u001b[0;34m+=\u001b[0m \u001b[0;36m1\u001b[0m\u001b[0;34m\u001b[0m\u001b[0;34m\u001b[0m\u001b[0m\n",
      "\u001b[0;31mIndexError\u001b[0m: only integers, slices (`:`), ellipsis (`...`), numpy.newaxis (`None`) and integer or boolean arrays are valid indices"
     ]
    }
   ],
   "source": [
    "x.input_sequences('B_HA.csv')"
   ]
  },
  {
   "cell_type": "code",
   "execution_count": null,
   "metadata": {},
   "outputs": [],
   "source": [
    "    def extract(self, infile):\n",
    "\n",
    "        data = pd.read_csv(infile, chunksize = 10000, sep = ';', na_filter = False, header = None)\n",
    "        \n",
    "            for split in data:\n",
    "\n",
    "                with mp.Pool(self.procs) as pool:\n",
    "\n",
    "                    result = pool.imap(self.worker, split.itertuples(index=False, name=None), chunksize=10)\n",
    "\n",
    "                    with open(sys.argv[4], 'a', newline='') as genomes, open(sys.argv[5], 'a', newline='') as strains:\n",
    "\n",
    "                        for out in result:\n",
    "\n",
    "                            out_gnms = csv.writer(genomes, delimiter=\"\\t\")\n",
    "                            out_gnms.writerow(out[0])\n",
    "\n",
    "                            out_strns = csv.writer(strains, delimiter=\"\\t\")\n",
    "                            out_strns.writerow(out[1])\n",
    "        \n",
    "    \n",
    "    def worker(cities, subcountries, countries, cities_names, subcountries_names, countries_names, col):\n",
    "\n",
    "        col = list(map(str, col))\n",
    "\n",
    "        head = col[0].split('|')\n",
    "\n",
    "        acc = head[0][1:]\n",
    "        name = head[1]\n",
    "        seg = head[2]\n",
    "        org = head[4]\n",
    "        sub = head[5]\n",
    "        if sub == 'NA' or sub == 'nan':\n",
    "            sub = 'null'\n",
    "        host = head[7]\n",
    "        entry = col[1]\n",
    "\n",
    "        info = name.split('/')\n",
    "\n",
    "        spec = info[0]\n",
    "        del info[0]\n",
    "        year = info[-1]\n",
    "        del info[-1]\n",
    "\n",
    "        if year.isdecimal():\n",
    "            if len(year) == 2:\n",
    "                year = '19'+year \n",
    "        else:\n",
    "            year = 'null'\n",
    "\n",
    "        if not info:\n",
    "            pos = ['null', 'null', 'null']\n",
    "        else:\n",
    "            for i in info:\n",
    "                pos = search(i, cities, subcountries, countries, cities_names, subcountries_names, countries_names)\n",
    "                if not all([item == 'null' for item in pos]):\n",
    "                    break\n",
    "        out = [[acc, name, seg, entry], [name, spec, pos[0], pos[1], pos[2], year, sub, host]]\n",
    "\n",
    "        return out"
   ]
  },
  {
   "cell_type": "code",
   "execution_count": 27,
   "metadata": {},
   "outputs": [],
   "source": [
    "x = [10, 9, 8, 7, 6, 5, 4, 3, 2, 1, 0]"
   ]
  },
  {
   "cell_type": "code",
   "execution_count": 28,
   "metadata": {},
   "outputs": [
    {
     "name": "stdout",
     "output_type": "stream",
     "text": [
      "010\n",
      "19\n",
      "28\n",
      "37\n",
      "46\n",
      "55\n",
      "64\n",
      "73\n",
      "82\n",
      "91\n",
      "100\n"
     ]
    }
   ],
   "source": [
    "for i, y in enumerate(x):\n",
    "    print(str(i) + str(y))"
   ]
  },
  {
   "cell_type": "code",
   "execution_count": null,
   "metadata": {},
   "outputs": [],
   "source": []
  }
 ],
 "metadata": {
  "kernelspec": {
   "display_name": "Python 3",
   "language": "python",
   "name": "python3"
  },
  "language_info": {
   "codemirror_mode": {
    "name": "ipython",
    "version": 3
   },
   "file_extension": ".py",
   "mimetype": "text/x-python",
   "name": "python",
   "nbconvert_exporter": "python",
   "pygments_lexer": "ipython3",
   "version": "3.6.11"
  }
 },
 "nbformat": 4,
 "nbformat_minor": 4
}
