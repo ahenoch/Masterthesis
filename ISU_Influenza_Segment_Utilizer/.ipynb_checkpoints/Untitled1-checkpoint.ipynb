{
 "cells": [
  {
   "cell_type": "code",
   "execution_count": 1,
   "metadata": {},
   "outputs": [],
   "source": [
    "import re\n",
    "import sys\n",
    "import csv\n",
    "import functools as ft\n",
    "import numpy as np\n",
    "import pandas as pd\n",
    "import multiprocessing as mp\n",
    "import collections as co\n",
    "import itertools as it\n",
    "import difflib as dl\n",
    "import progressbar"
   ]
  },
  {
   "cell_type": "code",
   "execution_count": 35,
   "metadata": {},
   "outputs": [],
   "source": [
    "def worker(line):\n",
    "    \n",
    "    test = np.array([[line[0], line[1], line[2], line[3]]])\n",
    "    \n",
    "    return(test)"
   ]
  },
  {
   "cell_type": "code",
   "execution_count": 36,
   "metadata": {},
   "outputs": [],
   "source": [
    "chunk = pd.read_csv('Countrys.csv', chunksize = 10000, sep = ',', na_filter = False, header = None)\n",
    "        \n",
    "for data in chunk:\n",
    "\n",
    "    with mp.Pool(8) as pool:\n",
    "\n",
    "        result = pool.imap(worker, data.itertuples(index=False, name=None), chunksize=10)\n",
    "        result_final = np.concatenate(list(result), axis=0)"
   ]
  },
  {
   "cell_type": "code",
   "execution_count": null,
   "metadata": {},
   "outputs": [],
   "source": [
    "chunk = pd.read_csv('Countrys.csv', chunksize = 10000, sep = ',', na_filter = False, header = None)\n",
    "        \n",
    "for data in chunk:\n",
    "\n",
    "    with mp.Pool(8) as pool:\n",
    "\n",
    "        result = pool.imap(worker, data.itertuples(index=False, name=None), chunksize=10)\n",
    "        result_final = hstack(result)"
   ]
  },
  {
   "cell_type": "code",
   "execution_count": 43,
   "metadata": {},
   "outputs": [],
   "source": [
    "matrix = np.empty((23019, 4, ),dtype = \"<U32\")"
   ]
  },
  {
   "cell_type": "code",
   "execution_count": 44,
   "metadata": {},
   "outputs": [],
   "source": [
    "t = 0\n",
    "chunk = pd.read_csv('Countrys.csv', chunksize = 10000, sep = ',', na_filter = False, header = None)    \n",
    "for data in chunk:\n",
    "    for city, country, subcountry, name in data.itertuples(index=False, name=None):\n",
    "        test = np.array([[city, country, subcountry, name]])\n",
    "        matrix[t] = test\n",
    "        t = t + 1"
   ]
  },
  {
   "cell_type": "code",
   "execution_count": 45,
   "metadata": {},
   "outputs": [
    {
     "data": {
      "text/plain": [
       "array([['name', 'country', 'subcountry', 'geonameid'],\n",
       "       ['les Escaldes', 'Andorra', 'Escaldes-Engordany', '3040051'],\n",
       "       ['Andorra la Vella', 'Andorra', 'Andorra la Vella', '3041563'],\n",
       "       ...,\n",
       "       ['Beitbridge', 'Zimbabwe', 'Matabeleland South', '895269'],\n",
       "       ['Epworth', 'Zimbabwe', 'Harare', '1085510'],\n",
       "       ['Chitungwiza', 'Zimbabwe', 'Harare', '1106542']], dtype='<U32')"
      ]
     },
     "execution_count": 45,
     "metadata": {},
     "output_type": "execute_result"
    }
   ],
   "source": [
    "matrix"
   ]
  },
  {
   "cell_type": "code",
   "execution_count": null,
   "metadata": {},
   "outputs": [],
   "source": []
  }
 ],
 "metadata": {
  "kernelspec": {
   "display_name": "Python 3",
   "language": "python",
   "name": "python3"
  },
  "language_info": {
   "codemirror_mode": {
    "name": "ipython",
    "version": 3
   },
   "file_extension": ".py",
   "mimetype": "text/x-python",
   "name": "python",
   "nbconvert_exporter": "python",
   "pygments_lexer": "ipython3",
   "version": "3.6.11"
  }
 },
 "nbformat": 4,
 "nbformat_minor": 4
}
